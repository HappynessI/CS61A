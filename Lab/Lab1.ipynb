{
 "cells": [
  {
   "metadata": {},
   "cell_type": "markdown",
   "source": [
    "Q3: Pick a Digit\n",
    "\n",
    "Implement digit, which takes positive integers n and k and has only a single return statement as its body. It returns the digit of n that is k positions to the left of the rightmost digit (the one's digit). If k is 0, return the rightmost digit. If there is no digit of n that is k positions to the left of the rightmost digit, return 0.\n",
    "\n",
    "Hint: Use // and % and the built-in pow function to isolate a particular digit of n."
   ],
   "id": "85c2b4e40b61188a"
  },
  {
   "cell_type": "code",
   "id": "initial_id",
   "metadata": {
    "collapsed": true,
    "ExecuteTime": {
     "end_time": "2025-04-15T11:11:19.295768Z",
     "start_time": "2025-04-15T11:11:19.274830Z"
    }
   },
   "source": [
    "def digit(n, k):\n",
    "    \"\"\"Return the k-th digit from the right of n for positive integers n and k.\n",
    "\n",
    "    >>> digit(3579, 2)\n",
    "    5\n",
    "    >>> digit(3579, 0)\n",
    "    9\n",
    "    >>> digit(3579, 10)\n",
    "    0\n",
    "    \"\"\"\n",
    "    # 这个方法使用了强制的类型转换，而且不好看，最好使用下面的数学运算方式实现\n",
    "    # return str(n)[len(str(n))-1-k] if k >= 0 and k < len(str(n)) else 0\n",
    "    return (n//10**k) % 10 if k>= 0 else 0\n",
    "print(digit(3579, 2))\n",
    "print(digit(3579, 0))\n",
    "print(digit(3579, 10))\n",
    "# n // 10**k 是将数字n右移k位（去掉最后k位）\n",
    "# % 10 取最后一位数字"
   ],
   "outputs": [
    {
     "name": "stdout",
     "output_type": "stream",
     "text": [
      "5\n",
      "9\n",
      "0\n"
     ]
    }
   ],
   "execution_count": 7
  },
  {
   "metadata": {},
   "cell_type": "markdown",
   "source": [
    "Q4: Middle Number\n",
    "\n",
    "Implement middle by writing a single return expression that evaluates to the value that is neither the largest or smallest among three different integers a, b, and c.\n",
    "\n",
    "Hint: Try combining all the numbers and then taking away the ones you don't want to return by using the built-in min and max functions."
   ],
   "id": "f749bd31a0006059"
  },
  {
   "metadata": {
    "ExecuteTime": {
     "end_time": "2025-04-15T11:13:12.411508Z",
     "start_time": "2025-04-15T11:13:12.402496Z"
    }
   },
   "cell_type": "code",
   "source": [
    "def middle(a, b, c):\n",
    "    \"\"\"Return the number among a, b, and c that is not the smallest or largest.\n",
    "    Assume a, b, and c are all different numbers.\n",
    "\n",
    "    >>> middle(3, 5, 4)\n",
    "    4\n",
    "    >>> middle(30, 5, 4)\n",
    "    5\n",
    "    >>> middle(3, 5, 40)\n",
    "    5\n",
    "    >>> middle(3, 5, 40)\n",
    "    5\n",
    "    >>> middle(30, 5, 40)\n",
    "    30\n",
    "    \"\"\"\n",
    "    return a + b + c - max(a, b, c) - min(a, b, c)\n",
    "middle(3, 5, 4)"
   ],
   "id": "90529dd7ac378eb6",
   "outputs": [
    {
     "data": {
      "text/plain": [
       "4"
      ]
     },
     "execution_count": 8,
     "metadata": {},
     "output_type": "execute_result"
    }
   ],
   "execution_count": 8
  },
  {
   "metadata": {},
   "cell_type": "markdown",
   "source": [
    "Q6: Falling Factorial\n",
    "\n",
    "Let's write a function falling, which is a \"falling\" factorial that takes two arguments, n and k, and returns the product of k consecutive numbers, starting from n and working downwards. When k is 0, the function should return 1."
   ],
   "id": "ffa202ffd7b665d1"
  },
  {
   "metadata": {
    "ExecuteTime": {
     "end_time": "2025-04-15T11:18:32.106346Z",
     "start_time": "2025-04-15T11:18:32.097907Z"
    }
   },
   "cell_type": "code",
   "source": [
    "def falling(n, k):\n",
    "    \"\"\"Compute the falling factorial of n to depth k.\n",
    "\n",
    "    >>> falling(6, 3)  # 6 * 5 * 4\n",
    "    120\n",
    "    >>> falling(4, 3)  # 4 * 3 * 2\n",
    "    24\n",
    "    >>> falling(4, 1)  # 4\n",
    "    4\n",
    "    >>> falling(4, 0)\n",
    "    1\n",
    "    \"\"\"\n",
    "    \"*** YOUR CODE HERE ***\"\n",
    "    if k == 0:\n",
    "        return 1\n",
    "    else:\n",
    "        return falling(n,k-1) * (n-k+1)\n",
    "print(falling(6, 3))\n",
    "print(falling(4, 3))\n",
    "# k = 3 return 4 * falling(6,2)\n",
    "# falling(6,2) return 5 * falling(6,1)"
   ],
   "id": "7a8590d23e65ff85",
   "outputs": [
    {
     "name": "stdout",
     "output_type": "stream",
     "text": [
      "120\n",
      "24\n"
     ]
    }
   ],
   "execution_count": 12
  },
  {
   "metadata": {},
   "cell_type": "markdown",
   "source": [
    "Q7: Divisible By k\n",
    "\n",
    "Write a function divisible_by_k that takes positive integers n and k. It prints all positive integers less than or equal to n that are divisible by k from smallest to largest. Then, it returns how many numbers were printed."
   ],
   "id": "d5a6a4602619cba3"
  },
  {
   "metadata": {
    "ExecuteTime": {
     "end_time": "2025-04-15T11:21:48.540729Z",
     "start_time": "2025-04-15T11:21:48.527018Z"
    }
   },
   "cell_type": "code",
   "source": [
    "def divisible_by_k(n, k):\n",
    "    \"\"\"\n",
    "    >>> a = divisible_by_k(10, 2)  # 2, 4, 6, 8, and 10 are divisible by 2\n",
    "    2\n",
    "    4\n",
    "    6\n",
    "    8\n",
    "    10\n",
    "    >>> a\n",
    "    5\n",
    "    >>> b = divisible_by_k(3, 1)  # 1, 2, and 3 are divisible by 1\n",
    "    1\n",
    "    2\n",
    "    3\n",
    "    >>> b\n",
    "    3\n",
    "    >>> c = divisible_by_k(6, 7)  # There are no integers up to 6 that are divisible by 7\n",
    "    >>> c\n",
    "    0\n",
    "    \"\"\"\n",
    "    \"*** YOUR CODE HERE ***\"\n",
    "    if n < k:\n",
    "        return 0\n",
    "    count = 0\n",
    "    for i in range(k,n+1):\n",
    "        if i % k == 0:\n",
    "            count += 1\n",
    "            print(i)\n",
    "    return count\n",
    "a = divisible_by_k(10, 2)\n",
    "print(a)"
   ],
   "id": "11f378bf1c8296e0",
   "outputs": [
    {
     "name": "stdout",
     "output_type": "stream",
     "text": [
      "2\n",
      "4\n",
      "6\n",
      "8\n",
      "10\n",
      "5\n"
     ]
    }
   ],
   "execution_count": 14
  },
  {
   "metadata": {},
   "cell_type": "markdown",
   "source": [
    "Q8: Sum Digits\n",
    "\n",
    "Write a function that takes in a nonnegative integer and sums its digits. (Using floor division and modulo might be helpful here!)"
   ],
   "id": "2345b357567c2a79"
  },
  {
   "metadata": {
    "ExecuteTime": {
     "end_time": "2025-04-15T11:23:29.639373Z",
     "start_time": "2025-04-15T11:23:29.625598Z"
    }
   },
   "cell_type": "code",
   "source": [
    "def sum_digits(y):\n",
    "    \"\"\"Sum all the digits of y.\n",
    "\n",
    "    >>> sum_digits(10) # 1 + 0 = 1\n",
    "    1\n",
    "    >>> sum_digits(4224) # 4 + 2 + 2 + 4 = 12\n",
    "    12\n",
    "    >>> sum_digits(1234567890)\n",
    "    45\n",
    "    >>> a = sum_digits(123) # make sure that you are using return rather than print\n",
    "    >>> a\n",
    "    6\n",
    "    \"\"\"\n",
    "    \"*** YOUR CODE HERE ***\"\n",
    "    sum = 0\n",
    "    while y != 0:\n",
    "        sum += y%10\n",
    "        y //= 10\n",
    "    return sum\n",
    "print(sum_digits(10))\n",
    "print(sum_digits(4224))"
   ],
   "id": "1cf6d295b924a4b7",
   "outputs": [
    {
     "name": "stdout",
     "output_type": "stream",
     "text": [
      "1\n",
      "12\n"
     ]
    }
   ],
   "execution_count": 18
  },
  {
   "metadata": {},
   "cell_type": "markdown",
   "source": [
    "Q9: WWPD: What If?\n",
    "\n",
    "Use Ok to test your knowledge with the following \"What Would Python Display?\" questions:\n",
    "\n",
    "python3 ok -q if-statements -u✂️\n",
    "\n",
    "Hint: print (unlike return) does not cause the function to exit."
   ],
   "id": "ff526f472e847cf5"
  },
  {
   "metadata": {
    "ExecuteTime": {
     "end_time": "2025-04-15T11:24:44.217209Z",
     "start_time": "2025-04-15T11:24:44.210784Z"
    }
   },
   "cell_type": "code",
   "source": [
    "def ab(c,d):\n",
    "    if c > 5:\n",
    "        print(c)\n",
    "    elif c > 7:\n",
    "        print(d)\n",
    "    print('foo')\n",
    "ab(10,20)"
   ],
   "id": "c7acfb9755d02474",
   "outputs": [
    {
     "name": "stdout",
     "output_type": "stream",
     "text": [
      "10\n",
      "foo\n"
     ]
    }
   ],
   "execution_count": 19
  },
  {
   "metadata": {
    "ExecuteTime": {
     "end_time": "2025-04-15T11:27:21.375869Z",
     "start_time": "2025-04-15T11:27:21.355606Z"
    }
   },
   "cell_type": "code",
   "source": [
    "def bake(cake,make):\n",
    "    if cake == 0:\n",
    "        cake = cake + 1\n",
    "        print(cake)\n",
    "    if cake == 1:\n",
    "        print(make)\n",
    "    else:\n",
    "        return cake\n",
    "    return make\n",
    "# bake(0,29)\n",
    "bake(1,'mashed potatoes')"
   ],
   "id": "ff007327bdf64955",
   "outputs": [
    {
     "name": "stdout",
     "output_type": "stream",
     "text": [
      "mashed potatoes\n"
     ]
    },
    {
     "data": {
      "text/plain": [
       "'mashed potatoes'"
      ]
     },
     "execution_count": 23,
     "metadata": {},
     "output_type": "execute_result"
    }
   ],
   "execution_count": 23
  },
  {
   "metadata": {},
   "cell_type": "markdown",
   "source": [
    "Q10: Double Eights\n",
    "\n",
    "Write a function that takes in a number and determines if the digits contain two adjacent 8s."
   ],
   "id": "f28af9363e352d89"
  },
  {
   "metadata": {
    "ExecuteTime": {
     "end_time": "2025-04-15T11:34:50.015039Z",
     "start_time": "2025-04-15T11:34:49.993051Z"
    }
   },
   "cell_type": "code",
   "source": [
    "def double_eights(n):\n",
    "    \"\"\"Return true if n has two eights in a row.\n",
    "    >>> double_eights(8)\n",
    "    False\n",
    "    >>> double_eights(88)\n",
    "    True\n",
    "    >>> double_eights(2882)\n",
    "    True\n",
    "    >>> double_eights(880088)\n",
    "    True\n",
    "    >>> double_eights(12345)\n",
    "    False\n",
    "    >>> double_eights(80808080)\n",
    "    False\n",
    "    \"\"\"\n",
    "    \"*** YOUR CODE HERE ***\"\n",
    "    flag = 0\n",
    "    while n != 0:\n",
    "        digit1 = n % 10\n",
    "        n = n // 10\n",
    "        digit2 = n % 10\n",
    "        if digit1 == 8 and digit2 == 8:\n",
    "            flag = 1\n",
    "    return flag == 1\n",
    "print(double_eights(8))\n",
    "print(double_eights(88))\n",
    "print(double_eights(2882))\n",
    "print(double_eights(880088))\n",
    "print(double_eights(12345))\n",
    "print(double_eights(80808080))"
   ],
   "id": "85784bf736d83854",
   "outputs": [
    {
     "name": "stdout",
     "output_type": "stream",
     "text": [
      "False\n",
      "True\n",
      "True\n",
      "True\n",
      "False\n",
      "False\n"
     ]
    }
   ],
   "execution_count": 31
  }
 ],
 "metadata": {
  "kernelspec": {
   "display_name": "Python 3",
   "language": "python",
   "name": "python3"
  },
  "language_info": {
   "codemirror_mode": {
    "name": "ipython",
    "version": 2
   },
   "file_extension": ".py",
   "mimetype": "text/x-python",
   "name": "python",
   "nbconvert_exporter": "python",
   "pygments_lexer": "ipython2",
   "version": "2.7.6"
  }
 },
 "nbformat": 4,
 "nbformat_minor": 5
}
