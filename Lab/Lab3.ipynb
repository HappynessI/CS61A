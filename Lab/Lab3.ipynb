{
 "cells": [
  {
   "metadata": {},
   "cell_type": "markdown",
   "source": [
    "Q1: WWPD: Lists & Ranges\n",
    "\n",
    "Predict what Python will display when you type the following into the interactive interpreter. Then try it to check your answers."
   ],
   "id": "38d17df9eee63717"
  },
  {
   "cell_type": "code",
   "id": "initial_id",
   "metadata": {
    "collapsed": true,
    "ExecuteTime": {
     "end_time": "2025-04-18T03:08:23.246637Z",
     "start_time": "2025-04-18T03:08:23.242578Z"
    }
   },
   "source": [
    "s = [7//3, 5, [4, 0, 1], 2]\n",
    "print(s[0])\n",
    "print(s[2])\n",
    "print(s[-1])\n",
    "print(len(s))\n",
    "print(4 in s)\n",
    "print(4 in s[2])\n",
    "print(s[2]*2)\n",
    "print(list(range(3,6)))\n",
    "r = range(3,6)\n",
    "print([r[0],r[1]])\n",
    "print(range(4)[-1])"
   ],
   "outputs": [
    {
     "name": "stdout",
     "output_type": "stream",
     "text": [
      "2\n",
      "[4, 0, 1]\n",
      "2\n",
      "4\n",
      "False\n",
      "True\n",
      "[4, 0, 1, 4, 0, 1]\n",
      "[3, 4, 5]\n",
      "[3, 4]\n",
      "3\n"
     ]
    }
   ],
   "execution_count": 12
  },
  {
   "metadata": {},
   "cell_type": "markdown",
   "source": [
    "Q2: Print If\n",
    "\n",
    "Implement print_if, which takes a list s and a one-argument function f. It prints each element x of s for which f(x) returns a true value."
   ],
   "id": "6017463b3008894b"
  },
  {
   "metadata": {
    "ExecuteTime": {
     "end_time": "2025-04-18T03:11:30.758572Z",
     "start_time": "2025-04-18T03:11:30.749324Z"
    }
   },
   "cell_type": "code",
   "source": [
    "def print_if(s, f):\n",
    "    \"\"\"Print each element of s for which f returns a true value.\n",
    "\n",
    "    >>> print_if([3, 4, 5, 6], lambda x: x > 4)\n",
    "    5\n",
    "    6\n",
    "    >>> result = print_if([3, 4, 5, 6], lambda x: x % 2 == 0)\n",
    "    4\n",
    "    6\n",
    "    >>> print(result)  # print_if should return None\n",
    "    None\n",
    "    \"\"\"\n",
    "    for x in s:\n",
    "        \"*** YOUR CODE HERE ***\"\n",
    "        if f(x):\n",
    "            print(x)\n",
    "print_if([3, 4, 5, 6], lambda x: x > 4)\n",
    "result = print_if([3, 4, 5, 6], lambda x: x % 2 == 0)\n",
    "print(result)"
   ],
   "id": "5592b1f80c92c16",
   "outputs": [
    {
     "name": "stdout",
     "output_type": "stream",
     "text": [
      "5\n",
      "6\n",
      "4\n",
      "6\n",
      "None\n"
     ]
    }
   ],
   "execution_count": 15
  },
  {
   "metadata": {},
   "cell_type": "markdown",
   "source": [
    "Q3: Close\n",
    "\n",
    "Implement close, which takes a list of numbers s and a non-negative integer k. It returns how many of the elements of s are within k of their index. That is, the absolute value of the difference between the element and its index is less than or equal to k.\n",
    "\n",
    "Remember that list is \"zero-indexed\"; the index of the first element is 0."
   ],
   "id": "d0390edc3d7c4341"
  },
  {
   "metadata": {
    "ExecuteTime": {
     "end_time": "2025-04-18T03:21:38.915152Z",
     "start_time": "2025-04-18T03:21:38.911033Z"
    }
   },
   "cell_type": "code",
   "source": [
    "def close(s, k):\n",
    "    \"\"\"Return how many elements of s are within k of their index.\n",
    "\n",
    "    >>> t = [6, 2, 4, 3, 5]\n",
    "    >>> close(t, 0)  # Only 3 is equal to its index\n",
    "    1\n",
    "    >>> close(t, 1)  # 2, 3, and 5 are within 1 of their index\n",
    "    3\n",
    "    >>> close(t, 2)  # 2, 3, 4, and 5 are all within 2 of their index\n",
    "    4\n",
    "    >>> close(list(range(10)), 0)\n",
    "    10\n",
    "    \"\"\"\n",
    "    count = 0\n",
    "    for i in range(len(s)):  # Use a range to loop over indices\n",
    "        \"*** YOUR CODE HERE ***\"\n",
    "        if s[i] >= i-k and s[i] <= i+k:\n",
    "            count += 1\n",
    "    return count\n",
    "t = [6, 2, 4, 3, 5]\n",
    "close(t, 0)\n",
    "close(t, 2)\n",
    "close(list(range(10)), 0)"
   ],
   "id": "ae93a2db7a0656df",
   "outputs": [
    {
     "data": {
      "text/plain": [
       "10"
      ]
     },
     "execution_count": 19,
     "metadata": {},
     "output_type": "execute_result"
    }
   ],
   "execution_count": 19
  },
  {
   "metadata": {},
   "cell_type": "markdown",
   "source": [
    "Q4: WWPD: List Comprehensions\n",
    "\n",
    "Predict what Python will display when you type the following into the interactive interpreter. Then try it to check your answers."
   ],
   "id": "b61b47bdd9816e95"
  },
  {
   "metadata": {
    "ExecuteTime": {
     "end_time": "2025-04-18T03:22:12.054310Z",
     "start_time": "2025-04-18T03:22:12.049051Z"
    }
   },
   "cell_type": "code",
   "source": "[2 * x for x in range(4)]",
   "id": "7445e414b364a0b3",
   "outputs": [
    {
     "data": {
      "text/plain": [
       "[0, 2, 4, 6]"
      ]
     },
     "execution_count": 20,
     "metadata": {},
     "output_type": "execute_result"
    }
   ],
   "execution_count": 20
  },
  {
   "metadata": {
    "ExecuteTime": {
     "end_time": "2025-04-18T03:22:28.662232Z",
     "start_time": "2025-04-18T03:22:28.656332Z"
    }
   },
   "cell_type": "code",
   "source": "[y for y in [6, 1, 6, 1] if y > 2]",
   "id": "9bf262431dbb562c",
   "outputs": [
    {
     "data": {
      "text/plain": [
       "[6, 6]"
      ]
     },
     "execution_count": 21,
     "metadata": {},
     "output_type": "execute_result"
    }
   ],
   "execution_count": 21
  },
  {
   "metadata": {
    "ExecuteTime": {
     "end_time": "2025-04-18T03:22:35.346794Z",
     "start_time": "2025-04-18T03:22:35.342148Z"
    }
   },
   "cell_type": "code",
   "source": "[[1] + s for s in [[4], [5, 6]]]",
   "id": "d34d5a2003da882c",
   "outputs": [
    {
     "data": {
      "text/plain": [
       "[[1, 4], [1, 5, 6]]"
      ]
     },
     "execution_count": 22,
     "metadata": {},
     "output_type": "execute_result"
    }
   ],
   "execution_count": 22
  },
  {
   "metadata": {
    "ExecuteTime": {
     "end_time": "2025-04-18T03:22:44.079279Z",
     "start_time": "2025-04-18T03:22:44.074318Z"
    }
   },
   "cell_type": "code",
   "source": "[z + 1 for z in range(10) if z % 3 == 0]",
   "id": "5134501badac6975",
   "outputs": [
    {
     "data": {
      "text/plain": [
       "[1, 4, 7, 10]"
      ]
     },
     "execution_count": 24,
     "metadata": {},
     "output_type": "execute_result"
    }
   ],
   "execution_count": 24
  },
  {
   "metadata": {},
   "cell_type": "markdown",
   "source": [
    "Q5: Close List\n",
    "\n",
    "Implement close_list, which takes a list of numbers s and a non-negative integer k. It returns a list of the elements of s that are within k of their index. That is, the absolute value of the difference between the element and its index is less than or equal to k."
   ],
   "id": "b02b65c3101d0653"
  },
  {
   "metadata": {
    "ExecuteTime": {
     "end_time": "2025-04-18T03:24:39.883320Z",
     "start_time": "2025-04-18T03:24:39.874056Z"
    }
   },
   "cell_type": "code",
   "source": [
    "def close_list(s, k):\n",
    "    \"\"\"Return a list of the elements of s that are within k of their index.\n",
    "\n",
    "    >>> t = [6, 2, 4, 3, 5]\n",
    "    >>> close_list(t, 0)  # Only 3 is equal to its index\n",
    "    [3]\n",
    "    >>> close_list(t, 1)  # 2, 3, and 5 are within 1 of their index\n",
    "    [2, 3, 5]\n",
    "    >>> close_list(t, 2)  # 2, 3, 4, and 5 are all within 2 of their index\n",
    "    [2, 4, 3, 5]\n",
    "    \"\"\"\n",
    "    return [s[i] for i in range(len(s)) if s[i]>=i-k and s[i]<=i+k]\n",
    "t = [6, 2, 4, 3, 5]\n",
    "close_list(t, 2)"
   ],
   "id": "238137fdd045b5c1",
   "outputs": [
    {
     "data": {
      "text/plain": [
       "[2, 4, 3, 5]"
      ]
     },
     "execution_count": 25,
     "metadata": {},
     "output_type": "execute_result"
    }
   ],
   "execution_count": 25
  },
  {
   "metadata": {},
   "cell_type": "markdown",
   "source": [
    "Q6: Squares Only\n",
    "\n",
    "Implement the function squares, which takes in a list of positive integers. It returns a list that contains the square roots of the elements of the original list that are perfect squares. Use a list comprehension.\n",
    "\n",
    "To find if x is a perfect square, you can check if sqrt(x) equals round(sqrt(x))."
   ],
   "id": "5545f5ceacd40cfe"
  },
  {
   "metadata": {
    "ExecuteTime": {
     "end_time": "2025-04-18T03:30:14.634258Z",
     "start_time": "2025-04-18T03:30:14.628255Z"
    }
   },
   "cell_type": "code",
   "source": [
    "from math import sqrt\n",
    "\n",
    "def squares(s):\n",
    "    \"\"\"Returns a new list containing square roots of the elements of the\n",
    "    original list that are perfect squares.\n",
    "\n",
    "    >>> seq = [8, 49, 8, 9, 2, 1, 100, 102]\n",
    "    >>> squares(seq)\n",
    "    [7, 3, 1, 10]\n",
    "    >>> seq = [500, 30]\n",
    "    >>> squares(seq)\n",
    "    []\n",
    "    \"\"\"\n",
    "    return [round(sqrt(n)) for n in s if sqrt(n) == round(sqrt(n))]\n",
    "seq = [8, 49, 8, 9, 2, 1, 100, 102]\n",
    "squares(seq)\n",
    "seq = [500, 30]\n",
    "squares(seq)"
   ],
   "id": "46df68b4c8a5f45f",
   "outputs": [
    {
     "data": {
      "text/plain": [
       "[]"
      ]
     },
     "execution_count": 31,
     "metadata": {},
     "output_type": "execute_result"
    }
   ],
   "execution_count": 31
  },
  {
   "metadata": {},
   "cell_type": "markdown",
   "source": [
    "Q7: Double Eights\n",
    "\n",
    "Write a recursive function that takes in a positive integer n and determines if its digits contain two adjacent 8s (that is, two 8s right next to each other).\n",
    "\n",
    "Hint: Start by coming up with a recursive plan: the digits of a number have double eights if either (think of something that is straightforward to check) or double eights appear in the rest of the digits.\n",
    "\n",
    "Important: Use recursion; the tests will fail if you use any loops (for, while)."
   ],
   "id": "b961ae3353d50250"
  },
  {
   "metadata": {
    "ExecuteTime": {
     "end_time": "2025-04-18T03:38:12.961471Z",
     "start_time": "2025-04-18T03:38:12.954311Z"
    }
   },
   "cell_type": "code",
   "source": [
    "def double_eights(n):\n",
    "    \"\"\"Returns whether or not n has two digits in row that\n",
    "    are the number 8.\n",
    "\n",
    "    >>> double_eights(1288)\n",
    "    True\n",
    "    >>> double_eights(880)\n",
    "    True\n",
    "    >>> double_eights(538835)\n",
    "    True\n",
    "    >>> double_eights(284682)\n",
    "    False\n",
    "    >>> double_eights(588138)\n",
    "    True\n",
    "    >>> double_eights(78)\n",
    "    False\n",
    "    >>> # ban iteration\n",
    "    >>> from construct_check import check\n",
    "    >>> check(LAB_SOURCE_FILE, 'double_eights', ['While', 'For'])\n",
    "    True\n",
    "    \"\"\"\n",
    "    \"*** YOUR CODE HERE ***\"\n",
    "    if n <= 0:\n",
    "        return False\n",
    "    last_digit = n % 10\n",
    "    before_last_digit = (n //10) % 10\n",
    "    if before_last_digit == last_digit == 8:\n",
    "        return True\n",
    "    else:\n",
    "        return double_eights(n//10)\n",
    "double_eights(1288)\n",
    "double_eights(880)\n",
    "double_eights(284682)\n",
    "double_eights(588138)\n",
    "double_eights(78)"
   ],
   "id": "c86c5180dae70af0",
   "outputs": [
    {
     "data": {
      "text/plain": [
       "False"
      ]
     },
     "execution_count": 38,
     "metadata": {},
     "output_type": "execute_result"
    }
   ],
   "execution_count": 38
  },
  {
   "metadata": {},
   "cell_type": "markdown",
   "source": [
    "Q8: Making Onions\n",
    "\n",
    "Write a function make_onion that takes in two one-argument functions, f and g. It returns a function that takes in three arguments: x, y, and limit. The returned function returns True if it is possible to reach y from x using up to limit calls to f and g, and False otherwise.\n",
    "\n",
    "For example, if f adds 1 and g doubles, then it is possible to reach 25 from 5 in four calls: f(g(g(f(5))))."
   ],
   "id": "60d090cf2edb755"
  },
  {
   "metadata": {
    "ExecuteTime": {
     "end_time": "2025-04-18T03:51:05.557017Z",
     "start_time": "2025-04-18T03:51:05.548716Z"
    }
   },
   "cell_type": "code",
   "source": [
    "def make_onion(f, g):\n",
    "    \"\"\"Return a function can_reach(x, y, limit) that returns\n",
    "    whether some call expression containing only f, g, and x with\n",
    "    up to limit calls will give the result y.\n",
    "\n",
    "    >>> up = lambda x: x + 1\n",
    "    >>> double = lambda y: y * 2\n",
    "    >>> can_reach = make_onion(up, double)\n",
    "    >>> can_reach(5, 25, 4)      # 25 = up(double(double(up(5))))\n",
    "    True\n",
    "    >>> can_reach(5, 25, 3)      # Not possible\n",
    "    False\n",
    "    >>> can_reach(1, 1, 0)      # 1 = 1\n",
    "    True\n",
    "    >>> add_ing = lambda x: x + \"ing\"\n",
    "    >>> add_end = lambda y: y + \"end\"\n",
    "    >>> can_reach_string = make_onion(add_ing, add_end)\n",
    "    >>> can_reach_string(\"cry\", \"crying\", 1)      # \"crying\" = add_ing(\"cry\")\n",
    "    True\n",
    "    >>> can_reach_string(\"un\", \"unending\", 3)     # \"unending\" = add_ing(add_end(\"un\"))\n",
    "    True\n",
    "    >>> can_reach_string(\"peach\", \"folding\", 4)   # Not possible\n",
    "    False\n",
    "    \"\"\"\n",
    "    def can_reach(x, y, limit):\n",
    "        if limit < 0:\n",
    "            return False\n",
    "        elif x == y:\n",
    "            return True\n",
    "        else:\n",
    "            return can_reach(f(x), y, limit - 1) or can_reach(g(x), y, limit - 1)\n",
    "    return can_reach\n",
    "\n",
    "up = lambda x: x + 1\n",
    "double = lambda y: y * 2\n",
    "can_reach = make_onion(up, double)\n",
    "# can_reach(5, 25, 4)\n",
    "can_reach(5, 25, 3)"
   ],
   "id": "8f5b7bea55712124",
   "outputs": [
    {
     "data": {
      "text/plain": [
       "False"
      ]
     },
     "execution_count": 46,
     "metadata": {},
     "output_type": "execute_result"
    }
   ],
   "execution_count": 46
  }
 ],
 "metadata": {
  "kernelspec": {
   "display_name": "Python 3",
   "language": "python",
   "name": "python3"
  },
  "language_info": {
   "codemirror_mode": {
    "name": "ipython",
    "version": 2
   },
   "file_extension": ".py",
   "mimetype": "text/x-python",
   "name": "python",
   "nbconvert_exporter": "python",
   "pygments_lexer": "ipython2",
   "version": "2.7.6"
  }
 },
 "nbformat": 4,
 "nbformat_minor": 5
}
