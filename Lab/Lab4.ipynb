{
 "cells": [
  {
   "metadata": {},
   "cell_type": "markdown",
   "source": "Q1:Dictionaries",
   "id": "3c0ecd08d03b92f4"
  },
  {
   "cell_type": "code",
   "id": "initial_id",
   "metadata": {
    "collapsed": true,
    "ExecuteTime": {
     "end_time": "2025-04-26T08:53:04.894029Z",
     "start_time": "2025-04-26T08:53:04.870342Z"
    }
   },
   "source": [
    "pokemon = {'pikachu': 25, 'dragonair': 148, 'mew': 151}\n",
    "print(pokemon['pikachu'])"
   ],
   "outputs": [
    {
     "name": "stdout",
     "output_type": "stream",
     "text": [
      "25\n"
     ]
    }
   ],
   "execution_count": 1
  },
  {
   "metadata": {
    "ExecuteTime": {
     "end_time": "2025-04-26T08:54:13.432154Z",
     "start_time": "2025-04-26T08:54:13.412956Z"
    }
   },
   "cell_type": "code",
   "source": "len(pokemon)",
   "id": "20f2314f07dc9524",
   "outputs": [
    {
     "data": {
      "text/plain": [
       "3"
      ]
     },
     "execution_count": 2,
     "metadata": {},
     "output_type": "execute_result"
    }
   ],
   "execution_count": 2
  },
  {
   "metadata": {
    "ExecuteTime": {
     "end_time": "2025-04-26T08:54:24.882909Z",
     "start_time": "2025-04-26T08:54:24.871581Z"
    }
   },
   "cell_type": "code",
   "source": "'mewtwo' in pokemon",
   "id": "a8c4f88b9261a56e",
   "outputs": [
    {
     "data": {
      "text/plain": [
       "False"
      ]
     },
     "execution_count": 3,
     "metadata": {},
     "output_type": "execute_result"
    }
   ],
   "execution_count": 3
  },
  {
   "metadata": {
    "ExecuteTime": {
     "end_time": "2025-04-26T08:54:37.191337Z",
     "start_time": "2025-04-26T08:54:37.173964Z"
    }
   },
   "cell_type": "code",
   "source": "'pikachu' in pokemon",
   "id": "6a8b6c0f9df9ffb2",
   "outputs": [
    {
     "data": {
      "text/plain": [
       "True"
      ]
     },
     "execution_count": 4,
     "metadata": {},
     "output_type": "execute_result"
    }
   ],
   "execution_count": 4
  },
  {
   "metadata": {
    "ExecuteTime": {
     "end_time": "2025-04-26T08:55:21.124003Z",
     "start_time": "2025-04-26T08:55:21.116993Z"
    }
   },
   "cell_type": "code",
   "source": "25 in pokemon",
   "id": "346a7f027b31dabe",
   "outputs": [
    {
     "data": {
      "text/plain": [
       "False"
      ]
     },
     "execution_count": 6,
     "metadata": {},
     "output_type": "execute_result"
    }
   ],
   "execution_count": 6
  },
  {
   "metadata": {
    "ExecuteTime": {
     "end_time": "2025-04-26T08:55:37.799815Z",
     "start_time": "2025-04-26T08:55:37.795435Z"
    }
   },
   "cell_type": "code",
   "source": "148 in pokemon.values()",
   "id": "61c0ad61bc0bacd6",
   "outputs": [
    {
     "data": {
      "text/plain": [
       "True"
      ]
     },
     "execution_count": 7,
     "metadata": {},
     "output_type": "execute_result"
    }
   ],
   "execution_count": 7
  },
  {
   "metadata": {
    "ExecuteTime": {
     "end_time": "2025-04-26T08:55:49.300196Z",
     "start_time": "2025-04-26T08:55:49.286166Z"
    }
   },
   "cell_type": "code",
   "source": "151 in pokemon.keys()",
   "id": "89dcc8da3f129709",
   "outputs": [
    {
     "data": {
      "text/plain": [
       "False"
      ]
     },
     "execution_count": 8,
     "metadata": {},
     "output_type": "execute_result"
    }
   ],
   "execution_count": 8
  },
  {
   "metadata": {
    "ExecuteTime": {
     "end_time": "2025-04-26T08:56:02.104448Z",
     "start_time": "2025-04-26T08:56:02.091665Z"
    }
   },
   "cell_type": "code",
   "source": "'mew' in pokemon.keys()",
   "id": "617a2c15fdf13845",
   "outputs": [
    {
     "data": {
      "text/plain": [
       "True"
      ]
     },
     "execution_count": 9,
     "metadata": {},
     "output_type": "execute_result"
    }
   ],
   "execution_count": 9
  },
  {
   "metadata": {},
   "cell_type": "markdown",
   "source": "in 操作符默认检查字典的键（key）",
   "id": "323998b6f5bfb48c"
  },
  {
   "metadata": {},
   "cell_type": "markdown",
   "source": [
    "Q2: Divide\n",
    "\n",
    "Implement divide, which takes two lists of positive integers quotients and divisors. It returns a dictionary whose keys are the elements of quotients. For each key q, its corresponding value is a list of all of the elements of divisors that can be evenly divided by q.\n",
    "\n",
    "Hint: The value for each key needs be a list, so a list comprehension might be useful here"
   ],
   "id": "5e4ad8b629c29058"
  },
  {
   "metadata": {
    "ExecuteTime": {
     "end_time": "2025-04-26T09:13:27.840053Z",
     "start_time": "2025-04-26T09:13:27.826012Z"
    }
   },
   "cell_type": "code",
   "source": [
    "def divide(quotients, divisors):\n",
    "    \"\"\"Return a dictonary in which each quotient q is a key for the list of\n",
    "    divisors that it divides evenly.\n",
    "\n",
    "    >>> divide([3, 4, 5], [8, 9, 10, 11, 12])\n",
    "    {3: [9, 12], 4: [8, 12], 5: [10]}\n",
    "    >>> divide(range(1, 5), range(20, 25))\n",
    "    {1: [20, 21, 22, 23, 24], 2: [20, 22, 24], 3: [21, 24], 4: [20, 24]}\n",
    "    \"\"\"\n",
    "    # return {quotinet:[lambda divisor:divisor % quotinet == 0 for quotinet in quotients for divisor in divisors]}\n",
    "    return {q: [d for d in divisors if d%q==0] for q in quotients}"
   ],
   "id": "a7af2ccf57ed6a05",
   "outputs": [],
   "execution_count": 12
  },
  {
   "metadata": {},
   "cell_type": "markdown",
   "source": [
    "【问题】：我试图用列表推导式来实现函数功能，但是在字典的键的确定上遇到了问题，我无法迭代quotinets中的每个元素quotinet，并且，我对列表推导式中的两个for循环迭代的顺序不太清晰\n",
    "\n",
    "记住列表推导式的表达：\\[expression for outer_loop for inner_loop if condition\\]，是可以带条件的"
   ],
   "id": "cd3f9ee8781d24ca"
  },
  {
   "metadata": {
    "ExecuteTime": {
     "end_time": "2025-04-26T09:16:54.540089Z",
     "start_time": "2025-04-26T09:16:54.530460Z"
    }
   },
   "cell_type": "code",
   "source": [
    "quotients = [3,4,5]\n",
    "divisors = [8,9,10,11,12]\n",
    "result1 = {q:[d for d in divisors if d%q == 0] for q in quotients}\n",
    "print(result1)\n",
    "result2 = {q:[lambda d:d%q==0] for q in quotients}\n",
    "print(result2)"
   ],
   "id": "3ebb1667e124ddd4",
   "outputs": [
    {
     "name": "stdout",
     "output_type": "stream",
     "text": [
      "{3: [9, 12], 4: [8, 12], 5: [10]}\n",
      "{3: [<function <dictcomp>.<lambda> at 0x0000020C38CBC8B0>], 4: [<function <dictcomp>.<lambda> at 0x0000020C38CBCB80>], 5: [<function <dictcomp>.<lambda> at 0x0000020C38D08040>]}\n"
     ]
    }
   ],
   "execution_count": 16
  },
  {
   "metadata": {},
   "cell_type": "markdown",
   "source": [
    "Q3: Buying Fruit\n",
    "\n",
    "Implement the buy function that takes three parameters:\n",
    "- 1.fruits_to_buy: A list of strings representing the fruits you need to buy. At least one of each fruit must be bought.\n",
    "- 2.prices: A dictionary where the keys are fruit names (strings) and the values are positive integers representing the cost of each fruit.\n",
    "- 3.total_amount: An integer representing the total money available for purchasing the fruits. Take a look at the docstring for more details on the input structure.\n",
    "\n",
    "The function should print all possible ways to buy the required fruits so that the combined cost equals total_amount. You can only select fruits mentioned in fruits_to_buy list.\n",
    "\n",
    "Note: You can use the display function to format the output. Call display(fruit, count) for each fruit and its corresponding quantity to generate a string showing the type and amount of fruit bought.\n",
    "\n",
    "Hint: How can you ensure that every combination includes at least one of each fruit listed in fruits_to_buy?"
   ],
   "id": "5e203efa7efccce6"
  },
  {
   "metadata": {
    "ExecuteTime": {
     "end_time": "2025-04-26T09:53:36.869247Z",
     "start_time": "2025-04-26T09:53:36.860455Z"
    }
   },
   "cell_type": "code",
   "source": [
    "def buy(fruits_to_buy, prices, total_amount):\n",
    "    \"\"\"Print ways to buy some of each fruit so that the sum of prices is amount.\n",
    "\n",
    "    >>> prices = {'oranges': 4, 'apples': 3, 'bananas': 2, 'kiwis': 9}\n",
    "    >>> buy(['apples', 'oranges', 'bananas'], prices, 12)  # We can only buy apple, orange, and banana, but not kiwi\n",
    "    [2 apples][1 orange][1 banana]\n",
    "    >>> buy(['apples', 'oranges', 'bananas'], prices, 16)\n",
    "    [2 apples][1 orange][3 bananas]\n",
    "    [2 apples][2 oranges][1 banana]\n",
    "    >>> buy(['apples', 'kiwis'], prices, 36)\n",
    "    [3 apples][3 kiwis]\n",
    "    [6 apples][2 kiwis]\n",
    "    [9 apples][1 kiwi]\n",
    "    \"\"\"\n",
    "    def add(fruits, amount, cart):\n",
    "        if fruits == [] and amount == 0:\n",
    "            print(cart) # 当fruits==[] and amount == 0的时候才打印\n",
    "        elif fruits and amount > 0:\n",
    "            fruit = fruits[0]\n",
    "            price = prices[fruit]\n",
    "            for k in range(1,amount//price+1): # 当前水果最多能买多少\n",
    "                # Hint: The display function will help you add fruit to the cart.\n",
    "                new_amount = amount - k*price\n",
    "                new_cart = cart + display(fruit,k)\n",
    "                add(fruits[1:], new_amount, new_cart)\n",
    "    add(fruits_to_buy, total_amount, '')\n",
    "\n",
    "def display(fruit, count):\n",
    "    \"\"\"Display a count of a fruit in square brackets.\n",
    "\n",
    "    >>> display('apples', 3)\n",
    "    '[3 apples]'\n",
    "    >>> display('apples', 1)\n",
    "    '[1 apple]'\n",
    "    >>> print(display('apples', 3) + display('kiwis', 3))\n",
    "    [3 apples][3 kiwis]\n",
    "    \"\"\"\n",
    "    assert count >= 1 and fruit[-1] == 's'\n",
    "    if count == 1:\n",
    "        fruit = fruit[:-1]  # get rid of the plural s\n",
    "    return '[' + str(count) + ' ' + fruit + ']'"
   ],
   "id": "b96287781a042d03",
   "outputs": [],
   "execution_count": 17
  },
  {
   "metadata": {
    "ExecuteTime": {
     "end_time": "2025-04-26T09:53:38.768280Z",
     "start_time": "2025-04-26T09:53:38.753893Z"
    }
   },
   "cell_type": "code",
   "source": "buy(['apples', 'oranges', 'bananas'], {'apples': 3, 'oranges': 4, 'bananas': 2}, 12)",
   "id": "cf405e7e0ce16a87",
   "outputs": [
    {
     "name": "stdout",
     "output_type": "stream",
     "text": [
      "[2 apples][1 orange][1 banana]\n"
     ]
    }
   ],
   "execution_count": 18
  },
  {
   "metadata": {
    "ExecuteTime": {
     "end_time": "2025-04-26T09:54:41.889187Z",
     "start_time": "2025-04-26T09:54:41.873244Z"
    }
   },
   "cell_type": "code",
   "source": "buy(['apples', 'kiwis'], {'apples': 3, 'kiwis': 9}, 36)",
   "id": "b28114dae6f18bde",
   "outputs": [
    {
     "name": "stdout",
     "output_type": "stream",
     "text": [
      "[3 apples][3 kiwis]\n",
      "[6 apples][2 kiwis]\n",
      "[9 apples][1 kiwi]\n"
     ]
    }
   ],
   "execution_count": 19
  },
  {
   "metadata": {},
   "cell_type": "markdown",
   "source": [
    "Q4: Distance\n",
    "\n",
    "We will now implement the function distance, which computes the distance between two city objects. Recall that the distance between two coordinate pairs (x1, y1) and (x2, y2) can be found by calculating the sqrt of (x1 - x2)**2 + (y1 - y2)**2. We have already imported sqrt for your convenience. Use the latitude and longitude of a city as its coordinates; you'll need to use the selectors to access this info!"
   ],
   "id": "f9b0f70545d45f7b"
  },
  {
   "metadata": {},
   "cell_type": "code",
   "outputs": [],
   "execution_count": null,
   "source": [
    "from math import sqrt\n",
    "def distance(city_a, city_b):\n",
    "    \"\"\"\n",
    "    Returns the distance between city_a and city_b according to their\n",
    "    coordinates.\n",
    "\n",
    "    >>> city_a = make_city('city_a', 0, 1)\n",
    "    >>> city_b = make_city('city_b', 0, 2)\n",
    "    >>> distance(city_a, city_b)\n",
    "    1.0\n",
    "    >>> city_c = make_city('city_c', 6.5, 12)\n",
    "    >>> city_d = make_city('city_d', 2.5, 15)\n",
    "    >>> distance(city_c, city_d)\n",
    "    5.0\n",
    "    \"\"\"\n",
    "    \"*** YOUR CODE HERE ***\"\n",
    "    a_lat = get_lat(city_a)\n",
    "    b_lat = get_lat(city_b)\n",
    "    a_lon = get_lon(city_a)\n",
    "    b_lat = get_lon(city_b)\n",
    "    return sqrt(a_lat-b_lat) + sqrt(a_lon-b_lon)"
   ],
   "id": "8a3f7e891ffa3db"
  },
  {
   "metadata": {},
   "cell_type": "markdown",
   "source": [
    "Q5: Closer City\n",
    "\n",
    "Next, implement closer_city, a function that takes a latitude, longitude, and two cities, and returns the name of the city that is closer to the provided latitude and longitude.\n",
    "\n",
    "You may only use the selectors get_name get_lat get_lon, constructors make_city, and the distance function you just defined for this question.\n",
    "\n",
    "Hint: How can you use your distance function to find the distance between the given location and each of the given cities?"
   ],
   "id": "ee3efe715194d86f"
  },
  {
   "metadata": {},
   "cell_type": "code",
   "outputs": [],
   "execution_count": null,
   "source": [
    "def closer_city(lat, lon, city_a, city_b):\n",
    "    \"\"\"\n",
    "    Returns the name of either city_a or city_b, whichever is closest to\n",
    "    coordinate (lat, lon). If the two cities are the same distance away\n",
    "    from the coordinate, consider city_b to be the closer city.\n",
    "\n",
    "    >>> berkeley = make_city('Berkeley', 37.87, 112.26)\n",
    "    >>> stanford = make_city('Stanford', 34.05, 118.25)\n",
    "    >>> closer_city(38.33, 121.44, berkeley, stanford)\n",
    "    'Stanford'\n",
    "    >>> bucharest = make_city('Bucharest', 44.43, 26.10)\n",
    "    >>> vienna = make_city('Vienna', 48.20, 16.37)\n",
    "    >>> closer_city(41.29, 174.78, bucharest, vienna)\n",
    "    'Bucharest'\n",
    "    \"\"\"\n",
    "    \"*** YOUR CODE HERE ***\"\n",
    "    a_name = get_name(city_a)\n",
    "    b_name = get_name(city_b)\n",
    "    city_given = make_city('city_given',lat,lon)\n",
    "    dis1 = distance(city_a, city_given)\n",
    "    dis2 = distance(city_b, city_given)\n",
    "    if dis1 < dis2:\n",
    "        return a_name\n",
    "    else:\n",
    "        return b_name"
   ],
   "id": "3fc39e2379382eae"
  }
 ],
 "metadata": {
  "kernelspec": {
   "display_name": "Python 3",
   "language": "python",
   "name": "python3"
  },
  "language_info": {
   "codemirror_mode": {
    "name": "ipython",
    "version": 2
   },
   "file_extension": ".py",
   "mimetype": "text/x-python",
   "name": "python",
   "nbconvert_exporter": "python",
   "pygments_lexer": "ipython2",
   "version": "2.7.6"
  }
 },
 "nbformat": 4,
 "nbformat_minor": 5
}
