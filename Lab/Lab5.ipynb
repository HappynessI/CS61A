{
 "cells": [
  {
   "metadata": {},
   "cell_type": "markdown",
   "source": [
    "Q1:WWPD:List-Mutation\n",
    "\n",
    "Important: For all WWPD questions, type Function if you believe the answer is \\<function...\\>, Error if it errors, and Nothing if nothing is displayed."
   ],
   "id": "d727a79f0617c13a"
  },
  {
   "cell_type": "code",
   "id": "initial_id",
   "metadata": {
    "collapsed": true
   },
   "source": [
    "s = [6,7,8]\n",
    "print(s.append(6))"
   ],
   "outputs": [],
   "execution_count": null
  },
  {
   "metadata": {},
   "cell_type": "code",
   "source": "s",
   "id": "ee261d2d59f8d59c",
   "outputs": [],
   "execution_count": null
  },
  {
   "metadata": {},
   "cell_type": "code",
   "source": [
    "s.insert(0,9)\n",
    "s"
   ],
   "id": "c2f2572123c579a5",
   "outputs": [],
   "execution_count": null
  },
  {
   "metadata": {},
   "cell_type": "code",
   "source": [
    "x = s.pop(1)\n",
    "s"
   ],
   "id": "ab32a6e69e3b6180",
   "outputs": [],
   "execution_count": null
  },
  {
   "metadata": {},
   "cell_type": "code",
   "source": [
    "s.remove(x)\n",
    "s"
   ],
   "id": "87e5fc695affcf08",
   "outputs": [],
   "execution_count": null
  },
  {
   "metadata": {},
   "cell_type": "code",
   "source": [
    "a,b = s,s[:]\n",
    "a is s"
   ],
   "id": "3739a48f1cc25a96",
   "outputs": [],
   "execution_count": null
  },
  {
   "metadata": {},
   "cell_type": "code",
   "source": "b == s",
   "id": "46b036f255651971",
   "outputs": [],
   "execution_count": null
  },
  {
   "metadata": {},
   "cell_type": "code",
   "source": "b is s # b是s的一个浅拷贝，生成了一个包含s所有元素的新列表",
   "id": "d039c7fcc2cf7549",
   "outputs": [],
   "execution_count": null
  },
  {
   "metadata": {},
   "cell_type": "code",
   "source": "a.pop()",
   "id": "d71c34d60b944b5c",
   "outputs": [],
   "execution_count": null
  },
  {
   "metadata": {},
   "cell_type": "code",
   "source": "a+b",
   "id": "c417559c173b25cb",
   "outputs": [],
   "execution_count": null
  },
  {
   "metadata": {},
   "cell_type": "code",
   "source": [
    "s=[3]\n",
    "s.extend([4,5])\n",
    "s"
   ],
   "id": "92ff17441d327df3",
   "outputs": [],
   "execution_count": null
  },
  {
   "metadata": {},
   "cell_type": "code",
   "source": "a",
   "id": "3fdc0e3dc0191adf",
   "outputs": [],
   "execution_count": null
  },
  {
   "metadata": {},
   "cell_type": "code",
   "source": [
    "s.extend([s.append(9),s.append(10)])\n",
    "s"
   ],
   "id": "d621c8f3e859f285",
   "outputs": [],
   "execution_count": null
  },
  {
   "metadata": {},
   "cell_type": "markdown",
   "source": [
    "Q2: Insert Items\n",
    "\n",
    "Write a function that takes in a list s, a value before, and a value after. It modifies s in place by inserting after just after each value equal to before in s. It returns s.\n",
    "\n",
    "Important: No new lists should be created.\n",
    "\n",
    "Note: If the values passed into before and after are equal, make sure you're not creating an infinitely long list while iterating through it. If you find that your code is taking more than a few seconds to run, the function may be in an infinite loop of inserting new values."
   ],
   "id": "55fbde5f874d76af"
  },
  {
   "metadata": {},
   "cell_type": "code",
   "source": [
    "def insert_items(s, before, after):\n",
    "    \"\"\"Insert after into s following each occurrence of before and then return s.\n",
    "\n",
    "    >>> test_s = [1, 5, 8, 5, 2, 3]\n",
    "    >>> new_s = insert_items(test_s, 5, 7)\n",
    "    >>> new_s\n",
    "    [1, 5, 7, 8, 5, 7, 2, 3]\n",
    "    >>> test_s\n",
    "    [1, 5, 7, 8, 5, 7, 2, 3]\n",
    "    >>> new_s is test_s\n",
    "    True\n",
    "    >>> double_s = [1, 2, 1, 2, 3, 3]\n",
    "    >>> double_s = insert_items(double_s, 3, 4)\n",
    "    >>> double_s\n",
    "    [1, 2, 1, 2, 3, 4, 3, 4]\n",
    "    >>> large_s = [1, 4, 8]\n",
    "    >>> large_s2 = insert_items(large_s, 4, 4)\n",
    "    >>> large_s2\n",
    "    [1, 4, 4, 8]\n",
    "    >>> large_s3 = insert_items(large_s2, 4, 6)\n",
    "    >>> large_s3\n",
    "    [1, 4, 6, 4, 6, 8]\n",
    "    >>> large_s3 is large_s\n",
    "    True\n",
    "    \"\"\"\n",
    "    \"*** YOUR CODE HERE ***\"\n",
    "    # 这个版本的代码太丑陋了\n",
    "    # if before == after:\n",
    "    #     for i in range(0, len(s)):\n",
    "    #         if s[i] == before and s[i] != s[i-1]:\n",
    "    #             s.insert(i+1, after)\n",
    "    #         elif s[i] == before and s[i] == s[i-1]:\n",
    "    #             continue\n",
    "    # else:\n",
    "    #     for i in range(0,len(s)):\n",
    "    #         if s[i] == before:\n",
    "    #             s.insert(i+1,after)\n",
    "    # return s\n",
    "    i = 0\n",
    "    while i < len(s):\n",
    "        if s[i] == before:\n",
    "            s.insert(i+1,after)\n",
    "            i += 1 # 跳过刚插入的元素\n",
    "        i += 1\n",
    "    return s\n",
    "test_s = [1, 5, 8, 5, 2, 3]\n",
    "new_s = insert_items(test_s, 5, 7)\n",
    "new_s\n",
    "large_s = [1, 4, 8]\n",
    "large_s2 = insert_items(large_s, 4, 4)\n",
    "large_s2"
   ],
   "id": "35cbd1d78ad5ed54",
   "outputs": [],
   "execution_count": null
  },
  {
   "metadata": {},
   "cell_type": "code",
   "source": [
    "s = [1,2,3]\n",
    "s.append(4)\n",
    "s\n",
    "s.pop()\n",
    "s"
   ],
   "id": "fb3b17acae41ab8c",
   "outputs": [],
   "execution_count": null
  },
  {
   "metadata": {},
   "cell_type": "markdown",
   "source": [
    "Q3: Group By\n",
    "\n",
    "Write a function that takes in a list s and a function fn, and returns a dictionary that groups the elements of s based on the result of applying fn.\n",
    "- The dictionary should have one key for each unique result of applying fn to elements of s.\n",
    "- The value for each key should be a list of all elements in s that, when passed to fn, produce that key (what it evaluates to).\n",
    "\n",
    "In other words, for each element e in s, determine fn(e) and add e to the list corresponding to fn(e) in the dictionary."
   ],
   "id": "fa607ee677b13140"
  },
  {
   "metadata": {},
   "cell_type": "code",
   "source": [
    "def group_by(s, fn):\n",
    "    \"\"\"Return a dictionary of lists that together contain the elements of s.\n",
    "    The key for each list is the value that fn returns when called on any of the\n",
    "    values of that list.\n",
    "\n",
    "    >>> group_by([12, 23, 14, 45], lambda p: p // 10)\n",
    "    {1: [12, 14], 2: [23], 4: [45]}\n",
    "    >>> group_by(range(-3, 4), lambda x: x * x)\n",
    "    {9: [-3, 3], 4: [-2, 2], 1: [-1, 1], 0: [0]}\n",
    "    \"\"\"\n",
    "    grouped = {}\n",
    "    for value in s:\n",
    "        key = fn(value)\n",
    "        if key in grouped:\n",
    "            grouped[key].append(value)\n",
    "        else:\n",
    "            grouped[key] = [value]\n",
    "    return grouped\n",
    "group_by([12, 23, 14, 45], lambda p: p // 10)\n",
    "group_by(range(-3, 4), lambda x: x * x)"
   ],
   "id": "c8b9b91b0eafc3b9",
   "outputs": [],
   "execution_count": null
  },
  {
   "metadata": {},
   "cell_type": "markdown",
   "source": [
    "Q4: WWPD: Iterators\n",
    "\n",
    "Important: Enter StopIteration if a StopIteration exception occurs, Error if you believe a different error occurs, and Iterator if the output is an iterator object.\n",
    "\n",
    "Important: Python's built-in function map, filter, and zip return iterators, not lists."
   ],
   "id": "cfc950e43ff16b1a"
  },
  {
   "metadata": {},
   "cell_type": "code",
   "source": [
    "s = [1, 2, 3, 4]\n",
    "t = iter(s)\n",
    "next(s)"
   ],
   "id": "a8e9216d28fae79b",
   "outputs": [],
   "execution_count": null
  },
  {
   "metadata": {},
   "cell_type": "code",
   "source": "next(t)",
   "id": "baa5600fd737ef57",
   "outputs": [],
   "execution_count": null
  },
  {
   "metadata": {},
   "cell_type": "code",
   "source": "next(t)",
   "id": "aceb452cd0cea9fb",
   "outputs": [],
   "execution_count": null
  },
  {
   "metadata": {},
   "cell_type": "code",
   "source": "next(iter(s))",
   "id": "b1b34ede9bad65db",
   "outputs": [],
   "execution_count": null
  },
  {
   "metadata": {},
   "cell_type": "code",
   "source": "next(iter(s))",
   "id": "dd10d80e1bb0c05",
   "outputs": [],
   "execution_count": null
  },
  {
   "metadata": {},
   "cell_type": "code",
   "source": [
    "u = t\n",
    "next(u)"
   ],
   "id": "652d6e891ceb7545",
   "outputs": [],
   "execution_count": null
  },
  {
   "metadata": {},
   "cell_type": "code",
   "source": "next(t)",
   "id": "8dc9b2685f49007e",
   "outputs": [],
   "execution_count": null
  },
  {
   "metadata": {
    "ExecuteTime": {
     "end_time": "2025-04-28T13:59:16.865463Z",
     "start_time": "2025-04-28T13:59:16.840405Z"
    }
   },
   "cell_type": "code",
   "source": [
    "r = range(6)\n",
    "r_iter = iter(r)\n",
    "next(r_iter)"
   ],
   "id": "dbc72a7af028a8bf",
   "outputs": [
    {
     "data": {
      "text/plain": [
       "0"
      ]
     },
     "execution_count": 1,
     "metadata": {},
     "output_type": "execute_result"
    }
   ],
   "execution_count": 1
  },
  {
   "metadata": {
    "ExecuteTime": {
     "end_time": "2025-04-28T13:59:17.811074Z",
     "start_time": "2025-04-28T13:59:17.806598Z"
    }
   },
   "cell_type": "code",
   "source": "[x+1 for x in r]",
   "id": "5082bda7ea8bd491",
   "outputs": [
    {
     "data": {
      "text/plain": [
       "[1, 2, 3, 4, 5, 6]"
      ]
     },
     "execution_count": 2,
     "metadata": {},
     "output_type": "execute_result"
    }
   ],
   "execution_count": 2
  },
  {
   "metadata": {
    "ExecuteTime": {
     "end_time": "2025-04-28T13:59:19.051703Z",
     "start_time": "2025-04-28T13:59:19.030811Z"
    }
   },
   "cell_type": "code",
   "source": "[x+1 for x in r_iter]",
   "id": "a810e439d322a058",
   "outputs": [
    {
     "data": {
      "text/plain": [
       "[2, 3, 4, 5, 6]"
      ]
     },
     "execution_count": 3,
     "metadata": {},
     "output_type": "execute_result"
    }
   ],
   "execution_count": 3
  },
  {
   "metadata": {
    "ExecuteTime": {
     "end_time": "2025-04-28T13:59:35.644620Z",
     "start_time": "2025-04-28T13:59:35.212322Z"
    }
   },
   "cell_type": "code",
   "source": "next(r_iter)",
   "id": "993a7bef4d603ef2",
   "outputs": [
    {
     "ename": "StopIteration",
     "evalue": "",
     "output_type": "error",
     "traceback": [
      "\u001B[1;31m---------------------------------------------------------------------------\u001B[0m",
      "\u001B[1;31mStopIteration\u001B[0m                             Traceback (most recent call last)",
      "Cell \u001B[1;32mIn[4], line 1\u001B[0m\n\u001B[1;32m----> 1\u001B[0m \u001B[38;5;28;43mnext\u001B[39;49m\u001B[43m(\u001B[49m\u001B[43mr_iter\u001B[49m\u001B[43m)\u001B[49m\n",
      "\u001B[1;31mStopIteration\u001B[0m: "
     ]
    }
   ],
   "execution_count": 4
  },
  {
   "metadata": {
    "ExecuteTime": {
     "end_time": "2025-04-28T14:01:42.538790Z",
     "start_time": "2025-04-28T14:01:42.529288Z"
    }
   },
   "cell_type": "code",
   "source": [
    "map_iter = map(lambda x:x+10,range(5))\n",
    "next(map_iter)"
   ],
   "id": "5742b978449cb5a2",
   "outputs": [
    {
     "data": {
      "text/plain": [
       "10"
      ]
     },
     "execution_count": 5,
     "metadata": {},
     "output_type": "execute_result"
    }
   ],
   "execution_count": 5
  },
  {
   "metadata": {
    "ExecuteTime": {
     "end_time": "2025-04-28T14:01:47.826609Z",
     "start_time": "2025-04-28T14:01:47.808771Z"
    }
   },
   "cell_type": "code",
   "source": "next(map_iter)",
   "id": "c3ace2cd89d6f21b",
   "outputs": [
    {
     "data": {
      "text/plain": [
       "11"
      ]
     },
     "execution_count": 6,
     "metadata": {},
     "output_type": "execute_result"
    }
   ],
   "execution_count": 6
  },
  {
   "metadata": {
    "ExecuteTime": {
     "end_time": "2025-04-28T14:01:58.297408Z",
     "start_time": "2025-04-28T14:01:58.279969Z"
    }
   },
   "cell_type": "code",
   "source": "list(map_iter)",
   "id": "b527b48fddfb02fa",
   "outputs": [
    {
     "data": {
      "text/plain": [
       "[12, 13, 14]"
      ]
     },
     "execution_count": 7,
     "metadata": {},
     "output_type": "execute_result"
    }
   ],
   "execution_count": 7
  },
  {
   "metadata": {
    "ExecuteTime": {
     "end_time": "2025-04-28T14:02:37.446271Z",
     "start_time": "2025-04-28T14:02:37.429760Z"
    }
   },
   "cell_type": "code",
   "source": [
    "for e in filter(lambda x:x%4==0,range(1000,1008)):\n",
    "    print(e)"
   ],
   "id": "c3dc13df479fbfe8",
   "outputs": [
    {
     "name": "stdout",
     "output_type": "stream",
     "text": [
      "1000\n",
      "1004\n"
     ]
    }
   ],
   "execution_count": 8
  },
  {
   "metadata": {
    "ExecuteTime": {
     "end_time": "2025-04-28T14:03:08.103502Z",
     "start_time": "2025-04-28T14:03:08.085519Z"
    }
   },
   "cell_type": "code",
   "source": "[x + y for x,y in zip([1,2,3],[4,5,6])]",
   "id": "292ae21ec3d279bf",
   "outputs": [
    {
     "data": {
      "text/plain": [
       "[5, 7, 9]"
      ]
     },
     "execution_count": 9,
     "metadata": {},
     "output_type": "execute_result"
    }
   ],
   "execution_count": 9
  },
  {
   "metadata": {},
   "cell_type": "markdown",
   "source": [
    "Q5: Count Occurrences\n",
    "\n",
    "Implement count_occurrences, which takes an iterator t, an integer n, and a value x. It returns the number of elements in the first n elements of t that are equal to x.\n",
    "\n",
    "You can assume that t has at least n elements.\n",
    "\n",
    "Important: You should call next on t exactly n times. If you need to iterate through more than n elements, think about how you can optimize your solution."
   ],
   "id": "8a9d7caa0ca1e65"
  },
  {
   "metadata": {
    "ExecuteTime": {
     "end_time": "2025-04-28T14:11:14.582085Z",
     "start_time": "2025-04-28T14:11:14.562780Z"
    }
   },
   "cell_type": "code",
   "source": [
    "def count_occurrences(t, n, x):\n",
    "    \"\"\"Return the number of times that x is equal to one of the\n",
    "    first n elements of iterator t.\n",
    "\n",
    "    >>> s = iter([10, 9, 10, 9, 9, 10, 8, 8, 8, 7])\n",
    "    >>> count_occurrences(s, 10, 9)\n",
    "    3\n",
    "    >>> t = iter([10, 9, 10, 9, 9, 10, 8, 8, 8, 7])\n",
    "    >>> count_occurrences(t, 3, 10)\n",
    "    2\n",
    "    >>> u = iter([3, 2, 2, 2, 1, 2, 1, 4, 4, 5, 5, 5])\n",
    "    >>> count_occurrences(u, 1, 3)  # Only iterate over 3\n",
    "    1\n",
    "    >>> count_occurrences(u, 3, 2)  # Only iterate over 2, 2, 2\n",
    "    3\n",
    "    >>> list(u)                     # Ensure that the iterator has advanced the right amount\n",
    "    [1, 2, 1, 4, 4, 5, 5, 5]\n",
    "    >>> v = iter([4, 1, 6, 6, 7, 7, 6, 6, 2, 2, 2, 5])\n",
    "    >>> count_occurrences(v, 6, 6)\n",
    "    2\n",
    "    \"\"\"\n",
    "    \"*** YOUR CODE HERE ***\"\n",
    "    count = 0\n",
    "    for _ in range(n):\n",
    "        if x == next(t):\n",
    "            count += 1\n",
    "    return count\n",
    "s = iter([10, 9, 10, 9, 9, 10, 8, 8, 8, 7])\n",
    "count_occurrences(s, 10, 9)\n",
    "t = iter([10, 9, 10, 9, 9, 10, 8, 8, 8, 7])\n",
    "count_occurrences(t, 3, 10)\n",
    "u = iter([3, 2, 2, 2, 1, 2, 1, 4, 4, 5, 5, 5])\n",
    "count_occurrences(u, 1, 3)\n",
    "count_occurrences(u, 3, 2)\n",
    "list(u)"
   ],
   "id": "68f68a0ba3290652",
   "outputs": [
    {
     "data": {
      "text/plain": [
       "[1, 2, 1, 4, 4, 5, 5, 5]"
      ]
     },
     "execution_count": 18,
     "metadata": {},
     "output_type": "execute_result"
    }
   ],
   "execution_count": 18
  },
  {
   "metadata": {},
   "cell_type": "markdown",
   "source": [
    "Q6: Repeated\n",
    "\n",
    "Implement repeated, which takes in an iterator t and an integer k greater than 1. It returns the first value in t that appears k times in a row. You may assume that there is an element of t repeated at least k times in a row.\n",
    "\n",
    "Important: Call next on t only the minimum number of times required. If you are receiving a StopIteration exception, your repeated function is calling next too many times."
   ],
   "id": "bc9b7df77a03bb65"
  },
  {
   "metadata": {
    "ExecuteTime": {
     "end_time": "2025-04-28T14:45:59.449082Z",
     "start_time": "2025-04-28T14:45:59.430691Z"
    }
   },
   "cell_type": "code",
   "source": [
    "def repeated(t, k):\n",
    "    \"\"\"Return the first value in iterator t that appears k times in a row,\n",
    "    calling next on t as few times as possible.\n",
    "\n",
    "    >>> s = iter([10, 9, 10, 9, 9, 10, 8, 8, 8, 7])\n",
    "    >>> repeated(s, 2)\n",
    "    9\n",
    "    >>> t = iter([10, 9, 10, 9, 9, 10, 8, 8, 8, 7])\n",
    "    >>> repeated(t, 3)\n",
    "    8\n",
    "    >>> u = iter([3, 2, 2, 2, 1, 2, 1, 4, 4, 5, 5, 5])\n",
    "    >>> repeated(u, 3)\n",
    "    2\n",
    "    >>> repeated(u, 3)\n",
    "    5\n",
    "    >>> v = iter([4, 1, 6, 6, 7, 7, 8, 8, 2, 2, 2, 5])\n",
    "    >>> repeated(v, 3)\n",
    "    2\n",
    "    \"\"\"\n",
    "    assert k > 1\n",
    "    \"*** YOUR CODE HERE ***\"\n",
    "    count = 1\n",
    "    prev_value = next(t)\n",
    "    for value in t:\n",
    "        if value == prev_value:\n",
    "            count += 1\n",
    "            if count == k:\n",
    "                return value\n",
    "        else:\n",
    "            prev_value = value\n",
    "            count = 1\n",
    "    return None"
   ],
   "id": "39d3afe18b0bf858",
   "outputs": [],
   "execution_count": 19
  },
  {
   "metadata": {},
   "cell_type": "markdown",
   "source": [
    "Q8: Partial Reverse\n",
    "\n",
    "Partially reversing the list \\[1, 2, 3, 4, 5] starting from index 2 until the end of the list will give \\[1, 2, 5, 4, 3].\n",
    "\n",
    "Implement the function partial_reverse which reverses a list starting from index start until the end of the list. This reversal should be in-place, meaning that the original list is modified. Do not create a new list inside your function, even if you do not return it. The partial_reverse function returns None.\n",
    "\n",
    "Hint: You can swap elements at index i and j in list s with multiple assignment: s\\[i], s\\[j] = s\\[j], s\\[i]"
   ],
   "id": "6c60e2d228b56f1c"
  },
  {
   "metadata": {
    "ExecuteTime": {
     "end_time": "2025-04-28T14:55:55.147880Z",
     "start_time": "2025-04-28T14:55:55.139702Z"
    }
   },
   "cell_type": "code",
   "source": [
    "def partial_reverse(s, start):\n",
    "    \"\"\"Reverse part of a list in-place, starting with start up to the end of\n",
    "    the list.\n",
    "\n",
    "    >>> a = [1, 2, 3, 4, 5, 6, 7]\n",
    "    >>> partial_reverse(a, 2)\n",
    "    >>> a\n",
    "    [1, 2, 7, 6, 5, 4, 3]\n",
    "    >>> partial_reverse(a, 5)\n",
    "    >>> a\n",
    "    [1, 2, 7, 6, 5, 3, 4]\n",
    "    \"\"\"\n",
    "    \"*** YOUR CODE HERE ***\"\n",
    "    # 采用双指针的方法\n",
    "    left = start\n",
    "    right = len(s) - 1\n",
    "    while left < right:\n",
    "        s[left], s[right] = s[right], s[left]\n",
    "        left += 1\n",
    "        right -= 1"
   ],
   "id": "6163c41268e68c1e",
   "outputs": [
    {
     "data": {
      "text/plain": [
       "[1, 2, 3, 4, 5, 6, 7]"
      ]
     },
     "execution_count": 26,
     "metadata": {},
     "output_type": "execute_result"
    }
   ],
   "execution_count": 26
  }
 ],
 "metadata": {
  "kernelspec": {
   "display_name": "Python 3",
   "language": "python",
   "name": "python3"
  },
  "language_info": {
   "codemirror_mode": {
    "name": "ipython",
    "version": 2
   },
   "file_extension": ".py",
   "mimetype": "text/x-python",
   "name": "python",
   "nbconvert_exporter": "python",
   "pygments_lexer": "ipython2",
   "version": "2.7.6"
  }
 },
 "nbformat": 4,
 "nbformat_minor": 5
}
