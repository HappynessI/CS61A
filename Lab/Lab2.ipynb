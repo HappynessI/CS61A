{
 "cells": [
  {
   "cell_type": "code",
   "id": "initial_id",
   "metadata": {
    "collapsed": true,
    "ExecuteTime": {
     "end_time": "2025-04-16T09:53:17.385605Z",
     "start_time": "2025-04-16T09:53:17.370048Z"
    }
   },
   "source": "True or 1/0",
   "outputs": [
    {
     "data": {
      "text/plain": [
       "True"
      ]
     },
     "execution_count": 1,
     "metadata": {},
     "output_type": "execute_result"
    }
   ],
   "execution_count": 1
  },
  {
   "metadata": {},
   "cell_type": "markdown",
   "source": "Q1: WWPD: The Truth Will Prevail",
   "id": "ea0fde7758948a27"
  },
  {
   "metadata": {},
   "cell_type": "markdown",
   "source": [
    "【核心：short-circuit evaluation】\n",
    "\n",
    "【Truthy(真值)】：在Python中非零、非空、非None的值（如1，\"a\"，\\[1\\]）\n",
    "\n",
    "【Falsy(假值)】：0，\"\"，None，False，空列表[]等\n",
    "\n",
    "对于or运算符，其短路逻辑如下：\n",
    "- 从左到右依次求值，一旦遇到第一个为真的操作数，立即返回该值，不再计算后续操作数\n",
    "- 如果所有操作数均为假，则返回最后一个操作数\n",
    "\n",
    "对于and运算符，其短路逻辑相反：\n",
    "- 遇到第一个Falsy操作数时立即返回它，否则返回最后一个操作数"
   ],
   "id": "52f990e71188524f"
  },
  {
   "metadata": {
    "ExecuteTime": {
     "end_time": "2025-04-16T09:55:42.750119Z",
     "start_time": "2025-04-16T09:55:42.745012Z"
    }
   },
   "cell_type": "code",
   "source": "False or 0",
   "id": "92d3b7c7ed87fbb3",
   "outputs": [
    {
     "data": {
      "text/plain": [
       "0"
      ]
     },
     "execution_count": 2,
     "metadata": {},
     "output_type": "execute_result"
    }
   ],
   "execution_count": 2
  },
  {
   "metadata": {
    "ExecuteTime": {
     "end_time": "2025-04-16T09:55:56.098910Z",
     "start_time": "2025-04-16T09:55:56.094453Z"
    }
   },
   "cell_type": "code",
   "source": "not 10",
   "id": "df3f2a292c5e773a",
   "outputs": [
    {
     "data": {
      "text/plain": [
       "False"
      ]
     },
     "execution_count": 3,
     "metadata": {},
     "output_type": "execute_result"
    }
   ],
   "execution_count": 3
  },
  {
   "metadata": {
    "ExecuteTime": {
     "end_time": "2025-04-16T09:56:04.700984Z",
     "start_time": "2025-04-16T09:56:04.695431Z"
    }
   },
   "cell_type": "code",
   "source": "not None",
   "id": "9452e6395470919",
   "outputs": [
    {
     "data": {
      "text/plain": [
       "True"
      ]
     },
     "execution_count": 4,
     "metadata": {},
     "output_type": "execute_result"
    }
   ],
   "execution_count": 4
  },
  {
   "metadata": {
    "ExecuteTime": {
     "end_time": "2025-04-16T09:56:33.495418Z",
     "start_time": "2025-04-16T09:56:33.490361Z"
    }
   },
   "cell_type": "code",
   "source": "print(3) or \"\"",
   "id": "4c5b3ed661aac4e7",
   "outputs": [
    {
     "name": "stdout",
     "output_type": "stream",
     "text": [
      "3\n"
     ]
    },
    {
     "data": {
      "text/plain": [
       "''"
      ]
     },
     "execution_count": 5,
     "metadata": {},
     "output_type": "execute_result"
    }
   ],
   "execution_count": 5
  },
  {
   "metadata": {
    "ExecuteTime": {
     "end_time": "2025-04-16T10:06:00.560672Z",
     "start_time": "2025-04-16T10:06:00.556301Z"
    }
   },
   "cell_type": "code",
   "source": [
    "def f(x):\n",
    "    if x == 0:\n",
    "        return 0\n",
    "    elif x > 0:\n",
    "        return \"positive\"\n",
    "    else:\n",
    "        return \"\"\n",
    "0 or f(1)\n",
    "f(0) or f(-1)\n",
    "f(0) and f(-1)"
   ],
   "id": "a984bb5843d9d561",
   "outputs": [
    {
     "data": {
      "text/plain": [
       "0"
      ]
     },
     "execution_count": 12,
     "metadata": {},
     "output_type": "execute_result"
    }
   ],
   "execution_count": 12
  },
  {
   "metadata": {},
   "cell_type": "markdown",
   "source": "Q2: WWPD: Higher-Order Functions",
   "id": "e902a15b5d21d4bb"
  },
  {
   "metadata": {
    "ExecuteTime": {
     "end_time": "2025-04-16T10:21:21.110435Z",
     "start_time": "2025-04-16T10:21:21.104433Z"
    }
   },
   "cell_type": "code",
   "source": [
    "def cake():\n",
    "    print(\"beets\")\n",
    "    def pie():\n",
    "        print('sweets')\n",
    "        return 'cake'\n",
    "    return pie\n",
    "\n",
    "chocolate = cake()  # chocolate是函数pie\n",
    "chocolate\n",
    "chocolate()\n",
    "more_chocolate,more_cake = chocolate(),cake()\n",
    "print(more_chocolate)"
   ],
   "id": "f26d1da72fa844c7",
   "outputs": [
    {
     "name": "stdout",
     "output_type": "stream",
     "text": [
      "beets\n"
     ]
    },
    {
     "data": {
      "text/plain": [
       "<function __main__.cake.<locals>.pie()>"
      ]
     },
     "execution_count": 19,
     "metadata": {},
     "output_type": "execute_result"
    }
   ],
   "execution_count": 19
  },
  {
   "metadata": {
    "ExecuteTime": {
     "end_time": "2025-04-16T10:25:36.702521Z",
     "start_time": "2025-04-16T10:25:36.697601Z"
    }
   },
   "cell_type": "code",
   "source": [
    "def snake(x,y):\n",
    "    if cake == more_cake: # 检查是否是同一个对象\n",
    "        return chocolate\n",
    "    else:\n",
    "        return x+y\n",
    "# cake == more_cake 为 False ，因为每次调用cake()都会生成一个新的pie函数对象，Python函数对象不相同\n",
    "snake(10,20)\n",
    "# snake(10,20)()\n",
    "cake = 'cake' # 将变量cake从函数重新赋值为字符串\n",
    "snake(10,20)"
   ],
   "id": "ec5cd95a07f94d31",
   "outputs": [
    {
     "name": "stdout",
     "output_type": "stream",
     "text": [
      "30\n"
     ]
    }
   ],
   "execution_count": 25
  },
  {
   "metadata": {},
   "cell_type": "markdown",
   "source": "Q3: WWPD: Lambda",
   "id": "db974437166083ae"
  },
  {
   "metadata": {
    "ExecuteTime": {
     "end_time": "2025-04-16T10:30:16.084367Z",
     "start_time": "2025-04-16T10:30:16.078863Z"
    }
   },
   "cell_type": "code",
   "source": "lambda x : x",
   "id": "f9f251a756e4e7e",
   "outputs": [
    {
     "data": {
      "text/plain": [
       "<function __main__.<lambda>(x)>"
      ]
     },
     "execution_count": 27,
     "metadata": {},
     "output_type": "execute_result"
    }
   ],
   "execution_count": 27
  },
  {
   "metadata": {
    "ExecuteTime": {
     "end_time": "2025-04-16T10:30:28.383246Z",
     "start_time": "2025-04-16T10:30:28.378018Z"
    }
   },
   "cell_type": "code",
   "source": [
    "a = lambda x : x\n",
    "a(5)"
   ],
   "id": "ce8d8470392fe605",
   "outputs": [
    {
     "data": {
      "text/plain": [
       "5"
      ]
     },
     "execution_count": 28,
     "metadata": {},
     "output_type": "execute_result"
    }
   ],
   "execution_count": 28
  },
  {
   "metadata": {
    "ExecuteTime": {
     "end_time": "2025-04-16T10:30:55.717593Z",
     "start_time": "2025-04-16T10:30:55.713116Z"
    }
   },
   "cell_type": "code",
   "source": "(lambda: 3)()  # 将lambda表达式作为调用表达式中的运算符使用",
   "id": "aa142ddd70072481",
   "outputs": [
    {
     "data": {
      "text/plain": [
       "3"
      ]
     },
     "execution_count": 30,
     "metadata": {},
     "output_type": "execute_result"
    }
   ],
   "execution_count": 30
  },
  {
   "metadata": {
    "ExecuteTime": {
     "end_time": "2025-04-16T10:33:01.247029Z",
     "start_time": "2025-04-16T10:33:01.243547Z"
    }
   },
   "cell_type": "code",
   "source": [
    "b = lambda x, y : lambda : x+y\n",
    "c = b(8,4)\n",
    "print(c)\n",
    "print(c())"
   ],
   "id": "597f5ba67ebb931",
   "outputs": [
    {
     "name": "stdout",
     "output_type": "stream",
     "text": [
      "<function <lambda>.<locals>.<lambda> at 0x00000216F0382700>\n",
      "12\n"
     ]
    }
   ],
   "execution_count": 33
  },
  {
   "metadata": {
    "ExecuteTime": {
     "end_time": "2025-04-16T10:33:42.158866Z",
     "start_time": "2025-04-16T10:33:42.153571Z"
    }
   },
   "cell_type": "code",
   "source": [
    "d = lambda f:f(4)\n",
    "def square(x):\n",
    "    return x*x\n",
    "d(square)"
   ],
   "id": "91f49f0c0a152b4e",
   "outputs": [
    {
     "data": {
      "text/plain": [
       "16"
      ]
     },
     "execution_count": 34,
     "metadata": {},
     "output_type": "execute_result"
    }
   ],
   "execution_count": 34
  },
  {
   "metadata": {
    "ExecuteTime": {
     "end_time": "2025-04-16T10:37:24.002224Z",
     "start_time": "2025-04-16T10:37:23.997318Z"
    }
   },
   "cell_type": "code",
   "source": [
    "higher_order_lambda = lambda f:lambda x : f(x)\n",
    "g = lambda x : x*x\n",
    "higher_order_lambda(g)(2)"
   ],
   "id": "19d42fbdb93b236e",
   "outputs": [
    {
     "data": {
      "text/plain": [
       "4"
      ]
     },
     "execution_count": 36,
     "metadata": {},
     "output_type": "execute_result"
    }
   ],
   "execution_count": 36
  },
  {
   "metadata": {
    "ExecuteTime": {
     "end_time": "2025-04-16T11:04:55.532617Z",
     "start_time": "2025-04-16T11:04:55.525876Z"
    }
   },
   "cell_type": "code",
   "source": [
    "call_thrice = lambda f : lambda x:f(f(f(x)))\n",
    "call_thrice(lambda y:y+1)(0)"
   ],
   "id": "d6cf6c0d4ead0d47",
   "outputs": [
    {
     "data": {
      "text/plain": [
       "3"
      ]
     },
     "execution_count": 37,
     "metadata": {},
     "output_type": "execute_result"
    }
   ],
   "execution_count": 37
  },
  {
   "metadata": {
    "ExecuteTime": {
     "end_time": "2025-04-16T11:08:02.515926Z",
     "start_time": "2025-04-16T11:08:02.508361Z"
    }
   },
   "cell_type": "code",
   "source": [
    "print_lambda = lambda z : print(z)\n",
    "print_lambda\n",
    "\n",
    "one_thousand = print_lambda(1000)\n",
    "print(one_thousand) # print函数返回值是None"
   ],
   "id": "b7001d4f8b691282",
   "outputs": [
    {
     "name": "stdout",
     "output_type": "stream",
     "text": [
      "1000\n",
      "None\n"
     ]
    }
   ],
   "execution_count": 42
  },
  {
   "metadata": {},
   "cell_type": "markdown",
   "source": [
    "Q4: Composite Identity Function\n",
    "\n",
    "Write a function that takes in two single-argument functions, f and g, and returns another function that has a single parameter x. The returned function should return True if f(g(x)) is equal to g(f(x)) and False otherwise. You can assume the output of g(x) is a valid input for f and vice versa."
   ],
   "id": "57bd05d483a384f2"
  },
  {
   "metadata": {
    "ExecuteTime": {
     "end_time": "2025-04-16T11:11:08.747836Z",
     "start_time": "2025-04-16T11:11:08.725509Z"
    }
   },
   "cell_type": "code",
   "source": [
    "def composite_identity(f, g):\n",
    "    \"\"\"\n",
    "    Return a function with one parameter x that returns True if f(g(x)) is\n",
    "    equal to g(f(x)). You can assume the result of g(x) is a valid input for f\n",
    "    and vice versa.\n",
    "\n",
    "    >>> add_one = lambda x: x + 1        # adds one to x\n",
    "    >>> square = lambda x: x**2          # squares x [returns x^2]\n",
    "    >>> b1 = composite_identity(square, add_one)\n",
    "    >>> b1(0)                            # (0 + 1) ** 2 == 0 ** 2 + 1\n",
    "    True\n",
    "    >>> b1(4)                            # (4 + 1) ** 2 != 4 ** 2 + 1\n",
    "    False\n",
    "    \"\"\"\n",
    "    \"*** YOUR CODE HERE ***\"\n",
    "    def z(x):\n",
    "        if f(g(x)) == g(f(x)):\n",
    "            return True\n",
    "        else:\n",
    "            return False\n",
    "    return z\n",
    "add_one = lambda x: x + 1\n",
    "square = lambda x: x**2\n",
    "b1 = composite_identity(square, add_one)\n",
    "b1(0)\n",
    "b1(4)"
   ],
   "id": "913b35d4a8debf5d",
   "outputs": [
    {
     "data": {
      "text/plain": [
       "False"
      ]
     },
     "execution_count": 49,
     "metadata": {},
     "output_type": "execute_result"
    }
   ],
   "execution_count": 49
  },
  {
   "metadata": {},
   "cell_type": "markdown",
   "source": [
    "Q5: Count Cond\n",
    "\n",
    "Consider the following implementations of count_fives and count_primes which use the sum_digits and is_prime functions from earlier assignments:"
   ],
   "id": "79748dc694a2777a"
  },
  {
   "metadata": {
    "ExecuteTime": {
     "end_time": "2025-04-16T11:11:54.525151Z",
     "start_time": "2025-04-16T11:11:54.519109Z"
    }
   },
   "cell_type": "code",
   "source": [
    "def count_fives(n):\n",
    "    \"\"\"Return the number of values i from 1 to n (including n)\n",
    "    where sum_digits(n * i) is 5.\n",
    "\n",
    "    >>> count_fives(10)  # Among 10, 20, 30, ..., 100, only 50 (10 * 5) has digit sum 5\n",
    "    1\n",
    "    >>> count_fives(50)  # 50 (50 * 1), 500 (50 * 10), 1400 (50 * 28), 2300 (50 * 46)\n",
    "    4\n",
    "    \"\"\"\n",
    "    i = 1\n",
    "    count = 0\n",
    "    while i <= n:\n",
    "        if sum_digits(n * i) == 5:\n",
    "            count += 1\n",
    "        i += 1\n",
    "    return count\n",
    "\n",
    "def count_primes(n):\n",
    "    \"\"\"Return the number of prime numbers up to and including n.\n",
    "\n",
    "    >>> count_primes(6)   # 2, 3, 5\n",
    "    3\n",
    "    >>> count_primes(13)  # 2, 3, 5, 7, 11, 13\n",
    "    6\n",
    "    \"\"\"\n",
    "    i = 1\n",
    "    count = 0\n",
    "    while i <= n:\n",
    "        if is_prime(i):\n",
    "            count += 1\n",
    "        i += 1\n",
    "    return count"
   ],
   "id": "a9459450c12c29a8",
   "outputs": [],
   "execution_count": 54
  },
  {
   "metadata": {},
   "cell_type": "markdown",
   "source": [
    "The implementations look quite similar! Generalize this logic by writing a function count_cond, which takes in a two-argument predicate function condition(n, i). count_cond returns a one-argument function that takes in n, which counts all the numbers from 1 to n that satisfy condition when called.\n",
    "\n",
    "Note: When we say condition is a predicate function, we mean that it is a function that will return True or False."
   ],
   "id": "2debeaf70a720ab"
  },
  {
   "metadata": {
    "ExecuteTime": {
     "end_time": "2025-04-16T11:11:51.570747Z",
     "start_time": "2025-04-16T11:11:51.555211Z"
    }
   },
   "cell_type": "code",
   "source": [
    "def sum_digits(y):\n",
    "    \"\"\"Return the sum of the digits of non-negative integer y.\"\"\"\n",
    "    total = 0\n",
    "    while y > 0:\n",
    "        total, y = total + y % 10, y // 10\n",
    "    return total\n",
    "\n",
    "def is_prime(n):\n",
    "    \"\"\"Return whether positive integer n is prime.\"\"\"\n",
    "    if n == 1:\n",
    "        return False\n",
    "    k = 2\n",
    "    while k < n:\n",
    "        if n % k == 0:\n",
    "            return False\n",
    "        k += 1\n",
    "    return True\n",
    "\n",
    "def count_cond(condition):\n",
    "    \"\"\"Returns a function with one parameter N that counts all the numbers from\n",
    "    1 to N that satisfy the two-argument predicate function Condition, where\n",
    "    the first argument for Condition is N and the second argument is the\n",
    "    number from 1 to N.\n",
    "\n",
    "    >>> count_fives = count_cond(lambda n, i: sum_digits(n * i) == 5)\n",
    "    >>> count_fives(10)   # 50 (10 * 5)\n",
    "    1\n",
    "    >>> count_fives(50)   # 50 (50 * 1), 500 (50 * 10), 1400 (50 * 28), 2300 (50 * 46)\n",
    "    4\n",
    "\n",
    "    >>> is_i_prime = lambda n, i: is_prime(i) # need to pass 2-argument function into count_cond\n",
    "    >>> count_primes = count_cond(is_i_prime)\n",
    "    >>> count_primes(2)    # 2\n",
    "    1\n",
    "    >>> count_primes(3)    # 2, 3\n",
    "    2\n",
    "    >>> count_primes(4)    # 2, 3\n",
    "    2\n",
    "    >>> count_primes(5)    # 2, 3, 5\n",
    "    3\n",
    "    >>> count_primes(20)   # 2, 3, 5, 7, 11, 13, 17, 19\n",
    "    8\n",
    "    \"\"\"\n",
    "    \"*** YOUR CODE HERE ***\"\n",
    "    def counter(N):\n",
    "        count = 0\n",
    "        for i in range(1,N+1):\n",
    "            if condition(N,i):\n",
    "                count += 1\n",
    "        return count\n",
    "    return counter"
   ],
   "id": "52c8db4e7d6b8f9e",
   "outputs": [],
   "execution_count": 51
  }
 ],
 "metadata": {
  "kernelspec": {
   "display_name": "Python 3",
   "language": "python",
   "name": "python3"
  },
  "language_info": {
   "codemirror_mode": {
    "name": "ipython",
    "version": 2
   },
   "file_extension": ".py",
   "mimetype": "text/x-python",
   "name": "python",
   "nbconvert_exporter": "python",
   "pygments_lexer": "ipython2",
   "version": "2.7.6"
  }
 },
 "nbformat": 4,
 "nbformat_minor": 5
}
