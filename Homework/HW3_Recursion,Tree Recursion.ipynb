{
 "cells": [
  {
   "metadata": {
    "ExecuteTime": {
     "end_time": "2025-04-14T13:04:38.422771Z",
     "start_time": "2025-04-14T13:04:38.418524Z"
    }
   },
   "cell_type": "code",
   "source": [
    "from operator import add,mul\n",
    "identity = lambda x:x\n",
    "square = lambda x : x*x\n",
    "increment = lambda x : x+1\n",
    "triple = lambda x : x*3"
   ],
   "id": "b90c52343eb7a9af",
   "outputs": [],
   "execution_count": 12
  },
  {
   "metadata": {},
   "cell_type": "markdown",
   "source": [
    "Q1: Num Eights\n",
    "\n",
    "Write a recursive function num_eights that takes a positive integer n and returns the number of times the digit 8 appears in n.\n",
    "\n",
    "Important: Use recursion; the tests will fail if you use any assignment statements or loops. (You can define new functions, but don't put assignment statements there either.)"
   ],
   "id": "fa2d8b1eb64bf719"
  },
  {
   "cell_type": "code",
   "id": "initial_id",
   "metadata": {
    "collapsed": true,
    "ExecuteTime": {
     "end_time": "2025-04-14T12:35:30.074524Z",
     "start_time": "2025-04-14T12:35:30.061399Z"
    }
   },
   "source": [
    "def num_eights(n):\n",
    "    \"\"\"Returns the number of times 8 appears as a digit of n.\n",
    "\n",
    "    >>> num_eights(3)\n",
    "    0\n",
    "    >>> num_eights(8)\n",
    "    1\n",
    "    >>> num_eights(88888888)\n",
    "    8\n",
    "    >>> num_eights(2638)\n",
    "    1\n",
    "    >>> num_eights(86380)\n",
    "    2\n",
    "    >>> num_eights(12345)\n",
    "    0\n",
    "    >>> num_eights(8782089)\n",
    "    3\n",
    "    >>> from construct_check import check\n",
    "    >>> # ban all assignment statements\n",
    "    >>> check(HW_SOURCE_FILE, 'num_eights',\n",
    "    ...       ['Assign', 'AnnAssign', 'AugAssign', 'NamedExpr', 'For', 'While'])\n",
    "    True\n",
    "    \"\"\"\n",
    "    \"*** YOUR CODE HERE ***\"\n",
    "    if \"8\"  not in str(n):\n",
    "        return 0\n",
    "    else:\n",
    "        return 1 + num_eights(n//10)\n",
    "    # 以下是数学取余法，能避免字符串转换\n",
    "    # return (n%8==0) + num_eight(n//10) if n else 0\n",
    "print(num_eights(3))\n",
    "print(num_eights(8))\n",
    "print(num_eights(88888888))\n",
    "print(num_eights(2638))"
   ],
   "outputs": [
    {
     "name": "stdout",
     "output_type": "stream",
     "text": [
      "0\n",
      "1\n",
      "8\n",
      "1\n"
     ]
    }
   ],
   "execution_count": 3
  },
  {
   "metadata": {},
   "cell_type": "markdown",
   "source": [
    "Q2: Digit Distance\n",
    "\n",
    "For a given integer, the digit distance is the sum of the absolute differences between consecutive digits. For example:\n",
    "\n",
    "The digit distance of 61 is 5, as the absolute value of 6 - 1 is 5.\n",
    "The digit distance of 71253 is 12 (abs(7-1) + abs(1-2) + abs(2-5) + abs(5-3) = 6 + 1 + 3 + 2).\n",
    "The digit distance of 6 is 0 because there are no pairs of consecutive digits.\n",
    "Write a function that determines the digit distance of a positive integer. You must use recursion or the tests will fail."
   ],
   "id": "c7318fd195273458"
  },
  {
   "metadata": {
    "ExecuteTime": {
     "end_time": "2025-04-14T12:45:46.974540Z",
     "start_time": "2025-04-14T12:45:46.964889Z"
    }
   },
   "cell_type": "code",
   "source": [
    "def digit_distance(n):\n",
    "    \"\"\"Determines the digit distance of n.\n",
    "\n",
    "    >>> digit_distance(3)\n",
    "    0\n",
    "    >>> digit_distance(777) # 0 + 0\n",
    "    0\n",
    "    >>> digit_distance(314) # 2 + 3\n",
    "    5\n",
    "    >>> digit_distance(31415926535) # 2 + 3 + 3 + 4 + ... + 2\n",
    "    32\n",
    "    >>> digit_distance(3464660003)  # 1 + 2 + 2 + 2 + ... + 3\n",
    "    16\n",
    "    >>> from construct_check import check\n",
    "    >>> # ban all loops\n",
    "    >>> check(HW_SOURCE_FILE, 'digit_distance',\n",
    "    ...       ['For', 'While'])\n",
    "    True\n",
    "    \"\"\"\n",
    "    \"*** YOUR CODE HERE ***\"\n",
    "    if n // 10 == 0:\n",
    "        return 0\n",
    "    else:\n",
    "        return abs((n%10)-((n//10)%10)) + digit_distance(n//10)\n",
    "    # 从高位到低位递归（更直观）\n",
    "    # if n < 10:\n",
    "    #   return 0\n",
    "    # first_two = abs((n%10)-((n//10)%10))\n",
    "    # return first_two + digit_distance(n//10)\n",
    "print(digit_distance(3))\n",
    "print(digit_distance(777))\n",
    "print(digit_distance(314))\n",
    "print(digit_distance(31415926535))\n",
    "print(digit_distance(3464660003))"
   ],
   "id": "7596d41f88613ecb",
   "outputs": [
    {
     "name": "stdout",
     "output_type": "stream",
     "text": [
      "0\n",
      "0\n",
      "5\n",
      "32\n",
      "16\n"
     ]
    }
   ],
   "execution_count": 11
  },
  {
   "metadata": {},
   "cell_type": "markdown",
   "source": [
    "以314为例，第一次进入else，return abs(4-1) + dd(31)\n",
    "\n",
    "dd(31) return abs(1-3) + dd(3)\n",
    "\n",
    "dd(3) = 0"
   ],
   "id": "353b83cb3ce1377d"
  },
  {
   "metadata": {},
   "cell_type": "markdown",
   "source": [
    "Q3: Interleaved Sum\n",
    "\n",
    "Write a function interleaved_sum, which takes in a number n and two one-argument functions: odd_func and even_func. It returns the sum of applying odd_func to every odd number and even_func to every even number from 1 to n inclusive.\n",
    "\n",
    "For example, executing interleaved_sum(5, lambda x: x, lambda x: x * x) returns 1 + 2*2 + 3 + 4*4 + 5 = 29.\n",
    "\n",
    "Important: Implement this function without using any loops or directly testing if a number is odd or even (no using %). Instead of directly checking whether a number is even or odd, start with 1, which you know is an odd number.\n",
    "\n",
    "Hint: Introduce an inner helper function that takes an odd number k and computes an interleaved sum from k to n (including n). Alternatively, you can use mutual recursion."
   ],
   "id": "71ef0cebbce38cda"
  },
  {
   "metadata": {
    "ExecuteTime": {
     "end_time": "2025-04-14T13:13:04.160990Z",
     "start_time": "2025-04-14T13:13:04.137310Z"
    }
   },
   "cell_type": "code",
   "source": [
    "def interleaved_sum(n, odd_func, even_func):\n",
    "    \"\"\"Compute the sum odd_func(1) + even_func(2) + odd_func(3) + ..., up\n",
    "    to n.\n",
    "\n",
    "    >>> identity = lambda x: x\n",
    "    >>> square = lambda x: x * x\n",
    "    >>> triple = lambda x: x * 3\n",
    "    >>> interleaved_sum(5, identity, square) # 1   + 2*2 + 3   + 4*4 + 5\n",
    "    29\n",
    "    >>> interleaved_sum(5, square, identity) # 1*1 + 2   + 3*3 + 4   + 5*5\n",
    "    41\n",
    "    >>> interleaved_sum(4, triple, square)   # 1*3 + 2*2 + 3*3 + 4*4\n",
    "    32\n",
    "    >>> interleaved_sum(4, square, triple)   # 1*1 + 2*3 + 3*3 + 4*3\n",
    "    28\n",
    "    >>> from construct_check import check\n",
    "    >>> check(HW_SOURCE_FILE, 'interleaved_sum', ['While', 'For', 'Mod']) # ban loops and %\n",
    "    True\n",
    "    >>> check(HW_SOURCE_FILE, 'interleaved_sum', ['BitAnd', 'BitOr', 'BitXor']) # ban bitwise operators, don't worry about these if you don't know what they are\n",
    "    True\n",
    "    \"\"\"\n",
    "    \"*** YOUR CODE HERE ***\"\n",
    "    def helper(k,n,odd_func,even_func):\n",
    "        if k == n:\n",
    "            return odd_func(n)\n",
    "        elif k + 1 == n:\n",
    "            return odd_func(k)+even_func(n)\n",
    "        else:\n",
    "            return odd_func(k) + even_func(k+1) + helper(k+2,n,odd_func,even_func)\n",
    "    return helper(1,n,odd_func,even_func)\n",
    "print(interleaved_sum(5, identity, square))\n",
    "print(interleaved_sum(5, square, identity))\n",
    "print(interleaved_sum(4, triple, square))\n",
    "print(interleaved_sum(4, square, triple))"
   ],
   "id": "9f967ec9bbe5663a",
   "outputs": [
    {
     "name": "stdout",
     "output_type": "stream",
     "text": [
      "29\n",
      "41\n",
      "32\n",
      "28\n"
     ]
    }
   ],
   "execution_count": 23
  },
  {
   "metadata": {},
   "cell_type": "markdown",
   "source": [
    "以参数5为例，首先return of(1) + ef(2) + helper(3,5,of,ef)\n",
    "\n",
    "对于helper(3,5,of,ef)，return of(3) + ef(4) + helper(5,5,of,ef)\n",
    "\n",
    "以参数4为例，首先return of(1) + ef(2) + helper(3,4,of,ef)\n",
    "\n",
    "对于helper(3,4,of,ef), return ef(4)"
   ],
   "id": "19557599ebc5d1b7"
  },
  {
   "metadata": {},
   "cell_type": "markdown",
   "source": [
    "Q4: Count Dollars\n",
    "\n",
    "Given a positive integer total, a set of dollar bills makes change for total if the sum of the values of the dollar bills is total. Here we will use standard US dollar bill values: 1, 5, 10, 20, 50, and 100. For example, the following sets make change for 15:\n",
    "\n",
    "15 1-dollar bills\n",
    "10 1-dollar, 1 5-dollar bills\n",
    "5 1-dollar, 2 5-dollar bills\n",
    "5 1-dollar, 1 10-dollar bills\n",
    "3 5-dollar bills\n",
    "1 5-dollar, 1 10-dollar bills\n",
    "Thus, there are 6 ways to make change for 15. Write a recursive function count_dollars that takes a positive integer total and returns the number of ways to make change for total using 1, 5, 10, 20, 50, and 100 dollar bills.\n",
    "\n",
    "Use next_smaller_dollar in your solution: next_smaller_dollar will return the next smaller dollar bill value from the input (e.g. next_smaller_dollar(5) is 1). The function will return None if the next dollar bill value does not exist.\n",
    "\n",
    "Important: Use recursion; the tests will fail if you use loops.\n",
    "\n",
    "Hint: Refer to the implementation of count_partitions for an example of how to count the ways to sum up to a final value with smaller parts. If you need to keep track of more than one value across recursive calls, consider writing a helper function."
   ],
   "id": "50caa0f158cabe6b"
  },
  {
   "metadata": {
    "ExecuteTime": {
     "end_time": "2025-04-14T13:38:50.374005Z",
     "start_time": "2025-04-14T13:38:50.356705Z"
    }
   },
   "cell_type": "code",
   "source": [
    "def next_smaller_dollar(bill):\n",
    "    \"\"\"Returns the next smaller bill in order.\"\"\"\n",
    "    if bill == 100:\n",
    "        return 50\n",
    "    if bill == 50:\n",
    "        return 20\n",
    "    if bill == 20:\n",
    "        return 10\n",
    "    elif bill == 10:\n",
    "        return 5\n",
    "    elif bill == 5:\n",
    "        return 1\n",
    "\n",
    "def count_dollars(total):\n",
    "    \"\"\"Return the number of ways to make change.\n",
    "\n",
    "    >>> count_dollars(15)  # 15 $1 bills, 10 $1 & 1 $5 bills, ... 1 $5 & 1 $10 bills\n",
    "    6\n",
    "    >>> count_dollars(10)  # 10 $1 bills, 5 $1 & 1 $5 bills, 2 $5 bills, 10 $1 bills\n",
    "    4\n",
    "    >>> count_dollars(20)  # 20 $1 bills, 15 $1 & $5 bills, ... 1 $20 bill\n",
    "    10\n",
    "    >>> count_dollars(45)  # How many ways to make change for 45 dollars?\n",
    "    44\n",
    "    >>> count_dollars(100) # How many ways to make change for 100 dollars?\n",
    "    344\n",
    "    >>> count_dollars(200) # How many ways to make change for 200 dollars?\n",
    "    3274\n",
    "    >>> from construct_check import check\n",
    "    >>> # ban iteration\n",
    "    >>> check(HW_SOURCE_FILE, 'count_dollars', ['While', 'For'])\n",
    "    True\n",
    "    \"\"\"\n",
    "    \"*** YOUR CODE HERE ***\"\n",
    "    def helper(amount,bill):\n",
    "        if amount == 0: # 刚好凑齐，算一种方法\n",
    "            return 1\n",
    "        elif amount < 0 or bill is None: # 金额超了或者没有钞票可选，无效\n",
    "            return 0\n",
    "        # 情况1：不用当前面值的钞票，直接递归更小面值\n",
    "        without_bill = helper(amount,next_smaller_dollar(bill))\n",
    "        # 情况2：用当前面值的钞票，继续递归（可能继续用）\n",
    "        with_bill = helper(amount-bill,bill)\n",
    "        return without_bill + with_bill\n",
    "    # 从最大面值开始递归\n",
    "    return helper(total,100)\n",
    "print(count_dollars(15))"
   ],
   "id": "c92947035291b78",
   "outputs": [
    {
     "name": "stdout",
     "output_type": "stream",
     "text": [
      "6\n"
     ]
    }
   ],
   "execution_count": 28
  },
  {
   "metadata": {},
   "cell_type": "markdown",
   "source": [
    "Q5: Count Dollars Upward\n",
    "\n",
    "Write a recursive function count_dollars_upward that is just like count_dollars except it uses next_larger_dollar, which returns the next larger dollar bill value from the input (e.g. next_larger_dollar(5) is 10). The function will return None if the next dollar bill value does not exist.\n",
    "\n",
    "Important: Use recursion; the tests will fail if you use loops."
   ],
   "id": "fe39fb27b434e130"
  },
  {
   "metadata": {
    "ExecuteTime": {
     "end_time": "2025-04-14T13:37:42.181004Z",
     "start_time": "2025-04-14T13:37:42.164914Z"
    }
   },
   "cell_type": "code",
   "source": [
    "def next_larger_dollar(bill):\n",
    "    \"\"\"Returns the next larger bill in order.\"\"\"\n",
    "    if bill == 1:\n",
    "        return 5\n",
    "    elif bill == 5:\n",
    "        return 10\n",
    "    elif bill == 10:\n",
    "        return 20\n",
    "    elif bill == 20:\n",
    "        return 50\n",
    "    elif bill == 50:\n",
    "        return 100\n",
    "\n",
    "def count_dollars_upward(total):\n",
    "    \"\"\"Return the number of ways to make change using bills.\n",
    "\n",
    "    >>> count_dollars_upward(15)  # 15 $1 bills, 10 $1 & 1 $5 bills, ... 1 $5 & 1 $10 bills\n",
    "    6\n",
    "    >>> count_dollars_upward(10)  # 10 $1 bills, 5 $1 & 1 $5 bills, 2 $5 bills, 10 $1 bills\n",
    "    4\n",
    "    >>> count_dollars_upward(20)  # 20 $1 bills, 15 $1 & $5 bills, ... 1 $20 bill\n",
    "    10\n",
    "    >>> count_dollars_upward(45)  # How many ways to make change for 45 dollars?\n",
    "    44\n",
    "    >>> count_dollars_upward(100) # How many ways to make change for 100 dollars?\n",
    "    344\n",
    "    >>> count_dollars_upward(200) # How many ways to make change for 200 dollars?\n",
    "    3274\n",
    "    >>> from construct_check import check\n",
    "    >>> # ban iteration\n",
    "    >>> check(HW_SOURCE_FILE, 'count_dollars_upward', ['While', 'For'])\n",
    "    True\n",
    "    \"\"\"\n",
    "    \"*** YOUR CODE HERE ***\"\n",
    "    def helper(amount,bill):\n",
    "        if amount == 0: # 刚好凑齐，算一种方法\n",
    "            return 1\n",
    "        elif amount < 0 or bill is None: # 金额超了或者没有钞票可选，无效\n",
    "            return 0\n",
    "        # 情况1：不用当前面值的钞票，直接递归更小面值\n",
    "        without_bill = helper(amount,next_larger_dollar(bill))\n",
    "        # 情况2：用当前面值的钞票，继续递归（可能继续用）\n",
    "        with_bill = helper(amount-bill,bill)\n",
    "        return without_bill + with_bill\n",
    "    # 从最小面值开始递归\n",
    "    return helper(total,1)\n",
    "print(count_dollars_upward(15))"
   ],
   "id": "19e6767a27dbd93e",
   "outputs": [
    {
     "name": "stdout",
     "output_type": "stream",
     "text": [
      "6\n"
     ]
    }
   ],
   "execution_count": 26
  },
  {
   "metadata": {},
   "cell_type": "markdown",
   "source": [
    "Q6: Towers of Hanoi\n",
    "\n",
    "A classic puzzle called the Towers of Hanoi is a game that consists of three rods, and a number of disks of different sizes which can slide onto any rod. The puzzle starts with n disks in a neat stack in ascending order of size on a start rod, the smallest at the top, forming a conical shape.\n",
    "\n",
    "The objective of the puzzle is to move the entire stack to an end rod, obeying the following rules:\n",
    "- Only one disk may be moved at a time.\n",
    "- Each move consists of taking the top (smallest) disk from one of the rods and sliding it onto another rod, on top of the other disks that may already be present on that rod.\n",
    "- No disk may be placed on top of a smaller disk.\n",
    "\n",
    "Complete the definition of move_stack, which prints out the steps required to move n disks from the start rod to the end rod without violating the rules. The provided print_move function will print out the step to move a single disk from the given origin to the given destination.\n",
    "\n",
    "Hint: Draw out a few games with various n on a piece of paper and try to find a pattern of disk movements that applies to any n. In your solution, take the recursive leap of faith whenever you need to move any amount of disks less than n from one rod to another. If you need more help, see the following hints."
   ],
   "id": "fdcad5045dd826a5"
  },
  {
   "metadata": {
    "ExecuteTime": {
     "end_time": "2025-04-14T13:55:47.297950Z",
     "start_time": "2025-04-14T13:55:47.286075Z"
    }
   },
   "cell_type": "code",
   "source": [
    "def print_move(origin, destination):\n",
    "    \"\"\"Print instructions to move a disk.\"\"\"\n",
    "    print(\"Move the top disk from rod\", origin, \"to rod\", destination)\n",
    "\n",
    "def move_stack(n, start, end):\n",
    "    \"\"\"Print the moves required to move n disks on the start pole to the end\n",
    "    pole without violating the rules of Towers of Hanoi.\n",
    "\n",
    "    n -- number of disks\n",
    "    start -- a pole position, either 1, 2, or 3\n",
    "    end -- a pole position, either 1, 2, or 3\n",
    "\n",
    "    There are exactly three poles, and start and end must be different. Assume\n",
    "    that the start pole has at least n disks of increasing size, and the end\n",
    "    pole is either empty or has a top disk larger than the top n start disks.\n",
    "\n",
    "    >>> move_stack(1, 1, 3)\n",
    "    Move the top disk from rod 1 to rod 3\n",
    "    >>> move_stack(2, 1, 3)\n",
    "    Move the top disk from rod 1 to rod 2\n",
    "    Move the top disk from rod 1 to rod 3\n",
    "    Move the top disk from rod 2 to rod 3\n",
    "    >>> move_stack(3, 1, 3)\n",
    "    Move the top disk from rod 1 to rod 3\n",
    "    Move the top disk from rod 1 to rod 2\n",
    "    Move the top disk from rod 3 to rod 2\n",
    "    Move the top disk from rod 1 to rod 3\n",
    "    Move the top disk from rod 2 to rod 1\n",
    "    Move the top disk from rod 2 to rod 3\n",
    "    Move the top disk from rod 1 to rod 3\n",
    "    \"\"\"\n",
    "    assert 1 <= start <= 3 and 1 <= end <= 3 and start != end, \"Bad start/end\"\n",
    "    \"*** YOUR CODE HERE ***\"\n",
    "    if n == 1:\n",
    "        print_move(start,end)\n",
    "    else:\n",
    "        fuzhu = 6 - start - end # 计算辅助杆\n",
    "        move_stack(n-1,start,fuzhu) # 把n-1个盘子移到辅助杆\n",
    "        print_move(start,end) # 把最下面的盘子移到目标杆\n",
    "        move_stack(n-1,fuzhu,end)\n",
    "move_stack(3, 1, 3)"
   ],
   "id": "5709e8e57ba41cb8",
   "outputs": [
    {
     "name": "stdout",
     "output_type": "stream",
     "text": [
      "Move the top disk from rod 1 to rod 3\n",
      "Move the top disk from rod 1 to rod 2\n",
      "Move the top disk from rod 3 to rod 2\n",
      "Move the top disk from rod 1 to rod 3\n",
      "Move the top disk from rod 2 to rod 1\n",
      "Move the top disk from rod 2 to rod 3\n",
      "Move the top disk from rod 1 to rod 3\n"
     ]
    }
   ],
   "execution_count": 30
  },
  {
   "metadata": {},
   "cell_type": "markdown",
   "source": [
    "Q7: Anonymous Factorial 【匿名阶乘】\n",
    "\n",
    "This question demonstrates that it's possible to write recursive functions without assigning them a name in the global frame.\n",
    "\n",
    "The recursive factorial function can be written as a single expression by using a conditional expression.\n",
    "\n",
    "However, this implementation relies on the fact (no pun intended) that fact has a name, to which we refer in the body of fact. To write a recursive function, we have always given it a name using a def or assignment statement so that we can refer to the function within its own body. In this question, your job is to define fact recursively without giving it a name!\n",
    "\n",
    "Write an expression that computes n factorial using only call expressions, conditional expressions, and lambda expressions (no assignment or def statements).\n",
    "\n",
    "Note: You are not allowed to use make_anonymous_factorial in your return expression.\n",
    "\n",
    "The sub and mul functions from the operator module are the only built-in functions required to solve this problem."
   ],
   "id": "a8cfdcb47b67c5e9"
  },
  {
   "metadata": {
    "ExecuteTime": {
     "end_time": "2025-04-14T13:47:28.750724Z",
     "start_time": "2025-04-14T13:47:28.734823Z"
    }
   },
   "cell_type": "code",
   "source": [
    "from operator import sub, mul\n",
    "\n",
    "def make_anonymous_factorial():\n",
    "    \"\"\"Return the value of an expression that computes factorial.\n",
    "\n",
    "    >>> make_anonymous_factorial()(5)\n",
    "    120\n",
    "    >>> from construct_check import check\n",
    "    >>> # ban any assignments or recursion\n",
    "    >>> check(HW_SOURCE_FILE, 'make_anonymous_factorial',\n",
    "    ...     ['Assign', 'AnnAssign', 'AugAssign', 'NamedExpr', 'FunctionDef', 'Recursion'])\n",
    "    True\n",
    "    \"\"\"\n",
    "    return (lambda f: (lambda x: f(lambda y: x(x)(y)))(lambda x: f(lambda y: x(x)(y))))(lambda f: lambda n: 1 if n == 0 else mul(n, f(sub(n, 1))))\n",
    "\n",
    "make_anonymous_factorial()(5)"
   ],
   "id": "7d6f34975dcd046f",
   "outputs": [
    {
     "data": {
      "text/plain": [
       "120"
      ]
     },
     "execution_count": 29,
     "metadata": {},
     "output_type": "execute_result"
    }
   ],
   "execution_count": 29
  },
  {
   "metadata": {},
   "cell_type": "markdown",
   "source": [
    "由于不能使用递归或命名函数，必须借助​​高阶函数​​（如 `Y 组合子​​）实现匿名递归。\n",
    "Y 组合子的核心思想是：​​用函数参数传递自身​，避免显式递归。"
   ],
   "id": "6722326c352bb98b"
  }
 ],
 "metadata": {
  "kernelspec": {
   "display_name": "Python 3",
   "language": "python",
   "name": "python3"
  },
  "language_info": {
   "codemirror_mode": {
    "name": "ipython",
    "version": 2
   },
   "file_extension": ".py",
   "mimetype": "text/x-python",
   "name": "python",
   "nbconvert_exporter": "python",
   "pygments_lexer": "ipython2",
   "version": "2.7.6"
  }
 },
 "nbformat": 4,
 "nbformat_minor": 5
}
