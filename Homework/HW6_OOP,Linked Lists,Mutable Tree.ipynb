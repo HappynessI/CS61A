{
 "cells": [
  {
   "metadata": {},
   "cell_type": "markdown",
   "source": [
    "Q2: Vending Machine\n",
    "\n",
    "In this question you'll create a vending machine that sells a single product and provides change when needed.\n",
    "\n",
    "Implement the VendingMachine class, which models a vending machine for one specific product. The methods of a VendingMachine object return strings to describe the machine’s status and operations. Ensure that your output matches exactly with the strings provided in the doctests, including punctuation and spacing."
   ],
   "id": "6a6e96af53c2461b"
  },
  {
   "cell_type": "code",
   "execution_count": null,
   "id": "initial_id",
   "metadata": {
    "collapsed": true
   },
   "outputs": [],
   "source": [
    "class VendingMachine:\n",
    "    \"\"\"A vending machine that vends some product for some price.\n",
    "\n",
    "    >>> v = VendingMachine('candy', 10)\n",
    "    >>> v.vend()\n",
    "    'Nothing left to vend. Please restock.'\n",
    "    >>> v.add_funds(15)\n",
    "    'Nothing left to vend. Please restock. Here is your $15.'\n",
    "    >>> v.restock(2)\n",
    "    'Current candy stock: 2'\n",
    "    >>> v.vend()\n",
    "    'Please add $10 more funds.'\n",
    "    >>> v.add_funds(7)\n",
    "    'Current balance: $7'\n",
    "    >>> v.vend()\n",
    "    'Please add $3 more funds.'\n",
    "    >>> v.add_funds(5)\n",
    "    'Current balance: $12'\n",
    "    >>> v.vend()\n",
    "    'Here is your candy and $2 change.'\n",
    "    >>> v.add_funds(10)\n",
    "    'Current balance: $10'\n",
    "    >>> v.vend()\n",
    "    'Here is your candy.'\n",
    "    >>> v.add_funds(15)\n",
    "    'Nothing left to vend. Please restock. Here is your $15.'\n",
    "\n",
    "    >>> w = VendingMachine('soda', 2)\n",
    "    >>> w.restock(3)\n",
    "    'Current soda stock: 3'\n",
    "    >>> w.restock(3)\n",
    "    'Current soda stock: 6'\n",
    "    >>> w.add_funds(2)\n",
    "    'Current balance: $2'\n",
    "    >>> w.vend()\n",
    "    'Here is your soda.'\n",
    "    \"\"\"\n",
    "    def __init__(self, product, price):\n",
    "        \"\"\"Set the product and its price, as well as other instance attributes.\"\"\"\n",
    "        \"*** YOUR CODE HERE ***\"\n",
    "        self.product = product\n",
    "        self.price = price\n",
    "        self.stock = 0\n",
    "        self.balance = 0\n",
    "\n",
    "    def restock(self, n):\n",
    "        \"\"\"Add n to the stock and return a message about the updated stock level.\n",
    "\n",
    "        E.g., Current candy stock: 3\n",
    "        \"\"\"\n",
    "        \"*** YOUR CODE HERE ***\"\n",
    "        self.stock += n\n",
    "        return f\"Current {self.product} stock: {self.stock}\"\n",
    "\n",
    "    def add_funds(self, n):\n",
    "        \"\"\"If the machine is out of stock, return a message informing the user to restock\n",
    "        (and return their n dollars).\n",
    "\n",
    "        E.g., Nothing left to vend. Please restock. Here is your $4.\n",
    "\n",
    "        Otherwise, add n to the balance and return a message about the updated balance.\n",
    "\n",
    "        E.g., Current balance: $4\n",
    "        \"\"\"\n",
    "        \"*** YOUR CODE HERE ***\"\n",
    "        if self.stock == 0:\n",
    "            return f\"Nothing left to vend. Please restock. Here is your ${n}.\"\n",
    "        else:\n",
    "            self.balance += n\n",
    "            return f\"Current balance: ${self.balance}\"\n",
    "\n",
    "    def vend(self):\n",
    "        \"\"\"Dispense the product if there is sufficient stock and funds and\n",
    "        return a message. Update the stock and balance accordingly.\n",
    "\n",
    "        E.g., Here is your candy and $2 change.\n",
    "\n",
    "        If not, return a message suggesting how to correct the problem.\n",
    "\n",
    "        E.g., Nothing left to vend. Please restock.\n",
    "              Please add $3 more funds.\n",
    "        \"\"\"\n",
    "        \"*** YOUR CODE HERE ***\"\n",
    "        if self.stock == 0:\n",
    "            return \"Nothing left to vend. Please restock.\"\n",
    "        elif self.balance < self.price:\n",
    "            return f\"Please add ${self.price-self.balance} more funds.\"\n",
    "        else:\n",
    "            self.stock -= 1\n",
    "            change = self.balance - self.price\n",
    "            self.balance = 0\n",
    "            return f\"Here is your {self.product} and ${change} change.\""
   ]
  },
  {
   "metadata": {},
   "cell_type": "markdown",
   "source": [
    "【注意】：写的时候存在一个个BUG：\n",
    "- 1.vend方法中没有将余额重置"
   ],
   "id": "a5cd8a567ec9738"
  },
  {
   "metadata": {},
   "cell_type": "markdown",
   "source": [
    "Q3: Store Digits\n",
    "\n",
    "Write a function store_digits that takes in an integer n and returns a linked list containing the digits of n in the same order (from left to right)."
   ],
   "id": "f7e57dc696e3d6cc"
  },
  {
   "metadata": {
    "ExecuteTime": {
     "end_time": "2025-04-23T05:37:50.432808Z",
     "start_time": "2025-04-23T05:37:50.415453Z"
    }
   },
   "cell_type": "code",
   "source": [
    "class Link:\n",
    "    # 类属性：表示空链表的哨兵值\n",
    "    empty = None\n",
    "\n",
    "    def __init__(self,first,rest=None):\n",
    "        self.first =first\n",
    "        self.rest = rest\n",
    "    def __repr__(self):\n",
    "        if self.rest is None:\n",
    "            return f\"Link({self.first})\"\n",
    "        else:\n",
    "            return f\"Link({self.first},{self.rest})\"\n",
    "    def print_link(self):\n",
    "        def helper(link):\n",
    "            if isinstance(link.first,Link): # 处理嵌套Link\n",
    "                return f\"<{helper(link.first)}>\" + (f\"{helper(link.rest)}\" if link.rest else \"\")\n",
    "            elif link.rest is None:\n",
    "                return f\"{link.first}\"\n",
    "            else:\n",
    "                return f\"{link.first}\" + (f\"{helper(link.rest)}\" if link.rest else \"\")\n",
    "        return f\"<{helper(self)}>\""
   ],
   "id": "9f67186fcd701a0f",
   "outputs": [],
   "execution_count": 1
  },
  {
   "metadata": {
    "ExecuteTime": {
     "end_time": "2025-04-22T10:27:40.315795Z",
     "start_time": "2025-04-22T10:27:40.303913Z"
    }
   },
   "cell_type": "code",
   "source": [
    "def store_digits(n):\n",
    "    \"\"\"Stores the digits of a positive number n in a linked list.\n",
    "\n",
    "    >>> s = store_digits(1)\n",
    "    >>> s\n",
    "    Link(1)\n",
    "    >>> store_digits(2345)\n",
    "    Link(2, Link(3, Link(4, Link(5))))\n",
    "    >>> store_digits(876)\n",
    "    Link(8, Link(7, Link(6)))\n",
    "    >>> store_digits(2450)\n",
    "    Link(2, Link(4, Link(5, Link(0))))\n",
    "    >>> store_digits(20105)\n",
    "    Link(2, Link(0, Link(1, Link(0, Link(5)))))\n",
    "    >>> # a check for restricted functions\n",
    "    >>> import inspect, re\n",
    "    >>> cleaned = re.sub(r\"#.*\\\\n\", '', re.sub(r'\"{3}[\\s\\S]*?\"{3}', '', inspect.getsource(store_digits)))\n",
    "    >>> print(\"Do not use str or reversed!\") if any([r in cleaned for r in [\"str\", \"reversed\"]]) else None\n",
    "    \"\"\"\n",
    "    \"*** YOUR CODE HERE ***\"\n",
    "    if n == 0:\n",
    "        return Link(0)\n",
    "\n",
    "    digits = []\n",
    "    while n > 0:\n",
    "        digits.append(n%10)\n",
    "        n //= 10\n",
    "\n",
    "    head = Link(digits[-1])\n",
    "    current = head\n",
    "    for digit in reversed(digits[:-1]):\n",
    "        current.rest = Link(digit)\n",
    "        current = current.rest\n",
    "    return head\n",
    "store_digits(2345)"
   ],
   "id": "e469d3af7f4c2064",
   "outputs": [
    {
     "data": {
      "text/plain": [
       "Link(2,Link(3,Link(4,Link(5))))"
      ]
     },
     "execution_count": 2,
     "metadata": {},
     "output_type": "execute_result"
    }
   ],
   "execution_count": 2
  },
  {
   "metadata": {},
   "cell_type": "markdown",
   "source": "但是这段代码使用了reverse函数",
   "id": "fa0082c3dd743efe"
  },
  {
   "metadata": {
    "ExecuteTime": {
     "end_time": "2025-04-22T10:28:12.447106Z",
     "start_time": "2025-04-22T10:28:12.425036Z"
    }
   },
   "cell_type": "code",
   "source": [
    "def store_digits(n):\n",
    "    \"\"\"Stores the digits of a positive number n in a linked list.\"\"\"\n",
    "    if n == 0:\n",
    "        return Link(0)\n",
    "\n",
    "    digits = []\n",
    "    while n > 0:\n",
    "        digits.append(n%10)\n",
    "        n //= 10\n",
    "\n",
    "    head = Link(digits[-1])\n",
    "    current = head\n",
    "    for digit in digits[-2::-1]:\n",
    "        current.rest = Link(digit)\n",
    "        current = current.rest\n",
    "    return head\n",
    "store_digits(2345)"
   ],
   "id": "6af91c7c2a224a8b",
   "outputs": [
    {
     "data": {
      "text/plain": [
       "Link(2,Link(3,Link(4,Link(5))))"
      ]
     },
     "execution_count": 3,
     "metadata": {},
     "output_type": "execute_result"
    }
   ],
   "execution_count": 3
  },
  {
   "metadata": {},
   "cell_type": "markdown",
   "source": [
    "Q4: Mutable Mapping\n",
    "\n",
    "Implement deep_map_mut(func, s), which applies the function func to each element in the linked list s. If an element is itself a linked list, recursively apply func to its elements as well.\n",
    "\n",
    "Your implementation should mutate the original linked list. Do not create any new linked lists. The function returns None."
   ],
   "id": "c2e4a98a319a4d10"
  },
  {
   "metadata": {
    "ExecuteTime": {
     "end_time": "2025-04-23T05:52:33.516727Z",
     "start_time": "2025-04-23T05:52:33.486650Z"
    }
   },
   "cell_type": "code",
   "source": [
    "def deep_map_mut(func, s):\n",
    "    \"\"\"Mutates a deep link s by replacing each item found with the\n",
    "    result of calling func on the item. Does NOT create new Links (so\n",
    "    no use of Link's constructor).\n",
    "\n",
    "    Does not return the modified Link object.\n",
    "\n",
    "    >>> link1 = Link(3, Link(Link(4), Link(5, Link(6))))\n",
    "    >>> print(link1)\n",
    "    <3 <4> 5 6>\n",
    "    >>> # Disallow the use of making new Links before calling deep_map_mut\n",
    "    >>> Link.__init__, hold = lambda *args: print(\"Do not create any new Links.\"), Link.__init__\n",
    "    >>> try:\n",
    "    ...     deep_map_mut(lambda x: x * x, link1)\n",
    "    ... finally:\n",
    "    ...     Link.__init__ = hold\n",
    "    >>> print(link1)\n",
    "    <9 <16> 25 36>\n",
    "    \"\"\"\n",
    "    \"*** YOUR CODE HERE ***\"\n",
    "    if s is Link.empty:\n",
    "        return\n",
    "\n",
    "    if isinstance(s.first,Link):\n",
    "        deep_map_mut(func, s.first) # 递归处理嵌套Link\n",
    "    else:\n",
    "        s.first = func(s.first)\n",
    "\n",
    "    deep_map_mut(func, s.rest)\n",
    "\n",
    "link1 = Link(3, Link(Link(4), Link(5, Link(6))))\n",
    "link1.print_link()"
   ],
   "id": "697e89a22164b14f",
   "outputs": [
    {
     "data": {
      "text/plain": [
       "'<3<4>56>'"
      ]
     },
     "execution_count": 2,
     "metadata": {},
     "output_type": "execute_result"
    }
   ],
   "execution_count": 2
  },
  {
   "metadata": {},
   "cell_type": "markdown",
   "source": [
    "【一开始的问题】：\n",
    "\n",
    "    current = s.head\n",
    "    copy = current\n",
    "    while current.rest is not None:\n",
    "        current = func(current)\n",
    "        current = current.rest\n",
    "\n",
    "我如果把current变成了func(current)，那我如果把指针指向下一位，即current = current.rest这个操作，岂不是覆盖了current=func(current)的操作吗\n",
    "\n",
    "【正确的思路】：\n",
    "- 1.核心需求：原地修改，不创建新的节点；如果节点的first是一个Link对象，则需要递归处理\n",
    "- 2.关键步骤：（1）遍历链表；（2）修改当前节点；（3）移动到下一个节点"
   ],
   "id": "fc7da38a6de2bb76"
  },
  {
   "metadata": {},
   "cell_type": "markdown",
   "source": [
    "Mutable Trees\n",
    "\n",
    "A Tree instance has two instance attributes:\n",
    "\n",
    "label is the value stored at the root of the tree.\n",
    "branches is a list of Tree instances that hold the labels in the rest of the tree.\n",
    "The Tree class (with its \\_\\_repr__ and \\_\\_str__ methods omitted) is defined as:"
   ],
   "id": "2cd18a3a5ccb75d3"
  },
  {
   "metadata": {
    "ExecuteTime": {
     "end_time": "2025-04-23T06:27:31.015825Z",
     "start_time": "2025-04-23T06:27:31.001150Z"
    }
   },
   "cell_type": "code",
   "source": [
    "class Tree:\n",
    "    \"\"\"A tree has a label and a list of branches.\n",
    "\n",
    "    >>> t = Tree(3, [Tree(2, [Tree(5)]), Tree(4)])\n",
    "    >>> t.label\n",
    "    3\n",
    "    >>> t.branches[0].label\n",
    "    2\n",
    "    >>> t.branches[1].is_leaf()\n",
    "    True\n",
    "    \"\"\"\n",
    "    def __init__(self, label, branches=[]):\n",
    "        self.label = label\n",
    "        for branch in branches:\n",
    "            assert isinstance(branch, Tree)\n",
    "        self.branches = list(branches)\n",
    "\n",
    "    def is_leaf(self):\n",
    "        return not self.branches\n",
    "\n",
    "    def __repr__(self):\n",
    "        if self.is_leaf():\n",
    "            return f\"Tree({self.label})\"\n",
    "        else:\n",
    "            return f\"Tree({self.label}, {self.branches})\"\n",
    "t = Tree(3, [Tree(2)])\n",
    "type(t.branches)"
   ],
   "id": "490ab0a3ea2411",
   "outputs": [
    {
     "data": {
      "text/plain": [
       "list"
      ]
     },
     "execution_count": 21,
     "metadata": {},
     "output_type": "execute_result"
    }
   ],
   "execution_count": 21
  },
  {
   "metadata": {},
   "cell_type": "markdown",
   "source": [
    "【第一眼遇到的问题】：在构造函数中，branches=[]，为什么self.branches = list(branches)\n",
    "\n",
    "在Python中，函数的默认参数（如branches=[]）有一个关键特性：**默认参数在函数定义时就被创建，并且指向同一个对象**，如果直接赋值self.branches = branches，则会导致如下问题："
   ],
   "id": "bf2d484a099dbd8a"
  },
  {
   "metadata": {
    "ExecuteTime": {
     "end_time": "2025-04-23T06:02:36.909577Z",
     "start_time": "2025-04-23T06:02:36.897416Z"
    }
   },
   "cell_type": "code",
   "source": [
    "class TreeTest:\n",
    "    def __init__(self, label,branches=[]):\n",
    "        self.label = label\n",
    "        self.branches = branches # 共享默认列表\n",
    "\n",
    "# 对于所有未显示传递branches的Tree实例会共享同一个默认列表\n",
    "t1 = TreeTest(1)\n",
    "t2 = TreeTest(2)\n",
    "t1.branches.append(TreeTest(3))\n",
    "print(t2.branches)"
   ],
   "id": "859a2f2c34fa834b",
   "outputs": [
    {
     "name": "stdout",
     "output_type": "stream",
     "text": [
      "[<__main__.TreeTest object at 0x0000025BEDF6F7C0>]\n"
     ]
    }
   ],
   "execution_count": 15
  },
  {
   "metadata": {},
   "cell_type": "markdown",
   "source": [
    "Q5: Prune Small\n",
    "\n",
    "Removing some nodes from a tree is called pruning the tree.\n",
    "\n",
    "Complete the function prune_small that takes in a Tree t and a number n. For each node with more than n branches, keep only the n branches with the smallest labels and remove (prune) the rest.\n",
    "\n",
    "Hint: The max function takes in an iterable as well as an optional key argument (which takes in a one-argument function). For example, max([-7, 2, -1], key=abs) would return -7 since abs(-7) is greater than abs(2) and abs(-1)."
   ],
   "id": "15c4692c4b31143f"
  },
  {
   "metadata": {
    "ExecuteTime": {
     "end_time": "2025-04-23T06:27:50.401960Z",
     "start_time": "2025-04-23T06:27:50.386311Z"
    }
   },
   "cell_type": "code",
   "source": [
    "def prune_small(t, n):\n",
    "    \"\"\"Prune the tree mutatively, keeping only the n branches\n",
    "    of each node with the smallest labels.\n",
    "\n",
    "    >>> t1 = Tree(6)\n",
    "    >>> prune_small(t1, 2)\n",
    "    >>> t1\n",
    "    Tree(6)\n",
    "    >>> t2 = Tree(6, [Tree(3), Tree(4)])\n",
    "    >>> prune_small(t2, 1)\n",
    "    >>> t2\n",
    "    Tree(6, [Tree(3)])\n",
    "    >>> t3 = Tree(6, [Tree(1), Tree(3, [Tree(1), Tree(2), Tree(3)]), Tree(5, [Tree(3), Tree(4)])])\n",
    "    >>> prune_small(t3, 2)\n",
    "    >>> t3\n",
    "    Tree(6, [Tree(1), Tree(3, [Tree(1), Tree(2)])])\n",
    "    \"\"\"\n",
    "    while len(t.branches)>n:\n",
    "        largest = max(t.branches, key=lambda b:b.label) # 注意t.branches得到的是Tree对象的列表\n",
    "        t.branches.remove(largest)\n",
    "    for b in t.branches:\n",
    "        prune_small(b,n)\n",
    "t2 = Tree(6, [Tree(3), Tree(4)])\n",
    "prune_small(t2, 1)\n",
    "t2.__repr__()\n",
    "t3 = Tree(6, [Tree(1), Tree(3, [Tree(1), Tree(2), Tree(3)]), Tree(5, [Tree(3), Tree(4)])])\n",
    "prune_small(t3, 2)\n",
    "t3.__repr__()"
   ],
   "id": "97e21277b8f68b13",
   "outputs": [
    {
     "data": {
      "text/plain": [
       "'Tree(6, [Tree(1), Tree(3, [Tree(1), Tree(2)])])'"
      ]
     },
     "execution_count": 23,
     "metadata": {},
     "output_type": "execute_result"
    }
   ],
   "execution_count": 23
  },
  {
   "metadata": {},
   "cell_type": "markdown",
   "source": [
    "Q6: Delete\n",
    "\n",
    "Implement delete, which takes a Tree t and removes all non-root nodes labeled x. The parent of each remaining node is its nearest ancestor that was not removed. The root node is never removed, even if its label is x."
   ],
   "id": "a32ee2603b03b297"
  },
  {
   "metadata": {},
   "cell_type": "code",
   "outputs": [],
   "execution_count": null,
   "source": [
    "def delete(t, x):\n",
    "    \"\"\"Remove all nodes labeled x below the root within Tree t. When a non-leaf\n",
    "    node is deleted, the deleted node's children become children of its parent.\n",
    "\n",
    "    The root node will never be removed.\n",
    "\n",
    "    >>> t = Tree(3, [Tree(2, [Tree(2), Tree(2)]), Tree(2), Tree(2, [Tree(2, [Tree(2), Tree(2)])])])\n",
    "    >>> delete(t, 2)\n",
    "    >>> t\n",
    "    Tree(3)\n",
    "    >>> t = Tree(1, [Tree(2, [Tree(4, [Tree(2)]), Tree(5)]), Tree(3, [Tree(6), Tree(2)]), Tree(4)])\n",
    "    >>> delete(t, 2)\n",
    "    >>> t\n",
    "    Tree(1, [Tree(4), Tree(5), Tree(3, [Tree(6)]), Tree(4)])\n",
    "    >>> t = Tree(1, [Tree(2, [Tree(4), Tree(5)]), Tree(3, [Tree(6), Tree(2)]), Tree(2, [Tree(6),  Tree(2), Tree(7), Tree(8)]), Tree(4)])\n",
    "    >>> delete(t, 2)\n",
    "    >>> t\n",
    "    Tree(1, [Tree(4), Tree(5), Tree(3, [Tree(6)]), Tree(6), Tree(7), Tree(8), Tree(4)])\n",
    "    \"\"\"\n",
    "    new_branches = []\n",
    "    for b in t.branches:\n",
    "        if b.label == x:\n",
    "            new_branches.extend(b.branches) # 将被删除节点的子节点提升到父节点\n",
    "        else:\n",
    "            delete(b,x) # 递归处理子节点\n",
    "            new_branches.append(b) # 保留当前节点\n",
    "    t.branches = new_branches"
   ],
   "id": "1e186d05d2080c54"
  },
  {
   "metadata": {},
   "cell_type": "markdown",
   "source": "【这个问题的核心】：列表方法extend，用于合并另一个可迭代对象到当前列表，用于实现这个问题中的删除节点的子节点提升到父节点",
   "id": "3d5f77a537364ea2"
  }
 ],
 "metadata": {
  "kernelspec": {
   "display_name": "Python 3",
   "language": "python",
   "name": "python3"
  },
  "language_info": {
   "codemirror_mode": {
    "name": "ipython",
    "version": 2
   },
   "file_extension": ".py",
   "mimetype": "text/x-python",
   "name": "python",
   "nbconvert_exporter": "python",
   "pygments_lexer": "ipython2",
   "version": "2.7.6"
  }
 },
 "nbformat": 4,
 "nbformat_minor": 5
}
