{
 "cells": [
  {
   "metadata": {},
   "cell_type": "markdown",
   "source": [
    "Q1: Shuffle\n",
    "\n",
    "Implement shuffle, which takes a sequence s (such as a list or range) with an even number of elements. It returns a new list that interleaves the elements of the first half of s with the elements of the second half. It does not modify s.\n",
    "\n",
    "To interleave two sequences s0 and s1 is to create a new list containing the first element of s0, the first element of s1, the second element of s0, the second element of s1, and so on. For example, if s = [1, 2, 3, 4, 5, 6] then s0 = [1, 2, 3] and s1 = [4, 5, 6], and interleaving s0 and s1 would result in [1, 4, 2, 5, 3, 6]."
   ],
   "id": "3c015385bb405cdf"
  },
  {
   "cell_type": "code",
   "id": "initial_id",
   "metadata": {
    "collapsed": true,
    "ExecuteTime": {
     "end_time": "2025-04-15T02:35:44.832016Z",
     "start_time": "2025-04-15T02:35:44.825061Z"
    }
   },
   "source": [
    "def shuffle(s):\n",
    "    \"\"\"Return a shuffled list that interleaves the two halves of s.\n",
    "\n",
    "    >>> shuffle(range(6))\n",
    "    [0, 3, 1, 4, 2, 5]\n",
    "    >>> letters = ['a', 'b', 'c', 'd', 'e', 'f', 'g', 'h']\n",
    "    >>> shuffle(letters)\n",
    "    ['a', 'e', 'b', 'f', 'c', 'g', 'd', 'h']\n",
    "    >>> shuffle(shuffle(letters))\n",
    "    ['a', 'c', 'e', 'g', 'b', 'd', 'f', 'h']\n",
    "    >>> letters  # Original list should not be modified\n",
    "    ['a', 'b', 'c', 'd', 'e', 'f', 'g', 'h']\n",
    "    \"\"\"\n",
    "    assert len(s) % 2 == 0, 'len(seq) must be even'\n",
    "    \"*** YOUR CODE HERE ***\"\n",
    "    result = []\n",
    "    s1 = s[:len(s)//2]\n",
    "    s2 = s[len(s)//2:]\n",
    "    for i in range(len(s)//2):\n",
    "        result.append(s1[i])\n",
    "        result.append(s2[i])\n",
    "\n",
    "    return result\n",
    "\n",
    "print(shuffle(range(6)))\n",
    "letters = ['a', 'b', 'c', 'd', 'e', 'f', 'g', 'h']\n",
    "print(shuffle(letters))"
   ],
   "outputs": [
    {
     "name": "stdout",
     "output_type": "stream",
     "text": [
      "[0, 3, 1, 4, 2, 5]\n",
      "['a', 'e', 'b', 'f', 'c', 'g', 'd', 'h']\n"
     ]
    }
   ],
   "execution_count": 3
  },
  {
   "metadata": {},
   "cell_type": "markdown",
   "source": [
    "Q2: Deep Map\n",
    "\n",
    "Definition: A nested list of numbers is a list that contains numbers and lists. It may contain only numbers, only lists, or a mixture of both. The lists must also be nested lists of numbers. For example: [1, [2, [3]], 4], [1, 2, 3], and [[1, 2], [3, 4]] are all nested lists of numbers.\n",
    "\n",
    "Write a function deep_map that takes two arguments: a nested list of numbers s and a one-argument function f. It modifies s in place by replacing each number in s with the result of calling f on that number.\n",
    "\n",
    "编写一个名为deep_map的函数，该函数接收两个参数：一个数字嵌套列表s和一个单参数函数f。该函数会就地修改s，将s中的每个数字替换为对该数字调用f的结果。\n",
    "\n",
    "Important:: deep_map returns None and should not create any new lists.\n",
    "\n",
    "Hint: type(a) == list will evaluate to True if a is a list."
   ],
   "id": "9ae855d5c1201cac"
  },
  {
   "metadata": {
    "ExecuteTime": {
     "end_time": "2025-04-15T02:53:01.128988Z",
     "start_time": "2025-04-15T02:53:01.125226Z"
    }
   },
   "cell_type": "code",
   "source": [
    "def deep_map(f, s):\n",
    "    \"\"\"Replace all non-list elements x with f(x) in the nested list s.\n",
    "\n",
    "    >>> six = [1, 2, [3, [4], 5], 6]\n",
    "    >>> deep_map(lambda x: x * x, six)\n",
    "    >>> six\n",
    "    [1, 4, [9, [16], 25], 36]\n",
    "    >>> # Check that you're not making new lists\n",
    "    >>> s = [3, [1, [4, [1]]]]\n",
    "    >>> s1 = s[1]\n",
    "    >>> s2 = s1[1]\n",
    "    >>> s3 = s2[1]\n",
    "    >>> deep_map(lambda x: x + 1, s)\n",
    "    >>> s\n",
    "    [4, [2, [5, [2]]]]\n",
    "    >>> s1 is s[1]\n",
    "    True\n",
    "    >>> s2 is s1[1]\n",
    "    True\n",
    "    >>> s3 is s2[1]\n",
    "    True\n",
    "    \"\"\"\n",
    "    \"*** YOUR CODE HERE ***\"\n",
    "    for i in range(len(s)):\n",
    "        if type(s[i]) is list:\n",
    "            deep_map(f,s[i])\n",
    "        else:\n",
    "            s[i] = f(s[i])\n",
    "\n",
    "# s = [1, [2, [3, 4]], 5]\n",
    "# print(len(s)) 3\n",
    "\n",
    "six = [1, 2, [3, [4], 5], 6]\n",
    "deep_map(lambda x: x * x, six)\n",
    "print(six)"
   ],
   "id": "7836971d818caabc",
   "outputs": [
    {
     "name": "stdout",
     "output_type": "stream",
     "text": [
      "[1, 4, [9, [16], 25], 36]\n"
     ]
    }
   ],
   "execution_count": 6
  },
  {
   "metadata": {},
   "cell_type": "markdown",
   "source": [
    "Data Abstraction\n",
    "\n",
    "Mobiles\n",
    "This problem is based on one from Structure and Interpretation of Computer Programs Section 2.2.2.\n",
    "\n",
    "We are making a planetarium mobile. A mobile is a type of hanging sculpture. A binary mobile consists of two arms. Each arm is a rod of a certain length, from which hangs either a planet or another mobile. For example, the below diagram shows the left and right arms of Mobile A, and what hangs at the ends of each of those arms.\n",
    "\n",
    "We will represent a binary mobile using the data abstractions below.\n",
    "- A mobile must have both a left arm and a right arm.\n",
    "- An arm has a positive length and must have something hanging at the end, either a mobile or planet.\n",
    "- A planet has a positive mass, and nothing hanging from it.\n",
    "\n",
    "Below are the various constructors and selectors for the mobile and arm data abstraction. They have already been implemented for you, though the code is not shown here. As with any data abstraction, you should focus on what the function does rather than its specific implementation. You are free to use any of their constructor and selector functions in the Mobiles coding exercises.\n",
    "\n",
    "Mobile Data Abstraction (for your reference, no need to do anything here):"
   ],
   "id": "323949865191b975"
  },
  {
   "metadata": {
    "ExecuteTime": {
     "end_time": "2025-04-15T03:37:57.256737Z",
     "start_time": "2025-04-15T03:37:57.248713Z"
    }
   },
   "cell_type": "code",
   "source": [
    "def mobile(left, right):\n",
    "    \"\"\"\n",
    "    Construct a mobile from a left arm and a right arm.\n",
    "\n",
    "    Arguments:\n",
    "        left: An arm representing the left arm of the mobile.\n",
    "        right: An arm representing the right arm of the mobile.\n",
    "\n",
    "    Returns:\n",
    "        A mobile constructed from the left and right arms.\n",
    "    \"\"\"\n",
    "    pass\n",
    "\n",
    "def is_mobile(m):\n",
    "    \"\"\"\n",
    "    Return whether m is a mobile.\n",
    "\n",
    "    Arguments:\n",
    "        m: An object to be checked.\n",
    "\n",
    "    Returns:\n",
    "        True if m is a mobile, False otherwise.\n",
    "    \"\"\"\n",
    "    pass\n",
    "\n",
    "def left(m):\n",
    "    \"\"\"\n",
    "    Select the left arm of a mobile.\n",
    "\n",
    "    Arguments:\n",
    "        m: A mobile.\n",
    "\n",
    "    Returns:\n",
    "        The left arm of the mobile.\n",
    "    \"\"\"\n",
    "    pass\n",
    "\n",
    "def right(m):\n",
    "    \"\"\"\n",
    "    Select the right arm of a mobile.\n",
    "\n",
    "    Arguments:\n",
    "        m: A mobile.\n",
    "\n",
    "    Returns:\n",
    "        The right arm of the mobile.\n",
    "    \"\"\"\n",
    "    pass"
   ],
   "id": "210aaabdbdbd246b",
   "outputs": [],
   "execution_count": 21
  },
  {
   "metadata": {},
   "cell_type": "markdown",
   "source": "Arm Data Abstraction (for your reference, no need to do anything here):",
   "id": "bb763b826b3a294e"
  },
  {
   "metadata": {
    "ExecuteTime": {
     "end_time": "2025-04-15T03:37:23.833468Z",
     "start_time": "2025-04-15T03:37:23.823633Z"
    }
   },
   "cell_type": "code",
   "source": [
    "def arm(length, mobile_or_planet):\n",
    "    \"\"\"\n",
    "    Construct an arm: a length of rod with a mobile or planet at the end.\n",
    "\n",
    "    Arguments:\n",
    "        length: The length of the rod.\n",
    "        mobile_or_planet: A mobile or a planet at the end of the arm.\n",
    "\n",
    "    Returns:\n",
    "        An arm constructed from the given length and mobile or planet.\n",
    "    \"\"\"\n",
    "    pass\n",
    "\n",
    "def is_arm(s):\n",
    "    \"\"\"\n",
    "    Return whether s is an arm.\n",
    "\n",
    "    Arguments:\n",
    "        s: An object to be checked.\n",
    "\n",
    "    Returns:\n",
    "        True if s is an arm, False otherwise.\n",
    "    \"\"\"\n",
    "    pass\n",
    "\n",
    "def length(s):\n",
    "    \"\"\"\n",
    "    Select the length of an arm.\n",
    "\n",
    "    Arguments:\n",
    "        s: An arm.\n",
    "\n",
    "    Returns:\n",
    "        The length of the arm.\n",
    "    \"\"\"\n",
    "    pass\n",
    "\n",
    "def end(s):\n",
    "    \"\"\"\n",
    "    Select the mobile or planet hanging at the end of an arm.\n",
    "\n",
    "    Arguments:\n",
    "        s: An arm.\n",
    "\n",
    "    Returns:\n",
    "        The mobile or planet at the end of the arm.\n",
    "    \"\"\"\n",
    "    pass"
   ],
   "id": "9651b97a14989bf9",
   "outputs": [],
   "execution_count": 16
  },
  {
   "metadata": {},
   "cell_type": "markdown",
   "source": [
    "Q3: Mass\n",
    "\n",
    "Implement the planet data abstraction by completing the planet constructor and the mass selector. The planet constructor should create and return a planet. A planet should be represented using a two-element list where the first element is the string 'planet' and the second element is the planet's mass. The mass function should return the mass of the planet object that is passed as a parameter."
   ],
   "id": "925958d4aaa553b0"
  },
  {
   "metadata": {},
   "cell_type": "code",
   "outputs": [],
   "execution_count": null,
   "source": [
    "def planet(mass):\n",
    "    \"\"\"Construct a planet of some mass.\"\"\"\n",
    "    assert mass > 0\n",
    "    \"*** YOUR CODE HERE ***\"\n",
    "    return ['planet',mass]\n",
    "\n",
    "def mass(p):\n",
    "    \"\"\"Select the mass of a planet.\"\"\"\n",
    "    assert is_planet(p), 'must call mass on a planet'\n",
    "    \"*** YOUR CODE HERE ***\"\n",
    "    return p[1]\n",
    "\n",
    "def is_planet(p):\n",
    "    \"\"\"Whether p is a planet.\"\"\"\n",
    "    return type(p) == list and len(p) == 2 and p[0] == 'planet'"
   ],
   "id": "7323fe0262369256"
  },
  {
   "metadata": {},
   "cell_type": "markdown",
   "source": "The total_mass function demonstrates the use of the mobile, arm, and planet abstractions. It has been implemented for you. You may use the total_mass function in the following questions.",
   "id": "422d063e75d7ede3"
  },
  {
   "metadata": {
    "ExecuteTime": {
     "end_time": "2025-04-15T03:37:29.878300Z",
     "start_time": "2025-04-15T03:37:29.867827Z"
    }
   },
   "cell_type": "code",
   "source": [
    "def examples():\n",
    "    t = mobile(arm(1, planet(2)),\n",
    "               arm(2, planet(1)))\n",
    "    u = mobile(arm(5, planet(1)),\n",
    "               arm(1, mobile(arm(2, planet(3)),\n",
    "                             arm(3, planet(2)))))\n",
    "    v = mobile(arm(4, t), arm(2, u))\n",
    "    return t, u, v\n",
    "\n",
    "def total_mass(m):\n",
    "    \"\"\"Return the total mass of m, a planet or mobile.\n",
    "\n",
    "    >>> t, u, v = examples()\n",
    "    >>> total_mass(t)\n",
    "    3\n",
    "    >>> total_mass(u)\n",
    "    6\n",
    "    >>> total_mass(v)\n",
    "    9\n",
    "    \"\"\"\n",
    "    if is_planet(m):\n",
    "        return mass(m)\n",
    "    else:\n",
    "        assert is_mobile(m), \"must get total mass of a mobile or a planet\"\n",
    "        return total_mass(end(left(m))) + total_mass(end(right(m)))"
   ],
   "id": "8d5f2951ab2a5d46",
   "outputs": [],
   "execution_count": 18
  },
  {
   "metadata": {},
   "cell_type": "markdown",
   "source": [
    "Q4: Balanced\n",
    "\n",
    "Implement the balanced function, which returns whether m is a balanced mobile. A mobile is balanced if both of the following conditions are met:\n",
    "- The torque applied by its left arm is equal to the torque applied by its right arm. The torque of an arm is the length of the rod multiplied by the total mass hanging from that rod. For example, if the left arm has a length of 5, and there is a mobile hanging at the end of the left arm of total mass 10, the torque on the left side of our mobile is 50.\n",
    "- Each of the mobiles hanging at the end of its arms is itself balanced. Hint: Recursive structure! Does this remind you of something?\n",
    "Planets are already balanced, as there is nothing hanging off of them.\n",
    "\n",
    "Reminder: You may use the total_mass function above. Don't violate abstraction barriers. Instead, use the selector functions that have been defined."
   ],
   "id": "ac4f4691386327c"
  },
  {
   "metadata": {
    "ExecuteTime": {
     "end_time": "2025-04-15T03:40:10.602548Z",
     "start_time": "2025-04-15T03:40:10.586226Z"
    }
   },
   "cell_type": "code",
   "source": [
    "def left_arm(m):\n",
    "    \"\"\"\n",
    "    Select the left arm of a mobile.\n",
    "\n",
    "    Arguments:\n",
    "        m: A mobile.\n",
    "\n",
    "    Returns:\n",
    "        The left arm of the mobile.\n",
    "    \"\"\"\n",
    "    pass\n",
    "\n",
    "def right_arm(m):\n",
    "    \"\"\"\n",
    "    Select the right arm of a mobile.\n",
    "\n",
    "    Arguments:\n",
    "        m: A mobile.\n",
    "\n",
    "    Returns:\n",
    "        The right arm of the mobile.\n",
    "    \"\"\"\n",
    "    pass\n",
    "\n",
    "def balanced(m):\n",
    "    \"\"\"Return whether m is balanced.\n",
    "\n",
    "    >>> t, u, v = examples()\n",
    "    >>> balanced(t)\n",
    "    True\n",
    "    >>> balanced(v)\n",
    "    True\n",
    "    >>> p = mobile(arm(3, t), arm(2, u))\n",
    "    >>> balanced(p)\n",
    "    False\n",
    "    >>> balanced(mobile(arm(1, v), arm(1, p)))\n",
    "    False\n",
    "    >>> balanced(mobile(arm(1, p), arm(1, v)))\n",
    "    False\n",
    "    >>> from construct_check import check\n",
    "    >>> # checking for abstraction barrier violations by banning indexing\n",
    "    >>> check(HW_SOURCE_FILE, 'balanced', ['Index'])\n",
    "    True\n",
    "    \"\"\"\n",
    "    \"*** YOUR CODE HERE ***\"\n",
    "    if is_planet(m): # 如果是行星，那么它平衡\n",
    "        return True\n",
    "    left,right = left_arm(m),right_arm(m)\n",
    "    left_torque = length(left) * total_mass(left)\n",
    "    right_torque = length(right) * total_mass(right)\n",
    "    return left_torque == right_torque and balanced(left) and balanced(right)"
   ],
   "id": "c7c89cb2b008e859",
   "outputs": [],
   "execution_count": 23
  },
  {
   "metadata": {},
   "cell_type": "markdown",
   "source": [
    "Trees\n",
    "\n",
    "Q5: Finding Berries!\n",
    "\n",
    "The squirrels on campus need your help! There are a lot of trees on campus and the squirrels would like to know which ones contain berries. Define the function berry_finder, which takes in a tree and returns True if the tree contains a node with the value 'berry' and False otherwise.\n",
    "\n",
    "Hint: To iterate through each of the branches of a particular tree, you can consider using a for loop to get each branch."
   ],
   "id": "887cfff590ba9853"
  },
  {
   "metadata": {
    "ExecuteTime": {
     "end_time": "2025-04-15T03:17:45.017559Z",
     "start_time": "2025-04-15T03:17:45.006619Z"
    }
   },
   "cell_type": "code",
   "source": [
    "def tree(root_label,branches=[]):\n",
    "    for branch in branches:\n",
    "        assert is_tree(branch), '分支必须是树'\n",
    "    return [root_label] + list(branches)\n",
    "\n",
    "def label(tree):\n",
    "    return tree[0]\n",
    "\n",
    "def branches(tree):\n",
    "    return tree[1:]\n",
    "\n",
    "def is_tree(tree):\n",
    "    if type(tree) != list or len(tree) < 1:\n",
    "        return False\n",
    "    for branch in  branches(tree):\n",
    "        if not is_tree(branch):\n",
    "            return False\n",
    "    return True\n",
    "\n",
    "def is_leaf(tree):\n",
    "    return not branches(tree)"
   ],
   "id": "cd6fb5fb6b554dc4",
   "outputs": [],
   "execution_count": 7
  },
  {
   "metadata": {
    "ExecuteTime": {
     "end_time": "2025-04-15T03:19:18.223242Z",
     "start_time": "2025-04-15T03:19:18.204076Z"
    }
   },
   "cell_type": "code",
   "source": [
    "def berry_finder(t):\n",
    "    \"\"\"Returns True if t contains a node with the value 'berry' and\n",
    "    False otherwise.\n",
    "\n",
    "    >>> scrat = tree('berry')\n",
    "    >>> berry_finder(scrat)\n",
    "    True\n",
    "    >>> sproul = tree('roots', [tree('branch1', [tree('leaf'), tree('berry')]), tree('branch2')])\n",
    "    >>> berry_finder(sproul)\n",
    "    True\n",
    "    >>> numbers = tree(1, [tree(2), tree(3, [tree(4), tree(5)]), tree(6, [tree(7)])])\n",
    "    >>> berry_finder(numbers)\n",
    "    False\n",
    "    >>> t = tree(1, [tree('berry',[tree('not berry')])])\n",
    "    >>> berry_finder(t)\n",
    "    True\n",
    "    \"\"\"\n",
    "    \"*** YOUR CODE HERE ***\"\n",
    "    if label(t) == 'berry': # 基线条件：当前节点匹配\n",
    "        return True\n",
    "    for branch in branches(t): # 递归检查所有子节点\n",
    "        if berry_finder(branch):\n",
    "            return True\n",
    "    return False\n",
    "\n",
    "scrat = tree('berry')\n",
    "print(berry_finder(scrat))\n",
    "sproul = tree('roots', [tree('branch1', [tree('leaf'), tree('berry')]), tree('branch2')])\n",
    "print(berry_finder(sproul))\n",
    "numbers = tree(1, [tree(2), tree(3, [tree(4), tree(5)]), tree(6, [tree(7)])])\n",
    "print(berry_finder(numbers))"
   ],
   "id": "b1110895eda7bca2",
   "outputs": [
    {
     "name": "stdout",
     "output_type": "stream",
     "text": [
      "True\n",
      "True\n",
      "False\n"
     ]
    }
   ],
   "execution_count": 12
  },
  {
   "metadata": {},
   "cell_type": "markdown",
   "source": [
    "Q6: Maximum Path Sum\n",
    "\n",
    "Write a function that takes in a tree and returns the maximum sum of the values along any root-to-leaf path in the tree. A root-to-leaf path is a sequence of nodes starting at the root and ending at some leaf of the tree. You can assume the tree will have positive numbers for its labels."
   ],
   "id": "21d6c8670823bbcf"
  },
  {
   "metadata": {
    "ExecuteTime": {
     "end_time": "2025-04-15T03:28:39.985113Z",
     "start_time": "2025-04-15T03:28:39.963129Z"
    }
   },
   "cell_type": "code",
   "source": [
    "def max_path_sum(t):\n",
    "    \"\"\"Return the maximum root-to-leaf path sum of a tree.\n",
    "    >>> t = tree(1, [tree(5, [tree(1), tree(3)]), tree(10)])\n",
    "    >>> max_path_sum(t) # 1, 10\n",
    "    11\n",
    "    >>> t2 = tree(5, [tree(4, [tree(1), tree(3)]), tree(2, [tree(10), tree(3)])])\n",
    "    >>> max_path_sum(t2) # 5, 2, 10\n",
    "    17\n",
    "    \"\"\"\n",
    "    \"*** YOUR CODE HERE ***\"\n",
    "    if is_leaf(t): # 基线条件：当前节点是叶节点\n",
    "        return label(t)\n",
    "    max_sum = -1\n",
    "    for branch in branches(t): # 遍历所有子节点\n",
    "        current_sum = max_path_sum(branch)\n",
    "        if current_sum > max_sum:\n",
    "            max_sum = current_sum\n",
    "    return label(t) + max_sum\n",
    "\n",
    "t = tree(1, [tree(5, [tree(1), tree(3)]), tree(10)])\n",
    "print(max_path_sum(t))\n",
    "t2 = tree(5, [tree(4, [tree(1), tree(3)]), tree(2, [tree(10), tree(3)])])\n",
    "print(max_path_sum(t2))"
   ],
   "id": "5d204dcf17b500ef",
   "outputs": [
    {
     "name": "stdout",
     "output_type": "stream",
     "text": [
      "11\n",
      "17\n"
     ]
    }
   ],
   "execution_count": 14
  }
 ],
 "metadata": {
  "kernelspec": {
   "display_name": "Python 3",
   "language": "python",
   "name": "python3"
  },
  "language_info": {
   "codemirror_mode": {
    "name": "ipython",
    "version": 2
   },
   "file_extension": ".py",
   "mimetype": "text/x-python",
   "name": "python",
   "nbconvert_exporter": "python",
   "pygments_lexer": "ipython2",
   "version": "2.7.6"
  }
 },
 "nbformat": 4,
 "nbformat_minor": 5
}
