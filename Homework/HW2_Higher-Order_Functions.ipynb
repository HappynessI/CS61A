{
 "cells": [
  {
   "metadata": {},
   "cell_type": "markdown",
   "source": "Several doctests refer to these functions:",
   "id": "359bee1711e0c1e5"
  },
  {
   "metadata": {
    "ExecuteTime": {
     "end_time": "2025-04-13T11:48:00.354919Z",
     "start_time": "2025-04-13T11:48:00.346100Z"
    }
   },
   "cell_type": "code",
   "source": [
    "from operator import add,mul\n",
    "identity = lambda x:x\n",
    "square = lambda x : x*x\n",
    "increment = lambda x : x+1\n",
    "triple = lambda x : x*3"
   ],
   "id": "7c90ca4f53d658f3",
   "outputs": [],
   "execution_count": 1
  },
  {
   "metadata": {},
   "cell_type": "markdown",
   "source": "# Q1:Product",
   "id": "262d444d7f482174"
  },
  {
   "metadata": {},
   "cell_type": "markdown",
   "source": "Write a function called product that returns the product of the first n terms of a sequence. Specifically, product takes in an integer n and term, a single-argument function that determines a sequence. (That is, term(i) gives the ith term of the sequence.) product(n, term) should return term(1) * ... * term(n).",
   "id": "635b3231d9a2d362"
  },
  {
   "cell_type": "code",
   "id": "initial_id",
   "metadata": {
    "collapsed": true,
    "ExecuteTime": {
     "end_time": "2025-04-13T11:51:03.370503Z",
     "start_time": "2025-04-13T11:51:03.354125Z"
    }
   },
   "source": [
    "def product(n, term):\n",
    "    \"\"\"Return the product of the first n terms in a sequence.\n",
    "\n",
    "    n: a positive integer\n",
    "    term:  a function that takes one argument to produce the term\n",
    "\n",
    "    >>> product(3, identity)  # 1 * 2 * 3\n",
    "    6\n",
    "    >>> product(5, identity)  # 1 * 2 * 3 * 4 * 5\n",
    "    120\n",
    "    >>> product(3, square)    # 1^2 * 2^2 * 3^2\n",
    "    36\n",
    "    >>> product(5, square)    # 1^2 * 2^2 * 3^2 * 4^2 * 5^2\n",
    "    14400\n",
    "    >>> product(3, increment) # (1+1) * (2+1) * (3+1)\n",
    "    24\n",
    "    >>> product(3, triple)    # 1*3 * 2*3 * 3*3\n",
    "    162\n",
    "    \"\"\"\n",
    "    \"*** YOUR CODE HERE ***\"\n",
    "    if n == 1:\n",
    "        return term(1)\n",
    "    else:\n",
    "        return term(n)*product(n-1,term)\n",
    "\n",
    "print(product(3,identity))\n",
    "print(product(5,identity))\n",
    "print(product(3,square))\n",
    "print(product(5,square))\n",
    "print(product(3,increment))\n",
    "print(product(3,triple))"
   ],
   "outputs": [
    {
     "name": "stdout",
     "output_type": "stream",
     "text": [
      "6\n",
      "120\n",
      "36\n",
      "14400\n",
      "24\n",
      "162\n"
     ]
    }
   ],
   "execution_count": 4
  },
  {
   "metadata": {},
   "cell_type": "markdown",
   "source": "# Q2:Accumulate",
   "id": "d3257fb39dc97593"
  },
  {
   "metadata": {},
   "cell_type": "markdown",
   "source": "Let's take a look at how product is an instance of a more general function called accumulate, which we would like to implement:",
   "id": "54589fb1c60255f5"
  },
  {
   "metadata": {
    "ExecuteTime": {
     "end_time": "2025-04-13T12:19:52.085481Z",
     "start_time": "2025-04-13T12:19:52.078414Z"
    }
   },
   "cell_type": "code",
   "source": [
    "def accumulate(fuse, start, n, term):\n",
    "    \"\"\"Return the result of fusing together the first n terms in a sequence\n",
    "    and start.  The terms to be fused are term(1), term(2), ..., term(n).\n",
    "    The function fuse is a two-argument commutative & associative function.\n",
    "\n",
    "    >>> accumulate(add, 0, 5, identity)  # 0 + 1 + 2 + 3 + 4 + 5\n",
    "    15\n",
    "    >>> accumulate(add, 11, 5, identity) # 11 + 1 + 2 + 3 + 4 + 5\n",
    "    26\n",
    "    >>> accumulate(add, 11, 0, identity) # 11 (fuse is never used)\n",
    "    11\n",
    "    >>> accumulate(add, 11, 3, square)   # 11 + 1^2 + 2^2 + 3^2\n",
    "    25\n",
    "    >>> accumulate(mul, 2, 3, square)    # 2 * 1^2 * 2^2 * 3^2\n",
    "    72\n",
    "    >>> # 2 + (1^2 + 1) + (2^2 + 1) + (3^2 + 1)\n",
    "    >>> accumulate(lambda x, y: x + y + 1, 2, 3, square)\n",
    "    19\n",
    "    \"\"\"\n",
    "    \"*** YOUR CODE HERE ***\"\n",
    "    # 这里是用递归实现的，在n较大的时候可能会导致栈溢出\n",
    "    # if n == 0:\n",
    "    #     return start\n",
    "    # elif n == 1:\n",
    "    #     return fuse(start,term(1))\n",
    "    # else:\n",
    "    #     return fuse(term(n),accumulate(fuse,start,n-1,term))\n",
    "    # 这里是用迭代实现\n",
    "    total = start\n",
    "    for i in range(1,n+1):\n",
    "        total = fuse(total,term(i))\n",
    "    return total\n",
    "print(accumulate(add, 0, 5, identity))\n",
    "print(accumulate(add, 11, 5, identity))\n",
    "print(accumulate(add, 11, 0, identity))\n",
    "print(accumulate(add, 11, 3, square))\n",
    "print(accumulate(mul, 2, 3, square))\n",
    "print(accumulate(lambda x, y: x + y + 1, 2, 3, square))"
   ],
   "id": "4940042d078a44b",
   "outputs": [
    {
     "name": "stdout",
     "output_type": "stream",
     "text": [
      "15\n",
      "26\n",
      "11\n",
      "25\n",
      "72\n",
      "19\n"
     ]
    }
   ],
   "execution_count": 15
  },
  {
   "metadata": {},
   "cell_type": "markdown",
   "source": [
    "accumulate has the following parameters:\n",
    "- fuse: a two-argument function that specifies how the current term is fused with the previously accumulated terms\n",
    "- start: value at which to start the accumulation\n",
    "- n: a non-negative integer indicating the number of terms to fuse\n",
    "- term: a single-argument function; term(i) is the ith term of the sequence\n",
    "\n",
    "Implement accumulate, which fuses the first n terms of the sequence defined by term with the start value using the fuse function.\n",
    "\n",
    "Assume that fuse is commutative, fuse(a, b) == fuse(b, a), and associative, fuse(fuse(a, b), c) == fuse(a, fuse(b, c))."
   ],
   "id": "dc2e251f6a3a28d6"
  },
  {
   "metadata": {},
   "cell_type": "markdown",
   "source": [
    "Then, implement summation (from lecture) and product as one-line calls to accumulate.\n",
    "\n",
    "Important: Both summation_using_accumulate and product_using_accumulate should be implemented with a single line of code starting with return."
   ],
   "id": "e35a3aff66bc1265"
  },
  {
   "metadata": {},
   "cell_type": "markdown",
   "source": "【注】：这里应用了函数柯里化",
   "id": "22716f3f825859a0"
  },
  {
   "metadata": {
    "ExecuteTime": {
     "end_time": "2025-04-13T12:19:56.361347Z",
     "start_time": "2025-04-13T12:19:56.345565Z"
    }
   },
   "cell_type": "code",
   "source": [
    "def summation_using_accumulate(n, term):\n",
    "    \"\"\"Returns the sum: term(1) + ... + term(n), using accumulate.\n",
    "\n",
    "    >>> summation_using_accumulate(5, square) # square(1) + square(2) + ... + square(4) + square(5)\n",
    "    55\n",
    "    >>> summation_using_accumulate(5, triple) # triple(1) + triple(2) + ... + triple(4) + triple(5)\n",
    "    45\n",
    "    >>> # This test checks that the body of the function is just a return statement.\n",
    "    >>> import inspect, ast\n",
    "    >>> [type(x).__name__ for x in ast.parse(inspect.getsource(summation_using_accumulate)).body[0].body]\n",
    "    ['Expr', 'Return']\n",
    "    \"\"\"\n",
    "    return accumulate(add,0,n,term)\n",
    "\n",
    "print(summation_using_accumulate(5, square))\n",
    "print(summation_using_accumulate(5, triple))"
   ],
   "id": "9cc13504abcd9bd7",
   "outputs": [
    {
     "name": "stdout",
     "output_type": "stream",
     "text": [
      "55\n",
      "45\n"
     ]
    }
   ],
   "execution_count": 16
  },
  {
   "metadata": {
    "ExecuteTime": {
     "end_time": "2025-04-13T12:19:58.150851Z",
     "start_time": "2025-04-13T12:19:58.143658Z"
    }
   },
   "cell_type": "code",
   "source": [
    "def product_using_accumulate(n, term):\n",
    "    \"\"\"Returns the product: term(1) * ... * term(n), using accumulate.\n",
    "\n",
    "    >>> product_using_accumulate(4, square) # square(1) * square(2) * square(3) * square()\n",
    "    576\n",
    "    >>> product_using_accumulate(6, triple) # triple(1) * triple(2) * ... * triple(5) * triple(6)\n",
    "    524880\n",
    "    >>> # This test checks that the body of the function is just a return statement.\n",
    "    >>> import inspect, ast\n",
    "    >>> [type(x).__name__ for x in ast.parse(inspect.getsource(product_using_accumulate)).body[0].body]\n",
    "    ['Expr', 'Return']\n",
    "    \"\"\"\n",
    "    return accumulate(mul,1,n,term)\n",
    "print(product_using_accumulate(4, square))\n",
    "print(product_using_accumulate(6, triple))"
   ],
   "id": "432449563eb7eee4",
   "outputs": [
    {
     "name": "stdout",
     "output_type": "stream",
     "text": [
      "576\n",
      "524880\n"
     ]
    }
   ],
   "execution_count": 17
  },
  {
   "metadata": {},
   "cell_type": "markdown",
   "source": "# Q3:Make Repeater",
   "id": "ca9e64de26bbf135"
  },
  {
   "metadata": {},
   "cell_type": "markdown",
   "source": "Implement the function make_repeater which takes a one-argument function f and a positive integer n. It returns a one-argument function, where make_repeater(f, n)(x) returns the value of f(f(...f(x)...)) in which f is applied n times to x. For example, make_repeater(square, 3)(5) squares 5 three times and returns 390625, just like square(square(square(5))).",
   "id": "2dfea4e3df983e8a"
  },
  {
   "metadata": {
    "ExecuteTime": {
     "end_time": "2025-04-13T13:01:34.738515Z",
     "start_time": "2025-04-13T13:01:34.728937Z"
    }
   },
   "cell_type": "code",
   "source": [
    "def make_repeater(f, n):\n",
    "    \"\"\"Returns the function that computes the nth application of f.\n",
    "\n",
    "    >>> add_three = make_repeater(increment, 3)\n",
    "    >>> add_three(5)\n",
    "    8\n",
    "    >>> make_repeater(triple, 5)(1) # 3 * (3 * (3 * (3 * (3 * 1))))\n",
    "    243\n",
    "    >>> make_repeater(square, 2)(5) # square(square(5))\n",
    "    625\n",
    "    >>> make_repeater(square, 3)(5) # square(square(square(5)))\n",
    "    390625\n",
    "    \"\"\"\n",
    "    \"*** YOUR CODE HERE ***\"\n",
    "    # 方法一：使用递归\n",
    "    # if n == 0:\n",
    "    #     return lambda x:x # 0次应用，直接返回原值\n",
    "    # elif n == 1:\n",
    "    #     return f # 1次应用，直接返回f\n",
    "    # else:\n",
    "    #     return lambda x:f(make_repeater(f,n-1)(x))\n",
    "    #-----------------------------------------------#\n",
    "    # 方法二：使用迭代\n",
    "    def repeater(x):\n",
    "        result = x\n",
    "        for _ in range(n):\n",
    "            result = f(result)\n",
    "        return result\n",
    "    return repeater\n",
    "\n",
    "add_three = make_repeater(increment, 3)\n",
    "add_three(5)"
   ],
   "id": "38bd85056d1ecdc5",
   "outputs": [
    {
     "data": {
      "text/plain": [
       "8"
      ]
     },
     "execution_count": 21,
     "metadata": {},
     "output_type": "execute_result"
    }
   ],
   "execution_count": 21
  }
 ],
 "metadata": {
  "kernelspec": {
   "display_name": "Python 3",
   "language": "python",
   "name": "python3"
  },
  "language_info": {
   "codemirror_mode": {
    "name": "ipython",
    "version": 2
   },
   "file_extension": ".py",
   "mimetype": "text/x-python",
   "name": "python",
   "nbconvert_exporter": "python",
   "pygments_lexer": "ipython2",
   "version": "2.7.6"
  }
 },
 "nbformat": 4,
 "nbformat_minor": 5
}
