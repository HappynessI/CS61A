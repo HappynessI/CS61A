{
 "cells": [
  {
   "metadata": {},
   "cell_type": "markdown",
   "source": [
    "Q1: Infinite Hailstone\n",
    "\n",
    "Write a generator function that yields the elements of the hailstone sequence starting at number n. After reaching the end of the hailstone sequence, the generator should yield the value 1 indefinitely.\n",
    "\n",
    "Here is a quick reminder of how the hailstone sequence is defined:\n",
    "\n",
    "- Pick a positive integer n as the start.\n",
    "- If n is even, divide it by 2.\n",
    "- If n is odd, multiply it by 3 and add 1.\n",
    "- Continue this process until n is 1.\n",
    "\n",
    "Try to write this generator function recursively. If you are stuck, you can first try writing it iteratively and then seeing how you can turn that implementation into a recursive one.\n",
    "\n",
    "Hint: Since hailstone returns a generator, you can yield from a call to hailstone!"
   ],
   "id": "3e7d4faffd7d4414"
  },
  {
   "cell_type": "code",
   "id": "initial_id",
   "metadata": {
    "collapsed": true,
    "ExecuteTime": {
     "end_time": "2025-04-17T15:55:33.594822Z",
     "start_time": "2025-04-17T15:55:33.572572Z"
    }
   },
   "source": [
    "def hailstone(n):\n",
    "    \"\"\"\n",
    "    Yields the elements of the hailstone sequence starting at n.\n",
    "    At the end of the sequence, yield 1 infinitely.\n",
    "\n",
    "    >>> hail_gen = hailstone(10)\n",
    "    >>> [next(hail_gen) for _ in range(10)]\n",
    "    [10, 5, 16, 8, 4, 2, 1, 1, 1, 1]\n",
    "    >>> next(hail_gen)\n",
    "    1\n",
    "    \"\"\"\n",
    "    \"*** YOUR CODE HERE ***\"\n",
    "    # 这里有两个错误：1.返回的是一个生成器对象；2.没有进行无限循环\n",
    "    # if n == 1:\n",
    "    #     yield 1\n",
    "    # elif n > 1:\n",
    "    #     if n % 2 == 0:\n",
    "    #         yield hailstone(n//2)\n",
    "    #     else:\n",
    "    #         yield hailstone(n*3+1)\n",
    "    while True:\n",
    "        yield n\n",
    "        if n == 1:\n",
    "            continue\n",
    "        elif n % 2 == 0:\n",
    "            n = n // 2\n",
    "        else:\n",
    "            n = 3 * n + 1\n",
    "hail_gen = hailstone(10)\n",
    "[next(hail_gen) for _ in range(10)]"
   ],
   "outputs": [
    {
     "data": {
      "text/plain": [
       "[10, 5, 16, 8, 4, 2, 1, 1, 1, 1]"
      ]
     },
     "execution_count": 5,
     "metadata": {},
     "output_type": "execute_result"
    }
   ],
   "execution_count": 5
  },
  {
   "metadata": {},
   "cell_type": "markdown",
   "source": [
    "Q2: Merge\n",
    "\n",
    "Definition: An infinite iterator is a iterator that never stops providing values when next is called. For example, ones() evaluates to an infinite iterator:\n",
    "\n",
    "def ones():\n",
    "\n",
    "    while True:\n",
    "\n",
    "        yield 1\n",
    "\n",
    "Write a generator function merge(a, b) that takes two infinite iterators, a and b, as inputs. Both iterators yield elements in strictly increasing order with no duplicates. The generator should produce all unique elements from both input iterators in increasing order, ensuring no duplicates.\n",
    "\n",
    "Note: The input iterators do not contain duplicates within themselves, but they may have common elements between them."
   ],
   "id": "3df354a8c84fa891"
  },
  {
   "metadata": {
    "ExecuteTime": {
     "end_time": "2025-04-17T16:03:31.655548Z",
     "start_time": "2025-04-17T16:03:31.634342Z"
    }
   },
   "cell_type": "code",
   "source": [
    "def merge(a, b):\n",
    "    \"\"\"\n",
    "    Return a generator that has all of the elements of generators a and b,\n",
    "    in increasing order, without duplicates.\n",
    "\n",
    "    >>> def sequence(start, step):\n",
    "    ...     while True:\n",
    "    ...         yield start\n",
    "    ...         start += step\n",
    "    >>> a = sequence(2, 3) # 2, 5, 8, 11, 14, ...\n",
    "    >>> b = sequence(3, 2) # 3, 5, 7, 9, 11, 13, 15, ...\n",
    "    >>> result = merge(a, b) # 2, 3, 5, 7, 8, 9, 11, 13, 14, 15\n",
    "    >>> [next(result) for _ in range(10)]\n",
    "    [2, 3, 5, 7, 8, 9, 11, 13, 14, 15]\n",
    "    \"\"\"\n",
    "    a_val, b_val = next(a), next(b)\n",
    "    while True:\n",
    "        if a_val == b_val:\n",
    "            \"*** YOUR CODE HERE ***\"\n",
    "            yield a_val\n",
    "            a_val, b_val = next(a), next(b)\n",
    "        elif a_val < b_val:\n",
    "            \"*** YOUR CODE HERE ***\"\n",
    "            yield a_val\n",
    "            a_val = next(a)\n",
    "        else:\n",
    "            \"*** YOUR CODE HERE ***\"\n",
    "            yield b_val\n",
    "            b_val = next(b)\n",
    "\n",
    "def sequence(start,step):\n",
    "    while True:\n",
    "        yield start\n",
    "        start += step\n",
    "\n",
    "a = sequence(2,3)\n",
    "b = sequence(3,2)\n",
    "result = merge(a,b)\n",
    "[next(result) for _ in range(10)]"
   ],
   "id": "22035f6221d49cf",
   "outputs": [
    {
     "data": {
      "text/plain": [
       "[2, 3, 5, 7, 8, 9, 11, 13, 14, 15]"
      ]
     },
     "execution_count": 7,
     "metadata": {},
     "output_type": "execute_result"
    }
   ],
   "execution_count": 7
  },
  {
   "metadata": {},
   "cell_type": "markdown",
   "source": [
    "Q3: Stair Ways\n",
    "\n",
    "Imagine that you want to go up a staircase that has n steps, where n is a positive integer. You can take either one or two steps each time you move.\n",
    "\n",
    "Write a generator function stair_ways that yields all the different ways you can climb the staircase.\n",
    "\n",
    "Each \"way\" of climbing a staircase can be represented by a list of 1s and 2s, where each number indicates whether you take one step or two steps at a time.\n",
    "\n",
    "For example, for a staircase with 3 steps, there are three ways to climb it:\n",
    "\n",
    "- You can take one step each time: \\[1, 1, 1].\n",
    "- You can take two steps then one step: \\[2, 1].\n",
    "- You can take one step then two steps: \\[1, 2]..\n",
    "\n",
    "Therefore, stair_ways(3) should yield \\[1, 1, 1], \\[2, 1], and \\[1, 2]. These can be yielded in any order.\n",
    "\n",
    "Hint: Think about the problem recursively. If you're on some step n, which steps could you have just been on?"
   ],
   "id": "a1201a173fb1deff"
  },
  {
   "metadata": {
    "ExecuteTime": {
     "end_time": "2025-04-18T02:19:07.700247Z",
     "start_time": "2025-04-18T02:19:07.689286Z"
    }
   },
   "cell_type": "code",
   "source": [
    "def stair_ways(n):\n",
    "    \"\"\"\n",
    "    Yield all the ways to climb a set of n stairs taking\n",
    "    1 or 2 steps at a time.\n",
    "\n",
    "    >>> list(stair_ways(0))\n",
    "    [[]]\n",
    "    >>> s_w = stair_ways(4)\n",
    "    >>> sorted([next(s_w) for _ in range(5)])\n",
    "    [[1, 1, 1, 1], [1, 1, 2], [1, 2, 1], [2, 1, 1], [2, 2]]\n",
    "    >>> list(s_w) # Ensure you're not yielding extra\n",
    "    []\n",
    "    \"\"\"\n",
    "    \"*** YOUR CODE HERE ***\"\n",
    "    if n == 0:\n",
    "        yield []\n",
    "    elif n == 1:\n",
    "        yield [1]\n",
    "    else:\n",
    "        # 选择先爬一步，然后递归剩下的n-1步\n",
    "        for way in stair_ways(n-1):\n",
    "            yield [1] + way\n",
    "        # 选择先爬2步，然后递归剩下的n-2步\n",
    "        for way in stair_ways(n-2):\n",
    "            yield [2] + way\n",
    "\n",
    "# list(stair_ways(0))\n",
    "s_w = stair_ways(4)\n",
    "sorted([next(s_w) for _ in range(5)])\n",
    "list(s_w)"
   ],
   "id": "8ac633b6a6a956ef",
   "outputs": [
    {
     "data": {
      "text/plain": [
       "[]"
      ]
     },
     "execution_count": 4,
     "metadata": {},
     "output_type": "execute_result"
    }
   ],
   "execution_count": 4
  },
  {
   "metadata": {},
   "cell_type": "markdown",
   "source": [
    "每次执行next(s_w)的结果是一个列表\n",
    "以输入3为例子：进入第一个循环，for way in stair_ways(2): yield \\[1] + way\n",
    "\n",
    "这里的遍历过程中，第一次way = \\[1,1]，第二次way = \\[2]"
   ],
   "id": "28d8fedd31d85b1e"
  },
  {
   "metadata": {},
   "cell_type": "markdown",
   "source": [
    "Q4: Yield Paths\n",
    "\n",
    "Write a generator function yield_paths that takes a tree t and a target value. It yields each path from the root of t to any node with the label value.\n",
    "\n",
    "Each path should be returned as a list of labels from the root to the matching node. The paths can be yielded in any order.\n",
    "\n",
    "Hint: If you are having trouble getting started, think about how you would approach this problem if it was not a generator function. What would the recursive steps look like?\n",
    "\n",
    "Hint: Remember, you can iterate over generator objects because they are a type of iterator!"
   ],
   "id": "c715fc1dad25e1ba"
  },
  {
   "metadata": {
    "ExecuteTime": {
     "end_time": "2025-04-18T02:43:20.373378Z",
     "start_time": "2025-04-18T02:43:20.365565Z"
    }
   },
   "cell_type": "code",
   "source": [
    "class tree:\n",
    "    def __init__(self, label,branches=[]):\n",
    "        self._label = label\n",
    "        self._branches = branches\n",
    "\n",
    "    # @property可以把方法变成属性\n",
    "    @property\n",
    "    def label(self):\n",
    "        return self._label\n",
    "\n",
    "    @property\n",
    "    def branches(self):\n",
    "        return self._branches\n",
    "\n",
    "    def __repr__(self):\n",
    "        if not self._branches:\n",
    "            return f\"Tree({self._label})\"\n",
    "        return f\"Tree({self._label},{self._branches})\"\n",
    "\n",
    "    def print_tree(self,indent=0):\n",
    "        print(\" \"*indent,str(self.label))\n",
    "        for branch in self.branches:\n",
    "            branch.print_tree(indent+1)\n",
    "\n",
    "def label(tree):\n",
    "    return tree.label\n",
    "\n",
    "def branches(tree):\n",
    "    return tree.branches"
   ],
   "id": "7058ae7931e89f52",
   "outputs": [],
   "execution_count": 10
  },
  {
   "metadata": {
    "ExecuteTime": {
     "end_time": "2025-04-18T02:54:24.715213Z",
     "start_time": "2025-04-18T02:54:24.710780Z"
    }
   },
   "cell_type": "code",
   "source": [
    "def yield_paths(t, value):\n",
    "    \"\"\"\n",
    "    Yields all possible paths from the root of t to a node with the label\n",
    "    value as a list.\n",
    "\n",
    "    >>> t1 = tree(1, [tree(2, [tree(3), tree(4, [tree(6)]), tree(5)]), tree(5)])\n",
    "    >>> print_tree(t1)\n",
    "    1\n",
    "      2\n",
    "        3\n",
    "        4\n",
    "          6\n",
    "        5\n",
    "      5\n",
    "    >>> next(yield_paths(t1, 6))\n",
    "    [1, 2, 4, 6]\n",
    "    >>> path_to_5 = yield_paths(t1, 5)\n",
    "    >>> sorted(list(path_to_5))\n",
    "    [[1, 2, 5], [1, 5]]\n",
    "\n",
    "    >>> t2 = tree(0, [tree(2, [t1])])\n",
    "    >>> print_tree(t2)\n",
    "    0\n",
    "      2\n",
    "        1\n",
    "          2\n",
    "            3\n",
    "            4\n",
    "              6\n",
    "            5\n",
    "          5\n",
    "    >>> path_to_2 = yield_paths(t2, 2)\n",
    "    >>> sorted(list(path_to_2))\n",
    "    [[0, 2], [0, 2, 1, 2]]\n",
    "    \"\"\"\n",
    "\n",
    "    if label(t) == value:\n",
    "        yield [label(t)]\n",
    "    for b in branches(t):\n",
    "        for path in yield_paths(b,value):\n",
    "            yield [label(t)] + path\n",
    "\n",
    "t1 = tree(1, [tree(2, [tree(3), tree(4, [tree(6)]), tree(5)]), tree(5)])\n",
    "# t1.print_tree()\n",
    "# next(yield_paths(t1,6))\n",
    "# path_to_5 = yield_paths(t1,5)\n",
    "# sorted(list(path_to_5))\n",
    "print(label(t1))"
   ],
   "id": "b069235debf6ae0a",
   "outputs": [
    {
     "name": "stdout",
     "output_type": "stream",
     "text": [
      "1\n"
     ]
    }
   ],
   "execution_count": 16
  },
  {
   "metadata": {},
   "cell_type": "markdown",
   "source": [
    "调用yield_paths(t1,5)\n",
    "- 1.根节点1：\n",
    "    - label = 1 != 5 -> 遍历子树\\[tree(2),tree(5)]\n",
    "- 2.子树 tree(5):\n",
    "    - label = 5 == 5 -> 触发yield\\[5]\n",
    "    - 返回到tree(1)，拼接路径：\\[1] + \\[5] = \\[1,5]（第一条路径）\n",
    "- 3.子树tree(2):\n",
    "    - label = 2 != 5 -> 遍历子树\\[tree(3),tree(4),tree(5)]\n",
    "- 4.子树tree(5):\n",
    "    - label = 5 == 5 -> 触发yield\\[5]\n",
    "    - 返回到tree(2),拼接路径：\\[2]+\\[5]=\\[2,5]\n",
    "    - 返回到tree(1),拼接路径：\\[1]+\\[2,5]=\\[1,2,5](第二条路径)"
   ],
   "id": "f7fcea14f8577fdb"
  }
 ],
 "metadata": {
  "kernelspec": {
   "display_name": "Python 3",
   "language": "python",
   "name": "python3"
  },
  "language_info": {
   "codemirror_mode": {
    "name": "ipython",
    "version": 2
   },
   "file_extension": ".py",
   "mimetype": "text/x-python",
   "name": "python",
   "nbconvert_exporter": "python",
   "pygments_lexer": "ipython2",
   "version": "2.7.6"
  }
 },
 "nbformat": 4,
 "nbformat_minor": 5
}
