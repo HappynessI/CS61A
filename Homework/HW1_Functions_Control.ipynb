{
 "cells": [
  {
   "metadata": {},
   "cell_type": "markdown",
   "source": "# Q1:A Plus Abs B",
   "id": "37bddf8568157a0e"
  },
  {
   "metadata": {},
   "cell_type": "markdown",
   "source": [
    "Python's operator module contains two-argument functions such as add and sub for Python's built-in arithmetic operators. For example, add(2, 3) evalutes to 5, just like the expression 2 + 3.\n",
    "\n",
    "Fill in the blanks in the following function to add a to the absolute value of b, without calling the abs function. You may not modify any of the provided code other than the two blanks."
   ],
   "id": "fd549badc4f5f1a"
  },
  {
   "cell_type": "code",
   "id": "initial_id",
   "metadata": {
    "collapsed": true,
    "ExecuteTime": {
     "end_time": "2025-04-13T08:30:10.820632Z",
     "start_time": "2025-04-13T08:30:10.802600Z"
    }
   },
   "source": [
    "def a_plus_abs_b(a, b):\n",
    "    \"\"\"Return a+abs(b), but without calling abs.\n",
    "\n",
    "    >>> a_plus_abs_b(2, 3)\n",
    "    5\n",
    "    >>> a_plus_abs_b(2, -3)\n",
    "    5\n",
    "    >>> a_plus_abs_b(-1, 4)\n",
    "    3\n",
    "    >>> a_plus_abs_b(-1, -4)\n",
    "    3\n",
    "    \"\"\"\n",
    "    if b < 0:\n",
    "        f = lambda x,y : x-y\n",
    "    else:\n",
    "        f = lambda x,y : x+y\n",
    "    return f(a, b)\n",
    "\n",
    "print(a_plus_abs_b(2, 3))\n",
    "print(a_plus_abs_b(2, -3))"
   ],
   "outputs": [
    {
     "name": "stdout",
     "output_type": "stream",
     "text": [
      "5\n",
      "5\n"
     ]
    }
   ],
   "execution_count": 4
  },
  {
   "metadata": {},
   "cell_type": "markdown",
   "source": "# Q2:Two of Three",
   "id": "4878e9d4bd270184"
  },
  {
   "metadata": {},
   "cell_type": "markdown",
   "source": "Write a function that takes three positive numbers as arguments and returns the sum of the squares of the two smallest numbers. Use only a single line for the body of the function.",
   "id": "ef53c74b977d04ce"
  },
  {
   "metadata": {
    "ExecuteTime": {
     "end_time": "2025-04-13T08:37:52.844721Z",
     "start_time": "2025-04-13T08:37:52.837836Z"
    }
   },
   "cell_type": "code",
   "source": [
    "def two_of_three(i, j, k):\n",
    "    \"\"\"Return m*m + n*n, where m and n are the two smallest members of the\n",
    "    positive numbers i, j, and k.\n",
    "\n",
    "    >>> two_of_three(1, 2, 3)\n",
    "    5\n",
    "    >>> two_of_three(5, 3, 1)\n",
    "    10\n",
    "    >>> two_of_three(10, 2, 8)\n",
    "    68\n",
    "    >>> two_of_three(5, 5, 5)\n",
    "    50\n",
    "    \"\"\"\n",
    "    return min(i,j,k)**2 + (i+j+k-min(i,j,k)-max(i,j,k))**2\n",
    "\n",
    "two_of_three(1, 2, 3)\n",
    "two_of_three(5, 3, 1)"
   ],
   "id": "78d342ade658ed56",
   "outputs": [
    {
     "data": {
      "text/plain": [
       "10"
      ]
     },
     "execution_count": 6,
     "metadata": {},
     "output_type": "execute_result"
    }
   ],
   "execution_count": 6
  },
  {
   "metadata": {},
   "cell_type": "markdown",
   "source": "# Q3:Largest Factor",
   "id": "4db0a655acd0d3a"
  },
  {
   "metadata": {},
   "cell_type": "markdown",
   "source": "Write a function that takes an integer n that is greater than 1 and returns the largest integer that is smaller than n and evenly divides n.",
   "id": "1c361993e5198d91"
  },
  {
   "metadata": {
    "ExecuteTime": {
     "end_time": "2025-04-13T08:48:14.174041Z",
     "start_time": "2025-04-13T08:48:14.155504Z"
    }
   },
   "cell_type": "code",
   "source": [
    "def largest_factor(n):\n",
    "    \"\"\"Return the largest factor of n that is smaller than n.\n",
    "\n",
    "    >>> largest_factor(15) # factors are 1, 3, 5\n",
    "    5\n",
    "    >>> largest_factor(80) # factors are 1, 2, 4, 5, 8, 10, 16, 20, 40\n",
    "    40\n",
    "    >>> largest_factor(13) # factor is 1 since 13 is prime\n",
    "    1\n",
    "    \"\"\"\n",
    "    \"*** YOUR CODE HERE ***\"\n",
    "    record = []\n",
    "    for i in range(1,n):\n",
    "        if n % i == 0:\n",
    "            record.append(i)\n",
    "    return max(record)\n",
    "print(largest_factor(15))\n",
    "print(largest_factor(80))\n",
    "print(largest_factor(13))"
   ],
   "id": "9434de3a637acce3",
   "outputs": [
    {
     "name": "stdout",
     "output_type": "stream",
     "text": [
      "5\n",
      "40\n",
      "1\n"
     ]
    }
   ],
   "execution_count": 10
  },
  {
   "metadata": {},
   "cell_type": "markdown",
   "source": "# Q4:Hailstone",
   "id": "5df259f9da5bcae8"
  },
  {
   "metadata": {},
   "cell_type": "markdown",
   "source": [
    "Douglas Hofstadter's Pulitzer-prize-winning book, Gödel, Escher, Bach, poses the following mathematical puzzle.\n",
    "\n",
    "- 1.Pick a positive integer n as the start.\n",
    "- 2.If n is even, divide it by 2.\n",
    "- 3.If n is odd, multiply it by 3 and add 1.\n",
    "-4.Continue this process until n is 1.\n",
    "\n",
    "The number n will travel up and down but eventually end at 1 (at least for all numbers that have ever been tried -- nobody has ever proved that the sequence will terminate). Analogously, a hailstone travels up and down in the atmosphere before eventually landing on earth.\n",
    "\n",
    "This sequence of values of n is often called a Hailstone sequence. Write a function that takes a single argument with formal parameter name n, prints out the hailstone sequence starting at n, and returns the number of steps in the sequence:"
   ],
   "id": "3735980b64e4578f"
  },
  {
   "metadata": {
    "ExecuteTime": {
     "end_time": "2025-04-13T09:05:29.952932Z",
     "start_time": "2025-04-13T09:05:29.947706Z"
    }
   },
   "cell_type": "code",
   "source": [
    "def hailstone(n):\n",
    "    \"\"\"Print the hailstone sequence starting at n and return its\n",
    "    length.\n",
    "\n",
    "    >>> a = hailstone(10)\n",
    "    10\n",
    "    5\n",
    "    16\n",
    "    8\n",
    "    4\n",
    "    2\n",
    "    1\n",
    "    >>> a\n",
    "    7\n",
    "    >>> b = hailstone(1)\n",
    "    1\n",
    "    >>> b\n",
    "    1\n",
    "    \"\"\"\n",
    "    \"*** YOUR CODE HERE ***\"\n",
    "    count = 1\n",
    "    print(n)\n",
    "    while n != 1:\n",
    "        if n % 2 == 0:\n",
    "            n = n //2\n",
    "        else:\n",
    "            n = 3 * n + 1\n",
    "        print(n)\n",
    "        count += 1\n",
    "\n",
    "    return count\n",
    "a = hailstone(10)\n",
    "print(a)"
   ],
   "id": "3650320534a1691",
   "outputs": [
    {
     "name": "stdout",
     "output_type": "stream",
     "text": [
      "10\n",
      "5\n",
      "16\n",
      "8\n",
      "4\n",
      "2\n",
      "1\n",
      "7\n"
     ]
    }
   ],
   "execution_count": 30
  },
  {
   "metadata": {},
   "cell_type": "markdown",
   "source": [
    "【注意】：\n",
    "- 1.a = hailstone(10) 只打印序列，不打印返回值\n",
    "- 2.print(a) 打印之前存储的返回值\n",
    "- 3.print(hailsone(10)) 打印序列和返回值"
   ],
   "id": "a4854b9a2a464bbb"
  }
 ],
 "metadata": {
  "kernelspec": {
   "display_name": "Python 3",
   "language": "python",
   "name": "python3"
  },
  "language_info": {
   "codemirror_mode": {
    "name": "ipython",
    "version": 2
   },
   "file_extension": ".py",
   "mimetype": "text/x-python",
   "name": "python",
   "nbconvert_exporter": "python",
   "pygments_lexer": "ipython2",
   "version": "2.7.6"
  }
 },
 "nbformat": 4,
 "nbformat_minor": 5
}
