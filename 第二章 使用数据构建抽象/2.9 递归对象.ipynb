{
 "cells": [
  {
   "metadata": {},
   "cell_type": "markdown",
   "source": "# 2.9 递归对象",
   "id": "61e0a6799d7321b8"
  },
  {
   "metadata": {},
   "cell_type": "markdown",
   "source": "对象可以以其他的对象作为自己的属性值。当这个类下的对象实例有一个属性的值还属于这个类时，这个对象就是一个递归对象",
   "id": "33ffc953991eebbe"
  },
  {
   "metadata": {},
   "cell_type": "markdown",
   "source": "## 2.9.1 类：链表",
   "id": "8770734b2b420341"
  },
  {
   "metadata": {},
   "cell_type": "markdown",
   "source": [
    "在之前的章节中我们已经提到过，链表 (Linked List) 由两个部分组成：第一个元素和链表剩下的部分。而剩下的这部分链表它本身就是个链表，这就是链表的递归定义法。其中，一个比较特殊的情况是空链表——他没有第一个元素和剩下的部分。\n",
    "\n",
    "链表是一种序列 (sequence)：它具有有限的长度并且支持通过索引选择元素。\n",
    "\n",
    "现在我们可以实现具有相同行为的类。在现在这个版本中，我们将使用专用方法名来定义它的行为，专用方法允许我们的类可以使用 Python 内置的 len 函数和元素选择操作符（方括号或 operator.getitem ）。这些内置函数将调用类的专用方法：长度由 \\_\\_len__ 计算，元素选择由 \\_\\_getitem__ 计算。空链表由一个长度为 0 且没有元素的空元组表示。"
   ],
   "id": "2e4e7ae2e2cab68e"
  },
  {
   "cell_type": "code",
   "id": "initial_id",
   "metadata": {
    "collapsed": true,
    "ExecuteTime": {
     "end_time": "2025-04-08T05:50:25.968474Z",
     "start_time": "2025-04-08T05:50:25.952006Z"
    }
   },
   "source": [
    "class Link:\n",
    "    \"\"\"一个链表\"\"\"\n",
    "    empty = ()\n",
    "    def __init__(self, first,rest=()):\n",
    "        assert rest == Link.empty or isinstance(rest,Link)\n",
    "        self.first = first\n",
    "        self.rest = rest\n",
    "    def __getitem__(self,i):\n",
    "        if i == 0:\n",
    "            return self.first\n",
    "        else:\n",
    "            return self.rest[i-1]\n",
    "    def __len__(self):\n",
    "        return 1 + len(self.rest)\n",
    "\n",
    "s = Link(3,Link(4,Link(5)))\n",
    "\n",
    "print(len(s))\n",
    "s[1]"
   ],
   "outputs": [
    {
     "name": "stdout",
     "output_type": "stream",
     "text": [
      "3\n"
     ]
    },
    {
     "data": {
      "text/plain": [
       "4"
      ]
     },
     "execution_count": 4,
     "metadata": {},
     "output_type": "execute_result"
    }
   ],
   "execution_count": 4
  },
  {
   "metadata": {},
   "cell_type": "markdown",
   "source": [
    "以上的\\_\\_len__和\\_\\_getitem__的定义都是递归的。Python 的内置函数 len 在它接收属于用户定义的类的实例时调用了\\_\\_len__方法。类似地，元素选择操作符则会调用\\_\\_getitem__方法。因此，这两个方法定义的主体中都会间接的调用它们自己。对于 \\_\\_len__ 来说，基线条件 (base case) 就是当 self.rest 计算得到一个空元组，也就是 Link.empty 时，此时长度为 0。\n",
    "\n",
    "内置的 isinstance 函数返回第一个参数的类型是否属于或者继承自第二个参数。isinstance(rest, Link) 在 rest 是 Link 的实例或 Link 的子类的实例时为 True。\n",
    "\n",
    "我们对于链表的类定义已经很完备了，但是现在我们还无法直观地看到 Link 的实例。为了方便之后的调试工作，我们再定义一个函数去将一个 Link 实例转换为一个字符串表达式。"
   ],
   "id": "194f41db374d313a"
  },
  {
   "metadata": {
    "ExecuteTime": {
     "end_time": "2025-04-08T05:50:28.094136Z",
     "start_time": "2025-04-08T05:50:28.080451Z"
    }
   },
   "cell_type": "code",
   "source": [
    "def link_expression(s):\n",
    "    \"\"\"返回一个可以计算得到s的字符串表达式\"\"\"\n",
    "    if s.rest is Link.empty:\n",
    "        rest = ''\n",
    "    else:\n",
    "        rest = ', ' + link_expression(s.rest)\n",
    "    return 'Link({0}{1})'.format(s.first,rest)\n",
    "\n",
    "link_expression(s)"
   ],
   "id": "cad098775d2abb76",
   "outputs": [
    {
     "data": {
      "text/plain": [
       "'Link(3, Link(4, Link(5)))'"
      ]
     },
     "execution_count": 5,
     "metadata": {},
     "output_type": "execute_result"
    }
   ],
   "execution_count": 5
  },
  {
   "metadata": {},
   "cell_type": "markdown",
   "source": [
    "【注】：\n",
    "- format() 是 Python 字符串的一个方法，用于将值插入到字符串中的占位符位置。\n",
    "- {0} 和 {1} 是位置占位符，分别表示第一个和第二个要插入的值。"
   ],
   "id": "c8e5725cefb518a8"
  },
  {
   "metadata": {},
   "cell_type": "markdown",
   "source": "用这个方法去展示一个链表实在是太方便了，以至于我想在任何需要展示一个 Link 的实例的时候都用上它。为了达到这个美好愿景，我们可以将函数 link_expression 作为专用方法 \\_\\_repr__ 的值。Python 在展示一个用户定义的类的实例时，会调用它们的 \\_\\_repr__ 方法。",
   "id": "6397d3671f0ac812"
  },
  {
   "metadata": {
    "ExecuteTime": {
     "end_time": "2025-04-08T05:50:29.733073Z",
     "start_time": "2025-04-08T05:50:29.720669Z"
    }
   },
   "cell_type": "code",
   "source": [
    "Link.__repr__ = link_expression\n",
    "s"
   ],
   "id": "96159a9c410bd560",
   "outputs": [
    {
     "data": {
      "text/plain": [
       "Link(3, Link(4, Link(5)))"
      ]
     },
     "execution_count": 6,
     "metadata": {},
     "output_type": "execute_result"
    }
   ],
   "execution_count": 6
  },
  {
   "metadata": {},
   "cell_type": "markdown",
   "source": "Link 类具有闭包性质 (closure property)。就像列表的元素可以是列表一样，一个 Link 实例的第一个元素也可以是一个 Link 实例。",
   "id": "dbeb39fdb73c236b"
  },
  {
   "metadata": {
    "ExecuteTime": {
     "end_time": "2025-04-08T03:29:58.680661Z",
     "start_time": "2025-04-08T03:29:58.675159Z"
    }
   },
   "cell_type": "code",
   "source": [
    "s_first = Link(s,Link(6))\n",
    "s_first"
   ],
   "id": "da80d8800d73855c",
   "outputs": [
    {
     "data": {
      "text/plain": [
       "Link(Link(3, Link(4, Link(5))), Link(6))"
      ]
     },
     "execution_count": 4,
     "metadata": {},
     "output_type": "execute_result"
    }
   ],
   "execution_count": 4
  },
  {
   "metadata": {},
   "cell_type": "markdown",
   "source": "链表 s_first 只有两个元素，但它的第一个元素是一个有着三个元素的链表。",
   "id": "c5a3ae10b51f1440"
  },
  {
   "metadata": {
    "ExecuteTime": {
     "end_time": "2025-04-08T03:29:58.695822Z",
     "start_time": "2025-04-08T03:29:58.691712Z"
    }
   },
   "cell_type": "code",
   "source": [
    "print(len(s_first))\n",
    "print(s_first[0])\n",
    "s_first[0][2]"
   ],
   "id": "8ff97c04e62a41ab",
   "outputs": [
    {
     "name": "stdout",
     "output_type": "stream",
     "text": [
      "2\n",
      "Link(3, Link(4, Link(5)))\n"
     ]
    },
    {
     "data": {
      "text/plain": [
       "5"
      ]
     },
     "execution_count": 5,
     "metadata": {},
     "output_type": "execute_result"
    }
   ],
   "execution_count": 5
  },
  {
   "metadata": {},
   "cell_type": "markdown",
   "source": "递归函数特别适合操作链表。比如，递归函数 extend_link 建立了一个新的链表，这个新链表是由链表 s 和其后边跟着的链表 t 组成的。将这个函数作为 Link 类的方法 \\_\\_add__ 就可以仿真内置列表的加法运算。",
   "id": "36ff55eb76d001d4"
  },
  {
   "metadata": {
    "ExecuteTime": {
     "end_time": "2025-04-08T05:50:32.194617Z",
     "start_time": "2025-04-08T05:50:32.178380Z"
    }
   },
   "cell_type": "code",
   "source": [
    "def extend_link(s,t):\n",
    "    if s is Link.empty:\n",
    "        return t\n",
    "    else:\n",
    "        return Link(s.first,extend_link(s.rest,t))\n",
    "print(extend_link(s,s))\n",
    "Link.__add__ = extend_link\n",
    "s + s"
   ],
   "id": "bfae54203a1c0ee8",
   "outputs": [
    {
     "name": "stdout",
     "output_type": "stream",
     "text": [
      "Link(3, Link(4, Link(5, Link(3, Link(4, Link(5))))))\n"
     ]
    },
    {
     "data": {
      "text/plain": [
       "Link(3, Link(4, Link(5, Link(3, Link(4, Link(5))))))"
      ]
     },
     "execution_count": 7,
     "metadata": {},
     "output_type": "execute_result"
    }
   ],
   "execution_count": 7
  },
  {
   "metadata": {},
   "cell_type": "markdown",
   "source": "想要实现列表推导式 (List Comprehensions)，也就是从一个链表生成另一个链表，我们需要两个高阶函数：map_link 和 filter_link。其中 map_link 将函数 f 应用到链表 s 的每个元素，并将结果构造成一个新的链表。",
   "id": "5461195c49b057d1"
  },
  {
   "metadata": {
    "ExecuteTime": {
     "end_time": "2025-04-08T05:50:33.863347Z",
     "start_time": "2025-04-08T05:50:33.847776Z"
    }
   },
   "cell_type": "code",
   "source": [
    "def square(x):\n",
    "    return x * x\n",
    "\n",
    "def map_link(f,s):\n",
    "    if s is Link.empty:\n",
    "        return s\n",
    "    else:\n",
    "        return Link(f(s.first),map_link(f,s.rest))\n",
    "print(map_link(square,s))"
   ],
   "id": "2203586b4d4cdb5e",
   "outputs": [
    {
     "name": "stdout",
     "output_type": "stream",
     "text": [
      "Link(9, Link(16, Link(25)))\n"
     ]
    }
   ],
   "execution_count": 8
  },
  {
   "metadata": {},
   "cell_type": "markdown",
   "source": "函数 filter_link 返回了一个链表，这个链表过滤掉了原链表 s 中使函数 f 不返回真的元素，留下了其余的元素。通过组合使用 map_link 和 filter_link，我们可以达到和列表推导式相同的逻辑过程和结果。",
   "id": "b42e595a70dfbc5e"
  },
  {
   "metadata": {
    "ExecuteTime": {
     "end_time": "2025-04-08T05:50:36.935817Z",
     "start_time": "2025-04-08T05:50:36.927844Z"
    }
   },
   "cell_type": "code",
   "source": [
    "def filter_link(f,s):\n",
    "    if s is Link.empty:\n",
    "        return s\n",
    "    else:\n",
    "        filtered = filter_link(f,s.rest)\n",
    "        if f(s.first):\n",
    "            return Link(s.first,filtered)\n",
    "        else:\n",
    "            return filtered\n",
    "\n",
    "odd = lambda x:x%2==1\n",
    "print(map_link(square,filter_link(odd,s)))\n",
    "print([square(x) for x in [3,4,5] if odd(x)])"
   ],
   "id": "92c96843bc05058e",
   "outputs": [
    {
     "name": "stdout",
     "output_type": "stream",
     "text": [
      "Link(9, Link(25))\n",
      "[9, 25]\n"
     ]
    }
   ],
   "execution_count": 9
  },
  {
   "metadata": {},
   "cell_type": "markdown",
   "source": "函数 join_link 递归的构造了一个 包含着所有在链表里的元素，并且这些元素被字符串 separator 分开 的字符串。这个结果相较于 link_expression 来说就更加简练。",
   "id": "e99b8740bec4328e"
  },
  {
   "metadata": {
    "ExecuteTime": {
     "end_time": "2025-04-08T05:50:38.682010Z",
     "start_time": "2025-04-08T05:50:38.667423Z"
    }
   },
   "cell_type": "code",
   "source": [
    "def join_link(s,separator):\n",
    "    if s is Link.empty:\n",
    "        return \"\"\n",
    "    elif s.rest is Link.empty:\n",
    "        return str(s.first)\n",
    "    else:\n",
    "        return str(s.first) + separator + join_link(s.rest,separator)\n",
    "join_link(s,',')"
   ],
   "id": "ee89c6909e1012d7",
   "outputs": [
    {
     "data": {
      "text/plain": [
       "'3,4,5'"
      ]
     },
     "execution_count": 10,
     "metadata": {},
     "output_type": "execute_result"
    }
   ],
   "execution_count": 10
  },
  {
   "metadata": {},
   "cell_type": "markdown",
   "source": [
    "**递归构造**（Recursive Construction）。当以增量方式构造序列时，链表特别有用，这种情况在递归计算中经常出现\n",
    "\n",
    "第一章我们介绍过的函数 count_partitions 通过树递归计算了使用大小最大为 m 的数对整数 n 进行分区的方法的个数。通过序列，我们还可以使用类似的过程显式枚举这些分区。\n",
    "\n",
    "与计数方法个数的方法相同，我们利用相同的递归统计方法：将一个数 n 在最大数限制为 m 下分区包含两种情况：\n",
    "\n",
    "- 1.用 m 及以内的整数划分 n-m\n",
    "- 2.用 m-1 及以内的整数划分 n\n",
    "\n",
    "对于基线情况，我们知道 0 只有一个分区方法，而划分一个负整数或使用小于 1 的数划分是不可能的。"
   ],
   "id": "4dd442d5e35ecd4d"
  },
  {
   "metadata": {
    "ExecuteTime": {
     "end_time": "2025-04-08T05:50:40.768546Z",
     "start_time": "2025-04-08T05:50:40.744627Z"
    }
   },
   "cell_type": "code",
   "source": [
    "def partitions(n,m):\n",
    "    \"\"\"Return a linked list of partitions of n using parts of up to m.\n",
    "    Each partition is represented as a linked list\"\"\"\n",
    "    if n == 0:\n",
    "        return Link(Link.empty) # A list containing the empty partition\n",
    "    elif n < 0 or m == 0:\n",
    "        return Link.empty  # 无效情况，返回空链表\n",
    "    else:\n",
    "        using_m = partitions(n-m,m) # 递归获取n-m的分区（每个分区还可以继续使用m）\n",
    "        with_m = map_link(lambda s:Link(m,s),using_m) # 在每个分区前面加上m\n",
    "        without_m = partitions(n,m-1)\n",
    "        return with_m + without_m"
   ],
   "id": "551c6f6b1edc8e12",
   "outputs": [],
   "execution_count": 11
  },
  {
   "metadata": {},
   "cell_type": "markdown",
   "source": [
    "在递归情况下，我们构造两个分区子列表。第一个使用m，因此我们将m添加到using_m的结果的每个元素中以形成with_m。\n",
    "\n",
    "分区的结果是高度嵌套的：是一个链表的链表。使用带有适当分隔符的join_link，我们可以以易读的方式显示各个分区"
   ],
   "id": "bb35545de67b4937"
  },
  {
   "metadata": {
    "ExecuteTime": {
     "end_time": "2025-04-08T03:30:10.432653Z",
     "start_time": "2025-04-08T03:30:10.383834Z"
    }
   },
   "cell_type": "code",
   "source": [
    "def print_partitions(n,m):\n",
    "    lists = partitions(n,m)\n",
    "    strings = map_link(lambda s : join_link(s,'+'),lists)\n",
    "    print(join_link(strings,\"\\n\"))\n",
    "print_partitions(6,4)"
   ],
   "id": "384bc531b2602d8b",
   "outputs": [
    {
     "ename": "TypeError",
     "evalue": "can only concatenate tuple (not \"Link\") to tuple",
     "output_type": "error",
     "traceback": [
      "\u001B[1;31m---------------------------------------------------------------------------\u001B[0m",
      "\u001B[1;31mTypeError\u001B[0m                                 Traceback (most recent call last)",
      "Cell \u001B[1;32mIn[12], line 5\u001B[0m\n\u001B[0;32m      3\u001B[0m     strings \u001B[38;5;241m=\u001B[39m map_link(\u001B[38;5;28;01mlambda\u001B[39;00m s : join_link(s,\u001B[38;5;124m'\u001B[39m\u001B[38;5;124m+\u001B[39m\u001B[38;5;124m'\u001B[39m),lists)\n\u001B[0;32m      4\u001B[0m     \u001B[38;5;28mprint\u001B[39m(join_link(strings,\u001B[38;5;124m\"\u001B[39m\u001B[38;5;130;01m\\n\u001B[39;00m\u001B[38;5;124m\"\u001B[39m))\n\u001B[1;32m----> 5\u001B[0m \u001B[43mprint_partitions\u001B[49m\u001B[43m(\u001B[49m\u001B[38;5;241;43m6\u001B[39;49m\u001B[43m,\u001B[49m\u001B[38;5;241;43m4\u001B[39;49m\u001B[43m)\u001B[49m\n",
      "Cell \u001B[1;32mIn[12], line 2\u001B[0m, in \u001B[0;36mprint_partitions\u001B[1;34m(n, m)\u001B[0m\n\u001B[0;32m      1\u001B[0m \u001B[38;5;28;01mdef\u001B[39;00m \u001B[38;5;21mprint_partitions\u001B[39m(n,m):\n\u001B[1;32m----> 2\u001B[0m     lists \u001B[38;5;241m=\u001B[39m \u001B[43mpartitions\u001B[49m\u001B[43m(\u001B[49m\u001B[43mn\u001B[49m\u001B[43m,\u001B[49m\u001B[43mm\u001B[49m\u001B[43m)\u001B[49m\n\u001B[0;32m      3\u001B[0m     strings \u001B[38;5;241m=\u001B[39m map_link(\u001B[38;5;28;01mlambda\u001B[39;00m s : join_link(s,\u001B[38;5;124m'\u001B[39m\u001B[38;5;124m+\u001B[39m\u001B[38;5;124m'\u001B[39m),lists)\n\u001B[0;32m      4\u001B[0m     \u001B[38;5;28mprint\u001B[39m(join_link(strings,\u001B[38;5;124m\"\u001B[39m\u001B[38;5;130;01m\\n\u001B[39;00m\u001B[38;5;124m\"\u001B[39m))\n",
      "Cell \u001B[1;32mIn[10], line 9\u001B[0m, in \u001B[0;36mpartitions\u001B[1;34m(n, m)\u001B[0m\n\u001B[0;32m      7\u001B[0m     \u001B[38;5;28;01mreturn\u001B[39;00m Link\u001B[38;5;241m.\u001B[39mempty  \u001B[38;5;66;03m# 无效情况，返回空链表\u001B[39;00m\n\u001B[0;32m      8\u001B[0m \u001B[38;5;28;01melse\u001B[39;00m:\n\u001B[1;32m----> 9\u001B[0m     using_m \u001B[38;5;241m=\u001B[39m \u001B[43mpartitions\u001B[49m\u001B[43m(\u001B[49m\u001B[43mn\u001B[49m\u001B[38;5;241;43m-\u001B[39;49m\u001B[43mm\u001B[49m\u001B[43m,\u001B[49m\u001B[43mm\u001B[49m\u001B[43m)\u001B[49m \u001B[38;5;66;03m# 递归获取n-m的分区（每个分区还可以继续使用m）\u001B[39;00m\n\u001B[0;32m     10\u001B[0m     with_m \u001B[38;5;241m=\u001B[39m map_link(\u001B[38;5;28;01mlambda\u001B[39;00m s:Link(m,s),using_m) \u001B[38;5;66;03m# 在每个分区前面加上m\u001B[39;00m\n\u001B[0;32m     11\u001B[0m     without_m \u001B[38;5;241m=\u001B[39m partitions(n,m\u001B[38;5;241m-\u001B[39m\u001B[38;5;241m1\u001B[39m)\n",
      "Cell \u001B[1;32mIn[10], line 11\u001B[0m, in \u001B[0;36mpartitions\u001B[1;34m(n, m)\u001B[0m\n\u001B[0;32m      9\u001B[0m using_m \u001B[38;5;241m=\u001B[39m partitions(n\u001B[38;5;241m-\u001B[39mm,m) \u001B[38;5;66;03m# 递归获取n-m的分区（每个分区还可以继续使用m）\u001B[39;00m\n\u001B[0;32m     10\u001B[0m with_m \u001B[38;5;241m=\u001B[39m map_link(\u001B[38;5;28;01mlambda\u001B[39;00m s:Link(m,s),using_m) \u001B[38;5;66;03m# 在每个分区前面加上m\u001B[39;00m\n\u001B[1;32m---> 11\u001B[0m without_m \u001B[38;5;241m=\u001B[39m \u001B[43mpartitions\u001B[49m\u001B[43m(\u001B[49m\u001B[43mn\u001B[49m\u001B[43m,\u001B[49m\u001B[43mm\u001B[49m\u001B[38;5;241;43m-\u001B[39;49m\u001B[38;5;241;43m1\u001B[39;49m\u001B[43m)\u001B[49m\n\u001B[0;32m     12\u001B[0m \u001B[38;5;28;01mreturn\u001B[39;00m with_m \u001B[38;5;241m+\u001B[39m without_m\n",
      "Cell \u001B[1;32mIn[10], line 12\u001B[0m, in \u001B[0;36mpartitions\u001B[1;34m(n, m)\u001B[0m\n\u001B[0;32m     10\u001B[0m with_m \u001B[38;5;241m=\u001B[39m map_link(\u001B[38;5;28;01mlambda\u001B[39;00m s:Link(m,s),using_m) \u001B[38;5;66;03m# 在每个分区前面加上m\u001B[39;00m\n\u001B[0;32m     11\u001B[0m without_m \u001B[38;5;241m=\u001B[39m partitions(n,m\u001B[38;5;241m-\u001B[39m\u001B[38;5;241m1\u001B[39m)\n\u001B[1;32m---> 12\u001B[0m \u001B[38;5;28;01mreturn\u001B[39;00m \u001B[43mwith_m\u001B[49m\u001B[43m \u001B[49m\u001B[38;5;241;43m+\u001B[39;49m\u001B[43m \u001B[49m\u001B[43mwithout_m\u001B[49m\n",
      "\u001B[1;31mTypeError\u001B[0m: can only concatenate tuple (not \"Link\") to tuple"
     ]
    }
   ],
   "execution_count": 12
  },
  {
   "metadata": {},
   "cell_type": "markdown",
   "source": "## 2.9.2 类：树",
   "id": "4c09344caa066132"
  },
  {
   "metadata": {},
   "cell_type": "markdown",
   "source": "树也可以用用户定义的类的实例来表示，而不是内置序列类型的嵌套实例。树是具有**作为属性的分支序列**的任何数据结构，同时，这些分支序列也是树。",
   "id": "e813801e2de9d48b"
  },
  {
   "metadata": {},
   "cell_type": "markdown",
   "source": "**内部值**。以前，我们定义树的方式是假设所以的值都出现在叶子上，然而在每个子树的根处定义具有内部值得树也很常见。内部值在树中称为label。下面的Tree类就表示这样的树，其中每颗树都有一系列分支，这些分支也是树。",
   "id": "278bcf03d3af12f"
  },
  {
   "metadata": {
    "ExecuteTime": {
     "end_time": "2025-04-08T03:40:28.200282Z",
     "start_time": "2025-04-08T03:40:28.188293Z"
    }
   },
   "cell_type": "code",
   "source": [
    "class Tree:\n",
    "    def __init__(self,label,branches=()):\n",
    "        self.label = label\n",
    "        for branch in branches:\n",
    "            assert isinstance(branch,Tree)\n",
    "        self.branches = branches\n",
    "    def __repr__(self):\n",
    "        if self.branches:\n",
    "            return 'Tree({0},{1})'.format(self.label,repr(self.branches))\n",
    "        else:\n",
    "            return 'Tree({0})'.format(repr(self.label))\n",
    "    def is_leaf(self):\n",
    "        return not self.branches"
   ],
   "id": "2070184fb6fc34c9",
   "outputs": [],
   "execution_count": 14
  },
  {
   "metadata": {},
   "cell_type": "markdown",
   "source": "例如，Tree类可以表示**用于计算斐波那契数的函数**fib的递归表达式树中计算的值。下面的函数 fib_tree(n) 返回一个 Tree 的实例，该实例以第 n 个斐波那契数作为其 label，并在其分支中跟踪所有先前计算的斐波那契数。",
   "id": "79b95c0e7098120e"
  },
  {
   "metadata": {
    "ExecuteTime": {
     "end_time": "2025-04-08T03:40:29.720466Z",
     "start_time": "2025-04-08T03:40:29.697838Z"
    }
   },
   "cell_type": "code",
   "source": [
    "def fib_tree(n):\n",
    "    if n == 1:\n",
    "        return Tree(0) # fib(1) = 0\n",
    "    elif n == 2:\n",
    "        return Tree(1) # fib(2) = 1\n",
    "    else:\n",
    "        left = fib_tree(n-2)\n",
    "        right = fib_tree(n-1)\n",
    "        return Tree(left.label+right.label,(left,right)) # 当前节点的值是左+右，分支是左和右\n",
    "\n",
    "fib_tree(5)"
   ],
   "id": "daa87fb35600124c",
   "outputs": [
    {
     "data": {
      "text/plain": [
       "Tree(3,(Tree(1,(Tree(0), Tree(1))), Tree(2,(Tree(1), Tree(1,(Tree(0), Tree(1)))))))"
      ]
     },
     "execution_count": 15,
     "metadata": {},
     "output_type": "execute_result"
    }
   ],
   "execution_count": 15
  },
  {
   "metadata": {},
   "cell_type": "markdown",
   "source": "并且，Tree 类的实例也可以用递归函数进行处理。例如，我们可以对树的 label 求和。",
   "id": "a106173764de1d7"
  },
  {
   "metadata": {
    "ExecuteTime": {
     "end_time": "2025-04-08T03:47:37.739655Z",
     "start_time": "2025-04-08T03:47:37.732655Z"
    }
   },
   "cell_type": "code",
   "source": [
    "def sum_labels(t):\n",
    "    \"\"\"对树的label求和，可能得到None\"\"\"\n",
    "    return t.label + sum([sum_labels(b) for b in t.branches])\n",
    "\n",
    "sum_labels(fib_tree(5))"
   ],
   "id": "1a7f5555f33523d6",
   "outputs": [
    {
     "data": {
      "text/plain": [
       "10"
      ]
     },
     "execution_count": 16,
     "metadata": {},
     "output_type": "execute_result"
    }
   ],
   "execution_count": 16
  },
  {
   "metadata": {},
   "cell_type": "markdown",
   "source": "我们也可以用 memo 去构造一个斐波那契树。有了它，重复的子树只会被记忆版本的 fib_tree 创建一次，然后在不同大小的树中被用作分支很多次。（译者：更多关于 memo 的内容可以看 [Python 中 的 memoize 和 memoized_memoize](https://blog.csdn.net/ztf312/article/details/82823336) 或者自行 Google 搜索）",
   "id": "bc770582fa8787ca"
  },
  {
   "metadata": {},
   "cell_type": "code",
   "outputs": [],
   "execution_count": null,
   "source": [
    "# >>> fib_tree = memo(fib_tree)\n",
    "# >>> big_fib_tree = fib_tree(35)\n",
    "# >>> big_fib_tree.label\n",
    "# 5702887\n",
    "# >>> big_fib_tree.branches[0] is big_fib_tree.branches[1].branches[1]\n",
    "# True\n",
    "# >>> sum_labels = memo(sum_labels)\n",
    "# >>> sum_labels(big_fib_tree)\n",
    "# 142587180"
   ],
   "id": "b4ffedc18586d309"
  },
  {
   "metadata": {},
   "cell_type": "markdown",
   "source": "在这种情况下，通过记忆节省的计算时间和内存量是相当可观的。我们现在只创建 35 个实例，而不是创建 18,454,929 个不同的 Tree 实例。",
   "id": "137bccc9efdca971"
  },
  {
   "metadata": {},
   "cell_type": "markdown",
   "source": "## 2.9.3 集合",
   "id": "4be9fd70fd88de3d"
  },
  {
   "metadata": {},
   "cell_type": "markdown",
   "source": "除了列表、元组、字典，Python 还有第四种内置的容器类型：集合（set），集合字面量遵循了它的数学表示法：用大括号括起来元素们。重复的元素会在创建集合时被移除。集合是无序的，这表明元素被打印的顺序可能和他们在字面量中的顺序不同。",
   "id": "b9fe992ba8fcbe61"
  },
  {
   "metadata": {
    "ExecuteTime": {
     "end_time": "2025-04-08T03:49:36.969488Z",
     "start_time": "2025-04-08T03:49:36.948191Z"
    }
   },
   "cell_type": "code",
   "source": [
    "s = {3, 2, 1, 4, 4}\n",
    "s"
   ],
   "id": "abfbb269049472bf",
   "outputs": [
    {
     "data": {
      "text/plain": [
       "{1, 2, 3, 4}"
      ]
     },
     "execution_count": 17,
     "metadata": {},
     "output_type": "execute_result"
    }
   ],
   "execution_count": 17
  },
  {
   "metadata": {},
   "cell_type": "markdown",
   "source": "Python 的集合支持多种操作：包括成员测试、长度计算以及并集和交集的标准集合操作。",
   "id": "f7b7d54f7fcaa952"
  },
  {
   "metadata": {
    "ExecuteTime": {
     "end_time": "2025-04-08T03:50:30.856921Z",
     "start_time": "2025-04-08T03:50:30.840808Z"
    }
   },
   "cell_type": "code",
   "source": [
    "print(3 in s)\n",
    "print(len(s))\n",
    "print(s.union({1,5}))\n",
    "print(s.intersection({6,5,4,3}))"
   ],
   "id": "c5f13371a2743252",
   "outputs": [
    {
     "name": "stdout",
     "output_type": "stream",
     "text": [
      "True\n",
      "4\n",
      "{1, 2, 3, 4, 5}\n",
      "{3, 4}\n"
     ]
    }
   ],
   "execution_count": 20
  },
  {
   "metadata": {},
   "cell_type": "markdown",
   "source": "除了 union 和 intersection 外，Python 还支持一些其他的集合方法：isdisjoint, issubset, 和 issuperset 提供了集合之间的比较。集合是可变的，可以用 add, remove, discard 和 pop 方法来一次改变一个元素。其他的一些方法提供了一次改变多个元素的功能，比如 clear 和 update。Python 的官方文档 [documentation for sets](https://docs.python.org/3/library/stdtypes.html#set) 在课应该足够容易理解，并为课程填写了更多细节。",
   "id": "4fa78e73f522f5d4"
  },
  {
   "metadata": {},
   "cell_type": "markdown",
   "source": [
    "**实现集合**。抽象地说，集合 (set) 是支持成员检验、并集、交集和合集的不同对象的集合 (collection)。支持将元素和集合连接在一起将返回一个新集合，该集合包含原集合的所有元素以及新元素 (如果新元素是不同的)。并集和交集返回分别出现在其中一个集合或同时出现在两个集合中的元素集合。与任何数据抽象一样，我们可以自由地在提供此 行为集合 (collection) 的集合的任何表示上实现任何函数。\n",
    "\n",
    "在本节的其余部分中，我们将考虑实现集合的三种不同方法，它们的表示方式各不相同。我们将通过分析集合运算的增长顺序来表征这些不同表示的效率。我们将使用本节前面的 Link 和 Tree 类，它们可以为基本集合操作提供简单而优雅的递归解决方案。"
   ],
   "id": "f8641437d1485de2"
  },
  {
   "metadata": {},
   "cell_type": "markdown",
   "source": "**作为无序序列的集合**。表示集合的一种方法是将其表示为一个元素出现次数不超过一次的序列。空集合由空序列表示。成员测试将会递归地遍历列表。",
   "id": "be2f8e2fa4ae9dd2"
  },
  {
   "metadata": {
    "ExecuteTime": {
     "end_time": "2025-04-08T03:57:01.655114Z",
     "start_time": "2025-04-08T03:57:01.647098Z"
    }
   },
   "cell_type": "code",
   "source": [
    "def empty(s):\n",
    "    return s is Link.empty\n",
    "\n",
    "def  set_contains(s,v):\n",
    "    \"\"\"当且仅当set s 包含v 时返回True\"\"\"\n",
    "    if empty(s):\n",
    "        return False\n",
    "    elif s.first == v:\n",
    "        return True\n",
    "    else:\n",
    "        return set_contains(s.rest,v)\n",
    "\n",
    "s = Link(4,Link(1,Link(5)))\n",
    "print(set_contains(s,2))\n",
    "print(set_contains(s,5))"
   ],
   "id": "39128cbcadb5adef",
   "outputs": [
    {
     "name": "stdout",
     "output_type": "stream",
     "text": [
      "False\n",
      "True\n"
     ]
    }
   ],
   "execution_count": 22
  },
  {
   "metadata": {},
   "cell_type": "markdown",
   "source": "set_contains 的实现需要的时间复杂度是θ(n)，其中 n 是集合 s 的大小。使用这个线性时间函数来表示成员关系，我们可以在线性时间内将一个元素与一个集合相邻地组合到一起。",
   "id": "71c4280f89426d96"
  },
  {
   "metadata": {
    "ExecuteTime": {
     "end_time": "2025-04-08T03:58:39.110307Z",
     "start_time": "2025-04-08T03:58:39.100936Z"
    }
   },
   "cell_type": "code",
   "source": [
    "def adjoin_set(s,v):\n",
    "    \"\"\"返回一个包含s的所有元素和元素v的所有元素的集合\"\"\"\n",
    "    if set_contains(s,v):\n",
    "        return s\n",
    "    else:\n",
    "        return Link(v,s)\n",
    "\n",
    "t = adjoin_set(s,2)\n",
    "t"
   ],
   "id": "9348c1167e324863",
   "outputs": [
    {
     "data": {
      "text/plain": [
       "Link(2, Link(4, Link(1, Link(5))))"
      ]
     },
     "execution_count": 24,
     "metadata": {},
     "output_type": "execute_result"
    }
   ],
   "execution_count": 24
  },
  {
   "metadata": {},
   "cell_type": "markdown",
   "source": "在设计时，我们应该考虑的问题之一是 效率。相交两个集合 set1 和 set2 也需要进行成员测试，但这次必须测试 set1 的每个元素在 set2 中的隶属性：这会从而导致步骤数的二次增长，即为θ($n^2$)。",
   "id": "5ce8b1f148262f89"
  },
  {
   "metadata": {},
   "cell_type": "code",
   "outputs": [],
   "execution_count": null,
   "source": [
    "def intersect_set(set1,set2):\n",
    "    \"\"\"返回一个集合，包含set1和set2中的公共元素\"\"\"\n",
    "    # 遍历set1的每个元素v，检查v是否也在set2中（通过set_contains），如果是，则保留v；否则丢弃\n",
    "    # 最终返回一个只包含公共元素的新列表\n",
    "    return keep_if_link(set1,lambda v:set_contains(set2,v))\n",
    "\n",
    "intersect_set(t,apply_to_all_link(s,square))"
   ],
   "id": "56266340131903a3"
  },
  {
   "metadata": {},
   "cell_type": "markdown",
   "source": "在计算两个集合的并集时，我们必须小心不要重复包含任何元素。该 union_set 函数还需要线性的时间来进行成员资格测试，从而导致整个过程的时间复杂度为θ($n^2$)",
   "id": "3263a935c07c83bb"
  },
  {
   "metadata": {},
   "cell_type": "code",
   "outputs": [],
   "execution_count": null,
   "source": [
    "def union_set(set1,set2):\n",
    "    \"\"\"返回一个集合，包含set1和set2中的所有元素\"\"\"\n",
    "    set1_not_set2 = keep_if_link(set1,lambda v:not set_contains(set2,v))\n",
    "    return extend_link(set1_not_set2,set2)\n",
    "\n",
    "union_set(t,s)"
   ],
   "id": "68574f21475d1bcf"
  },
  {
   "metadata": {},
   "cell_type": "markdown",
   "source": [
    "**作为有序序列的集合**。加快集合操作的一种方法是改变表示方法，使集合元素按递增顺序排列。要做到这一点，我们需要一些方法来比较两个对象，这样我们就可以知道哪个更大。在 Python 中，可以使用 < 和 > 操作符比较许多不同类型的对象，但在本例中我们将集中讨论数字。我们将通过按递增顺序列出其元素来表示一组数字。\n",
    "\n",
    "排序的一个优点体现在 set_contains 中：在检查对象是否存在时，我们不再需要遍历整个集合。如果到达的集合元素比要查找的元素大，则知道该元素不在集合中："
   ],
   "id": "9001aa7f291b77e1"
  },
  {
   "metadata": {
    "ExecuteTime": {
     "end_time": "2025-04-08T05:53:18.451323Z",
     "start_time": "2025-04-08T05:53:18.408763Z"
    }
   },
   "cell_type": "code",
   "source": [
    "def set_contains(s,v):\n",
    "    if empty(s) or s.first>v:\n",
    "        return False\n",
    "    elif s.first == v:\n",
    "        return True\n",
    "    else:\n",
    "        return set_contains(s.rest,v)\n",
    "\n",
    "u = Link(1,Link(4,Link(5)))\n",
    "print(set_contains(u,0))\n",
    "print(set_contains(u,4))"
   ],
   "id": "594314fd6aea6ada",
   "outputs": [
    {
     "ename": "NameError",
     "evalue": "name 'empty' is not defined",
     "output_type": "error",
     "traceback": [
      "\u001B[1;31m---------------------------------------------------------------------------\u001B[0m",
      "\u001B[1;31mNameError\u001B[0m                                 Traceback (most recent call last)",
      "Cell \u001B[1;32mIn[13], line 10\u001B[0m\n\u001B[0;32m      7\u001B[0m         \u001B[38;5;28;01mreturn\u001B[39;00m set_contains(s\u001B[38;5;241m.\u001B[39mrest,v)\n\u001B[0;32m      9\u001B[0m u \u001B[38;5;241m=\u001B[39m Link(\u001B[38;5;241m1\u001B[39m,Link(\u001B[38;5;241m4\u001B[39m,Link(\u001B[38;5;241m5\u001B[39m)))\n\u001B[1;32m---> 10\u001B[0m \u001B[38;5;28mprint\u001B[39m(\u001B[43mset_contains\u001B[49m\u001B[43m(\u001B[49m\u001B[43mu\u001B[49m\u001B[43m,\u001B[49m\u001B[38;5;241;43m0\u001B[39;49m\u001B[43m)\u001B[49m)\n\u001B[0;32m     11\u001B[0m \u001B[38;5;28mprint\u001B[39m(set_contains(u,\u001B[38;5;241m4\u001B[39m))\n",
      "Cell \u001B[1;32mIn[13], line 2\u001B[0m, in \u001B[0;36mset_contains\u001B[1;34m(s, v)\u001B[0m\n\u001B[0;32m      1\u001B[0m \u001B[38;5;28;01mdef\u001B[39;00m \u001B[38;5;21mset_contains\u001B[39m(s,v):\n\u001B[1;32m----> 2\u001B[0m     \u001B[38;5;28;01mif\u001B[39;00m \u001B[43mempty\u001B[49m(s) \u001B[38;5;129;01mor\u001B[39;00m s\u001B[38;5;241m.\u001B[39mfirst\u001B[38;5;241m>\u001B[39mv:\n\u001B[0;32m      3\u001B[0m         \u001B[38;5;28;01mreturn\u001B[39;00m \u001B[38;5;28;01mFalse\u001B[39;00m\n\u001B[0;32m      4\u001B[0m     \u001B[38;5;28;01melif\u001B[39;00m s\u001B[38;5;241m.\u001B[39mfirst \u001B[38;5;241m==\u001B[39m v:\n",
      "\u001B[1;31mNameError\u001B[0m: name 'empty' is not defined"
     ]
    }
   ],
   "execution_count": 13
  },
  {
   "metadata": {},
   "cell_type": "markdown",
   "source": [
    "这样可以节省多少步骤？在最坏的情况下，我们正在寻找的元素可能是集合中最大的一个，因此步骤数与无序表示相同。另一方面，如果我们搜索许多不同大小的项，我们可以预期，有时我们可以在列表开始附近的某个点停止搜索，而其他时候我们仍然需要检查列表的大部分。平均而言，我们预计需要检查集合中大约一半的项目。因此，所需的平均步数约为1/2。这仍然是θ($n$)的增长，但它相较于之前的解决方法确实能帮我们节省一些时间。\n",
    "\n",
    "通过重新实现 intersect_set，我们可以获得显著的加速。在无序表示中，此操作需要θ($n^2$)的时间复杂度，因为我们对 set1 的每个元素执行了是否在 set2 的完整扫描。但是对于有序表示，我们可以使用更聪明的方法：同时遍历两个集合，跟踪 set1 中的元素 e1 和 set2 中的元素 e2。当 e1 和 e2 相等时，我们将该元素包含在交集中。\n",
    "\n",
    "对于此算法我们做以下思考：假设 e1 < e2。由于 e2 小于 set2 的剩余元素，我们可以立即得出结论：e1 不可能出现在 set2 的剩余元素中，因此不在交集中。因此，我们不再需要考虑 e1。我们丢弃它并继续处理 set1 的下一个元素。当 e2 < e1 时，类似的逻辑查询 set2 的下一个元素。函数如下："
   ],
   "id": "8389b0083e66faf4"
  },
  {
   "metadata": {
    "ExecuteTime": {
     "end_time": "2025-04-08T05:55:49.030732Z",
     "start_time": "2025-04-08T05:55:48.982689Z"
    }
   },
   "cell_type": "code",
   "source": [
    "def intersect_set(set1,set2):\n",
    "    if empty(set1) or empty(set2):\n",
    "        return Link.empty\n",
    "    else:\n",
    "        e1,e2 = set1.first,set2.first\n",
    "        if e1 == e2:\n",
    "            return Link(e1,intersect_set(set1.rest,set2.rest))\n",
    "        elif e1 < e2:\n",
    "            return intersect_set(set1.rest,set2)\n",
    "        elif e1 > e2:\n",
    "            return intersect_set(set1,set2.rest)\n",
    "\n",
    "intersect_set(s,s.rest)"
   ],
   "id": "c964880dc22180e4",
   "outputs": [
    {
     "ename": "NameError",
     "evalue": "name 'empty' is not defined",
     "output_type": "error",
     "traceback": [
      "\u001B[1;31m---------------------------------------------------------------------------\u001B[0m",
      "\u001B[1;31mNameError\u001B[0m                                 Traceback (most recent call last)",
      "Cell \u001B[1;32mIn[15], line 13\u001B[0m\n\u001B[0;32m     10\u001B[0m         \u001B[38;5;28;01melif\u001B[39;00m e1 \u001B[38;5;241m>\u001B[39m e2:\n\u001B[0;32m     11\u001B[0m             \u001B[38;5;28;01mreturn\u001B[39;00m intersect_set(set1,set2\u001B[38;5;241m.\u001B[39mrest)\n\u001B[1;32m---> 13\u001B[0m \u001B[43mintersect_set\u001B[49m\u001B[43m(\u001B[49m\u001B[43ms\u001B[49m\u001B[43m,\u001B[49m\u001B[43ms\u001B[49m\u001B[38;5;241;43m.\u001B[39;49m\u001B[43mrest\u001B[49m\u001B[43m)\u001B[49m\n",
      "Cell \u001B[1;32mIn[15], line 2\u001B[0m, in \u001B[0;36mintersect_set\u001B[1;34m(set1, set2)\u001B[0m\n\u001B[0;32m      1\u001B[0m \u001B[38;5;28;01mdef\u001B[39;00m \u001B[38;5;21mintersect_set\u001B[39m(set1,set2):\n\u001B[1;32m----> 2\u001B[0m     \u001B[38;5;28;01mif\u001B[39;00m \u001B[43mempty\u001B[49m(set1) \u001B[38;5;129;01mor\u001B[39;00m empty(set2):\n\u001B[0;32m      3\u001B[0m         \u001B[38;5;28;01mreturn\u001B[39;00m Link\u001B[38;5;241m.\u001B[39mempty\n\u001B[0;32m      4\u001B[0m     \u001B[38;5;28;01melse\u001B[39;00m:\n",
      "\u001B[1;31mNameError\u001B[0m: name 'empty' is not defined"
     ]
    }
   ],
   "execution_count": 15
  },
  {
   "metadata": {},
   "cell_type": "markdown",
   "source": [
    "为了估计这个过程所需的步骤数，我们观察到在每一步中我们至少缩小一个集合的大小。因此，所需的步数最多是 set1 和 set2 的大小之和，而不是像无序表示那样是大小的乘积。这是θ(n)增长而不是θ($n^2$)。这是相当大的时间节省，对于即使是中等规模的集合都十分有意义。例如，两个大小为 100 的集合的交集将需要大约 200 步，而无序表示则需要 10,000 步。\n",
    "\n",
    "对于用有序序列表示的集合，也可以在线性时间内计算并集，添加元素等。这些实现将作为练习留下。"
   ],
   "id": "2222b71627897f50"
  },
  {
   "metadata": {},
   "cell_type": "markdown",
   "source": [
    "**作为二叉搜索树的集合**\n",
    "\n",
    "我们可以通过将集合元素以 恰好有两个分支的树的形式 排列来做得比有序序列更好。\n",
    "\n",
    "- 树的根的entry保存集合的一个元素\n",
    "- 左分支中的条目包括所有小于根节点的元素\n",
    "- 右分支中的条目包括所有大于根节点的元素\n",
    "\n",
    "下图显示了代表集合 {1,3,5,7,9,11} 的一些树。同一个集合可以用树以许多不同的方式表示。在所有的二叉搜索树中，左分支中的所有元素都小于根节点，而右子树中的所有元素都大于根节点。\n",
    "\n",
    "![set_tree](./set_tree.png)"
   ],
   "id": "455a34420ef1cc66"
  },
  {
   "metadata": {},
   "cell_type": "markdown",
   "source": "二叉搜索树表示的优点是：假设我们想要检查一个值 v 是否包含在一个集合中。我们先比较 v 和 entry。如果 v < entry，我们知道我们只需要搜索左子树；如果 v > entry，我们只需要搜索右子树。现在，如果树是“平衡的”，即每个子树的大小将是原始树的一半左右。这样，我们一步就把搜索大小为n的树的问题简化为搜索大小为1/2的树的问题。由于树的大小在每一步中减半，我们应该期望搜索树所需的步数增长为θ(logn)。对于大型集合，这将比以前的表示有显著的加速。这个 set_contains 函数利用了树结构的集合的特点：",
   "id": "c23a8b0da36b5c99"
  },
  {
   "metadata": {},
   "cell_type": "code",
   "outputs": [],
   "execution_count": null,
   "source": [
    "def set_contains(s,v):\n",
    "    if s is None:\n",
    "        return False\n",
    "    elif s.entry == v:\n",
    "        return True\n",
    "    elif s.entry < v:\n",
    "        return set_contains(s.right,v)\n",
    "    elif s.entry > v:\n",
    "        return set_contains(s.left,v)"
   ],
   "id": "2929e85d38c6d319"
  },
  {
   "metadata": {},
   "cell_type": "markdown",
   "source": "将元素加入到集合的实现与搜索类似，也需要θ(logn)。我们将 v 与 entry 进行比较，以确定 v 应该加到右分支还是左分支，并将 v 邻接到适当的分支后，将这个新构造的分支与原始 entry 和另一个分支拼接在一起。如果 v 等于这个元素，我们就返回这个节点。如果我们被要求将 v 与一棵空树相连，我们生成一棵树，它的 entry 是 v，左右分支都是空的。函数如下：",
   "id": "336651791d6d5829"
  },
  {
   "metadata": {},
   "cell_type": "code",
   "outputs": [],
   "execution_count": null,
   "source": [
    "def adjoin_set(s,v):\n",
    "    if s is None:\n",
    "        return Tree(v)\n",
    "    elif s.entry == v:\n",
    "        return s\n",
    "    elif s.entry < v:\n",
    "        return Tree(s.entry,s.left,adjoin_set(s.right,v))\n",
    "    elif s.entry > v:\n",
    "        return Tree(s.entry,adjoin_set(s.left,v),s.right)\n",
    "\n",
    "adjoin_set(adjoin_set(adjoin_set(None, 2), 3), 1)"
   ],
   "id": "ef6435c3a2247db8"
  },
  {
   "metadata": {},
   "cell_type": "markdown",
   "source": [
    "我们认为搜索树可以在对数步数中完成，但这是基于树是“平衡的”假设，即每棵树的左子树和右子树具有大约相同数量的元素，因此每个子树包含大约一半的父树元素。但是，我们怎么能确定我们建造的树木将是平衡的呢？即使我们从平衡树开始，使用 adjoin_set 添加元素也可能产生不平衡的结果。因为新附加元素的位置取决于该元素与元素列表中已有元素的比较，因此我们可以预期，如果我们“随机”添加元素，树将倾向于“平衡”。\n",
    "\n",
    "但这并不是一定的。例如，如果我们从一个空集合开始，并按顺序连接数字 1 到 7，我们最终会得到一个高度不平衡的树，其中所有左侧子树都是空的，因此它与简单有序列表相比没有任何优势。解决此问题的一种方法是定义一个操作，将任意树转换为具有相同元素的平衡树。我们可以在每隔几次 adjoin_set 操作之后执行此转换，以保持集合的平衡。\n",
    "\n",
    "可见 [浙江大学慕课：平衡二叉树](https://www.icourse163.org/course/ZJU-93001?tid=360003#/learn/content?type=detail&id=702123&cid=748291)\n",
    "\n",
    "交集和并集操作可以在线性时间内通过将树结构转换为有序列表和返回来执行。将留作练习。"
   ],
   "id": "e77f913d392f43b6"
  },
  {
   "metadata": {},
   "cell_type": "markdown",
   "source": "**Python的集合实现方法**：Python 内置的 set 类型不使用任何这些表示。相反，Python 使用一种表示法，该表示法基于一种称为哈希（hashing）的技术提供恒定时间的成员关系测试和相邻操作，这是另一门课程的主题。内置的 Python 集合不能包含可变数据类型，如列表、字典或其他集合。为了允许嵌套集，Python 还有一个内置的不可变 frozenset 类，它与 set 类共享方法，但不包括改变方法和操作符。",
   "id": "8bb07abeaf9e0ce3"
  }
 ],
 "metadata": {
  "kernelspec": {
   "display_name": "Python 3",
   "language": "python",
   "name": "python3"
  },
  "language_info": {
   "codemirror_mode": {
    "name": "ipython",
    "version": 2
   },
   "file_extension": ".py",
   "mimetype": "text/x-python",
   "name": "python",
   "nbconvert_exporter": "python",
   "pygments_lexer": "ipython2",
   "version": "2.7.6"
  }
 },
 "nbformat": 4,
 "nbformat_minor": 5
}
