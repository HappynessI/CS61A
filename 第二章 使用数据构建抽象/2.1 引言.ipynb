{
 "cells": [
  {
   "metadata": {},
   "cell_type": "markdown",
   "source": "# 2.1 引言",
   "id": "80f24744bee79f2"
  },
  {
   "metadata": {},
   "cell_type": "markdown",
   "source": "本章重点介绍数据：我们研究的技术使我们可以表示和操作许多不同领域的信息。由于互联网的爆炸式增长，所有人都可以在网上免费获取大量结构化信息，并且计算也可以应用于范围广泛的不同问题。有效使用内置数据类型和用户定义的数据类型是数据处理型应用（data processing applications）的基础。",
   "id": "cf60877526bce890"
  },
  {
   "metadata": {},
   "cell_type": "markdown",
   "source": "## 2.1.1 原始数据类型",
   "id": "2128f639415f6c39"
  },
  {
   "metadata": {},
   "cell_type": "markdown",
   "source": "Python中的每个值都有一个类（class）来确定它的类型。拥有相同类的值，行为也相同。例如，整数1和2都是int类的实例，我们就可以使用相似的方法进行处理。内置的type函数允许我们检查任何值的类",
   "id": "409a2fc69e4d723a"
  },
  {
   "cell_type": "code",
   "id": "initial_id",
   "metadata": {
    "collapsed": true,
    "ExecuteTime": {
     "end_time": "2025-03-25T12:05:54.560330Z",
     "start_time": "2025-03-25T12:05:54.541669Z"
    }
   },
   "source": "type(2)",
   "outputs": [
    {
     "data": {
      "text/plain": [
       "int"
      ]
     },
     "execution_count": 1,
     "metadata": {},
     "output_type": "execute_result"
    }
   ],
   "execution_count": 1
  },
  {
   "metadata": {},
   "cell_type": "markdown",
   "source": [
    "到目前为止，我们使用的值都是 Python 语言中内置的少量的原始数据类型的实例。原始数据类型具有以下属性：\n",
    "- 1.有一些可以求解为原始数据类型的表达式，被称为字面量（literals）\n",
    "- 2.有用于操作原始类型值的内置函数和操作符"
   ],
   "id": "286f0a61d221826f"
  },
  {
   "metadata": {},
   "cell_type": "markdown",
   "source": "int类是用于整数的原始数据类型。整数字面量（相邻的数字序列）会求解为int值，并且数学运算可以操作这种值",
   "id": "f3f596e4beb468f1"
  },
  {
   "metadata": {
    "ExecuteTime": {
     "end_time": "2025-03-25T12:07:40.439071Z",
     "start_time": "2025-03-25T12:07:40.424840Z"
    }
   },
   "cell_type": "code",
   "source": "12 + 3000000000000000000000000",
   "id": "dcef59b0e70c2d10",
   "outputs": [
    {
     "data": {
      "text/plain": [
       "3000000000000000000000012"
      ]
     },
     "execution_count": 2,
     "metadata": {},
     "output_type": "execute_result"
    }
   ],
   "execution_count": 2
  },
  {
   "metadata": {},
   "cell_type": "markdown",
   "source": "Python 包含三种原始数字类型：整数（int）、浮点数（float）和复数（complex）。",
   "id": "2dd3fbeddc6af797"
  },
  {
   "metadata": {
    "ExecuteTime": {
     "end_time": "2025-03-25T12:08:05.021602Z",
     "start_time": "2025-03-25T12:08:05.004588Z"
    }
   },
   "cell_type": "code",
   "source": [
    "type(1.5)\n",
    "type(1+1j)"
   ],
   "id": "3311e25dbac890f3",
   "outputs": [
    {
     "data": {
      "text/plain": [
       "complex"
      ]
     },
     "execution_count": 4,
     "metadata": {},
     "output_type": "execute_result"
    }
   ],
   "execution_count": 4
  },
  {
   "metadata": {},
   "cell_type": "markdown",
   "source": [
    "int和float对象之间的区别：int对象可以精确地表示整数，没有任何近似处理或大小限制。而float对象可以表示很大范围内的小数，但并不是所有的数字都能被精确表示，它有最小值和最大值之分。\n",
    "\n",
    "因此，float值应被视为真实值得近似值，它们只能保证有限的精度，组合float值可能会导致近似误差。因此，float 值应被视为真实值的近似值，它们只能保证有限的精度，组合 float 值可能会导致近似误差\n",
    "\n",
    "注意：不同于其他编程语言，Python3中的int值是无界的（只要计算机内存允许），也就是说它可以存储任意大小的数"
   ],
   "id": "3c56949159744cf1"
  },
  {
   "metadata": {
    "ExecuteTime": {
     "end_time": "2025-03-25T12:11:45.063868Z",
     "start_time": "2025-03-25T12:11:45.058816Z"
    }
   },
   "cell_type": "code",
   "source": [
    "7/3*3\n",
    "\n",
    "1/3*7*3"
   ],
   "id": "315a1a59d3770ec3",
   "outputs": [
    {
     "data": {
      "text/plain": [
       "6.999999999999999"
      ]
     },
     "execution_count": 6,
     "metadata": {},
     "output_type": "execute_result"
    }
   ],
   "execution_count": 6
  },
  {
   "metadata": {},
   "cell_type": "code",
   "outputs": [],
   "execution_count": null,
   "source": "",
   "id": "7a6a8ef9815aca2e"
  },
  {
   "metadata": {},
   "cell_type": "markdown",
   "source": "尽管上式是 int 值的组合，但一个 int 值除以另一个 int 值，却会得到一个 float 值：一个截断的有限近似值，相当于两个整数相除的实际比值。",
   "id": "c00d6ae8c91c5e28"
  },
  {
   "metadata": {
    "ExecuteTime": {
     "end_time": "2025-03-25T12:12:21.075237Z",
     "start_time": "2025-03-25T12:12:21.059660Z"
    }
   },
   "cell_type": "code",
   "source": [
    "type(1/3)\n",
    "\n",
    "1/3"
   ],
   "id": "c91ae52c0c0923e4",
   "outputs": [
    {
     "data": {
      "text/plain": [
       "0.3333333333333333"
      ]
     },
     "execution_count": 8,
     "metadata": {},
     "output_type": "execute_result"
    }
   ],
   "execution_count": 8
  },
  {
   "metadata": {},
   "cell_type": "markdown",
   "source": "当我们使用等式测试时，这种近似就会出现问题",
   "id": "8477a29a8a7221f3"
  },
  {
   "metadata": {
    "ExecuteTime": {
     "end_time": "2025-03-25T12:12:42.173924Z",
     "start_time": "2025-03-25T12:12:42.157283Z"
    }
   },
   "cell_type": "code",
   "source": "1/3 == 0.333333333333333312345  # 请注意浮点数近似",
   "id": "3af73ab38e5b5985",
   "outputs": [
    {
     "data": {
      "text/plain": [
       "True"
      ]
     },
     "execution_count": 9,
     "metadata": {},
     "output_type": "execute_result"
    }
   ],
   "execution_count": 9
  },
  {
   "metadata": {},
   "cell_type": "markdown",
   "source": "int 和 float 类之间的细微差别对编写程序有着广泛的影响，因此，这也是程序员必须熟记的细节",
   "id": "db00e514fcb75432"
  },
  {
   "metadata": {},
   "cell_type": "markdown",
   "source": "**非数值类型**（Non-numeric types）：值可以表示许多其他类型的数据，比如声音、图像、位置、网址、网络连接等。它们中间的少数可以用原始数据类型表示，例如用于值 True 和 False 的 bool 类，其他大多数值的类型必须由程序员使用我们将在本章中学习到的组合和抽象方法来定义。",
   "id": "9553495541a0c4b5"
  }
 ],
 "metadata": {
  "kernelspec": {
   "display_name": "Python 3",
   "language": "python",
   "name": "python3"
  },
  "language_info": {
   "codemirror_mode": {
    "name": "ipython",
    "version": 2
   },
   "file_extension": ".py",
   "mimetype": "text/x-python",
   "name": "python",
   "nbconvert_exporter": "python",
   "pygments_lexer": "ipython2",
   "version": "2.7.6"
  }
 },
 "nbformat": 4,
 "nbformat_minor": 5
}
