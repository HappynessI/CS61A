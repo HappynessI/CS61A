{
 "cells": [
  {
   "metadata": {},
   "cell_type": "markdown",
   "source": "“与可变数据结构一样，对象具有无法从全局环境直接访问本地状态”",
   "id": "cbedacee14f14177"
  },
  {
   "metadata": {},
   "cell_type": "markdown",
   "source": [
    "这句话结合了可变数据结构和面向对象编程的特性，探讨了状态管理的封装性。以下是逐步解析：\n",
    "- 1.可变数据结构\n",
    "    - 定义：可变数据结构是指创建后内容可被修改的数据（如Python中的列表、字典）\n",
    "    - 特点：修改时无需要创建新对象，直接更新内部状态\n",
    "    - 示例："
   ],
   "id": "429aa8264a40a642"
  },
  {
   "cell_type": "code",
   "id": "initial_id",
   "metadata": {
    "collapsed": true,
    "ExecuteTime": {
     "end_time": "2025-04-02T07:38:04.825309Z",
     "start_time": "2025-04-02T07:38:04.807379Z"
    }
   },
   "source": [
    "lst = [1,2,3]\n",
    "lst[0]=10 # 直接修改内部元素"
   ],
   "outputs": [],
   "execution_count": 1
  },
  {
   "metadata": {},
   "cell_type": "markdown",
   "source": [
    "- 2.对象的本地状态（Local State in Objects）\n",
    "    - 面向对象的核心：对象通过**属性（成员变量）**保存状态，通过**方法**控制状态的修改\n",
    "    - 封装性：对象的内部状态（属性）通常被设计为**私有**（如Python中用_前缀约定，其他语言如Java用pravite关键字），外部无法直接访问\n",
    "    - 示例："
   ],
   "id": "73a0564f90c68c40"
  },
  {
   "metadata": {},
   "cell_type": "code",
   "outputs": [],
   "execution_count": null,
   "source": [
    "class Counter:\n",
    "    def __init__(self):\n",
    "        self._count = 0 # “私有”状态\n",
    "    def increment(self):\n",
    "        self._count += 1 # 通过方法修改状态"
   ],
   "id": "ea5bdb62f019c92e"
  },
  {
   "metadata": {},
   "cell_type": "markdown",
   "source": "外部代码无法直接读写_count，必须通过increment()等方法简介操作",
   "id": "d1f83c2351c1b4d"
  },
  {
   "metadata": {},
   "cell_type": "markdown",
   "source": [
    "- 3.与全局环境的隔离\n",
    "    - 全局环境：指程序的全局命名空间（如全局变量）\n",
    "    - 对比：\n",
    "        - 全局变量：任何代码都可以直接访问和修改，缺乏控制\n",
    "        - 对象状态：封装在对象内部，只能通过规定的方法交互，避免意外修改"
   ],
   "id": "16bc3abae6908736"
  },
  {
   "metadata": {},
   "cell_type": "markdown",
   "source": [
    "【示例对比】\n",
    "- 全局变量（直接访问）："
   ],
   "id": "e5392893d79c15e7"
  },
  {
   "metadata": {},
   "cell_type": "code",
   "outputs": [],
   "execution_count": null,
   "source": [
    "global_count = 0\n",
    "def increment():\n",
    "    global global_count\n",
    "    global_count += 1 # 任何函数都可能修改，难以追踪\n",
    "\n",
    "def another_function():\n",
    "    global global_count # 另一个函数也可以声明并修改\n",
    "    global_count += 100 # 直接修改全局变量"
   ],
   "id": "818ced79dff183dd"
  },
  {
   "metadata": {},
   "cell_type": "markdown",
   "source": "- 对象（封装状态）：",
   "id": "13e8a1b05fb097b4"
  },
  {
   "metadata": {
    "ExecuteTime": {
     "end_time": "2025-04-02T07:45:38.133935Z",
     "start_time": "2025-04-02T07:45:38.120939Z"
    }
   },
   "cell_type": "code",
   "source": [
    "class Counter:\n",
    "    def __init__(self):\n",
    "        self._count = 0\n",
    "    def increment(self):\n",
    "        self._count += 1  # 修改仅限于对象内部\n",
    "\n",
    "counter = Counter()\n",
    "counter.increment()  # 必须通过方法"
   ],
   "id": "d1a04fcc85439a6d",
   "outputs": [],
   "execution_count": 2
  },
  {
   "metadata": {},
   "cell_type": "markdown",
   "source": [
    "【注1】：在没有声明“global global_count”的时候，Python会试图读取局部变量global_count，但是此时局部变量尚未定义，因此会报错。\n",
    "【注2】：记住函数内部只能读取全局变量，而在使用global声明前，不能直接修改全局变量"
   ],
   "id": "46d0eb13dcbada77"
  }
 ],
 "metadata": {
  "kernelspec": {
   "display_name": "Python 3",
   "language": "python",
   "name": "python3"
  },
  "language_info": {
   "codemirror_mode": {
    "name": "ipython",
    "version": 2
   },
   "file_extension": ".py",
   "mimetype": "text/x-python",
   "name": "python",
   "nbconvert_exporter": "python",
   "pygments_lexer": "ipython2",
   "version": "2.7.6"
  }
 },
 "nbformat": 4,
 "nbformat_minor": 5
}
