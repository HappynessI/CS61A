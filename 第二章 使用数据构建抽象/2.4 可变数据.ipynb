{
 "cells": [
  {
   "metadata": {},
   "cell_type": "markdown",
   "source": "# 2.4 可变数据",
   "id": "40fe824c58b20230"
  },
  {
   "metadata": {},
   "cell_type": "markdown",
   "source": "我们需要一些策略来模块化一个大型系统。所谓模块化，即将整个系统划分为独立维护开发，但又相互关联的模块",
   "id": "4e1bf276a2c593a2"
  },
  {
   "metadata": {},
   "cell_type": "markdown",
   "source": "在创建模块化项目时，一个非常有用的实践是引入可能随时间改变状态的数据，在这种情况下，一个单独的数据对象可以表示一些忽略整个程序其他部分而独立演变的事物。可变对象的行为可能会受到其自身历史状态的影响，就像真实世界中的事物一样。面向对象编程 (object-oriented programming) 的核心就是向数据添加状态。",
   "id": "d0e71e6996239c64"
  },
  {
   "metadata": {},
   "cell_type": "markdown",
   "source": "## 2.4.1 对象隐喻",
   "id": "24bf2102bef2e2ba"
  },
  {
   "metadata": {},
   "cell_type": "markdown",
   "source": [
    "在本书的开头，我们区分了函数和数据的概念：函数发起某些操作，而数据是被操作的一方。但是当我们将函数引入到数据中时，我们就知道数据本身也可以有行为。函数可以被当做数据进行操作，同事也可以被调用来执行某些行为。\n",
    "\n",
    "对象（objects）将数据和值的行为结合到了一起。对象可以直接表示某些信息，也可以用自身的表现行为来表达想表达的东西。一个对象具体应该怎么和其他对象进行交互，都被封装并绑定到了该对象自身的某些值上。当我们试图打印某个对象时，它自己知道应该如何以文字的形式表示自己。如果一个对象由多个部分组成，它知道应该怎么根据实际情况对外展示那些不同的部分。对象既是数据信息又是操作流程，它把二者结合到一起，从而表达复杂事物的属性、交互和行为。\n",
    "\n",
    "在Python中，对象的行为是通过特定的语法和术语实现的，以日期为例："
   ],
   "id": "aae7cfc16355b986"
  },
  {
   "cell_type": "code",
   "id": "initial_id",
   "metadata": {
    "collapsed": true,
    "ExecuteTime": {
     "end_time": "2025-04-01T03:26:56.520753Z",
     "start_time": "2025-04-01T03:26:56.041992Z"
    }
   },
   "source": [
    "from datetime import date\n",
    "\n",
    "from numpy.matlib import empty"
   ],
   "outputs": [],
   "execution_count": 1
  },
  {
   "metadata": {},
   "cell_type": "markdown",
   "source": "date是一个class类，正如我们所见，一个类代表了一种值。具体的日期被称为这个日期类的实例对象。要想构建一个实例对象，可以用特定的参数去调用该类得到：",
   "id": "ab54793dd988dd16"
  },
  {
   "metadata": {
    "ExecuteTime": {
     "end_time": "2025-04-01T03:27:31.612518Z",
     "start_time": "2025-04-01T03:27:31.600518Z"
    }
   },
   "cell_type": "code",
   "source": "tues = date(2014,5,13)",
   "id": "81952eda466d3a2f",
   "outputs": [],
   "execution_count": 2
  },
  {
   "metadata": {},
   "cell_type": "markdown",
   "source": "尽管 tues 是用基础数字构建出来的，但它具有日期的能力。举个例子，用另一个日期减掉它，我们可以得到一个时间间隔。我们可以打印一下这个间隔：",
   "id": "cdaa4ab425a80b7a"
  },
  {
   "metadata": {
    "ExecuteTime": {
     "end_time": "2025-04-01T03:27:33.383060Z",
     "start_time": "2025-04-01T03:27:33.363057Z"
    }
   },
   "cell_type": "code",
   "source": "print(date(2014,5,19) - tues)",
   "id": "4dab83ae98cf05b8",
   "outputs": [
    {
     "name": "stdout",
     "output_type": "stream",
     "text": [
      "6 days, 0:00:00\n"
     ]
    }
   ],
   "execution_count": 3
  },
  {
   "metadata": {},
   "cell_type": "markdown",
   "source": "对象有属性（attributes）的概念，可以理解为该对象中某个值的名字。和其它许多编程语言一样，我们在Python中使用点语法来访问一个对象中的某个属性。",
   "id": "c9665789f4cce7a3"
  },
  {
   "metadata": {
    "ExecuteTime": {
     "end_time": "2025-03-31T07:14:59.868327Z",
     "start_time": "2025-03-31T07:14:59.845326Z"
    }
   },
   "cell_type": "code",
   "source": "# <expression>.<name>",
   "id": "c9bf189f013304f8",
   "outputs": [],
   "execution_count": 4
  },
  {
   "metadata": {},
   "cell_type": "markdown",
   "source": [
    "在上面的代码中，\\<expression\\>表示一个对象，\\<name\\>表示该对象中某个属性的名称\n",
    "\n",
    "与之前介绍的其它变量名称不同，这些属性名称无法在运行环境中直接访问。属性名称是对象实例所独有的，只能通过点语法来访问。"
   ],
   "id": "e1ef5102dd7dd275"
  },
  {
   "metadata": {
    "ExecuteTime": {
     "end_time": "2025-04-01T03:28:55.317239Z",
     "start_time": "2025-04-01T03:28:55.302235Z"
    }
   },
   "cell_type": "code",
   "source": "tues.year",
   "id": "e9e1729713a84f67",
   "outputs": [
    {
     "data": {
      "text/plain": [
       "2014"
      ]
     },
     "execution_count": 4,
     "metadata": {},
     "output_type": "execute_result"
    }
   ],
   "execution_count": 4
  },
  {
   "metadata": {},
   "cell_type": "markdown",
   "source": "对象还有方法（methods）的概念，其实也是属性，只不过该属性的值是函数。对象知道如何执行这些方法。具体实现起来，方法就是根据其自身的输入参数以及它所在的对象来计算特定结果的函数。举例来说，strftime （string format of time） 方法接受一个参数，该参数描述了具体的时间展示格式（e.g., %A 表示以完整格式返回星期）。",
   "id": "ce50dc6597ca3fe8"
  },
  {
   "metadata": {
    "ExecuteTime": {
     "end_time": "2025-04-01T03:29:21.472460Z",
     "start_time": "2025-04-01T03:29:21.465455Z"
    }
   },
   "cell_type": "code",
   "source": "tues.strftime('%A , %B %d')",
   "id": "27f2c42d21aaf03b",
   "outputs": [
    {
     "data": {
      "text/plain": [
       "'Tuesday , May 13'"
      ]
     },
     "execution_count": 5,
     "metadata": {},
     "output_type": "execute_result"
    }
   ],
   "execution_count": 5
  },
  {
   "metadata": {},
   "cell_type": "markdown",
   "source": [
    "要计算 strftime 的返回值需要两个输入：期望展示的时间格式，以及 tues 中包含的日期信息。这个方法内部已经有了处理日期相关的逻辑，并且能够返回我们期望的结果。我们从来没有说过 2014 年 5 月 13 日是星期二，但是日期这个类本身就有这种能力，它能够知道一个特定的日期应该是星期几。通过把数据和行为绑定到一起， Python 为我们提供了一个已经完全抽象好的、可靠的 date 对象。\n",
    "\n",
    "不仅 date 是对象，我们之前提到的数字、字符串、列表、区间等都是对象。它们本身表示数据，同时还拥有它们所代表的数据的行为。它们还有属性和方法。举例来说，字符串有一系列帮助我们处理文本的方法。"
   ],
   "id": "5d5730f2071a0f2a"
  },
  {
   "metadata": {
    "ExecuteTime": {
     "end_time": "2025-03-31T07:15:00.537019Z",
     "start_time": "2025-03-31T07:15:00.525014Z"
    }
   },
   "cell_type": "code",
   "source": [
    "'1234'.isnumeric()\n",
    "\n",
    "'rOBERT dE nIRO'.swapcase()\n",
    "\n",
    "'eyes'.upper().endswith('YES')"
   ],
   "id": "133d28845db39d4f",
   "outputs": [
    {
     "data": {
      "text/plain": [
       "True"
      ]
     },
     "execution_count": 7,
     "metadata": {},
     "output_type": "execute_result"
    }
   ],
   "execution_count": 7
  },
  {
   "metadata": {},
   "cell_type": "markdown",
   "source": "实际上，Python 中所有的值都是对象。也就是说，所有的值都有行为和属性，它们拥有它们所代表的数据的行为。",
   "id": "7a5d67512081dae9"
  },
  {
   "metadata": {},
   "cell_type": "markdown",
   "source": "## 2.4.2 序列对象",
   "id": "8237630fc7f2952c"
  },
  {
   "metadata": {},
   "cell_type": "markdown",
   "source": [
    "像数字这样的基本数据类型的实例是不可变（immutable）的。它们所代表的值，在程序运行期间是不可以更改的。 另一方面，列表就是可变的（mutable）。\n",
    "\n",
    "可变数据用来表示那些会在程序运行期间发生变化的数据。时间每天都在流逝，虽然一个人在一天天地长大、变老，或者有一些其它什么变化，但是这个人还是这个人，这一点是没有发生变化的。类似地，一个对象也可能通过某些操作更改自身的属性。举例来说，一个列表中的数据是可能会发生变化的。大部分变化的发生，都是通过调用列表实例的方法来触发的。\n",
    "\n",
    "我们可以通过一个简单的扑克牌游戏来介绍一些操作列表的方法。下面代码中的注释解释了每次变更后带来的影响。"
   ],
   "id": "db83754ec477c7aa"
  },
  {
   "metadata": {
    "ExecuteTime": {
     "end_time": "2025-04-01T03:40:27.910771Z",
     "start_time": "2025-04-01T03:40:27.903774Z"
    }
   },
   "cell_type": "code",
   "source": [
    "chinese = ['coin','string','myriad'] # 一组字符串列表\n",
    "suits = chinese                      # 为同一个列表指定了两个不同变量名\n",
    "suits.pop()                          # 从列表中移除并返回最后一个元素\n",
    "suits.remove('string')               # 从列表中移除第一个与参数相同的元素\n",
    "suits.append('cup')                  # 在列表最后插入一个元素\n",
    "suits.extend(['sword','club'])       # 将另外一个列表中的所有元素添加到当前列表最后\n",
    "suits[2] = 'spade'                   # 替换某个元素\n",
    "suits"
   ],
   "id": "b7d04ff2f077f6b2",
   "outputs": [
    {
     "data": {
      "text/plain": [
       "['coin', 'cup', 'spade', 'club']"
      ]
     },
     "execution_count": 6,
     "metadata": {},
     "output_type": "execute_result"
    }
   ],
   "execution_count": 6
  },
  {
   "metadata": {
    "ExecuteTime": {
     "end_time": "2025-04-01T03:41:05.842231Z",
     "start_time": "2025-04-01T03:41:05.836227Z"
    }
   },
   "cell_type": "code",
   "source": [
    "suits[0:2] = ['heart','diamond'] # 替换一组数据\n",
    "suits"
   ],
   "id": "f5a374f7aa8d2d09",
   "outputs": [
    {
     "data": {
      "text/plain": [
       "['heart', 'diamond', 'spade', 'club']"
      ]
     },
     "execution_count": 7,
     "metadata": {},
     "output_type": "execute_result"
    }
   ],
   "execution_count": 7
  },
  {
   "metadata": {},
   "cell_type": "markdown",
   "source": "除此之外，还有插入、排序、反转列表的方法。所有这些方法都是直接改变了目标列表的值，而不是创建了一个新的列表对象。",
   "id": "4692e11b1ad2cc6"
  },
  {
   "metadata": {},
   "cell_type": "markdown",
   "source": "**数据共享和身份**（Sharing and Identity）。正是由于我们没有在操作数据时创建新的列表，而是直接操作的源数据，导致变量chinese也被改变了，因为它和变量suits绑定到同一个列表",
   "id": "ca77506600edcdac"
  },
  {
   "metadata": {
    "ExecuteTime": {
     "end_time": "2025-04-01T03:41:19.494152Z",
     "start_time": "2025-04-01T03:41:19.476154Z"
    }
   },
   "cell_type": "code",
   "source": "chinese # 这个变量名与“suits”指向的是同一个列表对象",
   "id": "7fd4bc0db9f6dbe5",
   "outputs": [
    {
     "data": {
      "text/plain": [
       "['heart', 'diamond', 'spade', 'club']"
      ]
     },
     "execution_count": 8,
     "metadata": {},
     "output_type": "execute_result"
    }
   ],
   "execution_count": 8
  },
  {
   "metadata": {},
   "cell_type": "markdown",
   "source": "这是我们第一次遇到类似的情况。在之前的代码里，如果某个变量没有出现在被执行的代码中，那该变量的值就不会被这段代码影响。但是对于可变数据来说，对一个变量名执行到方法调用可能会影响到另一个变量名所绑定的数据。",
   "id": "9fdec6a8ca031ae6"
  },
  {
   "metadata": {},
   "cell_type": "markdown",
   "source": "我们可以利用列表的构造器函数list对一个列表进行复制。复制完成后，两个列表数据的改动不会再影响彼此，除非二者共享了同一份数据",
   "id": "bd035f675f13f971"
  },
  {
   "metadata": {
    "ExecuteTime": {
     "end_time": "2025-04-01T03:41:26.543844Z",
     "start_time": "2025-04-01T03:41:26.532761Z"
    }
   },
   "cell_type": "code",
   "source": [
    "nest = list(suits) # 复制一个与suits相同的列表，并命名为nest\n",
    "nest[0] = suits    # 创建一个嵌套列表，列表第一项是另一个列表\n",
    "nest"
   ],
   "id": "9bfb70bcbba7869e",
   "outputs": [
    {
     "data": {
      "text/plain": [
       "[['heart', 'diamond', 'spade', 'club'], 'diamond', 'spade', 'club']"
      ]
     },
     "execution_count": 9,
     "metadata": {},
     "output_type": "execute_result"
    }
   ],
   "execution_count": 9
  },
  {
   "metadata": {},
   "cell_type": "markdown",
   "source": "根据当前的运行环境，改动变量 suits 所对应的列表数据会影响到 nest 列表的第一个元素，也就是我们上面刚刚创建的嵌套列表，而 nest 中的其它元素不受影响：",
   "id": "43464f324ad78eb8"
  },
  {
   "metadata": {
    "ExecuteTime": {
     "end_time": "2025-04-01T03:41:47.971120Z",
     "start_time": "2025-04-01T03:41:47.955953Z"
    }
   },
   "cell_type": "code",
   "source": [
    "suits.insert(2,\"Joker\") # 在下标为2的位置插入一条新元素，其余元素相应向后移动\n",
    "nest"
   ],
   "id": "fb4c1239b46cdee9",
   "outputs": [
    {
     "data": {
      "text/plain": [
       "[['heart', 'diamond', 'Joker', 'spade', 'club'], 'diamond', 'spade', 'club']"
      ]
     },
     "execution_count": 10,
     "metadata": {},
     "output_type": "execute_result"
    }
   ],
   "execution_count": 10
  },
  {
   "metadata": {},
   "cell_type": "markdown",
   "source": "同样，对nest列表的第一个元素撤销上述操作也会影响到suits列表：",
   "id": "cadfe89a35c69eee"
  },
  {
   "metadata": {
    "ExecuteTime": {
     "end_time": "2025-04-01T03:41:52.146851Z",
     "start_time": "2025-04-01T03:41:52.135854Z"
    }
   },
   "cell_type": "code",
   "source": [
    "nest[0].pop(2)\n",
    "suits"
   ],
   "id": "c192543863962bc9",
   "outputs": [
    {
     "data": {
      "text/plain": [
       "['heart', 'diamond', 'spade', 'club']"
      ]
     },
     "execution_count": 11,
     "metadata": {},
     "output_type": "execute_result"
    }
   ],
   "execution_count": 11
  },
  {
   "metadata": {},
   "cell_type": "markdown",
   "source": "尽管两个列表的元素值相同，但他们仍然可能是完全不同的两个列表对象，所以我们需要一个机制来验证两个对象是否相同。Python 提供了 is 和 is not 两种比较操作符来验证两个变量是否指向同一个对象。如果两个对象的值完全相等，则说明它们两个是同一个对象，对其中任意一个对象的改动都将影响到另外一个。身份验证比简单的相等验证更准确。",
   "id": "592739715b196283"
  },
  {
   "metadata": {
    "ExecuteTime": {
     "end_time": "2025-04-01T03:42:14.138995Z",
     "start_time": "2025-04-01T03:42:14.131994Z"
    }
   },
   "cell_type": "code",
   "source": [
    "suits is nest[0]\n",
    "suits is ['heart', 'diamond', 'spade', 'club']\n",
    "suits == ['heart', 'diamond', 'spade', 'club']"
   ],
   "id": "f791f46471e7c805",
   "outputs": [
    {
     "data": {
      "text/plain": [
       "True"
      ]
     },
     "execution_count": 12,
     "metadata": {},
     "output_type": "execute_result"
    }
   ],
   "execution_count": 12
  },
  {
   "metadata": {},
   "cell_type": "markdown",
   "source": "最后两个比较说明了 is 和 == 的区别。前者是检验的是对象的内存地址，而后者只是判断内容是否相同。",
   "id": "e5dfbd71e35b1f92"
  },
  {
   "metadata": {},
   "cell_type": "markdown",
   "source": "**列表推导式**。列表推导式总会返回一个新列表。举例来说，unicodedata模块记录了Unicode字母表每个字符的官方名称。我们可以通过字符名称找到对应的unicode字符，包括卡牌花色",
   "id": "c6ff88194ad94dfc"
  },
  {
   "metadata": {
    "ExecuteTime": {
     "end_time": "2025-04-01T03:42:30.702963Z",
     "start_time": "2025-04-01T03:42:30.684964Z"
    }
   },
   "cell_type": "code",
   "source": [
    "from unicodedata import lookup\n",
    "[lookup('WHITE ' + s.upper() + ' SUIT') for s in suits]"
   ],
   "id": "2380552535182c3a",
   "outputs": [
    {
     "data": {
      "text/plain": [
       "['♡', '♢', '♤', '♧']"
      ]
     },
     "execution_count": 13,
     "metadata": {},
     "output_type": "execute_result"
    }
   ],
   "execution_count": 13
  },
  {
   "metadata": {},
   "cell_type": "markdown",
   "source": "返回的这个列表不包含suits列表中的任何元素，执行列表推导也不会修改suits列表",
   "id": "8dc91b8f6c7898c4"
  },
  {
   "metadata": {},
   "cell_type": "markdown",
   "source": "**元组**。元组是指Python内置类型tuple的实例对象，其是不可变序列。我们可以将不同数据用逗号分隔，用这种字面量的方式即可以创建一个元组。括号并不是必须的，但是一般都会加上。元组中可以放置任意对象。",
   "id": "96d717f9e7efd0c2"
  },
  {
   "metadata": {
    "ExecuteTime": {
     "end_time": "2025-04-01T03:42:49.092119Z",
     "start_time": "2025-04-01T03:42:49.072612Z"
    }
   },
   "cell_type": "code",
   "source": "1,2+3",
   "id": "c8399f7eabc0f5ae",
   "outputs": [
    {
     "data": {
      "text/plain": [
       "(1, 5)"
      ]
     },
     "execution_count": 14,
     "metadata": {},
     "output_type": "execute_result"
    }
   ],
   "execution_count": 14
  },
  {
   "metadata": {
    "ExecuteTime": {
     "end_time": "2025-04-01T03:42:49.915937Z",
     "start_time": "2025-04-01T03:42:49.901938Z"
    }
   },
   "cell_type": "code",
   "source": "(\"the\",1,(\"and\",\"only\"))",
   "id": "c707542bd4f9cfd1",
   "outputs": [
    {
     "data": {
      "text/plain": [
       "('the', 1, ('and', 'only'))"
      ]
     },
     "execution_count": 15,
     "metadata": {},
     "output_type": "execute_result"
    }
   ],
   "execution_count": 15
  },
  {
   "metadata": {
    "ExecuteTime": {
     "end_time": "2025-04-01T03:42:50.961314Z",
     "start_time": "2025-04-01T03:42:50.943326Z"
    }
   },
   "cell_type": "code",
   "source": "type((10,20))",
   "id": "bf352edb057a4260",
   "outputs": [
    {
     "data": {
      "text/plain": [
       "tuple"
      ]
     },
     "execution_count": 16,
     "metadata": {},
     "output_type": "execute_result"
    }
   ],
   "execution_count": 16
  },
  {
   "metadata": {},
   "cell_type": "markdown",
   "source": "空元组或者只有一个元素的元组，有特定的字面量语法：",
   "id": "b46ff26ba513ede9"
  },
  {
   "metadata": {
    "ExecuteTime": {
     "end_time": "2025-04-01T03:42:52.118121Z",
     "start_time": "2025-04-01T03:42:52.114063Z"
    }
   },
   "cell_type": "code",
   "source": "type(())",
   "id": "4cadb41086c31349",
   "outputs": [
    {
     "data": {
      "text/plain": [
       "tuple"
      ]
     },
     "execution_count": 17,
     "metadata": {},
     "output_type": "execute_result"
    }
   ],
   "execution_count": 17
  },
  {
   "metadata": {
    "ExecuteTime": {
     "end_time": "2025-04-01T03:42:53.037881Z",
     "start_time": "2025-04-01T03:42:53.030891Z"
    }
   },
   "cell_type": "code",
   "source": "(10,)",
   "id": "77f09797b8fc2682",
   "outputs": [
    {
     "data": {
      "text/plain": [
       "(10,)"
      ]
     },
     "execution_count": 18,
     "metadata": {},
     "output_type": "execute_result"
    }
   ],
   "execution_count": 18
  },
  {
   "metadata": {},
   "cell_type": "markdown",
   "source": "和列表相同，元组有确定的长度，并支持元素索引。元组还有一些与列表相同的方法，比如 count 和 index。",
   "id": "92f3cb4dc2426c75"
  },
  {
   "metadata": {
    "ExecuteTime": {
     "end_time": "2025-04-01T03:42:54.803691Z",
     "start_time": "2025-04-01T03:42:54.784691Z"
    }
   },
   "cell_type": "code",
   "source": [
    "code = (\"up\", \"up\", \"down\", \"down\") + (\"left\", \"right\") * 2\n",
    "len(code)"
   ],
   "id": "87c57fd154692d7b",
   "outputs": [
    {
     "data": {
      "text/plain": [
       "8"
      ]
     },
     "execution_count": 19,
     "metadata": {},
     "output_type": "execute_result"
    }
   ],
   "execution_count": 19
  },
  {
   "metadata": {
    "ExecuteTime": {
     "end_time": "2025-03-31T07:15:02.731951Z",
     "start_time": "2025-03-31T07:15:02.715468Z"
    }
   },
   "cell_type": "code",
   "source": "code[3]",
   "id": "f8a680eb05568c6e",
   "outputs": [
    {
     "data": {
      "text/plain": [
       "'down'"
      ]
     },
     "execution_count": 22,
     "metadata": {},
     "output_type": "execute_result"
    }
   ],
   "execution_count": 22
  },
  {
   "metadata": {
    "ExecuteTime": {
     "end_time": "2025-03-31T07:15:02.920794Z",
     "start_time": "2025-03-31T07:15:02.894793Z"
    }
   },
   "cell_type": "code",
   "source": "code.count(\"down\")",
   "id": "265cfe402f3df87",
   "outputs": [
    {
     "data": {
      "text/plain": [
       "2"
      ]
     },
     "execution_count": 23,
     "metadata": {},
     "output_type": "execute_result"
    }
   ],
   "execution_count": 23
  },
  {
   "metadata": {
    "ExecuteTime": {
     "end_time": "2025-03-31T07:15:03.172800Z",
     "start_time": "2025-03-31T07:15:03.153792Z"
    }
   },
   "cell_type": "code",
   "source": "code.index(\"left\")",
   "id": "9888d69b542da78d",
   "outputs": [
    {
     "data": {
      "text/plain": [
       "4"
      ]
     },
     "execution_count": 24,
     "metadata": {},
     "output_type": "execute_result"
    }
   ],
   "execution_count": 24
  },
  {
   "metadata": {},
   "cell_type": "markdown",
   "source": [
    "但是，列表中那些用于操作列表元素的方法并不适用于元组，因为元组是不可变的。\n",
    "\n",
    "尽管无法修改元组的元素，但是如果元组中的元素本身是可变数据，那我们也是可以对该元素进行操作的。"
   ],
   "id": "b3ab8fc89aa09cf"
  },
  {
   "metadata": {
    "ExecuteTime": {
     "end_time": "2025-04-01T03:44:21.208155Z",
     "start_time": "2025-04-01T03:44:21.200181Z"
    }
   },
   "cell_type": "code",
   "source": [
    "nest = (10,20,[30,40])\n",
    "nest[2].pop()"
   ],
   "id": "a7963546d31bfb47",
   "outputs": [
    {
     "data": {
      "text/plain": [
       "40"
      ]
     },
     "execution_count": 22,
     "metadata": {},
     "output_type": "execute_result"
    }
   ],
   "execution_count": 22
  },
  {
   "metadata": {},
   "cell_type": "markdown",
   "source": "在批量赋值的场景下，元组会被隐式地使用到。将两个值批量赋值给两个变量时，实际上是创建了一个包含两个元素的元组，然后对其进行解构赋值。",
   "id": "83075457230ed193"
  },
  {
   "metadata": {},
   "cell_type": "markdown",
   "source": "## 2.4.3 字典",
   "id": "9302a200872cc4f8"
  },
  {
   "metadata": {},
   "cell_type": "markdown",
   "source": [
    "字典（Dictionary）是 Python 的内置类型，用来存储和操作带有映射关系的数据。一个字典包含一组键值对（key-value pairs），其中键和值都是对象。字典的主要目的是抽象一组基于键值对的数据，在字典中，数据的存取都是基于带有描述性信息的键而不是连续递增的数字。\n",
    "\n",
    "字典的 key 一般都是字符串（String），因为我们习惯用字符串来表示某个事物的名称。下面这个字典字面量表示了一组罗马数字："
   ],
   "id": "628a5263e192892d"
  },
  {
   "metadata": {
    "ExecuteTime": {
     "end_time": "2025-04-01T03:44:28.650315Z",
     "start_time": "2025-04-01T03:44:28.641316Z"
    }
   },
   "cell_type": "code",
   "source": "numerals = {'I': 1.0, 'V': 5, 'X': 10}",
   "id": "a561bc0bae2cf649",
   "outputs": [],
   "execution_count": 23
  },
  {
   "metadata": {},
   "cell_type": "markdown",
   "source": "在字典元素中查找某个 key 对应的 value，与我们之前在列表中使用的操作符相同：",
   "id": "6f56ea37157bb21c"
  },
  {
   "metadata": {
    "ExecuteTime": {
     "end_time": "2025-03-31T07:15:03.914109Z",
     "start_time": "2025-03-31T07:15:03.887103Z"
    }
   },
   "cell_type": "code",
   "source": "numerals['X']",
   "id": "4b389ee11f9215a3",
   "outputs": [
    {
     "data": {
      "text/plain": [
       "10"
      ]
     },
     "execution_count": 27,
     "metadata": {},
     "output_type": "execute_result"
    }
   ],
   "execution_count": 27
  },
  {
   "metadata": {},
   "cell_type": "markdown",
   "source": "在字典中，一个 key 只能对应一个 value。无论是向字典中增加新的键值对，还是修改某个 key 值对应的 value，都可以使用赋值语句实现：",
   "id": "39ca01094b4165c8"
  },
  {
   "metadata": {
    "ExecuteTime": {
     "end_time": "2025-04-01T03:44:30.994424Z",
     "start_time": "2025-04-01T03:44:30.977779Z"
    }
   },
   "cell_type": "code",
   "source": [
    "numerals['I'] = 1\n",
    "numerals['L'] = 50\n",
    "numerals"
   ],
   "id": "752a406585b2fc0a",
   "outputs": [
    {
     "data": {
      "text/plain": [
       "{'I': 1, 'V': 5, 'X': 10, 'L': 50}"
      ]
     },
     "execution_count": 24,
     "metadata": {},
     "output_type": "execute_result"
    }
   ],
   "execution_count": 24
  },
  {
   "metadata": {},
   "cell_type": "markdown",
   "source": [
    "注意上面的打印输出，'L' 并没有被插入到字典的末尾。字典是无序的。当我们打印一个字典的时候，键值对会以某种顺序被渲染在页面上，但作为 Python 语言的使用者，我们无法预测这个顺序是什么样的。如果我们多运行几次这个程序，字典输出的顺序可能会有所变化。\n",
    "\n",
    "（注意：Python 3.7 及以上版本的字典顺序会确保为插入顺序，此行为是自 3.6 版开始的 CPython 实现细节，字典会保留插入时的顺序，对键的更新也不会影响顺序，删除后再次添加的键将被插入到末尾）"
   ],
   "id": "8b77f08e0c7fb02f"
  },
  {
   "metadata": {},
   "cell_type": "markdown",
   "source": "字典类型也提供了一系列遍历字典内容的方法。keys、values 和 items 方法都返回一个可以被遍历的值。",
   "id": "8827ab8ff88d0cfb"
  },
  {
   "metadata": {
    "ExecuteTime": {
     "end_time": "2025-04-01T03:44:48.077298Z",
     "start_time": "2025-04-01T03:44:48.060366Z"
    }
   },
   "cell_type": "code",
   "source": "sum(numerals.values())",
   "id": "5515fce8ad1a6a51",
   "outputs": [
    {
     "data": {
      "text/plain": [
       "66"
      ]
     },
     "execution_count": 29,
     "metadata": {},
     "output_type": "execute_result"
    }
   ],
   "execution_count": 29
  },
  {
   "metadata": {},
   "cell_type": "markdown",
   "source": "利用dictionary构造方法，我们可以将一个由键值对组成的列表转化为一个字典对象",
   "id": "7deac5800bfdff18"
  },
  {
   "metadata": {
    "ExecuteTime": {
     "end_time": "2025-03-31T07:15:04.471101Z",
     "start_time": "2025-03-31T07:15:04.452111Z"
    }
   },
   "cell_type": "code",
   "source": "dict([(3, 9), (4, 16), (5, 25)])",
   "id": "f10c329c82eb5d25",
   "outputs": [
    {
     "data": {
      "text/plain": [
       "{3: 9, 4: 16, 5: 25}"
      ]
     },
     "execution_count": 30,
     "metadata": {},
     "output_type": "execute_result"
    }
   ],
   "execution_count": 30
  },
  {
   "metadata": {},
   "cell_type": "markdown",
   "source": [
    "字典类型存在一些限制：\n",
    "- 字典的key不可以说可变数据，也不能包含可变数据\n",
    "- 一个key只能对应一个value\n",
    "\n",
    "第一个限制是由于字典在 Python 内部的实现机制导致的。字典类型具体的实现机制不在这里展开。简单来说，假设是 key 值告诉 Python 应该去内存中的什么位置找对应的键值对，如果 key 值本身发生了变化，那键值对在内存中的位置信息也就丢失了。比如，元组可以被用来做字典的 key 值，但是列表就不可以。\n",
    "\n",
    "第二个限制是因为字典本身被设计为根据 key 去查找 value，只有 key 和 value 的绑定关系是唯一确定的，我们才能够找到对应的数据。\n",
    "\n",
    "字典中一个很有用的方法是 get，它返回指定 key 在字典中对应的 value；如果该 key 在字典中不存在，则返回默认值。get 方法接收两个参数，一个 key，一个默认值。"
   ],
   "id": "efa5753a21163806"
  },
  {
   "metadata": {
    "ExecuteTime": {
     "end_time": "2025-03-31T07:15:04.596106Z",
     "start_time": "2025-03-31T07:15:04.570114Z"
    }
   },
   "cell_type": "code",
   "source": "numerals.get(\"A\",0)",
   "id": "8a920cfa8c323ca3",
   "outputs": [
    {
     "data": {
      "text/plain": [
       "0"
      ]
     },
     "execution_count": 31,
     "metadata": {},
     "output_type": "execute_result"
    }
   ],
   "execution_count": 31
  },
  {
   "metadata": {
    "ExecuteTime": {
     "end_time": "2025-03-31T07:15:04.754572Z",
     "start_time": "2025-03-31T07:15:04.738574Z"
    }
   },
   "cell_type": "code",
   "source": "numerals.get(\"V\",0)",
   "id": "e831ca4117bba037",
   "outputs": [
    {
     "data": {
      "text/plain": [
       "5"
      ]
     },
     "execution_count": 32,
     "metadata": {},
     "output_type": "execute_result"
    }
   ],
   "execution_count": 32
  },
  {
   "metadata": {},
   "cell_type": "markdown",
   "source": "与列表类似，字典也有推导式语法。其中，key 和 value 使用冒号分隔。字典推导式会创建一个新的字典对象。",
   "id": "a3783ab38c3cc71e"
  },
  {
   "metadata": {
    "ExecuteTime": {
     "end_time": "2025-03-31T07:15:04.912575Z",
     "start_time": "2025-03-31T07:15:04.895585Z"
    }
   },
   "cell_type": "code",
   "source": "{x:x*x for x in range(3,6)}",
   "id": "a776ff73c272a406",
   "outputs": [
    {
     "data": {
      "text/plain": [
       "{3: 9, 4: 16, 5: 25}"
      ]
     },
     "execution_count": 33,
     "metadata": {},
     "output_type": "execute_result"
    }
   ],
   "execution_count": 33
  },
  {
   "metadata": {},
   "cell_type": "markdown",
   "source": "## 2.4.4 局部状态",
   "id": "b569fc487a33de15"
  },
  {
   "metadata": {},
   "cell_type": "markdown",
   "source": [
    "列表和字典拥有局部状态（local state），即它们可以在程序执行过程中的某个时间点修改自身的状态。状态（state）就以为只当前的值有可能发生变化\n",
    "\n",
    "函数也是有状态的。举例来说，我们可以定义一个函数，来抽象从银行账户中取钱的过程。我们为这个函数命名为 withdraw，它接收一个参数，代表取钱的金额。如果账户中有足够的金额，withdraw 会返回取完钱以后的余额；否则，withdraw 会返回「余额不足」。假设我们账户里有 100 美元，调用 withdraw 应该得到如下结果："
   ],
   "id": "fa6d85ca1d64263e"
  },
  {
   "metadata": {
    "ExecuteTime": {
     "end_time": "2025-03-31T07:15:05.117583Z",
     "start_time": "2025-03-31T07:15:05.102592Z"
    }
   },
   "cell_type": "code",
   "source": [
    "# >>> withdraw(25)\n",
    "# 75\n",
    "# >>> withdraw(25)\n",
    "# 50\n",
    "# >>> withdraw(60)\n",
    "# '余额不足'\n",
    "# >>> withdraw(15)\n",
    "# 35"
   ],
   "id": "d4275115b3e32405",
   "outputs": [],
   "execution_count": 34
  },
  {
   "metadata": {},
   "cell_type": "markdown",
   "source": "在上面的代码中，表达式 withdraw(25) 被执行了两次，但是返回了不同的结果。因此，我们定义的这个函数不是纯函数（in-pure）。执行这个函数在返回内容的同时，还产生了其它副作用（side effects），导致多次调用一个函数得到的结果却不相同。这里的副作用之所以会出现，是因为withdraw函数更改了它所在的栈帧之外的变量",
   "id": "db5ecebca20dad51"
  },
  {
   "metadata": {
    "ExecuteTime": {
     "end_time": "2025-03-31T07:15:05.242583Z",
     "start_time": "2025-03-31T07:15:05.223574Z"
    }
   },
   "cell_type": "code",
   "source": "# withdraw = make_withdraw(100)",
   "id": "9e29d4ecb3607b44",
   "outputs": [],
   "execution_count": 35
  },
  {
   "metadata": {},
   "cell_type": "markdown",
   "source": "make_withdraw的实现需要一种新的声明形式：非局部（nonlocal）声明。当我们调用make_withdraw的时候，我们将初始余额声明为balance变量，然后我们再定义并返回一个局部函数withdraw，它会在调用时更新并返回balance的值",
   "id": "844676e8f8bc9acf"
  },
  {
   "metadata": {
    "ExecuteTime": {
     "end_time": "2025-04-01T03:45:17.127904Z",
     "start_time": "2025-04-01T03:45:17.107589Z"
    }
   },
   "cell_type": "code",
   "source": [
    "def make_withdraw(balance):\n",
    "    \"\"\"返回一个每次调用都会减少 balance 的 withdraw 函数\"\"\"\n",
    "    def withdraw(amount):\n",
    "        nonlocal balance # 声明balance是非局部的\n",
    "        if amount > balance:\n",
    "            return \"余额不足\"\n",
    "        balance -= amount\n",
    "        return balance\n",
    "    return withdraw\n",
    "\n",
    "wd = make_withdraw(20) #创建闭包，初始balance=20\n",
    "\n",
    "# 所有wd调用共享同一个balance，因为它们的父帧是同一个make_withdraw帧\n",
    "wd(5)\n",
    "wd(2)\n",
    "wd(13)\n",
    "wd(1)"
   ],
   "id": "755107eba075a581",
   "outputs": [
    {
     "data": {
      "text/plain": [
       "'余额不足'"
      ]
     },
     "execution_count": 30,
     "metadata": {},
     "output_type": "execute_result"
    }
   ],
   "execution_count": 30
  },
  {
   "metadata": {},
   "cell_type": "markdown",
   "source": "当 balance 属性为声明为 nonlocal 后，每当它的值发生更改时，相应的变化都会同步更新到 balance 属性第一次被声明的位置。回想一下，在没有 noncal 声明之前，所有对 balance 的重新赋值操作都会在当前环境的第一帧中绑定。非局部语句指示名称不会出现在第一个（局部）帧或最后一个（全局）帧，而是出现在其他地方。",
   "id": "96a9de4f14bb3668"
  },
  {
   "metadata": {},
   "cell_type": "markdown",
   "source": [
    "第二次调用withdraw像往常一样创建了第二个局部帧。并且，这两个withdraw帧都具有相同的父级帧。它们都集成了make_withdraw的运行环境，而变量balance就是在该环境中定义和声明的。因此，它们都可以访问到balance变量的绑定关系。调用withdraw会改变当前运行环境，并影响到下一次调用withdraw的结果。nonlocal声明语句运行withdraw更改make_withdraw运行帧中的变量\n",
    "\n",
    "自从我们第一次遇到嵌套的 def 语句，我们就发现到嵌套定义的函数可以在访问其作用域之外的变量。访问nonlocal声明的变量名称并不需要使用非局部语句。相比之下，只有在非局部语句之后，函数才能更改这些帧中名称的绑定\n",
    "\n",
    "PS:嵌套函数可以访问外部变量（无需nonlocal）；修改外部变量必须使用nonlocal"
   ],
   "id": "98a0e28a68e41183"
  },
  {
   "metadata": {},
   "cell_type": "markdown",
   "source": "通过引入非局部语句，我们为赋值语句创建了双重作用。他们可以更改局部绑定（local bindings），也可以更改非局部绑定。事实上，赋值语句已经有了很多作用：它们可以创建新的变量，也可以为现有变量重新赋值。赋值也可以改变列表和字典的内容。Python 中赋值语句的多种作用可能会使执行赋值语句时的效果变得不太明显。",
   "id": "7a816fc8e33e2c05"
  },
  {
   "metadata": {},
   "cell_type": "markdown",
   "source": [
    "**Python特质**（Python Particulars）。这种非局部赋值模式是具有高阶函数和词法作用域的编程语言的普遍特征。大多数其他语言根本不需要非局部语句。相反，非局部赋值通常是赋值语句的默认行为。\n",
    "\n",
    "Python 在变量名称查找方面也有一个不常见的限制：在一个函数体内，多次出现的同一个变量名必须处于同一个运行帧内。因此，Python无法在非局部帧中查找某个变量名对应的值，然后再局部帧中为同样名称的变量赋值，因为同名变量会在同一函数两个不同帧中被访问。此限制允许Python在执行函数体之前预先计算哪个帧包含哪个名称。当代码违反了这个限制时，程序会产生令人困惑的错误消息。比如，删除掉nonlocal语句的make_withdraw示例："
   ],
   "id": "85a0f30d09826017"
  },
  {
   "metadata": {
    "ExecuteTime": {
     "end_time": "2025-04-01T03:45:19.993999Z",
     "start_time": "2025-04-01T03:45:19.597216Z"
    }
   },
   "cell_type": "code",
   "source": [
    "# def make_withdraw(balance):\n",
    "#     \"\"\"返回一个每次调用都会减少 balance 的 withdraw 函数\"\"\"\n",
    "#     def withdraw(amount):\n",
    "#         balance\n",
    "#         if amount > balance:\n",
    "#             return \"余额不足\"\n",
    "#         balance -= amount\n",
    "#         return balance\n",
    "#     return withdraw\n",
    "#\n",
    "# wd = make_withdraw(20)\n",
    "# wd(5)"
   ],
   "id": "a76f3ec7d3a35be1",
   "outputs": [
    {
     "ename": "UnboundLocalError",
     "evalue": "local variable 'balance' referenced before assignment",
     "output_type": "error",
     "traceback": [
      "\u001B[1;31m---------------------------------------------------------------------------\u001B[0m",
      "\u001B[1;31mUnboundLocalError\u001B[0m                         Traceback (most recent call last)",
      "Cell \u001B[1;32mIn[31], line 12\u001B[0m\n\u001B[0;32m      9\u001B[0m     \u001B[38;5;28;01mreturn\u001B[39;00m withdraw\n\u001B[0;32m     11\u001B[0m wd \u001B[38;5;241m=\u001B[39m make_withdraw(\u001B[38;5;241m20\u001B[39m)\n\u001B[1;32m---> 12\u001B[0m \u001B[43mwd\u001B[49m\u001B[43m(\u001B[49m\u001B[38;5;241;43m5\u001B[39;49m\u001B[43m)\u001B[49m\n",
      "Cell \u001B[1;32mIn[31], line 4\u001B[0m, in \u001B[0;36mmake_withdraw.<locals>.withdraw\u001B[1;34m(amount)\u001B[0m\n\u001B[0;32m      3\u001B[0m \u001B[38;5;28;01mdef\u001B[39;00m \u001B[38;5;21mwithdraw\u001B[39m(amount):\n\u001B[1;32m----> 4\u001B[0m     \u001B[43mbalance\u001B[49m\n\u001B[0;32m      5\u001B[0m     \u001B[38;5;28;01mif\u001B[39;00m amount \u001B[38;5;241m>\u001B[39m balance:\n\u001B[0;32m      6\u001B[0m         \u001B[38;5;28;01mreturn\u001B[39;00m \u001B[38;5;124m\"\u001B[39m\u001B[38;5;124m余额不足\u001B[39m\u001B[38;5;124m\"\u001B[39m\n",
      "\u001B[1;31mUnboundLocalError\u001B[0m: local variable 'balance' referenced before assignment"
     ]
    }
   ],
   "execution_count": 31
  },
  {
   "metadata": {},
   "cell_type": "markdown",
   "source": "出现此 UnboundLocalError 是因为 balance 在第 7 行中被赋值，因此Python假定对balance的所有引用也必须出现在当前帧中。这个错误发生在第7行执行前，这意味着Python在执行第5行之前，就以某种方式考虑了第7行的代码。等我们研究解释器设计的时候，我们就会看到在执行函数体之前预先计算有关函数体的实际情况是很常见的。此时，Python 的预处理限制了 balance 可能出现的帧，从而导致找不到对应的变量名。添加 nonlocal 声明可以修复这个问题。Python 2 中不存在 nonlocal 声明。",
   "id": "f75a5545ffd2a856"
  },
  {
   "metadata": {},
   "cell_type": "markdown",
   "source": "## 2.4.5 非局部Non-local赋值的好处",
   "id": "6525f0037de4e9ae"
  },
  {
   "metadata": {},
   "cell_type": "markdown",
   "source": [
    "非局部Non-local赋值对我们意识到程序是由独立、自治的对象组成的，这些对象相互交互又各自维护自己的内部状态\n",
    "\n",
    "具体来说，非局部赋值使我们能够维护某个函数的局部状态，但是这些状态又会随着对该函数的连续调用而改变。与某个withdraw函数关联的balance变量在对该函数的多次调用之间共享。但是，程序的其余部分无法访问与withdraw实例相关联的balance变量。只有wd与定义它的make_withdraw的帧相关联。如果再次调用make_withdraw，那么它将创建一个单独的帧，其中包含一个单独的balance变量\n",
    "\n",
    "我们可以扩展我们的示例来说明这一点。第二次调用 make_withdraw 返回具有不同父级的第二个 withdraw 函数。我们将第二个函数绑定到全局帧中的名称 wd2。"
   ],
   "id": "3e0cb4905e6a29a5"
  },
  {
   "metadata": {
    "ExecuteTime": {
     "end_time": "2025-03-31T07:15:06.339193Z",
     "start_time": "2025-03-31T02:56:17.947984Z"
    }
   },
   "cell_type": "code",
   "source": [
    "def make_withdraw(balance):\n",
    "    \"\"\"返回一个每次调用都会减少 balance 的 withdraw 函数\"\"\"\n",
    "    def withdraw(amount):\n",
    "        nonlocal balance # 声明balance是非局部的\n",
    "        if amount > balance:\n",
    "            return \"余额不足\"\n",
    "        balance -= amount\n",
    "        return balance\n",
    "    return withdraw\n",
    "\n",
    "wd = make_withdraw(20)\n",
    "wd2 = make_withdraw(7)\n",
    "wd2(6)\n",
    "wd(8)"
   ],
   "id": "7f7260be7fbf0e1a",
   "outputs": [
    {
     "data": {
      "text/plain": [
       "12"
      ]
     },
     "execution_count": 12,
     "metadata": {},
     "output_type": "execute_result"
    }
   ],
   "execution_count": 12
  },
  {
   "metadata": {},
   "cell_type": "markdown",
   "source": [
    "现在，我们看到实际上在两个不同的帧中有两个名称 balance 的绑定，并且每个 withdraw 函数都有不同的父级。名称 wd 绑定到 balance 为 20 的函数，而 wd2 绑定到 balance 为 7 的另一个函数。\n",
    "\n",
    "调用wd2会改变其非局部balance名称的绑定，但不会影响绑定到名称为withdraw的函数。未来对 wd 的调用不受 wd2 的 balance 变化的影响；wd 的 balance 仍然是 20。\n",
    "\n",
    "这样，每个 withdraw 实例都保持自己的 balance 状态，但程序中的任何其他函数都无法访问该状态。从更高的层面来看这种情况，我们抽象了一个银行账户，它自己管理自己的状态，其行为方式与世界上所有其它账户一样：随着时间推移，账户的状态会根据账户的取款记录而发生变化。"
   ],
   "id": "bd512815579a3b3"
  },
  {
   "metadata": {},
   "cell_type": "markdown",
   "source": "## 2.4.6 非局部Non-local赋值的代码",
   "id": "60f0fa4212f2b4c"
  },
  {
   "metadata": {},
   "cell_type": "markdown",
   "source": [
    "我们的运行环境计算模型解释了非局部赋值的影响。然而，对于变量名和变量值来说，非局部赋值也引入了一些重要的细微差别。\n",
    "\n",
    "之前的方式中，我们的值没有改变；只有名字和绑定改变了。当两个名称 a 和 b 都绑定到值 4 时，它们绑定到相同的 4 还是不同的 4 并不重要。当然我们知道，只有一个从未改变过的对象，即 4。\n",
    "\n",
    "但是，具有状态的函数不会以这种方式运行。当两个名称wd和wd2都绑定到一个withdraw函数时，它们是绑定到同一个函数还是绑定到该函数的不同实例是很重要的。考虑以下示例，它与我们刚刚分析的示例形成对比。在这种情况下，调用 wd2 命名的函数确实改变了 wd 命名的函数的值，因为两个名称都引用同一个函数。"
   ],
   "id": "8c68bf3b73a73447"
  },
  {
   "metadata": {
    "ExecuteTime": {
     "end_time": "2025-03-31T07:15:06.376197200Z",
     "start_time": "2025-03-31T03:01:21.806787Z"
    }
   },
   "cell_type": "code",
   "source": [
    "def make_withdraw(balance):\n",
    "    \"\"\"返回一个每次调用都会减少 balance 的 withdraw 函数\"\"\"\n",
    "    def withdraw(amount):\n",
    "        nonlocal balance # 声明balance是非局部的\n",
    "        if amount > balance:\n",
    "            return \"余额不足\"\n",
    "        balance -= amount\n",
    "        return balance\n",
    "    return withdraw\n",
    "\n",
    "wd = make_withdraw(12)\n",
    "wd2 = wd\n",
    "wd2(1)\n",
    "wd(1)"
   ],
   "id": "2c14f2b1a1ba917c",
   "outputs": [
    {
     "data": {
      "text/plain": [
       "10"
      ]
     },
     "execution_count": 13,
     "metadata": {},
     "output_type": "execute_result"
    }
   ],
   "execution_count": 13
  },
  {
   "metadata": {},
   "cell_type": "markdown",
   "source": [
    "两个名字在世界上共同指代同一个值并不罕见，在我们的程序中也是如此。但是，因为值会随时间变化，我们必须非常小心地理解变化对可能引用这些值的其他名称的影响。\n",
    "\n",
    "正确理解包含nonlocal声明的代码的关键是记住：只有函数调用才能引入新帧。赋值语句只能更改现有帧中的绑定关系。在这种情况下，除非make_withdraw被调用两次，否则只能有一个balance绑定。"
   ],
   "id": "bc6286a79482c00d"
  },
  {
   "metadata": {},
   "cell_type": "markdown",
   "source": [
    "**相同与变化**（Sameness and change）。这些微妙之处的出现是因为，通过引入改变非局部环境的非纯函数，我们改变了表达式的性质。仅包含纯函数调用的表达式是引用透明（referentially transparent）的；即如果在函数中，用一个等于子表达式的值来替换子表达式，它的值不会改变。\n",
    "\n",
    "重新绑定操作违反了引用透明的条件，因为它们不仅仅是返回一个值；他们还会在执行过程中改变运行环境。当我们引入任意的重新绑定时，我们遇到了一个棘手的认识论问题：两个值相同意味着什么。当我们的计算环境模型中，两个单独定义的函数是不同的，因为对一个函数的更改可能不会反映在另一个函数中。\n",
    "\n",
    "通常，只要我们从不修改数据对象，我们就可以将数据对象视为其各个部分的总和。例如，有理数是通过给出其分子和分母来确定的。但这种观点在变化的存在下不再有效，其中数据对象和组成它的部分各有各的“身份”。即使我们通过 withdraw 改变了 balance，银行账户仍然是“同一个”银行账户；相反，我们可以有两个银行账户，它们恰好具有相同的 balance，但是是不同的对象。\n",
    "\n",
    "尽管它带来了复杂性，但非局部赋值是创建模块化程序的强大工具。程序的不同部分对应于不同的环境帧，可以在整个程序执行过程中单独发展。此外，使用具有局部状态的函数，我们能够实现可变数据类型。事实上，我们可以实现抽象的数据类型，这些数据类型等效于上面介绍的内置列表和 dict 类型。"
   ],
   "id": "6836c9ef9592d229"
  },
  {
   "metadata": {},
   "cell_type": "markdown",
   "source": "## 2.4.7 列表和字典实现",
   "id": "4a07238372869879"
  },
  {
   "metadata": {},
   "cell_type": "markdown",
   "source": [
    "Python 语言并不让我们直接访问列表的实现细节，而只提供了语言内置的可以变更数据的方法。为了理解如何使用具有局部状态的函数来表示可变列表，我们现在将开发一个可变链表的实现。\n",
    "\n",
    "我们将用一个链表作为其局部状态的函数来表示一个可变链表。像所有可变数据一样，列表需要有一个唯一标识。具体来说，我们不能使用None来表示一个空的可变列表，因为两个空列表是不同的（例如，为某一个追加元素，而另一个保持不变），但None始终是None。但是，两个独立的函数则不一样，即使他们的局部状态都是 empty，这两个函数也是不同的两个对象。\n",
    "\n",
    "如果可变链表是一个函数，它需要什么参数？答案展示了编程中的一般模式：函数是一个 dispatch （调度）函数，其参数首先是一个期望的指令，代表期望这个函数做什么；然后是该方法的需要用到的参数。此指令是一个字符串，用于命名函数应执行的操作。可以将这个 dispatch 函数理解为多个不同函数的抽象：第一个参数确定目标函数的行为，并为该行为入参其他参数。\n",
    "\n",
    "我们的可变列表将响应五种不同的消息：len、getitem、push_first、pop_first 和 str。前两个实现序列抽象的行为。接下来的两个添加或删除列表的第一个元素。最后一条返回整个链表的字符串表示形式。"
   ],
   "id": "825eb3119f9e3d54"
  },
  {
   "metadata": {
    "ExecuteTime": {
     "end_time": "2025-03-31T07:16:15.587478Z",
     "start_time": "2025-03-31T07:16:15.574477Z"
    }
   },
   "cell_type": "code",
   "source": [
    "def mutable_link():\n",
    "    \"\"\"返回一个可变链表的函数\"\"\"\n",
    "    contents = empty\n",
    "    def dispatch(message,value=None):\n",
    "        nonlocal contents\n",
    "        if message == 'len':\n",
    "            return len_link(contents)\n",
    "        elif message == 'getitem':\n",
    "            return getitem_link(contents,value)\n",
    "        elif message == 'push_first':\n",
    "            contents = link(value,contents)\n",
    "        elif message == 'pop_first':\n",
    "            f = first(contents)\n",
    "            contents = rest(contents)\n",
    "            return f\n",
    "        elif message == 'str':\n",
    "            return join_link(contents,\",\")\n",
    "    return dispatch"
   ],
   "id": "927bdc865d3e2d26",
   "outputs": [],
   "execution_count": 43
  },
  {
   "metadata": {},
   "cell_type": "markdown",
   "source": "我们还可以添加一个辅助函数，用已知的列表来构建一个链表，只需按相反的顺序添加每个元素即可",
   "id": "ddfd5f800bb31731"
  },
  {
   "metadata": {
    "ExecuteTime": {
     "end_time": "2025-03-31T07:16:18.115776Z",
     "start_time": "2025-03-31T07:16:18.103690Z"
    }
   },
   "cell_type": "code",
   "source": [
    "def to_mutable_link(source):\n",
    "    \"\"\"返回一个与原列表内容相同的函数列表\"\"\"\n",
    "    s = mutable_link()\n",
    "    for element in reversed(source):\n",
    "        s('push,first',element)\n",
    "    return s"
   ],
   "id": "77ee0ec64ee858df",
   "outputs": [],
   "execution_count": 44
  },
  {
   "metadata": {},
   "cell_type": "markdown",
   "source": [
    "在上面的定义中，函数 reversed 接受并返回一个可遍历的值；这是另一个列表操作函数的示例。\n",
    "\n",
    "至此，我们就可以构造一个功能实现的可变链表了。请注意，链表本身是一个函数。"
   ],
   "id": "b39e64e88b84f4af"
  },
  {
   "metadata": {
    "ExecuteTime": {
     "end_time": "2025-03-31T07:16:19.381094Z",
     "start_time": "2025-03-31T07:16:19.323095Z"
    }
   },
   "cell_type": "code",
   "source": [
    "s = to_mutable_link(suits)\n",
    "type(s)\n",
    "print(s('str'))"
   ],
   "id": "5df608c1689de8c4",
   "outputs": [
    {
     "ename": "NameError",
     "evalue": "name 'join_link' is not defined",
     "output_type": "error",
     "traceback": [
      "\u001B[1;31m---------------------------------------------------------------------------\u001B[0m",
      "\u001B[1;31mNameError\u001B[0m                                 Traceback (most recent call last)",
      "Cell \u001B[1;32mIn[45], line 3\u001B[0m\n\u001B[0;32m      1\u001B[0m s \u001B[38;5;241m=\u001B[39m to_mutable_link(suits)\n\u001B[0;32m      2\u001B[0m \u001B[38;5;28mtype\u001B[39m(s)\n\u001B[1;32m----> 3\u001B[0m \u001B[38;5;28mprint\u001B[39m(\u001B[43ms\u001B[49m\u001B[43m(\u001B[49m\u001B[38;5;124;43m'\u001B[39;49m\u001B[38;5;124;43mstr\u001B[39;49m\u001B[38;5;124;43m'\u001B[39;49m\u001B[43m)\u001B[49m)\n",
      "Cell \u001B[1;32mIn[43], line 17\u001B[0m, in \u001B[0;36mmutable_link.<locals>.dispatch\u001B[1;34m(message, value)\u001B[0m\n\u001B[0;32m     15\u001B[0m     \u001B[38;5;28;01mreturn\u001B[39;00m f\n\u001B[0;32m     16\u001B[0m \u001B[38;5;28;01melif\u001B[39;00m message \u001B[38;5;241m==\u001B[39m \u001B[38;5;124m'\u001B[39m\u001B[38;5;124mstr\u001B[39m\u001B[38;5;124m'\u001B[39m:\n\u001B[1;32m---> 17\u001B[0m     \u001B[38;5;28;01mreturn\u001B[39;00m \u001B[43mjoin_link\u001B[49m(contents,\u001B[38;5;124m\"\u001B[39m\u001B[38;5;124m,\u001B[39m\u001B[38;5;124m\"\u001B[39m)\n",
      "\u001B[1;31mNameError\u001B[0m: name 'join_link' is not defined"
     ]
    }
   ],
   "execution_count": 45
  },
  {
   "metadata": {},
   "cell_type": "markdown",
   "source": "此外，我们可以将消息传递给 list 以更改其内容，例如删除第一个元素",
   "id": "310b648c92af6477"
  },
  {
   "metadata": {
    "ExecuteTime": {
     "end_time": "2025-03-31T07:15:54.958444Z",
     "start_time": "2025-03-31T07:15:54.918449Z"
    }
   },
   "cell_type": "code",
   "source": [
    "s('pop_first')\n",
    "\n",
    "print(s('str'))"
   ],
   "id": "8910441794c0ee9d",
   "outputs": [
    {
     "ename": "NameError",
     "evalue": "name 's' is not defined",
     "output_type": "error",
     "traceback": [
      "\u001B[1;31m---------------------------------------------------------------------------\u001B[0m",
      "\u001B[1;31mNameError\u001B[0m                                 Traceback (most recent call last)",
      "Cell \u001B[1;32mIn[38], line 1\u001B[0m\n\u001B[1;32m----> 1\u001B[0m \u001B[43ms\u001B[49m(\u001B[38;5;124m'\u001B[39m\u001B[38;5;124mpop_first\u001B[39m\u001B[38;5;124m'\u001B[39m)\n\u001B[0;32m      3\u001B[0m \u001B[38;5;28mprint\u001B[39m(s(\u001B[38;5;124m'\u001B[39m\u001B[38;5;124mstr\u001B[39m\u001B[38;5;124m'\u001B[39m))\n",
      "\u001B[1;31mNameError\u001B[0m: name 's' is not defined"
     ]
    }
   ],
   "execution_count": 38
  },
  {
   "metadata": {},
   "cell_type": "markdown",
   "source": "原则上，操作 push_first 和 pop_first 足以对列表进行任意更改。我们可以完全清空列表，然后用想要的结果替换它的旧内容。",
   "id": "427d076bba9c0d53"
  },
  {
   "metadata": {},
   "cell_type": "markdown",
   "source": [
    "**消息传递**（Message passing）。我们可以实现Python列表的许多有用的数据变更操作，例如 extend（延长链表）和 insert（在特定位置插入）。同时我们有一个选择：我们可以将它们全部实现为函数，利用现有的消息 pop_first 和 push_first 进行实现。或者，我们可以在 dispatch 函数体中添加额外的 elif 子句，每个子句检查一条消息（例如，'extend' ）并直接对内容应用适当的更改。\n",
    "\n",
    "第二种方法将对数据值的所有操作的逻辑封装在一个响应不同消息的函数中，是一种称为消息传递的能力。使用消息传递的程序定义了调度函数，每个函数都可能具有局部状态，并通过将“消息”作为第一个参数传递给这些函数来组织计算。消息是对应于特定行为的字符串。"
   ],
   "id": "7f1147d5a3225e34"
  },
  {
   "metadata": {},
   "cell_type": "markdown",
   "source": "**字典实现**（Implementing Dictionaries）。我们还可以实现一个具有与字典类似行为的值。在这种情况下，我们使用键值对对列表来存储字典的内容。每队都是一个双元素列表",
   "id": "5661d382f856d35e"
  },
  {
   "metadata": {
    "ExecuteTime": {
     "end_time": "2025-03-31T07:16:42.481205Z",
     "start_time": "2025-03-31T07:16:42.464207Z"
    }
   },
   "cell_type": "code",
   "source": [
    "def dictionary():\n",
    "    \"\"\"返回一个字典的函数实现\"\"\"\n",
    "    records = []  # 用于存储键值对（每个键值对是一个形如[key,value]的子列表）\n",
    "    def getitem(key):\n",
    "        matches = [r for r in records if r[0] == key]\n",
    "        if len(matches) == 1:\n",
    "            key , value = matches[0]\n",
    "            return value  # value=matches[0][1]\n",
    "    def setitem(key,value):\n",
    "        nonlocal records   # records被嵌套函数共享，通过nonlocal修改\n",
    "        non_matches = [r for r in records if r[0] != key]  # 先过滤掉所有key不匹配的记录\n",
    "        records = non_matches + [[key,value]]\n",
    "    def dispatch(message,key=None,value=None):\n",
    "        if message == 'getitem':\n",
    "            return getitem(key)\n",
    "        elif message == 'setitem':\n",
    "            setitem(key,value)\n",
    "    return dispatch"
   ],
   "id": "7aada2b503920bca",
   "outputs": [],
   "execution_count": 46
  },
  {
   "metadata": {},
   "cell_type": "markdown",
   "source": "同样，我们使用消息传递方法来组织我们的实现。支持两个消息：getitem 和 setitem。要为键插入值，我们会过滤掉任何具有给定键的现有记录，然后再添加一个。这样就可以确保每个键在记录中只出现一次。为了查找键的值，我们过滤与给定键匹配的记录。我们现在可以使用该实现来存储和检索值。",
   "id": "4a45d7a2c7c6598b"
  },
  {
   "metadata": {
    "ExecuteTime": {
     "end_time": "2025-03-31T07:16:50.042233Z",
     "start_time": "2025-03-31T07:16:50.020240Z"
    }
   },
   "cell_type": "code",
   "source": [
    "d = dictionary()\n",
    "d('setitem',3,9)\n",
    "d('setitem',4,16)\n",
    "d('getitem',3)\n",
    "d('getitem',4)"
   ],
   "id": "622bc61983d7f2aa",
   "outputs": [
    {
     "data": {
      "text/plain": [
       "16"
      ]
     },
     "execution_count": 47,
     "metadata": {},
     "output_type": "execute_result"
    }
   ],
   "execution_count": 47
  },
  {
   "metadata": {},
   "cell_type": "markdown",
   "source": "这种字典的实现并未针对快速记录查找进行优化，每次查找都必须遍历所有数据。内置字典类型的效率要高得多。它的实现方式超出了本文的范围。",
   "id": "5ff8ab6d36939707"
  },
  {
   "metadata": {},
   "cell_type": "markdown",
   "source": "## 2.4.8 调度字典（Dispatch Dictionaries）",
   "id": "8e1b0e8d28178a1"
  },
  {
   "metadata": {},
   "cell_type": "markdown",
   "source": [
    "dispatch 函数是实现抽象数据消息传递接口的通用方法。为实现消息分发，到目前为止，我们使用条件语句将消息字符串与一组固定的已知消息进行比较。\n",
    "\n",
    "内置字典数据类型提供了一种查找键值的通用方法。我们可以使用带有字符串键的字典，而不是使用条件来实现调度。\n",
    "\n",
    "下面的 account 数据是用字典实现的。它有一个构造器 amount 和选择器 check_balance，以及存取资金的功能。此外，帐户的局部状态与实现其行为的函数一起存储在字典中。"
   ],
   "id": "f9334611d5eb3d08"
  },
  {
   "metadata": {
    "ExecuteTime": {
     "end_time": "2025-03-31T07:18:13.130311Z",
     "start_time": "2025-03-31T07:18:13.104521Z"
    }
   },
   "cell_type": "code",
   "source": [
    "def account(initial_balance):\n",
    "    def deposit(amount):\n",
    "        dispatch['balance'] += amount\n",
    "        return dispatch['balance']\n",
    "    def withdraw(amount):\n",
    "        if amount > dispatch['balance']:\n",
    "            return 'Insufficient funds'\n",
    "        dispatch['balance'] -= amount\n",
    "        return dispatch['balance']\n",
    "    dispatch = {'deposit':   deposit,\n",
    "                'withdraw':  withdraw,\n",
    "                'balance':   initial_balance}\n",
    "    return dispatch\n",
    "\n",
    "def withdraw(account, amount):\n",
    "    return account['withdraw'](amount)\n",
    "def deposit(account, amount):\n",
    "    return account['deposit'](amount)\n",
    "def check_balance(account):\n",
    "    return account['balance']\n",
    "\n",
    "a = account(20)\n",
    "deposit(a, 5)\n",
    "withdraw(a, 17)\n",
    "check_balance(a)"
   ],
   "id": "a03b84b2ea611ac2",
   "outputs": [
    {
     "data": {
      "text/plain": [
       "8"
      ]
     },
     "execution_count": 48,
     "metadata": {},
     "output_type": "execute_result"
    }
   ],
   "execution_count": 48
  },
  {
   "metadata": {},
   "cell_type": "markdown",
   "source": [
    "在 amount 的方法声明中，使用字典声明了一个 dispatch 变量并将其返回，该字典包含一个帐户可能被操作的各种情况。balance 是一个数字，而消息存款 deposit 和取款 withdraw 则是两个函数。这些函数可以访问 dispatch 字典，因此它们可以读取和更改 balance。通过将 balance 存储在 dispatch 字典中而不是直接存储在帐户帧中，我们避免了在 deposit 和 withdraw 函数中使用 nonlocal 声明。\n",
    "\n",
    "运算符 += 和 -= 是 Python（和许多其他语言）中先计算，后赋值两个操作的简写。下面的最后两行是等效的。"
   ],
   "id": "5f554d1ff06b974c"
  },
  {
   "metadata": {},
   "cell_type": "code",
   "outputs": [],
   "execution_count": null,
   "source": [
    "a = 2\n",
    "a = a + 1\n",
    "a += 1"
   ],
   "id": "d5c3ef115728c0ba"
  },
  {
   "metadata": {},
   "cell_type": "markdown",
   "source": "## 2.4.9 约束传递（Propagating Constrains）",
   "id": "ad378ea5c65f9a6d"
  },
  {
   "metadata": {},
   "cell_type": "markdown",
   "source": [
    "可变数据让我们能够模拟具有各种变化的系统，也运行我们构建新的抽象类型。在这个扩展示例中，我们结合了非局部赋值、列表和字典来构建一个支持多方向计算的基于约束的系统。将程序表示为约束是一种声明式编程，在这种编程中，程序员声明要解决的问题的框架结构，而不是具体的实现细节。\n",
    "\n",
    "计算机程序传统上被组织为单向计算，它对预先指定的参数执行操作以产生所需的输出。另一方面，我们通常希望根据数量之间的关系对系统进行建模。例如，我们之前考虑过理想气体状态方程，它通过玻尔兹曼常数 (k) 将理想气体的压力 (p)、体积 (v)、数量 (n) 和温度 (t) 联系起来：\n",
    "\n",
    "p * v = n * k * t\n",
    "\n",
    "这样的方程不是单向的。给定任何四个量，我们可以使用这个方程来计算第五个。然而，将方程式翻译成传统的计算机语言会迫使我们选择一个量来根据其他四个量进行计算。因此，计算压力的函数不能用于计算温度，即使这两个量的计算来自同一个方程。\n",
    "\n",
    "在本节中，我们概述了线性关系的一般模型的设计。我们定义了在数量之间保持的原始约束，例如强制数学关系 a + b = c 的 adder(a, b, c) 约束。\n",
    "\n",
    "我们还定义了一种组合方式，以便可以组合原始约束来表达更复杂的关系。这样，我们的程序就类似于一种编程语言。我们通过构建一个网络来组合约束，在该网络中约束由连接器 (connector) 连接。连接器是一个对象，它“持有”一个值并且可以参与一个或多个约束。\n",
    "\n",
    "例如，我们知道华氏温度和摄氏温度之间的关系是：\n",
    "\n",
    "9 * c = 5 * (f - 32)\n",
    "\n",
    "该等式是 c 和 f 之间的复杂约束。这样的约束可以被认为是一个由原始加法器 (adder) 、乘法器 (multiplier) 和常量 (constant) 约束组成的网络。\n",
    "\n",
    "![jupyter](./加法器+乘法器.png)\n",
    "\n",
    "在此图中，我们在左侧看到一个乘法器，其中包含三个端口，标记为 a、b 和 c。这些将乘数连接到网络的其余部分，如下所示：终端连接到连接器 celsius，该连接器将保持摄氏温度。b 端口连接到连接器 w，该连接器链接到常量 9。乘法器约束为 a 和 b 乘积的 c 端链接到另一个乘法器的 c 端，该乘法器的 b 连接到常量 5，它的 a 又连接到加法器的某一项。\n",
    "\n",
    "这个网络的计算过程如下：当一个连接器被赋予一个值时（由用户或由它链接到的约束框），它会唤醒所有相关的约束（除了刚刚唤醒它的约束）以告诉他们它有值。每个被唤醒的约束框之后轮流询问其连接器，以查看是否有足够的信息来确定连接器的值。如果有，该框设置该连接器，然后唤醒所有关联的约束，依此类推。例如，在摄氏度和华氏度之间的转换中，w、x 和 y 立即被常量框分别设置为 9、5 和 32。连接器唤醒乘法器和加法器，它们确定没有足够的信息继续进行。如果用户（或网络的其他部分）将摄氏连接器设置为一个值（比如 25），最左边的乘法器将被唤醒，它将 u 设置为 25 * 9 = 225。然后你唤醒第二个乘法器，将 v 设置为 45，v 唤醒加法器，将 fahrenheit 连接器设置为 77。"
   ],
   "id": "7758f7e13e007cb"
  },
  {
   "metadata": {},
   "cell_type": "markdown",
   "source": "**使用约束系统**（Using the Constraint System），要使用约束系统执行上述温度计算，我们首先通过调用连接器connector创建两个命名连接器，摄氏度celsius和华氏度fahrenheit",
   "id": "22561f7f61dc4b6e"
  },
  {
   "metadata": {
    "ExecuteTime": {
     "end_time": "2025-03-31T07:30:10.448242Z",
     "start_time": "2025-03-31T07:30:10.402245Z"
    }
   },
   "cell_type": "code",
   "source": [
    "celsius = connector('Celsius')\n",
    "fahrenheit = connector('Fahrenheit')"
   ],
   "id": "a3b4ae6d7d3a2663",
   "outputs": [
    {
     "ename": "NameError",
     "evalue": "name 'connector' is not defined",
     "output_type": "error",
     "traceback": [
      "\u001B[1;31m---------------------------------------------------------------------------\u001B[0m",
      "\u001B[1;31mNameError\u001B[0m                                 Traceback (most recent call last)",
      "Cell \u001B[1;32mIn[50], line 1\u001B[0m\n\u001B[1;32m----> 1\u001B[0m celsius \u001B[38;5;241m=\u001B[39m \u001B[43mconnector\u001B[49m(\u001B[38;5;124m'\u001B[39m\u001B[38;5;124mCelsius\u001B[39m\u001B[38;5;124m'\u001B[39m)\n\u001B[0;32m      2\u001B[0m fahrenheit \u001B[38;5;241m=\u001B[39m connector(\u001B[38;5;124m'\u001B[39m\u001B[38;5;124mFahrenheit\u001B[39m\u001B[38;5;124m'\u001B[39m)\n",
      "\u001B[1;31mNameError\u001B[0m: name 'connector' is not defined"
     ]
    }
   ],
   "execution_count": 50
  },
  {
   "metadata": {},
   "cell_type": "markdown",
   "source": "然后，我们将这些连接器链接到一个反映上图的网络中。函数转换器 (converter) 组装网络中的各种连接器和约束。",
   "id": "1166c62e1ceef0b2"
  },
  {
   "metadata": {
    "ExecuteTime": {
     "end_time": "2025-03-31T07:30:08.587048Z",
     "start_time": "2025-03-31T07:30:08.567718Z"
    }
   },
   "cell_type": "code",
   "source": [
    "def converter(c,f):\n",
    "    \"\"\"用约束条件连接 c 到 f，将摄氏度转换为华氏度.\"\"\"\n",
    "    u,v,w,x,y = [connector() for _ in range(5)]\n",
    "    multiplier(c,w,u)\n",
    "    multiplier(v,x,u)\n",
    "    adder(v,y,f)\n",
    "    constant(w,9)\n",
    "    constant(x,5)\n",
    "    constant(y,32)"
   ],
   "id": "335cbab8cc99cfb7",
   "outputs": [],
   "execution_count": 49
  },
  {
   "metadata": {
    "ExecuteTime": {
     "end_time": "2025-03-31T07:30:49.672827Z",
     "start_time": "2025-03-31T07:30:49.630727Z"
    }
   },
   "cell_type": "code",
   "source": "converter(celsius, fahrenheit)",
   "id": "df7c1b3976cf5c35",
   "outputs": [
    {
     "ename": "NameError",
     "evalue": "name 'celsius' is not defined",
     "output_type": "error",
     "traceback": [
      "\u001B[1;31m---------------------------------------------------------------------------\u001B[0m",
      "\u001B[1;31mNameError\u001B[0m                                 Traceback (most recent call last)",
      "Cell \u001B[1;32mIn[51], line 1\u001B[0m\n\u001B[1;32m----> 1\u001B[0m converter(\u001B[43mcelsius\u001B[49m, fahrenheit)\n",
      "\u001B[1;31mNameError\u001B[0m: name 'celsius' is not defined"
     ]
    }
   ],
   "execution_count": 51
  },
  {
   "metadata": {},
   "cell_type": "markdown",
   "source": [
    "我们将使用消息传递系统来协调约束和连接器。约束是不包含局部状态的字典。它们对消息的响应是非纯函数，会更改它们约束的连接器。\n",
    "\n",
    "连接器是保存当前值并响应操纵该值的消息的字典。约束不会直接更改连接器的值，而是通过发送消息来更改，以便连接器可以通知其他约束以响应更改。这样，一个连接器既代表了一个数字，同时也封装了连接器的行为。\n",
    "\n",
    "我们可以发送给连接器一条消息来设置它的值。在这里，我们（ “user” ）将 celsius 的值设置为 25。"
   ],
   "id": "2ffaee7b0f6bad01"
  },
  {
   "metadata": {},
   "cell_type": "code",
   "outputs": [],
   "execution_count": null,
   "source": "celsius['set_val']('user', 25)",
   "id": "eef9cf0dde82bd79"
  },
  {
   "metadata": {},
   "cell_type": "markdown",
   "source": [
    "不仅 celsius 的值变为 25，而且它的值通过网络传播，因此 fahrenheit 的值也发生变化。打印这些更改是因为我们在构造它们时命名了这两个连接器。\n",
    "\n",
    "现在我们可以尝试将 fahrenheit 度设置为一个新值，比如 212。"
   ],
   "id": "fdd91807fcf9bed"
  },
  {
   "metadata": {},
   "cell_type": "code",
   "outputs": [],
   "execution_count": null,
   "source": "fahrenheit['set_val']('user', 212)",
   "id": "be04e5bdde7580ae"
  },
  {
   "metadata": {},
   "cell_type": "markdown",
   "source": "连接器报告说它察觉到了一个矛盾：它的值为 77.0，而有人试图将它设置为 212。如果我们真的想用新值应用到网络，我们可以告诉 celsius 忘记它的旧值：",
   "id": "cf45e2333a146b2"
  },
  {
   "metadata": {},
   "cell_type": "code",
   "outputs": [],
   "execution_count": null,
   "source": "celsius['forget']('user')",
   "id": "e03877aae84e7cdd"
  },
  {
   "metadata": {},
   "cell_type": "markdown",
   "source": [
    "连接器 celsius 发现最初设置其值的用户现在收回该值，因此 celsius 同意失去其值，并将这一事实通知网络的其余部分。这个信息最终传播到 fahrenheit，它现在发现它没有理由继续相信它自己的值是 77。因此，它也放弃了它的值。\n",
    "\n",
    "现在 fahrenheit 没有值，我们可以将其设置为 212："
   ],
   "id": "63eaf85145d72ee4"
  },
  {
   "metadata": {},
   "cell_type": "code",
   "outputs": [],
   "execution_count": null,
   "source": "fahrenheit['set_val']('user', 212)",
   "id": "2e0e23d1cf9cce31"
  },
  {
   "metadata": {},
   "cell_type": "markdown",
   "source": "这个新值在通过网络传播时会迫使 celsius 的值变为 100。我们使用了完全相同的网络来计算给定 celsius 的 fahrenheit 和给定 fahrenheit 的 celsius。这种计算的非方向性是基于约束的系统的显着特征。",
   "id": "36310bf8f21bdd6"
  },
  {
   "metadata": {},
   "cell_type": "markdown",
   "source": "**实现约束系统**（Implementing the Constraint System）。正如我们所见，连接器是将消息名称映射到函数和数据值的字典。我们将实现响应以下消息的连接器：",
   "id": "b69bb268655f2e56"
  },
  {
   "metadata": {},
   "cell_type": "code",
   "outputs": [],
   "execution_count": null,
   "source": [
    "# >>> connector ['set_val'](source, value)  \"\"\"表示source在请求连接器将当前值设为 value\"\"\"\n",
    "# >>> connector ['has_val']() \"\"\"返回连接器是否已经具有值\"\"\"\n",
    "# >>> connector ['val']  \"\"\"是连接器的当前值\"\"\"\n",
    "# >>> connector ['forget'](source) \"\"\"告诉连接器 source 请求遗忘它的值\"\"\"\n",
    "# >>> connector ['connect'](source) \"\"\"告诉连接器参与新的约束，即 source\"\"\""
   ],
   "id": "a7d42d3cbebc3d54"
  },
  {
   "metadata": {},
   "cell_type": "markdown",
   "source": "约束也是字典，它通过两条消息从连接器接收信息：",
   "id": "4f34d555f0d10344"
  },
  {
   "metadata": {},
   "cell_type": "code",
   "outputs": [],
   "execution_count": null,
   "source": [
    "# >>> constraint['new_val']()  \"\"\"表示与约束相连的某个连接器具有新的值。\"\"\"\n",
    "# >>> constraint['forget']() \"\"\"表示与约束相连的某个连接器遗忘了值。\"\"\""
   ],
   "id": "8fbe72225b676b4e"
  },
  {
   "metadata": {},
   "cell_type": "markdown",
   "source": [
    "当约束收到这些消息时，它们会将消息传播到其他连接器。\n",
    "\n",
    "adder 函数在三个连接器上构造一个加法器约束，其中前两个必须与第三个相加：a + b = c。为了支持多向约束传播，加法器还必须指定它从 c 中减去 a 得到 b，同样地从 c 中减去 b 得到 a。"
   ],
   "id": "70cd2cf27c62b975"
  },
  {
   "metadata": {},
   "cell_type": "code",
   "outputs": [],
   "execution_count": null,
   "source": [
    "from operator import add,sub\n",
    "def adder(a,b,c):\n",
    "    \"\"\"约束a+b=c\"\"\"\n",
    "    return make_tenary_constraint(a,b,c,add,sub,sub)"
   ],
   "id": "7dda5539cf418d14"
  },
  {
   "metadata": {},
   "cell_type": "markdown",
   "source": "我们想实现一个通用的三元（三向）约束，它使用来自 adder 的三个连接器和三个函数来创建一个接受 new_val 和 forget 消息的约束。对消息的响应是局部函数，它们被放置在名为 constraint 的字典中。",
   "id": "78c5a30854fe1fc1"
  },
  {
   "metadata": {},
   "cell_type": "code",
   "outputs": [],
   "execution_count": null,
   "source": [
    "def make_tenary_constraint(a,b,c,ab,ca,cb):\n",
    "    \"\"\"约束ab(a,b)=c,ca(c,a)=b,cb(c,b)=a\"\"\"\n",
    "    def new_value():\n",
    "        av,bv,cv = [connector['has_val']() for connector in (a, b, c)]\n",
    "        if av and bv:\n",
    "            c['set_val'](constraint, ab(a['val'], b['val']))\n",
    "        elif av and cv:\n",
    "            b['set_val'](constraint, ca(c['val'], a['val']))\n",
    "        elif bv and cv:\n",
    "            a['set_val'](constraint, cb(c['val'], b['val']))\n",
    "    def forget_value():\n",
    "        for connector in (a,b,c):\n",
    "            connector['forget'](constraint)\n",
    "    constraint = {'new_val': new_value, 'forget': forget_value}\n",
    "    for connector in (a,b,c):\n",
    "        connector['connect'](constraint)\n",
    "    return constraint"
   ],
   "id": "c4a1f69b36154243"
  },
  {
   "metadata": {},
   "cell_type": "markdown",
   "source": [
    "字典 constraint 是一个调度字典，也是约束对象本身。它本身可以响应约束接收到的两条消息，但也作为 source 参数传给连接器。\n",
    "\n",
    "每当约束被告知其连接器之一具有值时，就会调用约束的局部函数 new_value。该函数首先检查 a 和 b 是否都有值。如果是，它告诉 c 将其值设置为函数 ab 的返回值，在加法器的情况下为 add。约束将自身（constraint）作为连接器的 source 参数传递，该连接器是加法器对象。如果 a 和 b 不同时都有值，则约束检查 a 和 c，依此类推。\n",
    "\n",
    "如果约束被告知它的一个连接器遗忘了它的值，它会请求它的所有连接器遗忘它们的值。（实际上只有那些由此约束设置的值会丢失。）\n",
    "\n",
    "乘法器与加法器非常相似。"
   ],
   "id": "6fbbb044e8ba9f95"
  },
  {
   "metadata": {},
   "cell_type": "code",
   "outputs": [],
   "execution_count": null,
   "source": [
    "from operator import mul,truediv\n",
    "def multiplier(a,b,c):\n",
    "    \"\"\"约束a*b=c\"\"\"\n",
    "    return make_ternary_constraint(a, b, c, mul, truediv, truediv)"
   ],
   "id": "ef91b141dc9a102d"
  },
  {
   "metadata": {},
   "cell_type": "markdown",
   "source": "常量也是一种约束，但它永远不会发送任何消息，因为它只涉及它在构造时设置的单个连接器。",
   "id": "d5af22172ca377bd"
  },
  {
   "metadata": {},
   "cell_type": "code",
   "outputs": [],
   "execution_count": null,
   "source": [
    "def constant(connector,value):\n",
    "    \"\"\"常量赋值\"\"\"\n",
    "    constraint = {}\n",
    "    connector['set_val'](constraint,value)\n",
    "    return constraint"
   ],
   "id": "28f44954ce92bab8"
  },
  {
   "metadata": {},
   "cell_type": "markdown",
   "source": "这三个约束足以实现我们的温度转换网络。",
   "id": "377a5b5b024ff66c"
  },
  {
   "metadata": {},
   "cell_type": "markdown",
   "source": [
    "**连接器表示**（Representing connectors）。连接器也是字典，其中包含一组值，也包括有局部状态的响应函数。连接器必须跟踪 informant 变量，它提供了当前的值，以及它参与的 constraints 列表。\n",
    "\n",
    "函数 connector 具有用于设置和遗忘值的局部函数，这些值是对来自约束的消息的响应。"
   ],
   "id": "3aee24a5fb390c91"
  },
  {
   "metadata": {},
   "cell_type": "code",
   "outputs": [],
   "execution_count": null,
   "source": [
    "def connector(name=None):\n",
    "    \"\"\"限制条件之间的连接器\"\"\"\n",
    "    informant = None\n",
    "    constraint = []\n",
    "    def set_value(source,value):\n",
    "        nonlocal informant\n",
    "        val = connector['val']\n",
    "        if val is None:\n",
    "            informant,connector['val'] = source,value\n",
    "            if name is not None:\n",
    "                print(name,'=',value)\n",
    "            inform_all_except(source,'new_val',constraints)\n",
    "        else:\n",
    "            if val != value:\n",
    "                print('Contradiction detected:', val, 'vs', value)\n",
    "    def forget_value(source):\n",
    "        nonlocal informant\n",
    "        if informant == source:\n",
    "            informant,connector['val'] = None,None\n",
    "            if name is not None:\n",
    "                print(name,'is forgotten')\n",
    "            inform_all_except(source,'forget',constraints)\n",
    "    connector = {'val':None,\n",
    "                 'set_val':set_value,\n",
    "                 'forget':forget_value,\n",
    "                 'has_val':lambda:connector['val'] is not None,\n",
    "                 'connect':lambda source:constraints.append(source)}\n",
    "    return connector"
   ],
   "id": "5814643bfeb42334"
  },
  {
   "metadata": {},
   "cell_type": "markdown",
   "source": [
    "连接器也是约束用于与连接器通信的五个消息的调度字典。四个响应是函数，最后的响应是值本身。\n",
    "\n",
    "当有设置连接器值的请求时调用局部函数 set_value。如果连接器当前没有值，它将设置它的值并记住请求设置值的源约束作为 informant。然后连接器将通知除了请求设置值约束以外的所有参与的约束。这是使用以下迭代函数完成的。"
   ],
   "id": "a1aeae6a981a1a82"
  },
  {
   "metadata": {},
   "cell_type": "code",
   "outputs": [],
   "execution_count": null,
   "source": [
    "def inform_all_except(source,message,constraints):\n",
    "    \"\"\"告知信息除了source外的所有约数条件\"\"\"\n",
    "    for c in constraints:\n",
    "        if c != source:\n",
    "            c[message]()"
   ],
   "id": "ee2b56af397d9d0a"
  },
  {
   "metadata": {},
   "cell_type": "markdown",
   "source": [
    "如果要求连接器遗忘其值，它会调用局部函数 forget-value，该函数首先检查以确保请求来自与最初设置值相同的约束。如果是这样，连接器会通知其关联的约束该值的丢失情况。\n",
    "\n",
    "对消息 has_val 的响应表明当前连接器是否有值。对消息 connect 的响应会将源约束添加到约束列表中。\n",
    "\n",
    "我们设计的约束程序引入了许多将在面向对象编程中再次出现的思想。约束和连接器都是通过消息操作的抽象。当连接器的值发生变化时，它会通过一条消息进行更改，该消息不仅会更改值，还会验证它（检查源）并传播其效果（通知其他约束）。事实上，我们将在本章后面使用具有字符串值键和函数值的字典的类似架构来实现面向对象的系统。"
   ],
   "id": "c95ee70c2999eb2c"
  }
 ],
 "metadata": {
  "kernelspec": {
   "display_name": "Python 3",
   "language": "python",
   "name": "python3"
  },
  "language_info": {
   "codemirror_mode": {
    "name": "ipython",
    "version": 2
   },
   "file_extension": ".py",
   "mimetype": "text/x-python",
   "name": "python",
   "nbconvert_exporter": "python",
   "pygments_lexer": "ipython2",
   "version": "2.7.6"
  }
 },
 "nbformat": 4,
 "nbformat_minor": 5
}
