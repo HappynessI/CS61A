{
 "cells": [
  {
   "metadata": {},
   "cell_type": "markdown",
   "source": "# 2.5 面向对象编程",
   "id": "63d56f7693cecae2"
  },
  {
   "metadata": {},
   "cell_type": "markdown",
   "source": [
    "面向对象编程（OOP）是一种组织程序的方法，它将本章介绍的许多思想结合在一起。与数据抽象中的函数一样，类创建了在使用和实现数据之间的抽象屏障。与调度字典一样，对象响应行为请求。与可变数据结构一样，对象具有无法从全局环境直接访问本地状态。Python对象系统提供了方便的语法来促进使用这些技术来组织程序。这种语法的大部分在其他面向对象的编程语言之间共享。\n",
    "\n",
    "对象系统提供的不仅仅是便利。它为设计程序提供了一个新的隐喻，其中几个独立的代理在计算机内交互。每个对象都以抽象两者的复杂性的方式将本地状态和行为捆绑在一起。对象相互通信，并且由于它们的交互而计算有用的结果。对象不仅传递消息，而且还在相同类型的其他对象之间共享行为，并从相关类型继承特征。\n",
    "\n",
    "面向对象编程（OOP）的范式有自己的词汇来支持对象隐喻。我们已经看到，对象（object）是具有方法和属性的数据值，可以通过点表达式（dot notation）访问。每个对象（object）也有一个类型，称为其类（class）。为了创建新类型的数据，我们实现了新类。"
   ],
   "id": "13590ab96c53961e"
  },
  {
   "metadata": {},
   "cell_type": "markdown",
   "source": "## 2.5.1 对象和类",
   "id": "88fe79e5222a93dd"
  },
  {
   "metadata": {},
   "cell_type": "markdown",
   "source": [
    "类就像一个模板，对象是按照模板（类）生成的实例。到目前为止我们使用的对象都有内置类，但也可以创建新的用户定义类。类定义指定在该类的对象之间共享的属性和方法。我们将通过重新访问银行账户的例子来介绍类语句。\n",
    "\n",
    "在引入本地状态时，我们看到银行账户要具有balance的可变值。银行帐户对象应具有 withdraw 方法，用于更新帐户余额并返回请求的金额（如果可用）。要完成抽象：一个银行账户应该能够返回器当前的balance，返回账户holder的名称，以及deposit的金额\n",
    "\n",
    "Account类允许我们创建多个银行账户实例。创建新对象实例的操作称为实例化类。Python中用于实例化类的语法和调用函数的语法相同。在这种情况下，我们用参数Kirk调用Account，即账户持有人的姓名"
   ],
   "id": "41a21d1ae66109d7"
  },
  {
   "cell_type": "code",
   "id": "initial_id",
   "metadata": {
    "collapsed": true,
    "ExecuteTime": {
     "end_time": "2025-04-02T10:33:15.639640Z",
     "start_time": "2025-04-02T10:33:15.623642Z"
    }
   },
   "source": "a = Account('Krik')",
   "outputs": [],
   "execution_count": 24
  },
  {
   "metadata": {},
   "cell_type": "markdown",
   "source": "对象的属性是与对象关联的名称-值对，可通过点表达式访问。对于特定对象，其有特定值的属性，（而不是类的所有对象）称为实例属性。每个Account都有自己的余额和账户持有人姓名，这是实例属性的示例。在更广泛的编程社区中，实例属性也可以称为字段、属性或实例变量。",
   "id": "3530bb4b4a2d7758"
  },
  {
   "metadata": {
    "ExecuteTime": {
     "end_time": "2025-04-02T10:33:15.700189Z",
     "start_time": "2025-04-02T10:33:15.661074Z"
    }
   },
   "cell_type": "code",
   "source": [
    "a.holder\n",
    "a.balance"
   ],
   "id": "820c9056123106a9",
   "outputs": [
    {
     "data": {
      "text/plain": [
       "0"
      ]
     },
     "execution_count": 25,
     "metadata": {},
     "output_type": "execute_result"
    }
   ],
   "execution_count": 25
  },
  {
   "metadata": {},
   "cell_type": "markdown",
   "source": "对对象进行操作或执行特定于对象的计算的函数称为方法。方法的返回值和副作用可以依赖于并更改对象的其他属性。例如， deposit 是我们 Account 对象 a 的方法。它需要一个参数，即要存入的金额，更改对象的 balance 属性，并返回结果余额。",
   "id": "e1755146ab1c0a85"
  },
  {
   "metadata": {
    "ExecuteTime": {
     "end_time": "2025-04-02T10:33:15.777290Z",
     "start_time": "2025-04-02T10:33:15.734307Z"
    }
   },
   "cell_type": "code",
   "source": "a.deposit(15)",
   "id": "a0b68d1882071094",
   "outputs": [
    {
     "ename": "AttributeError",
     "evalue": "'Account' object has no attribute 'deposit'",
     "output_type": "error",
     "traceback": [
      "\u001B[1;31m---------------------------------------------------------------------------\u001B[0m",
      "\u001B[1;31mAttributeError\u001B[0m                            Traceback (most recent call last)",
      "Cell \u001B[1;32mIn[26], line 1\u001B[0m\n\u001B[1;32m----> 1\u001B[0m \u001B[43ma\u001B[49m\u001B[38;5;241;43m.\u001B[39;49m\u001B[43mdeposit\u001B[49m(\u001B[38;5;241m15\u001B[39m)\n",
      "\u001B[1;31mAttributeError\u001B[0m: 'Account' object has no attribute 'deposit'"
     ]
    }
   ],
   "execution_count": 26
  },
  {
   "metadata": {},
   "cell_type": "markdown",
   "source": "我们说方法是在特定对象上调用的。调用 withdraw 方法的结果是，要么批准提款并扣除金额，要么拒绝请求并返回错误消息。",
   "id": "d4f60a6266712eac"
  },
  {
   "metadata": {
    "ExecuteTime": {
     "end_time": "2025-04-02T10:33:15.796015600Z",
     "start_time": "2025-04-02T10:32:48.818579Z"
    }
   },
   "cell_type": "code",
   "source": [
    "a.withdraw(10) # withdraw方法返回扣除后的金额\n",
    "a.balance # 金额属性发生改变\n",
    "a.withdraw(10)"
   ],
   "id": "9e086e845f18c0fa",
   "outputs": [
    {
     "data": {
      "text/plain": [
       "'Insufficient funds'"
      ]
     },
     "execution_count": 13,
     "metadata": {},
     "output_type": "execute_result"
    }
   ],
   "execution_count": 13
  },
  {
   "metadata": {},
   "cell_type": "markdown",
   "source": "如上所示，方法的行为可能取决于对象不断变化的属性，方法也可以改变对象的属性。具有相同参数的两次对withdraw的调用将返回不同的结果",
   "id": "c09dac3913e771dd"
  },
  {
   "metadata": {},
   "cell_type": "markdown",
   "source": "## 2.5.2 类的定义",
   "id": "1aee6e2d235baf49"
  },
  {
   "metadata": {},
   "cell_type": "markdown",
   "source": "class语句可以创建自定义类，类体里面又包含多条子语句。类语句定义类名，类体包含一组语句来定义类的属性。",
   "id": "7a0b282deb3603b0"
  },
  {
   "metadata": {
    "ExecuteTime": {
     "end_time": "2025-04-02T10:33:15.797015100Z",
     "start_time": "2025-04-02T10:32:50.174675Z"
    }
   },
   "cell_type": "code",
   "source": [
    "# class <name>:\n",
    "#     <suite>"
   ],
   "id": "bb87a1942ad967ae",
   "outputs": [],
   "execution_count": 14
  },
  {
   "metadata": {},
   "cell_type": "markdown",
   "source": [
    "执行类语句，将创建一个新类，并在当前环境的第一帧中绑定 \\<name\\> 。然后执行类体里面的语句。在 class 的 \\<suite\\> 中 def 或赋值语句中绑定的任何名称都会创建或修改类的属性。\n",
    "\n",
    "类通常通过操作类属性来进行设计，这些属性是与该类的每个实例关联的名称-值对。类通过定义一个初始化对象的方法来指定特定对象的实例属性。例如，初始化 Account 类的对象的一部分是为它分配一个 0 的起始余额。\n",
    "\n",
    "class 语句中的 \\<suite\\> 包含 def 语句，def 语句为类的对象定义新方法。初始化对象的方法在 Python 中有一个特殊的名称 __init__ (“init”的每一侧都有两个下划线)，称为类的构造函数（constructor）。"
   ],
   "id": "92459bc8fa04b539"
  },
  {
   "metadata": {
    "ExecuteTime": {
     "end_time": "2025-04-02T10:33:15.805014500Z",
     "start_time": "2025-04-02T10:32:51.665195Z"
    }
   },
   "cell_type": "code",
   "source": [
    "class Account:\n",
    "    def __init__(self,account_holder):\n",
    "        self.balance = 0\n",
    "        self.holder = account_holder"
   ],
   "id": "accf4c08bbe5f2b5",
   "outputs": [],
   "execution_count": 15
  },
  {
   "metadata": {},
   "cell_type": "markdown",
   "source": [
    "Account 的 __init__ 方法有两个形式参数。第一个 self 绑定到新创建的 Account 对象。第二个参数 account_holder 绑定到调用类进行实例化时传递给类的参数。\n",
    "\n",
    "构造函数将实例属性名称 balance 绑定到 0。它还将属性名称 holder 绑定到名称 account_holder 的值。形式参数 account_holder 是 __init__ 方法中的本地名称。另一方面，通过最终赋值语句绑定的名称 holder 仍然存在，因为它使用点表达式存储为 self 的属性。\n",
    "\n",
    "定义 Account 类后，我们可以实例化它。"
   ],
   "id": "348ab384e8e22527"
  },
  {
   "metadata": {
    "ExecuteTime": {
     "end_time": "2025-04-02T10:33:15.807090100Z",
     "start_time": "2025-04-02T10:32:52.974782Z"
    }
   },
   "cell_type": "code",
   "source": "a = Account('Krik')",
   "id": "a3a964681a7fed1",
   "outputs": [],
   "execution_count": 16
  },
  {
   "metadata": {},
   "cell_type": "markdown",
   "source": [
    "上面的语句调用 Account 类创建一个新对象，这个对象是 Account 的一个实例，然后使用两个参数调用构造函数 __init__ : 新创建的对象和字符串“Kirk” 。一般来说，我们使用参数名称 self 作为构造函数的第一个参数，它会自动绑定到正在实例化的对象。几乎所有的 Python 代码都遵守这个规定。\n",
    "\n",
    "现在，我们可以使用符号点来访问对象的 balance 和 holder 。"
   ],
   "id": "27a9b3c2a6ac10c2"
  },
  {
   "metadata": {
    "ExecuteTime": {
     "end_time": "2025-04-02T10:33:15.808118500Z",
     "start_time": "2025-04-02T10:32:54.195366Z"
    }
   },
   "cell_type": "code",
   "source": [
    "a.balance\n",
    "a.holder"
   ],
   "id": "4326b2a1b0b325ed",
   "outputs": [
    {
     "data": {
      "text/plain": [
       "'Krik'"
      ]
     },
     "execution_count": 17,
     "metadata": {},
     "output_type": "execute_result"
    }
   ],
   "execution_count": 17
  },
  {
   "metadata": {},
   "cell_type": "markdown",
   "source": "**身份标识**：每个账号实例都有自己的余额属性，它的值是独立的",
   "id": "619797e443eee7e5"
  },
  {
   "metadata": {
    "ExecuteTime": {
     "end_time": "2025-04-02T10:33:15.808118500Z",
     "start_time": "2025-04-02T10:32:55.402412Z"
    }
   },
   "cell_type": "code",
   "source": [
    "b = Account('Spock')\n",
    "b.balance = 200\n",
    "[acc.balance for acc in (a,b)] # 两次迭代，第一次acc被绑定到a；第二次acc被绑定为b"
   ],
   "id": "6bb0f4a52d310633",
   "outputs": [
    {
     "data": {
      "text/plain": [
       "[0, 200]"
      ]
     },
     "execution_count": 18,
     "metadata": {},
     "output_type": "execute_result"
    }
   ],
   "execution_count": 18
  },
  {
   "metadata": {},
   "cell_type": "markdown",
   "source": "为了强调这种独立性，每一个实例对象都具有唯一的身份标识。使用 is 和 is not 运算符可以比较对象的标识。",
   "id": "6515f730fc3a3f8b"
  },
  {
   "metadata": {
    "ExecuteTime": {
     "end_time": "2025-04-02T10:33:15.810011800Z",
     "start_time": "2025-04-02T10:32:56.801526Z"
    }
   },
   "cell_type": "code",
   "source": [
    "a is a\n",
    "\n",
    "a is not b"
   ],
   "id": "9e3a35472cb51b57",
   "outputs": [
    {
     "data": {
      "text/plain": [
       "True"
      ]
     },
     "execution_count": 19,
     "metadata": {},
     "output_type": "execute_result"
    }
   ],
   "execution_count": 19
  },
  {
   "metadata": {},
   "cell_type": "markdown",
   "source": "尽管是从相同的调用构造的，但绑定到 a 和 b 的对象并不相同。像前面的一样，使用赋值将对象绑定到新名称不会创建新对象。",
   "id": "43c3313b30b1676f"
  },
  {
   "metadata": {
    "ExecuteTime": {
     "end_time": "2025-04-02T10:33:15.812012Z",
     "start_time": "2025-04-02T10:32:58.403315Z"
    }
   },
   "cell_type": "code",
   "source": [
    "c = a\n",
    "c is a"
   ],
   "id": "e7367a5fb9f4a82c",
   "outputs": [
    {
     "data": {
      "text/plain": [
       "True"
      ]
     },
     "execution_count": 20,
     "metadata": {},
     "output_type": "execute_result"
    }
   ],
   "execution_count": 20
  },
  {
   "metadata": {},
   "cell_type": "markdown",
   "source": "仅当使用调用表达式语法实例化类（如Account）时，才会创建具有用户定义类的新对象",
   "id": "1aa7eff020db5640"
  },
  {
   "metadata": {},
   "cell_type": "markdown",
   "source": "**方法**：方法对象也由class语句内的 def 语句定义。下面， deposit 和 withdraw 都定义为 Account 类对象上的方法。",
   "id": "c9f905837dcbb41"
  },
  {
   "metadata": {
    "ExecuteTime": {
     "end_time": "2025-04-02T10:33:30.446190Z",
     "start_time": "2025-04-02T10:33:30.438047Z"
    }
   },
   "cell_type": "code",
   "source": [
    "class Account:\n",
    "    def __init__(self,account_holder):\n",
    "        self.balance = 0\n",
    "        self.holder = account_holder\n",
    "    def deposit(self,amount):\n",
    "        self.balance = self.balance + amount\n",
    "        return self.balance\n",
    "    def withdraw(self,amount):\n",
    "        if amount > self.balance:\n",
    "            return 'Insufficient funds'\n",
    "        self.balance = self.balance - amount\n",
    "        return self.balance"
   ],
   "id": "b4b18af4fc903508",
   "outputs": [],
   "execution_count": 27
  },
  {
   "metadata": {},
   "cell_type": "markdown",
   "source": [
    "虽然方法定义在声明方式上与函数定义没有区别，但方法定义在执行时确实具有不同的效果。由class语句中的def语句创建的函数值绑定到声明的名称，作为属性在类中本地绑定。该值可以使用类实例中的点表达式的方法调用。\n",
    "\n",
    "每个方法都包含着一个特殊的首参 self ，该参数绑定调用该方法的对象。例如，假设在特定的 Account 对象上调用 deposit 并传递单个参数：存入的金额。对象本身就被绑定到 self ，而传入的参数绑定到 amount 。所有调用的方法都可以通过 self 参数来访问对象，因此它们都可以访问和操作对象的状态。\n",
    "\n",
    "为了调用这些方法，我们再次使用点表达式，如下所示。"
   ],
   "id": "a4a334df26f6475"
  },
  {
   "metadata": {
    "ExecuteTime": {
     "end_time": "2025-04-02T10:33:15.813014900Z",
     "start_time": "2025-04-02T10:33:02.852657Z"
    }
   },
   "cell_type": "code",
   "source": [
    "spock_account = Account('Spock')\n",
    "spock_account.deposit(100)\n",
    "spock_account.withdraw(90)\n",
    "spock_account.withdraw(100)\n",
    "spock_account.holder"
   ],
   "id": "352c51acbb118ae9",
   "outputs": [
    {
     "ename": "AttributeError",
     "evalue": "'Account' object has no attribute 'deposit'",
     "output_type": "error",
     "traceback": [
      "\u001B[1;31m---------------------------------------------------------------------------\u001B[0m",
      "\u001B[1;31mAttributeError\u001B[0m                            Traceback (most recent call last)",
      "Cell \u001B[1;32mIn[21], line 2\u001B[0m\n\u001B[0;32m      1\u001B[0m spock_account \u001B[38;5;241m=\u001B[39m Account(\u001B[38;5;124m'\u001B[39m\u001B[38;5;124mSpock\u001B[39m\u001B[38;5;124m'\u001B[39m)\n\u001B[1;32m----> 2\u001B[0m \u001B[43mspock_account\u001B[49m\u001B[38;5;241;43m.\u001B[39;49m\u001B[43mdeposit\u001B[49m(\u001B[38;5;241m100\u001B[39m)\n\u001B[0;32m      3\u001B[0m spock_account\u001B[38;5;241m.\u001B[39mwithdraw(\u001B[38;5;241m90\u001B[39m)\n\u001B[0;32m      4\u001B[0m spock_account\u001B[38;5;241m.\u001B[39mwithdraw(\u001B[38;5;241m100\u001B[39m)\n",
      "\u001B[1;31mAttributeError\u001B[0m: 'Account' object has no attribute 'deposit'"
     ]
    }
   ],
   "execution_count": 21
  },
  {
   "metadata": {},
   "cell_type": "markdown",
   "source": "当通过点表达式调用方法时，对象本身（在本例中绑定为 spock_account ）扮演双重角色。首先，它确定名称 withdraw 的含义; withdraw 不是环境中的名称，而是 Account 类的本地名称。其次，当调用 withdraw 方法时，它绑定到第一个参数 self 。",
   "id": "975838cf07d0a685"
  },
  {
   "metadata": {},
   "cell_type": "markdown",
   "source": "## 2.5.3 消息传递和点表达式",
   "id": "def6d4257d818c78"
  },
  {
   "metadata": {},
   "cell_type": "markdown",
   "source": [
    "在类中定义的方法和在构造函数中分配的实例属性是面向对象编程的基本元素。这两个概念在传递数据值的消息实现中复制了调度字典的大部分行为。对象使用点表达式获取消息，但这些消息不是任意字符串值键，而是类的本地名称。对象还具有命名的本地状态值（实例属性），但可以使用点表达式访问和操作该状态，而无需在实现中使用 nonlocal 语句。\n",
    "\n",
    "消息传递的主要思想是，数据值应该通过响应与其表示的抽象类型相关的消息来具有行为。点表示式是 Python 的一个语法特征，它形式化了消息传递隐喻。将语言与内置对象系统一起使用的优点是，消息传递可以与其他语言功能（如赋值语句）无缝交互。我们不需要不同的消息来“获取”或“设置”与本地属性名称关联的值; 语言语法允许我们直接使用消息名称。"
   ],
   "id": "19418fc1d723229d"
  },
  {
   "metadata": {},
   "cell_type": "markdown",
   "source": "**点表达式**：代码片段 spock_account.deposit 称为点表达式。点表达式由表达式、点和名称组成：",
   "id": "f833a7f0806190a4"
  },
  {
   "metadata": {},
   "cell_type": "code",
   "source": "# <expression>.<name>",
   "id": "9f4c10a48566f56d",
   "outputs": [],
   "execution_count": null
  },
  {
   "metadata": {},
   "cell_type": "markdown",
   "source": [
    "<expression> 可以是任何有效的 Python 表达式，但 <name> 必须是简单名称（而不是计算结果为名称的表达式）。点表达式的计算结果为作为 <expression> 值的对象的 <name> 的属性值。\n",
    "\n",
    "内置函数 getattr 也可以按名称返回对象的属性。它是点表示法的函数等效物。使用 getattr ，我们可以使用字符串查找属性，就像我们对调度字典所做的那样。"
   ],
   "id": "118fb696c3ccaf3b"
  },
  {
   "metadata": {
    "ExecuteTime": {
     "end_time": "2025-04-02T10:33:15.824176100Z",
     "start_time": "2025-04-02T10:33:09.149809Z"
    }
   },
   "cell_type": "code",
   "source": "getattr(spock_account,'balance')",
   "id": "59f116efc6cf452",
   "outputs": [
    {
     "data": {
      "text/plain": [
       "0"
      ]
     },
     "execution_count": 22,
     "metadata": {},
     "output_type": "execute_result"
    }
   ],
   "execution_count": 22
  },
  {
   "metadata": {},
   "cell_type": "markdown",
   "source": "们还可以使用 hasattr来测试对象是否具有指定的属性。",
   "id": "cc5c3171e467669b"
  },
  {
   "metadata": {
    "ExecuteTime": {
     "end_time": "2025-04-02T10:33:15.828170900Z",
     "start_time": "2025-04-02T10:33:12.324485Z"
    }
   },
   "cell_type": "code",
   "source": "hasattr(spock_account, 'deposit')",
   "id": "6795e7a78e5e791a",
   "outputs": [
    {
     "data": {
      "text/plain": [
       "False"
      ]
     },
     "execution_count": 23,
     "metadata": {},
     "output_type": "execute_result"
    }
   ],
   "execution_count": 23
  },
  {
   "metadata": {},
   "cell_type": "markdown",
   "source": "对象的属性包括其所有实例属性，以及其类中定义的所有属性（包括方法）。方法是需要特殊处理的类的属性。",
   "id": "459e6852a7045b19"
  },
  {
   "metadata": {},
   "cell_type": "markdown",
   "source": [
    "**方法和函数**：在对象上调用方法时，该对象将作为第一个参数隐式传递给该方法。也就是说，点左侧的 \\<expression\\> 值的对象将自动作为第一个参数传递给点表达式右侧命名的方法。因此，对象绑定到参数 self。\n",
    "\n",
    "为了实现自动 self 绑定，Python 区分了我们从文本开头就一直在创建的函数和绑定方法，它们将函数和将调用该方法的对象耦合在一起。绑定方法值已与其第一个参数（调用它的实例）相关联，在调用该方法时将命名为 self。\n",
    "\n",
    "我们可以通过对点表达式的返回值调用 type 来查看交互式解释器的差异。作为类的属性，方法只是一个函数，但作为实例的属性，它是一个绑定方法："
   ],
   "id": "f94a4187225b7433"
  },
  {
   "metadata": {},
   "cell_type": "code",
   "source": [
    "print(Account.deposit)\n",
    "print(spock_account.deposit)"
   ],
   "id": "3170d26cc656c0a0",
   "outputs": [],
   "execution_count": null
  },
  {
   "metadata": {},
   "cell_type": "markdown",
   "source": [
    "这两个结果的区别仅在于第一个是参数为 self 和 amount 的标准双参数函数。第二种是单参数方法，调用方法时，名称 self 将自动绑定到名为 spock_account 的对象，而参数 amount 将绑定到传递给方法的参数。这两个值（无论是函数值还是绑定方法值）都与相同的 deposit 函数体相关联。\n",
    "\n",
    "我们可以通过两种方式调用 deposit ：作为函数和作为绑定方法。在前一种情况下，我们必须显式地为 self 参数提供一个参数。在后一种情况下， self 参数会自动绑定。"
   ],
   "id": "6cf74fe3fc192bfe"
  },
  {
   "metadata": {},
   "cell_type": "code",
   "source": [
    "Account.deposit(spock_account,1001) # 函数deposit接受两个参数\n",
    "spock_account.deposit(1000) # 方法deposit接受一个参数"
   ],
   "id": "793254ca8a286b6f",
   "outputs": [],
   "execution_count": null
  },
  {
   "metadata": {},
   "cell_type": "markdown",
   "source": "函数 getattr 的行为与点表示法完全相同：如果它的第一个参数是一个对象，但名称是类中定义的方法，则 getattr 返回一个绑定方法值。另一方面，如果第一个参数是一个类，则 getattr 直接返回属性值，这是一个普通函数。",
   "id": "2d0d266b5b4e707b"
  },
  {
   "metadata": {},
   "cell_type": "markdown",
   "source": "**命名约定**：驼峰命名法",
   "id": "fb9a25d71cd9c921"
  },
  {
   "metadata": {},
   "cell_type": "markdown",
   "source": "## 2.5.4 类属性",
   "id": "ff2053d430f8ce9f"
  },
  {
   "metadata": {},
   "cell_type": "markdown",
   "source": [
    "某些属性值在给定类的所有对象之间共享。此类属性与类本身相关联，而不是与类的任何单个实例相关联。例如，假设银行以固定利率支付账户余额的利息。该利率可能会发生变化，但它是所有账户共享的单一价值。\n",
    "\n",
    "类属性由 class 语句套件中的赋值语句创建，位于任何方法定义之外。在更广泛的开发人员社区中，类属性也可以称为类变量或静态变量。以下类语句为 Account 创建名称为 interest 的类属性。"
   ],
   "id": "2c6e2d2db81e2bf8"
  },
  {
   "metadata": {
    "ExecuteTime": {
     "end_time": "2025-04-02T10:33:34.763100Z",
     "start_time": "2025-04-02T10:33:34.742093Z"
    }
   },
   "cell_type": "code",
   "source": [
    "class Account:\n",
    "    interest = 0.02 # 类属性\n",
    "    def __init__(self,account_holder):\n",
    "        self.balance = 0\n",
    "        self.holder = account_holder\n",
    "        # 在这里定义更多的方法"
   ],
   "id": "fef356661103382f",
   "outputs": [],
   "execution_count": 28
  },
  {
   "metadata": {},
   "cell_type": "markdown",
   "source": "仍然可以从类的任何实例访问此属性。",
   "id": "28d2a6d20d41ceab"
  },
  {
   "metadata": {
    "ExecuteTime": {
     "end_time": "2025-04-02T10:33:35.798959Z",
     "start_time": "2025-04-02T10:33:35.788408Z"
    }
   },
   "cell_type": "code",
   "source": [
    "spock_account = Account('Spock')\n",
    "kirk_account = Account('Kirk')\n",
    "print(spock_account.interest)\n",
    "print(kirk_account.interest)"
   ],
   "id": "90e318793c93d941",
   "outputs": [
    {
     "name": "stdout",
     "output_type": "stream",
     "text": [
      "0.02\n",
      "0.02\n"
     ]
    }
   ],
   "execution_count": 29
  },
  {
   "metadata": {},
   "cell_type": "markdown",
   "source": "但是，类属性的赋值会改变类的所有实例的属性值。",
   "id": "6f31c7628733e4a6"
  },
  {
   "metadata": {},
   "cell_type": "code",
   "source": [
    "Account.interest = 0.04\n",
    "print(spock_account.interest)\n",
    "print(kirk_account.interest)"
   ],
   "id": "8b18eaa63bf02a56",
   "outputs": [],
   "execution_count": null
  },
  {
   "metadata": {},
   "cell_type": "markdown",
   "source": [
    "**属性名称**：我们已经在对象系统中引入了足够的复杂性，以至于我们必须指定如何将名称解析为特定属性。毕竟，我们可以很容易地拥有一个同名的类属性和一个实例属性。\n",
    "\n",
    "正如我们所看到的，点表达式由表达式、点和名称组成："
   ],
   "id": "9d3f5563f9ae21f0"
  },
  {
   "metadata": {},
   "cell_type": "code",
   "source": "# <expression> . <name>",
   "id": "8a81d91a10ed2ae3",
   "outputs": [],
   "execution_count": null
  },
  {
   "metadata": {},
   "cell_type": "markdown",
   "source": [
    "计算点表达式：\n",
    "- 1.点表达式左侧的 \\<expression\\> ，生成点表达式的对象。\n",
    "- 2.\\<name\\> 与该对象的实例属性匹配；如果存在具有该名称的属性，则返回属性值。\n",
    "- 3.如果实例属性中没有 \\<name\\> ，则在类中查找 \\<name\\>，生成类属性。\n",
    "- 4.除非它是函数，否则返回属性值。如果是函数，则返回该名称绑定的方法。\n",
    "\n",
    "在这个过程中，实例属性在类属性之前，就像本地名称在环境中优先于全局名称一样。在类中定义的方法与点表达式的对象相结合，以在此计算过程的第四步中形成绑定方法。在类中查找名称的过程具有其他细微差别，一旦我们引入类继承，很快就会出现这些细微差别。"
   ],
   "id": "a73c905854a08e39"
  },
  {
   "metadata": {},
   "cell_type": "markdown",
   "source": [
    "**属性赋值**：所有左侧包含点表达式的赋值语句都会影响该点表达式对象的属性。如果对象是实例，则赋值将设置实例属性。如果对象是类，则赋值将设置类属性。由于此规则，对对象的属性的赋值不会影响其类的属性。下面的示例说明了这种区别。\n",
    "\n",
    "如果我们分配给帐户实例的命名属性 interest，我们将创建一个与现有类属性同名的新实例属性。"
   ],
   "id": "1821a321eb09d496"
  },
  {
   "metadata": {},
   "cell_type": "code",
   "source": "kirk_account.interest = 0.08",
   "id": "d2f052aa3bb852eb",
   "outputs": [],
   "execution_count": null
  },
  {
   "metadata": {},
   "cell_type": "markdown",
   "source": "并且该属性值将从点表达式返回。",
   "id": "e4802385787626c4"
  },
  {
   "metadata": {},
   "cell_type": "code",
   "source": "kirk_account.interest",
   "id": "a3a0f079abc618b1",
   "outputs": [],
   "execution_count": null
  },
  {
   "metadata": {},
   "cell_type": "markdown",
   "source": "但是，class 属性的 interest 仍保留其初始值，该值将针对其他账号（实例）返回。",
   "id": "85b018cbd2ed857e"
  },
  {
   "metadata": {},
   "cell_type": "code",
   "source": "spock_account.interest",
   "id": "336a85370294df05",
   "outputs": [],
   "execution_count": null
  },
  {
   "metadata": {},
   "cell_type": "markdown",
   "source": "对类属性 interest 的更改将影响到 spock_account ，但 kirk_account 的实例属性将不受影响。",
   "id": "ba4714de48257448"
  },
  {
   "metadata": {},
   "cell_type": "code",
   "source": [
    "Account.interest = 0.05 # 改变类属性\n",
    "print(spock_account.interest) # 实例属性发生变化（该实例中没有和类属性同名称的实例属性）\n",
    "print(kirk_account.interest) # 如果实例中存在和类属性同名的实例属性，则改变类属性，不会影响实例属性"
   ],
   "id": "a8d50700a6f44243",
   "outputs": [],
   "execution_count": null
  },
  {
   "metadata": {},
   "cell_type": "markdown",
   "source": "## 2.5.5 继承",
   "id": "94e44ccc202f5aef"
  },
  {
   "metadata": {},
   "cell_type": "markdown",
   "source": [
    "在面向对象编程范式中，我们经常会发现不同类型之间存在关联，尤其是在类的专业化程度上。即使两个类具有相似的属性，它们的特殊性也可能不同。\n",
    "\n",
    "例如，我们可能需要实现一个支票账户，与标准账户不同，支票账户每次取款需额外收取 1 美元手续费，并且利率较低。下面我们展示了期望的行为。"
   ],
   "id": "4c933aeb58da412b"
  },
  {
   "metadata": {},
   "cell_type": "code",
   "source": [
    "ch = CheckingAccount('Spock')\n",
    "ch.interest # Lower interest rate for checking accounts\n",
    "ch.deposit(20)  # Deposits are the same\n",
    "ch.withdraw(5)  # withdrawals decrease balance by an extra charge"
   ],
   "id": "30e04c98fde857cd",
   "outputs": [],
   "execution_count": null
  },
  {
   "metadata": {},
   "cell_type": "markdown",
   "source": [
    "CheckingAccount 是 Account 的特化。在 OOP 术语中，通用帐户将用作 CheckingAccount 的基类，而 CheckingAccount 将用作 Account 的子类。术语基类（base class）也常叫父类（parent class）和超类（superclass），而子类（subclass）也叫孩子类（child class）。\n",
    "\n",
    "子类继承其父类的属性，但可以重写某些属性，包括某些方法。对于继承，我们只指定子类和父类之间的区别。我们在子类中未指定的任何内容都会被自动假定为与父类的行为一样。\n",
    "\n",
    "继承在我们的对象隐喻中也起着作用，除了是一个有用的组织特征。继承旨在表示类之间的 is-a 关系，这与 has-a 关系形成对比。活期账户是一种特定类型的账户，因此从 Account 继承 CheckingAccount 是继承的适当使用。另一方面，银行有它管理的银行账户清单，所以任何一方都不应该从另一方继承。相反，帐户对象列表自然地表示为银行对象的实例属性。"
   ],
   "id": "db72db1582d01b79"
  },
  {
   "metadata": {},
   "cell_type": "markdown",
   "source": "## 2.5.6 使用继承",
   "id": "15da2f11661e1a2b"
  },
  {
   "metadata": {},
   "cell_type": "markdown",
   "source": "首先，我们给出了 Account 类的完整实现，其中包括该类及其方法的文档字符串。",
   "id": "155a60c60f7fbc4b"
  },
  {
   "metadata": {
    "ExecuteTime": {
     "end_time": "2025-04-02T10:33:40.696212Z",
     "start_time": "2025-04-02T10:33:40.673208Z"
    }
   },
   "cell_type": "code",
   "source": [
    "class Account:\n",
    "    \"\"\"一个余额非0的账户\"\"\"\n",
    "    interest = 0.02 # 类属性\n",
    "    def __init__(self,account_holder):\n",
    "        self.balance = 0\n",
    "        self.holder = account_holder\n",
    "    def deposit(self,amount):\n",
    "        \"\"\"存入账户 amount，并返回变化后的余额\"\"\"\n",
    "        self.balance = self.balance + amount\n",
    "        return self.balance\n",
    "    def withdraw(self,amount):\n",
    "        \"\"\"从账号中取出 amount，并返回变化后的余额\"\"\"\n",
    "        if amount > self.balance:\n",
    "            return 'Insufficient funds'\n",
    "        self.balance = self.balance - amount\n",
    "        return self.balance"
   ],
   "id": "a9dedb20d23d3ac1",
   "outputs": [],
   "execution_count": 30
  },
  {
   "metadata": {},
   "cell_type": "markdown",
   "source": "下面显示了 CheckingAccount 的完整实现。我们通过将计算结果为基类的表达式放在类名后面的括号中来指定继承。",
   "id": "7354b9c6d75a1ace"
  },
  {
   "metadata": {
    "ExecuteTime": {
     "end_time": "2025-04-02T10:33:42.632913Z",
     "start_time": "2025-04-02T10:33:42.612913Z"
    }
   },
   "cell_type": "code",
   "source": [
    "class CheckingAccount(Account):\n",
    "    \"从账号取钱会扣除手续费的账号\"\n",
    "    withdraw_charge = 1\n",
    "    interest = 0.01\n",
    "    def withdraw(self,amount):\n",
    "        return Account.withdraw(self,amount + self.withdraw_charge)"
   ],
   "id": "e5e3522e45c88d42",
   "outputs": [],
   "execution_count": 31
  },
  {
   "metadata": {},
   "cell_type": "markdown",
   "source": "在这里，我们介绍一个 CheckingAccount 类的类属性 withdraw_charge 。我们为 CheckingAccount 的 interest 属性分配一个较低的值。我们还定义了一个新的 withdraw 方法来覆盖 Account 类中定义的行为。由于类套件中没有其他语句，所有其他行为都继承自基类 Account 。",
   "id": "d763fad3865831bc"
  },
  {
   "metadata": {
    "ExecuteTime": {
     "end_time": "2025-04-02T10:33:44.658011Z",
     "start_time": "2025-04-02T10:33:44.645018Z"
    }
   },
   "cell_type": "code",
   "source": [
    "checking = CheckingAccount('Sam')\n",
    "checking.deposit(10)\n",
    "checking.withdraw(5)\n",
    "checking.interest"
   ],
   "id": "2c2b9bed55a6b0ec",
   "outputs": [
    {
     "data": {
      "text/plain": [
       "0.01"
      ]
     },
     "execution_count": 32,
     "metadata": {},
     "output_type": "execute_result"
    }
   ],
   "execution_count": 32
  },
  {
   "metadata": {},
   "cell_type": "markdown",
   "source": [
    "表达式 checking.deposit 的计算结果是用于存款的绑定方法，该方法在 Account 类中定义。当 Python 解析点表达式中不是实例属性的名称时，它会在类中查找该名称。事实上，在类中“查找”名称的行为试图在原始对象的类的继承链中的每个父类中找到该名称。我们可以递归地定义此过程。\n",
    "\n",
    "在类中查找名称。\n",
    "- 1.如果它命名在指定类中的属性，则返回属性值\n",
    "- 2.否则，在该类的父类中查找该名称的属性\n",
    "\n",
    "在 deposit 的情况下，Python 将首先在实例上查找名称，然后在 CheckingAccount 类中查找名称。最后，它将在定义了 deposit 的 Account 类中查找。根据我们对点表达式的计算规则，由于 deposit 是在类中查找的 checking 实例的函数，因此点表达式的计算结果为绑定方法值。该方法使用参数 10 调用，该参数调用 deposit 方法，其中 self 绑定到 checking 对象， amount 绑定到 10。\n",
    "\n",
    "对象的类始终保持不变。尽管在 Account 类中找到了 deposit 方法，但调用 deposit 时，checking 绑定到 CheckingAccount 的实例，而不是 Account 的实例。"
   ],
   "id": "13e4cc03863f74f4"
  },
  {
   "metadata": {},
   "cell_type": "markdown",
   "source": [
    "**调用父类**：重写的属性可以通过类对象来访问。例如，我们通过调用 CheckingAccount 中包含 withdraw_charge 参数的方法 withdraw 。该方法的实现是通过调用 Account 中的 withdraw 方法来实现的。\n",
    "\n",
    "请注意，我们调用了 self.withdraw_charge 而不是等效的 CheckingAccount.withdraw_charge 。前者相对于后者的好处是，从 CheckingAccount 继承的类可能会覆盖 withdraw_charge 。如果是这种情况，我们希望我们的实现的 withdraw 找到新值而不是旧值。"
   ],
   "id": "e591de05819e66a"
  },
  {
   "metadata": {},
   "cell_type": "markdown",
   "source": [
    "**接口**：在面向对象的程序中，不同类型的对象将共享相同的属性名称是极其常见的。对象接口是这些属性的属性和条件的集合。例如，所有帐户都必须具有采用数值参数的 deposit 和 withdraw 方法，以及 balance 属性。类 Account 和类 CheckingAccount 都实现此接口。继承（Inheritance）专门以这种方式促进名称共享。在某些编程语言（如 Java）中，必须显式声明接口实现。在其他对象（如 Python、Ruby 和 Go）中，任何具有适当名称的对象都实现了接口。\n",
    "\n",
    "在使用对象（不是实现对象）的时候，我们只假设它们的属性，而不假设对象类型，则对将来的更改最可靠。例如耳朵，我们不先考虑它是猫的耳朵，还是狗的耳朵，我们只知道它是耳朵。我们只说耳朵是有形状的，它可以听见某种声音然后产生反馈的。等到以后，我们需要它是狗的耳朵时，我们在具体说它是漏斗状的，它的听力范围大概在 24 米左右。也就是说，他们使用对象抽象，而不是对其实现进行任何假设。\n",
    "\n",
    "例如，假设我们运行彩票，我们希望将 5 美元存入每个帐户列表。以下实现不假定有关这些帐户类型的任何内容，因此同样适用于具有 deposit 方法的任何类型的对象："
   ],
   "id": "81850c27d006883d"
  },
  {
   "metadata": {
    "ExecuteTime": {
     "end_time": "2025-04-02T10:33:47.168665Z",
     "start_time": "2025-04-02T10:33:47.155666Z"
    }
   },
   "cell_type": "code",
   "source": [
    "def deposit_all(winners,amount=5):\n",
    "    for account in winners:\n",
    "        account.deposit(amount)  # 这里调用的是实例account的deposit方法\n",
    "        # 对于不同实例来说，它们的 deposit 方法可能不同。这个例子相对于下面来讲，更加具有健壮性"
   ],
   "id": "3573b4c726ab707f",
   "outputs": [],
   "execution_count": 33
  },
  {
   "metadata": {},
   "cell_type": "markdown",
   "source": "上面的函数 deposit_all 仅假设每个 account 满足帐户对象抽象，因此它将与也实现此接口的任何其他帐户类一起使用。假设特定的帐户类将违反帐户对象抽象的抽象屏障。例如，以下实现不一定适用于新类型的帐户：",
   "id": "38be19ba5c8a6abb"
  },
  {
   "metadata": {
    "ExecuteTime": {
     "end_time": "2025-04-02T10:33:48.192369Z",
     "start_time": "2025-04-02T10:33:48.180368Z"
    }
   },
   "cell_type": "code",
   "source": [
    "def deposit_all(winners,amount=5):\n",
    "    for account in winners:\n",
    "        Account.deposit(amount)  # 这里调用的是类Account的deposit方法"
   ],
   "id": "a39daeb83c5991d4",
   "outputs": [],
   "execution_count": 34
  },
  {
   "metadata": {},
   "cell_type": "markdown",
   "source": "## 2.5.7 多继承",
   "id": "fe93b005631c9d07"
  },
  {
   "metadata": {},
   "cell_type": "markdown",
   "source": [
    "Python 支持子类从多个基类继承属性的概念，这种语言功能称为多重继承（multiple inheritance）。\n",
    "\n",
    "假设我们有一个从 Account 继承的 SavingsAccount ，但每次客户存款时都会向他们收取少量费用。"
   ],
   "id": "545f3088ba6956bf"
  },
  {
   "metadata": {
    "ExecuteTime": {
     "end_time": "2025-04-02T10:33:49.396244Z",
     "start_time": "2025-04-02T10:33:49.381164Z"
    }
   },
   "cell_type": "code",
   "source": [
    "class SavingsAccount(Account):\n",
    "    deposit_charge = 2\n",
    "    def deposit(self,amount):\n",
    "        return Account.deposit(self,amount - self.deposit_charge)"
   ],
   "id": "c515e452742e310e",
   "outputs": [],
   "execution_count": 35
  },
  {
   "metadata": {},
   "cell_type": "markdown",
   "source": "然后，一位聪明的高管设想了一个具有 CheckingAccount 和 SavingsAccount 最佳功能的 AsSeenOnTVAccount 账户：提款费、存款费和低利率。它既是活期账户，又是储蓄账户！如果我们建造它，”这位高管解释说，“有人会注册并支付所有这些费用。我们甚至会给他们一美元。“如果我们建造它，”这位高管解释说，“有人会注册并支付所有这些费用。我们甚至会给他们一美元。",
   "id": "a95a7b0958818159"
  },
  {
   "metadata": {
    "ExecuteTime": {
     "end_time": "2025-04-02T10:33:51.375533Z",
     "start_time": "2025-04-02T10:33:51.364450Z"
    }
   },
   "cell_type": "code",
   "source": [
    "class AsSeenOnTVAccount(CheckingAccount,SavingsAccount):\n",
    "    def __init__(self,account_holder):\n",
    "        self.holder = account_holder\n",
    "        self.balance = 1  # 赠送的1$"
   ],
   "id": "8d9d0581160b974e",
   "outputs": [],
   "execution_count": 36
  },
  {
   "metadata": {},
   "cell_type": "markdown",
   "source": "事实上，上面这段简短的代码已经实现了我们想要的功能了。取款和存款都将产生费用，分别使用 CheckingAccount 和 SavingsAccount 中的函数定义。",
   "id": "6981b369c226f6a2"
  },
  {
   "metadata": {
    "ExecuteTime": {
     "end_time": "2025-04-02T10:33:52.675282Z",
     "start_time": "2025-04-02T10:33:52.664278Z"
    }
   },
   "cell_type": "code",
   "source": [
    "such_a_deal = AsSeenOnTVAccount(\"Jhon\")\n",
    "such_a_deal.balance\n",
    "such_a_deal.deposit(20)  # 调用SavingsAccount的deposit方法，会产生2$的存储费用\n",
    "such_a_deal.withdraw(10) # 调用CheckingAccount的withdraw方法，会产生1$的取款费用"
   ],
   "id": "17d4d6df451933e9",
   "outputs": [
    {
     "data": {
      "text/plain": [
       "8"
      ]
     },
     "execution_count": 37,
     "metadata": {},
     "output_type": "execute_result"
    }
   ],
   "execution_count": 37
  },
  {
   "metadata": {},
   "cell_type": "markdown",
   "source": "如果没有非歧义引用，就按预期正确解析：",
   "id": "c6ec37497f58526d"
  },
  {
   "metadata": {
    "ExecuteTime": {
     "end_time": "2025-04-02T10:33:54.213907Z",
     "start_time": "2025-04-02T10:33:54.201627Z"
    }
   },
   "cell_type": "code",
   "source": [
    "print(such_a_deal.deposit_charge)\n",
    "print(such_a_deal.withdraw_charge)"
   ],
   "id": "d11d958f407e42cd",
   "outputs": [
    {
     "name": "stdout",
     "output_type": "stream",
     "text": [
      "2\n",
      "1\n"
     ]
    }
   ],
   "execution_count": 38
  },
  {
   "metadata": {},
   "cell_type": "markdown",
   "source": "但是，当引用不明确时，例如对 Account 和 CheckingAccount 中定义的 withdraw 方法的引用，该怎么办？下图描述了 AsSeenOnTVAccount 个类的继承图。每个箭头都指向从子类到基类。![jupyter](./类的继承图.png)",
   "id": "9fef527e7597ef6e"
  },
  {
   "metadata": {},
   "cell_type": "markdown",
   "source": "对于像这样的简单“棱形”形状，Python会从左到右解析名称，然后向上解析名称。在此示例中，Python按顺序检查以下类中的属性名称，直到找到具有该名称的属性：",
   "id": "f5a0d2e06065e00f"
  },
  {
   "metadata": {},
   "cell_type": "code",
   "outputs": [],
   "execution_count": null,
   "source": "# AsSeenOnTVAccount,CheckingAccount,SavingsAccount,Account,object",
   "id": "4a61c45f6de19884"
  },
  {
   "metadata": {},
   "cell_type": "markdown",
   "source": [
    "继承排序问题没有正确的解决方案，因为在某些情况下，我们可以更愿意将某些继承类置于其他类之上。但是，任何支持多重继承的编程语言都必须以一致的方式选择某些排序，以便该语言的用户可以预测其程序的行为。\n",
    "\n",
    "进一步阅读。Python 使用称为 C3 方法解析排序的递归算法解析此名称。可以在所有类上使用 mro 方法查询任何类的方法解析顺序。"
   ],
   "id": "a11deaa472e37324"
  },
  {
   "metadata": {
    "ExecuteTime": {
     "end_time": "2025-04-02T10:39:41.376838Z",
     "start_time": "2025-04-02T10:39:41.366599Z"
    }
   },
   "cell_type": "code",
   "source": "[c.__name__ for c in AsSeenOnTVAccount.mro()]",
   "id": "2291380b6c59906c",
   "outputs": [
    {
     "data": {
      "text/plain": [
       "['AsSeenOnTVAccount', 'CheckingAccount', 'SavingsAccount', 'Account', 'object']"
      ]
     },
     "execution_count": 39,
     "metadata": {},
     "output_type": "execute_result"
    }
   ],
   "execution_count": 39
  },
  {
   "metadata": {},
   "cell_type": "markdown",
   "source": "## 2.5.8 对象的作用",
   "id": "438366c3335598d"
  },
  {
   "metadata": {},
   "cell_type": "markdown",
   "source": [
    "Python 的对象系统旨在同时方便和灵活地实现数据抽象和消息传递。类、方法、继承和点表达式的特殊语法都使我们能够在程序中形式化对象的概念，从而提高我们组织大型程序的能力。换句话说，Python 的对象系统提供了一种方便而灵活的方法来创建和操作对象，使程序员能够更好地组织和管理复杂的程序。\n",
    "\n",
    "特别是，我们希望我们的对象系统能够促进程序不同方面之间的关注点分离。程序中的每个对象封装和管理程序状态的某些部分，每个类语句定义实现程序整体逻辑的某些部分的函数。抽象障碍强制实施大型程序不同方面之间的边界。\n",
    "\n",
    "面向对象编程非常适合用于模拟由独立但相互作用部分构成的系统。例如，不同用户在社交网络中进行交互，不同角色在游戏中进行交互，不同形状在物理模拟中进行交互。在表示这样的系统时，程序中的对象通常可以自然地映射到被建模系统中的对象，而类则代表它们的类型和关系。\n",
    "\n",
    "另一方面，类可能不是实现某些抽象的最佳机制。函数式抽象提供了一个更自然的隐喻来表示输入和输出之间的关系。我们不应该觉得必须将程序中的每一点逻辑都塞进一个类中，尤其是在定义独立函数来操作数据更自然的情况下。函数还可以强制实现关注点的分离。换句话说，函数式编程提供了另一种有效地组织程序逻辑的方法，使得程序员能够更好地处理和维护程序。在某些情况下，使用函数式编程方法可能比使用面向对象编程更自然和有效。\n",
    "\n",
    "多范式语言，如 Python，允许程序员将组织范式与适当的问题相匹配。学会识别何时引入新类，而不是新函数，以简化或模块化程序，是软件工程中一项重要的设计技能，值得认真关注。"
   ],
   "id": "180374922c6a1846"
  }
 ],
 "metadata": {
  "kernelspec": {
   "display_name": "Python 3",
   "language": "python",
   "name": "python3"
  },
  "language_info": {
   "codemirror_mode": {
    "name": "ipython",
    "version": 2
   },
   "file_extension": ".py",
   "mimetype": "text/x-python",
   "name": "python",
   "nbconvert_exporter": "python",
   "pygments_lexer": "ipython2",
   "version": "2.7.6"
  }
 },
 "nbformat": 4,
 "nbformat_minor": 5
}
