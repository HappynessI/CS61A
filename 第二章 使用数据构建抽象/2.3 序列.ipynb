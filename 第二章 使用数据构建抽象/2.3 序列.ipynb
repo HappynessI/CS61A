{
 "cells": [
  {
   "metadata": {},
   "cell_type": "markdown",
   "source": "## 2.3 序列",
   "id": "ed3986b7121c6f32"
  },
  {
   "metadata": {},
   "cell_type": "markdown",
   "source": [
    "序列（sequence）是一组有顺序的值得集合，是计算机科学中的一个强大且基本的抽象概念。序列并不是特定内置类型或抽象数据表示的实例，而是一个包含不同类型数据间共享行为的集合。也就是说，序列又很多种类，但它们都具有共同的行为。特别是：\n",
    "- **长度**：序列的长度是有限的，空序列的长度为0\n",
    "- **元素选择**：序列中的每个元素都对应一个小于序列长度的非负整数作为其索引，第一个元素的索引从0开始\n",
    "\n",
    "Python 包含几种内置的序列数据类型，其中最重要的是列表（list）。"
   ],
   "id": "c62273b2dcd718d2"
  },
  {
   "metadata": {},
   "cell_type": "markdown",
   "source": "## 2.3.1 列表",
   "id": "9af6ca067270ba40"
  },
  {
   "metadata": {},
   "cell_type": "markdown",
   "source": "列表（list）是一个可以有任意长度的序列。列表有大量的内置行为，以及用于表达这些行为的特定语法。我们已经见过列表字面量（list literal），它的计算结果是一个 list 实例，以及一个计算结果为列表中元素值的元素选择表达式。list 内置的 len 函数返回序列的长度。如下，digits 是一个包含四个元素的列表，索引为 3 的元素是 8。",
   "id": "3d8bcb2259da8fe1"
  },
  {
   "cell_type": "code",
   "id": "initial_id",
   "metadata": {
    "collapsed": true,
    "ExecuteTime": {
     "end_time": "2025-03-30T10:55:08.078541Z",
     "start_time": "2025-03-30T10:55:08.056490Z"
    }
   },
   "source": [
    "digits = [1, 8, 2, 8]\n",
    "len(digits)\n",
    "digits[3]"
   ],
   "outputs": [
    {
     "data": {
      "text/plain": [
       "8"
      ]
     },
     "execution_count": 1,
     "metadata": {},
     "output_type": "execute_result"
    }
   ],
   "execution_count": 1
  },
  {
   "metadata": {},
   "cell_type": "markdown",
   "source": "此外，多个列表间可以相加，并且列表可以乘以整数。对于序列来说，加法和乘法并不是作用在内部元素上的，而是对序列自身进行组合和复制。也就是说，operator模块中的add函数（和+运算符）会生成一个为传入列表串联的新列表。operator中的mul函数（和*运算符）可接收原列表和证书k来返回一个内容为原列表内容k次重复的新列表",
   "id": "5cbdca59986ba96e"
  },
  {
   "metadata": {
    "ExecuteTime": {
     "end_time": "2025-03-30T10:55:08.157419Z",
     "start_time": "2025-03-30T10:55:08.138979Z"
    }
   },
   "cell_type": "code",
   "source": "[2, 7] + digits * 2",
   "id": "f9b28cbec83e1dd3",
   "outputs": [
    {
     "data": {
      "text/plain": [
       "[2, 7, 1, 8, 2, 8, 1, 8, 2, 8]"
      ]
     },
     "execution_count": 2,
     "metadata": {},
     "output_type": "execute_result"
    }
   ],
   "execution_count": 2
  },
  {
   "metadata": {},
   "cell_type": "markdown",
   "source": "任何值都可以包含在一个列表中，包括另一个列表。在嵌套列表中可以应用多次元素选择，以选择深度嵌套的元素。",
   "id": "47d0147de87176ea"
  },
  {
   "metadata": {
    "ExecuteTime": {
     "end_time": "2025-03-30T10:55:08.721017Z",
     "start_time": "2025-03-30T10:55:08.708071Z"
    }
   },
   "cell_type": "code",
   "source": [
    "pairs = [[10, 20], [30, 40]]\n",
    "pairs[1]\n",
    "pairs[1][0]"
   ],
   "id": "d5bfc60fe8a1d05e",
   "outputs": [
    {
     "data": {
      "text/plain": [
       "30"
      ]
     },
     "execution_count": 3,
     "metadata": {},
     "output_type": "execute_result"
    }
   ],
   "execution_count": 3
  },
  {
   "metadata": {},
   "cell_type": "markdown",
   "source": "## 2.3.2 序列遍历",
   "id": "4a566620190f9640"
  },
  {
   "metadata": {},
   "cell_type": "markdown",
   "source": [
    "在许多情况下，我们希望依次遍历序列的元素并根据元素值执行一些计算。这种情况十分常见，所以 Python 提供了一个额外的控制语句来处理序列的数据：for 循环语句。\n",
    "\n",
    "考虑统计一个值在序列中出现了多少次的问题。我们可以使用 while 循环实现一个函数。"
   ],
   "id": "6f7e223693cbbae9"
  },
  {
   "metadata": {
    "ExecuteTime": {
     "end_time": "2025-03-30T10:55:08.751459Z",
     "start_time": "2025-03-30T10:55:08.744725Z"
    }
   },
   "cell_type": "code",
   "source": [
    "def count(s,value):\n",
    "    \"\"\"统计在序列s中出现了多少次值为value的元素\"\"\"\n",
    "    total,index = 0,0\n",
    "    while index < len(s):\n",
    "        if s[index] == value:\n",
    "            total += 1\n",
    "        index += 1\n",
    "    return total\n",
    "\n",
    "count(digits,8)"
   ],
   "id": "6107951e1813a13b",
   "outputs": [
    {
     "data": {
      "text/plain": [
       "2"
      ]
     },
     "execution_count": 4,
     "metadata": {},
     "output_type": "execute_result"
    }
   ],
   "execution_count": 4
  },
  {
   "metadata": {},
   "cell_type": "markdown",
   "source": "Python 的 for 循环可以通过直接遍历元素值来简化函数，相比 while 循环无需引入变量名 index。",
   "id": "301599ebd4110ba7"
  },
  {
   "metadata": {
    "ExecuteTime": {
     "end_time": "2025-03-30T10:55:08.891307Z",
     "start_time": "2025-03-30T10:55:08.878085Z"
    }
   },
   "cell_type": "code",
   "source": [
    "def count(s,value):\n",
    "    \"\"\"统计在序列s中出现了多少次值为value的元素\"\"\"\n",
    "    total = 0\n",
    "    for elem in s:\n",
    "        if elem == value:\n",
    "            total += 1\n",
    "    return total\n",
    "\n",
    "count(digits,8)"
   ],
   "id": "b8c59a2e73102dec",
   "outputs": [
    {
     "data": {
      "text/plain": [
       "2"
      ]
     },
     "execution_count": 5,
     "metadata": {},
     "output_type": "execute_result"
    }
   ],
   "execution_count": 5
  },
  {
   "metadata": {},
   "cell_type": "markdown",
   "source": "一个for循环语句由如下格式对单个字句组成",
   "id": "28bb5849163ee8e5"
  },
  {
   "metadata": {
    "ExecuteTime": {
     "end_time": "2025-03-30T10:55:08.953797Z",
     "start_time": "2025-03-30T10:55:08.946674Z"
    }
   },
   "cell_type": "code",
   "source": [
    "# for <name> in <expression>:\n",
    "#     <suite>"
   ],
   "id": "cd9a49f69aa9bd40",
   "outputs": [],
   "execution_count": 6
  },
  {
   "metadata": {},
   "cell_type": "markdown",
   "source": [
    "for 循环语句按以下过程执行：\n",
    "- 1.执行头部（header）中的\\<expression\\>，它必须产生一个可迭代的值（可迭代的详细概念可见 4.2 隐式序列）\n",
    "- 2.对该可迭代值中的每个元素，按顺序：\n",
    "    - 1.将当前帧的\\<name\\>绑定到该元素值\n",
    "    - 2.执行\\<suite\\>"
   ],
   "id": "9c606c3891657c94"
  },
  {
   "metadata": {},
   "cell_type": "markdown",
   "source": [
    "此执行过程中使用了可迭代值。列表是序列的一种，而序列是可迭代值，它们中的元素按其顺序进行迭代。Python 还包括其它可迭代类型，但我们现在将重点介绍序列。术语 \"iterable\" 的一般定义在第 4 章中关于迭代器的部分。\n",
    "\n",
    "这个计算过程中的一个重要结果是：执行 for 语句后，<name> 将绑定到序列的最后一个元素。所以 for 循环引入了另一种可以通过语句更新环境的方法。"
   ],
   "id": "4aed0212d7801771"
  },
  {
   "metadata": {},
   "cell_type": "markdown",
   "source": "**序列解包**（Sequence unpacking）:程序中的一个常见情况是序列的元素也是序列，但是所有内部序列的长度是固定相同的。for循环可以在1头部的\\<name\\>中包含多个名称，来讲每个元素序列“解包”解包到各自的元素中",
   "id": "456ad450fb9d98ff"
  },
  {
   "metadata": {},
   "cell_type": "markdown",
   "source": "例如，我们可能有一个包含以列表为元素的 pairs，其中所有内部列表都只包含 2 个元素。",
   "id": "b0525438e343aa58"
  },
  {
   "metadata": {
    "ExecuteTime": {
     "end_time": "2025-03-30T10:55:08.985713Z",
     "start_time": "2025-03-30T10:55:08.971177Z"
    }
   },
   "cell_type": "code",
   "source": "pairs = [[1, 2], [2, 2], [2, 3], [4, 4]]",
   "id": "d634e455161f661a",
   "outputs": [],
   "execution_count": 7
  },
  {
   "metadata": {},
   "cell_type": "markdown",
   "source": "此时我们希望找到有多少第一元素和第二元素相同的内部元素对，下面的 for 循环在头部中包括两个名称，将 x 和 y 分别绑定到每对中的第一个元素和第二个元素。",
   "id": "b419c8c48787ffbf"
  },
  {
   "metadata": {
    "ExecuteTime": {
     "end_time": "2025-03-30T10:55:09.016609Z",
     "start_time": "2025-03-30T10:55:09.002964Z"
    }
   },
   "cell_type": "code",
   "source": [
    "same_count = 0\n",
    "for x,y in pairs:\n",
    "    if x == y:\n",
    "        same_count += 1\n",
    "\n",
    "same_count"
   ],
   "id": "9478d602a935f604",
   "outputs": [
    {
     "data": {
      "text/plain": [
       "2"
      ]
     },
     "execution_count": 8,
     "metadata": {},
     "output_type": "execute_result"
    }
   ],
   "execution_count": 8
  },
  {
   "metadata": {},
   "cell_type": "markdown",
   "source": "这种将多个名称绑定到固定长度序列中的多个值的模式称为序列解包（sequence unpacking），这与赋值语句中将多个名称绑定到多个值的模式类似（如在 1.2.4 名称与环境 中出现过的 x, y = 3, 4.5）",
   "id": "5e061e7b8ac0a98a"
  },
  {
   "metadata": {},
   "cell_type": "markdown",
   "source": "**范围**：range是Python中的另一种内置序列类型，用于表示整数范围。范围是用 range 创建的，它有两个整数参数：起始值和结束值加一。（其实可以有三个参数，第三个参数为步长）",
   "id": "e4e0ba1474c3a420"
  },
  {
   "metadata": {
    "ExecuteTime": {
     "end_time": "2025-03-30T10:55:09.062472Z",
     "start_time": "2025-03-30T10:55:09.049218Z"
    }
   },
   "cell_type": "code",
   "source": "range(1,10)",
   "id": "2b556b6b77409cc2",
   "outputs": [
    {
     "data": {
      "text/plain": [
       "range(1, 10)"
      ]
     },
     "execution_count": 9,
     "metadata": {},
     "output_type": "execute_result"
    }
   ],
   "execution_count": 9
  },
  {
   "metadata": {},
   "cell_type": "markdown",
   "source": "将 range 的返回结果传入 list 构造函数，可以构造出一个包含该 range 对象中所有值的列表，从而简单的查看范围中包含的内容。",
   "id": "96224bb5f078e848"
  },
  {
   "metadata": {
    "ExecuteTime": {
     "end_time": "2025-03-30T10:55:09.108920Z",
     "start_time": "2025-03-30T10:55:09.095765Z"
    }
   },
   "cell_type": "code",
   "source": "list(range(5, 8))",
   "id": "7798db6a309db54f",
   "outputs": [
    {
     "data": {
      "text/plain": [
       "[5, 6, 7]"
      ]
     },
     "execution_count": 10,
     "metadata": {},
     "output_type": "execute_result"
    }
   ],
   "execution_count": 10
  },
  {
   "metadata": {},
   "cell_type": "markdown",
   "source": "如果只给出一个参数，参数将作为双参数中的“结束值加一”，获得从 0 到结束值的范围。（其实单参数就相当于默认了起始值从 0 开始）",
   "id": "c182d2fb20c104bf"
  },
  {
   "metadata": {
    "ExecuteTime": {
     "end_time": "2025-03-30T10:55:09.155887Z",
     "start_time": "2025-03-30T10:55:09.140468Z"
    }
   },
   "cell_type": "code",
   "source": "list(range(4))",
   "id": "2a45b9e5aa12b768",
   "outputs": [
    {
     "data": {
      "text/plain": [
       "[0, 1, 2, 3]"
      ]
     },
     "execution_count": 11,
     "metadata": {},
     "output_type": "execute_result"
    }
   ],
   "execution_count": 11
  },
  {
   "metadata": {},
   "cell_type": "markdown",
   "source": "范围通常出现在 for 循环头部中的表达式，以指定 \\<suite\\> 应执行的次数。一个惯用的使用方式是：如果 \\<name\\> 没有在 \\<suite\\> 中被使用到，则用下划线字符 \"_\" 作为 \\<name\\>。",
   "id": "c4b82686b90a39a0"
  },
  {
   "metadata": {
    "ExecuteTime": {
     "end_time": "2025-03-30T10:55:09.202423Z",
     "start_time": "2025-03-30T10:55:09.188083Z"
    }
   },
   "cell_type": "code",
   "source": [
    "for _ in range(3):\n",
    "    print(\"Hello zcx\")"
   ],
   "id": "6cb57f37a57698c7",
   "outputs": [
    {
     "name": "stdout",
     "output_type": "stream",
     "text": [
      "Hello zcx\n",
      "Hello zcx\n",
      "Hello zcx\n"
     ]
    }
   ],
   "execution_count": 12
  },
  {
   "metadata": {},
   "cell_type": "markdown",
   "source": "对解释器而言，这个下划线只是环境中的另一个名称，但是对于程序员而言具有约定俗成的含义，表示该名称不会出现在任何未来的表达式中",
   "id": "db0d1403724998c8"
  },
  {
   "metadata": {},
   "cell_type": "markdown",
   "source": "## 2.3.3 序列处理",
   "id": "ce3aa458149824f8"
  },
  {
   "metadata": {},
   "cell_type": "markdown",
   "source": "序列是复合数据的一种常见形式，常见到整个程序都可能围绕着这个单一的抽象来组织。具有序列作为输入输出的模块化组件可以混用和匹配以实现数据处理。将序列处理流程中的所有操作链接在一起可以定义复杂组件，其中每个操作都是简单和集中的。",
   "id": "edece837f690c9b8"
  },
  {
   "metadata": {},
   "cell_type": "markdown",
   "source": "**列表推导式**（list comprehensions）：许多序列操作可以通过对序列中的每个元素使用一个固定表达式进行计算，并将结果值保存在结果序列中。在Python中，列表推导式是执行此类计算的表达式",
   "id": "895f8c9c872a7f06"
  },
  {
   "metadata": {
    "ExecuteTime": {
     "end_time": "2025-03-30T10:55:09.248995Z",
     "start_time": "2025-03-30T10:55:09.234048Z"
    }
   },
   "cell_type": "code",
   "source": [
    "odds = [1,3,5,7,9]\n",
    "[x+1 for x in odds]"
   ],
   "id": "db0aaf7a07841b84",
   "outputs": [
    {
     "data": {
      "text/plain": [
       "[2, 4, 6, 8, 10]"
      ]
     },
     "execution_count": 13,
     "metadata": {},
     "output_type": "execute_result"
    }
   ],
   "execution_count": 13
  },
  {
   "metadata": {},
   "cell_type": "markdown",
   "source": [
    "上面的for关键字并不是for循环的一部分，而是列表推导式的一部分，因为它被包括在方括号里。子表达式x+1通过绑定到odds中每个元素的变量x进行求值，并将结果值收集到列表中\n",
    "\n",
    "另一个常见的序列操作是选取原序列中满足某些条件的值。列表推导式也可以表达这种模式，例如选择 odds 中所有可以整除 25 的元素。"
   ],
   "id": "6719c0c2871a7e7d"
  },
  {
   "metadata": {
    "ExecuteTime": {
     "end_time": "2025-03-30T10:55:09.311247Z",
     "start_time": "2025-03-30T10:55:09.297663Z"
    }
   },
   "cell_type": "code",
   "source": "[x for x in odds if 25%x == 0]",
   "id": "f36561c8028397d6",
   "outputs": [
    {
     "data": {
      "text/plain": [
       "[1, 5]"
      ]
     },
     "execution_count": 14,
     "metadata": {},
     "output_type": "execute_result"
    }
   ],
   "execution_count": 14
  },
  {
   "metadata": {},
   "cell_type": "markdown",
   "source": "列表推导式的一般形式是：",
   "id": "7b243441f05166e0"
  },
  {
   "metadata": {
    "ExecuteTime": {
     "end_time": "2025-03-30T10:55:09.357564Z",
     "start_time": "2025-03-30T10:55:09.344066Z"
    }
   },
   "cell_type": "code",
   "source": "# [<map expression> for <name> in <sequence expression> if <filter expression>]",
   "id": "5c268c9b6cda4dbb",
   "outputs": [],
   "execution_count": 15
  },
  {
   "metadata": {},
   "cell_type": "markdown",
   "source": "为了计算列表推导式，Python 首先执行 \\<sequence expression\\>，它必须返回一个可迭代值。然后将每个元素值按顺序绑定到 \\<name\\>，再执行 \\<filter expression\\>，如果结果为真值，则计算 \\<map expression\\>，\\<map expression\\> 的结果将被收集到结果列表中。",
   "id": "d280e410871704ca"
  },
  {
   "metadata": {},
   "cell_type": "markdown",
   "source": [
    "**聚合**（Aggregation）：序列处理中的第三种常见模式是将序列中的所有值聚合为一个值。内置函数sum、min、max都是聚合函数的示例\n",
    "\n",
    "通过组合对每个元素进行计算、选择元素子集和聚合元素的模式，我们就可以使用序列处理的方法解决问题。\n",
    "\n",
    "完美数是等于其约数之和的正整数。n 的约数指的是小于 n 且可以整除 n 的正整数。可以使用列表推导式来列出 n 的所有约数。"
   ],
   "id": "2f3cd97fdd442eda"
  },
  {
   "metadata": {
    "ExecuteTime": {
     "end_time": "2025-03-30T10:55:09.389178Z",
     "start_time": "2025-03-30T10:55:09.375628Z"
    }
   },
   "cell_type": "code",
   "source": [
    "def divisors(n):\n",
    "    return [1] + [x for x in range(2,n) if n % x == 0]\n",
    "\n",
    "divisors(12)"
   ],
   "id": "958c76b6aa3e8705",
   "outputs": [
    {
     "data": {
      "text/plain": [
       "[1, 2, 3, 4, 6]"
      ]
     },
     "execution_count": 16,
     "metadata": {},
     "output_type": "execute_result"
    }
   ],
   "execution_count": 16
  },
  {
   "metadata": {},
   "cell_type": "markdown",
   "source": "通过 divisors，我们可以使用另一个列表推导式来计算 1 到 1000 的所有完美数。（1 通常也被认为是一个完美数，尽管它不符合我们对约数的定义。）",
   "id": "bc2a2edafa64697f"
  },
  {
   "metadata": {
    "ExecuteTime": {
     "end_time": "2025-03-30T10:55:09.449895Z",
     "start_time": "2025-03-30T10:55:09.421292Z"
    }
   },
   "cell_type": "code",
   "source": "[n for n in range(1,1000) if sum(divisors(n)) == n]",
   "id": "225831fede4b38ad",
   "outputs": [
    {
     "data": {
      "text/plain": [
       "[1, 6, 28, 496]"
      ]
     },
     "execution_count": 17,
     "metadata": {},
     "output_type": "execute_result"
    }
   ],
   "execution_count": 17
  },
  {
   "metadata": {},
   "cell_type": "markdown",
   "source": [
    "我们可以重用定义的 divisors 来解决另一个问题：在给定面积的情况下计算具有整数边长的矩形的最小周长。矩形的面积等于它的高乘以它的宽，因此给定面积和高度，我们可以计算出宽度。\n",
    "\n",
    "使用 assert 可以规定宽度和高度都能整除面积，以确保边长是整数。"
   ],
   "id": "20044fb9c4fa3da6"
  },
  {
   "metadata": {
    "ExecuteTime": {
     "end_time": "2025-03-30T10:55:09.480926Z",
     "start_time": "2025-03-30T10:55:09.470036Z"
    }
   },
   "cell_type": "code",
   "source": [
    "def width(area,height):\n",
    "    assert area%height ==0\n",
    "    return area//height"
   ],
   "id": "6f7b39e172f16b04",
   "outputs": [],
   "execution_count": 18
  },
  {
   "metadata": {},
   "cell_type": "markdown",
   "source": "矩形的周长是其边长之和，由此我们可以定义 perimeter。",
   "id": "c4aa52d11e6650c4"
  },
  {
   "metadata": {
    "ExecuteTime": {
     "end_time": "2025-03-30T10:55:09.512367Z",
     "start_time": "2025-03-30T10:55:09.497415Z"
    }
   },
   "cell_type": "code",
   "source": [
    "def perimeter(width,height):\n",
    "    return 2 * (width + height)"
   ],
   "id": "996d96bf65cc4440",
   "outputs": [],
   "execution_count": 19
  },
  {
   "metadata": {},
   "cell_type": "markdown",
   "source": "对于边长为整数的矩形来说，高度必须是面积的约数，所以我们考虑所有可能的高度来计算最小周长",
   "id": "6014d5c8ad3cb8ea"
  },
  {
   "metadata": {
    "ExecuteTime": {
     "end_time": "2025-03-30T10:55:09.544224Z",
     "start_time": "2025-03-30T10:55:09.530477Z"
    }
   },
   "cell_type": "code",
   "source": [
    "def minimun_perimeter(area):\n",
    "    heights = divisors(area) #返回的是能面积约数的列表\n",
    "    perimeters = [perimeter(width(area,h),h) for h in heights]\n",
    "    return min(perimeters)\n",
    "\n",
    "area = 80\n",
    "\n",
    "width(area,5)\n",
    "\n",
    "perimeter(16,5)\n",
    "\n",
    "perimeter(10,8)\n",
    "\n",
    "minimun_perimeter(area)\n",
    "\n",
    "[minimun_perimeter(n) for n in range(1,10)]"
   ],
   "id": "412768c75a544b00",
   "outputs": [
    {
     "data": {
      "text/plain": [
       "[4, 6, 8, 8, 12, 10, 16, 12, 12]"
      ]
     },
     "execution_count": 20,
     "metadata": {},
     "output_type": "execute_result"
    }
   ],
   "execution_count": 20
  },
  {
   "metadata": {},
   "cell_type": "markdown",
   "source": "**高阶函数**（higher-order functions）：序列处理中常见的模式可以使用高阶函数来表示。首先可以将对序列中每个元素进行表达式求值表示为将某个函数应用于序列中每个元素",
   "id": "bedda7975d78bfbd"
  },
  {
   "metadata": {
    "ExecuteTime": {
     "end_time": "2025-03-30T10:55:09.607282Z",
     "start_time": "2025-03-30T10:55:09.592461Z"
    }
   },
   "cell_type": "code",
   "source": [
    "def apply_to_all(map_fn,s):\n",
    "    return [map_fn(x) for x in s]"
   ],
   "id": "5ad9f92fa2ad84a6",
   "outputs": [],
   "execution_count": 21
  },
  {
   "metadata": {},
   "cell_type": "markdown",
   "source": "仅选择满足表达式条件的元素也可以通过对每个元素应用函数来表示",
   "id": "e497741623264956"
  },
  {
   "metadata": {
    "ExecuteTime": {
     "end_time": "2025-03-30T10:55:09.622780Z",
     "start_time": "2025-03-30T10:55:09.613297Z"
    }
   },
   "cell_type": "code",
   "source": [
    "def keep_if(filer_fn,s):\n",
    "    return [x for x in s if filer_fn(x)]"
   ],
   "id": "f9fab99074c51db1",
   "outputs": [],
   "execution_count": 22
  },
  {
   "metadata": {},
   "cell_type": "markdown",
   "source": "最后，许多形式的聚合都可以被表示为：将双参数函数重复应用到reduced值，并依次对每个元素应用",
   "id": "ab1022d5795eae99"
  },
  {
   "metadata": {
    "ExecuteTime": {
     "end_time": "2025-03-30T10:55:09.653606Z",
     "start_time": "2025-03-30T10:55:09.640954Z"
    }
   },
   "cell_type": "code",
   "source": [
    "def reduce(reduce_fn,s,initial):\n",
    "    reduced = initial\n",
    "    for x in s:\n",
    "        reduced= reduce_fn(reduced,x)\n",
    "    return reduced"
   ],
   "id": "b1c17664a6a1551f",
   "outputs": [],
   "execution_count": 23
  },
  {
   "metadata": {},
   "cell_type": "markdown",
   "source": "例如，reduce可用于将序列内的所有元素相乘。使用mul作为reduce_fn，1作为初始值，reduce可用于将用于将序列内的数字相乘",
   "id": "c9443c020dc738ce"
  },
  {
   "metadata": {
    "ExecuteTime": {
     "end_time": "2025-03-30T10:55:09.684232Z",
     "start_time": "2025-03-30T10:55:09.671072Z"
    }
   },
   "cell_type": "code",
   "source": [
    "from operator import mul\n",
    "\n",
    "reduce(mul,[2,4,8],1)"
   ],
   "id": "c81c26a09e45976f",
   "outputs": [
    {
     "data": {
      "text/plain": [
       "64"
      ]
     },
     "execution_count": 24,
     "metadata": {},
     "output_type": "execute_result"
    }
   ],
   "execution_count": 24
  },
  {
   "metadata": {},
   "cell_type": "markdown",
   "source": "同样也可以用这些高阶函数来寻找完美数",
   "id": "368b994b8a6920e7"
  },
  {
   "metadata": {
    "ExecuteTime": {
     "end_time": "2025-03-30T10:55:09.762496Z",
     "start_time": "2025-03-30T10:55:09.707277Z"
    }
   },
   "cell_type": "code",
   "source": [
    "def divisors_of(n):\n",
    "    divides_n = lambda x:n % x == 0\n",
    "    return [1] + keep_if(divides_n,range(2,n))\n",
    "\n",
    "divisors_of(12)\n",
    "\n",
    "from operator import add\n",
    "\n",
    "def sum_of_divisors(n):\n",
    "    return reduce(add,divisors_of(n),0)\n",
    "\n",
    "def perfect(n):\n",
    "    return sum_of_divisors(n) == n\n",
    "\n",
    "keep_if(perfect,range(1,1000))"
   ],
   "id": "8519738982d0cfd8",
   "outputs": [
    {
     "data": {
      "text/plain": [
       "[1, 6, 28, 496]"
      ]
     },
     "execution_count": 25,
     "metadata": {},
     "output_type": "execute_result"
    }
   ],
   "execution_count": 25
  },
  {
   "metadata": {},
   "cell_type": "markdown",
   "source": [
    "**约定俗成的名字**（Conventional Names）：在计算机科学中，\n",
    "- apply_to_all更常用的名称是map\n",
    "- keep_if更常用的名称是filter\n",
    "\n",
    "Python中内置的map和filter是以上函数的不以列表为返回值的泛化形式，将在第4章中介绍。上面的定义等效与将内置map和filter函数的结果传入list构造函数"
   ],
   "id": "e427e72ef5961c65"
  },
  {
   "metadata": {
    "ExecuteTime": {
     "end_time": "2025-03-30T10:55:09.792664Z",
     "start_time": "2025-03-30T10:55:09.787653Z"
    }
   },
   "cell_type": "code",
   "source": [
    "apply_to_all = lambda map_fn,s : list(map(map_fn,s))\n",
    "keep_if = lambda filter_fn,s : list(filter(filter_fn,s))"
   ],
   "id": "fbd49eed5b516680",
   "outputs": [],
   "execution_count": 26
  },
  {
   "metadata": {},
   "cell_type": "markdown",
   "source": "reduce函数内置于Python标准库的functools模块中。在此版本中，initial参数是可选的",
   "id": "b7e911cdd424d7f8"
  },
  {
   "metadata": {
    "ExecuteTime": {
     "end_time": "2025-03-30T10:55:09.823502Z",
     "start_time": "2025-03-30T10:55:09.810480Z"
    }
   },
   "cell_type": "code",
   "source": [
    "from functools import reduce\n",
    "from operator import mul\n",
    "def product(s):\n",
    "    return reduce(mul,s)\n",
    "\n",
    "product([1,2,3,4,5])"
   ],
   "id": "d5d11fc8cd73eb27",
   "outputs": [
    {
     "data": {
      "text/plain": [
       "120"
      ]
     },
     "execution_count": 27,
     "metadata": {},
     "output_type": "execute_result"
    }
   ],
   "execution_count": 27
  },
  {
   "metadata": {},
   "cell_type": "markdown",
   "source": "## 2.3.4 序列抽象",
   "id": "dd244967638a08a3"
  },
  {
   "metadata": {},
   "cell_type": "markdown",
   "source": [
    "我们已经介绍了两种满足序列抽象的内置数据类型：list 和 range。两者都满足我们在本节开始提到的条件：\n",
    "- 长度\n",
    "- 元素选择\n",
    "\n",
    "Python 还包含另外两个扩展序列抽象的行为"
   ],
   "id": "d9aa38936aa3312a"
  },
  {
   "metadata": {},
   "cell_type": "markdown",
   "source": "**成员资格**（Membership）：可用于测试某个值在序列中的成员资格。Python有两个运算符in和not in，它们的计算结果为True或False，取决于元素是否出现在序列中",
   "id": "87cdfbcd58861efe"
  },
  {
   "metadata": {
    "ExecuteTime": {
     "end_time": "2025-03-30T10:55:09.869479Z",
     "start_time": "2025-03-30T10:55:09.852920Z"
    }
   },
   "cell_type": "code",
   "source": [
    "digits\n",
    "\n",
    "2 in digits\n",
    "\n",
    "1828 in digits"
   ],
   "id": "b264d782099dae5",
   "outputs": [
    {
     "data": {
      "text/plain": [
       "False"
      ]
     },
     "execution_count": 28,
     "metadata": {},
     "output_type": "execute_result"
    }
   ],
   "execution_count": 28
  },
  {
   "metadata": {},
   "cell_type": "markdown",
   "source": [
    "**切片**（Slicing）：一个切片是原始序列的任意一段连续范围，由一对整数指定。和 range 构造函数一样，第一个整数表示起始索引，第二个整数是结束索引加一。（和前面的 range 一样，其实还有第三个参数代表步长，最经典的例子是使用 s[::-1] 得到 s 的逆序排列，具体可以自行搜索）\n",
    "\n",
    "在 Python 中，序列切片的表达方式类似于元素选择，都使用方括号，方括号中的冒号用于分隔起始索引和结束索引。\n",
    "\n",
    "如果起始索引或结束索引被省略则默认为极值：当起始索引被省略，则起始索引为 0；当结束索引被省略，则结束索引为序列长度，即取到序列最后一位。"
   ],
   "id": "ebd6fdd199fcd8eb"
  },
  {
   "metadata": {
    "ExecuteTime": {
     "end_time": "2025-03-30T10:55:09.930378Z",
     "start_time": "2025-03-30T10:55:09.915952Z"
    }
   },
   "cell_type": "code",
   "source": [
    "digits[0:2]\n",
    "\n",
    "digits[1:]"
   ],
   "id": "e6fdef36219ec272",
   "outputs": [
    {
     "data": {
      "text/plain": [
       "[8, 2, 8]"
      ]
     },
     "execution_count": 29,
     "metadata": {},
     "output_type": "execute_result"
    }
   ],
   "execution_count": 29
  },
  {
   "metadata": {},
   "cell_type": "markdown",
   "source": [
    "列举 Python 序列抽象的这些额外行为让我们有机会反思什么构成了有用的数据抽象，毕竟抽象的丰富程度（即它包含多少行为）可能会带来额外负担。额外的行为对使用抽象的用户会有一定帮助。但另一方面，用新数据类型满足一个丰富抽象的要求可能很有挑战性。丰富抽象的另一个负面后果是用户需要更长的时间来学习。\n",
    "\n",
    "序列具有丰富的抽象性，因为它们在计算中无处不在，所以学习一些复杂的行为是合理的。通常，大多数用户定义的抽象应尽可能简单。"
   ],
   "id": "e2d1c011499cd4e4"
  },
  {
   "metadata": {},
   "cell_type": "markdown",
   "source": "## 2.3.5 字符串",
   "id": "a64b2eeb6e2870b9"
  },
  {
   "metadata": {},
   "cell_type": "markdown",
   "source": [
    "在计算机科学中，文本值可能比数字更重要。比如 Python 程序是以文本形式编写和存储的。Python 中文本值的内置数据类型称为字符串（string），对应构造函数 str。在 Python 中，表示、表达和操作字符串的细节有很多。\n",
    "\n",
    "字符串是丰富抽象的另一个例子，程序员需要大量的努力才能掌握它。本节简要介绍了字符串的基本行为。\n",
    "\n",
    "字符串字面量（string literals）可以表示任意文本，使用时将内容用单引号或双引号括起来。"
   ],
   "id": "eebd602f7e48d9e8"
  },
  {
   "metadata": {
    "ExecuteTime": {
     "end_time": "2025-03-30T10:55:09.945537Z",
     "start_time": "2025-03-30T10:55:09.939617Z"
    }
   },
   "cell_type": "code",
   "source": "'I am string!'",
   "id": "e217208aee75b19c",
   "outputs": [
    {
     "data": {
      "text/plain": [
       "'I am string!'"
      ]
     },
     "execution_count": 30,
     "metadata": {},
     "output_type": "execute_result"
    }
   ],
   "execution_count": 30
  },
  {
   "metadata": {},
   "cell_type": "markdown",
   "source": [
    "我们已经在代码中看到过字符串，比如文档字符串（docstring）、print 的调用中，以及 assert 语句中的错误消息。\n",
    "\n",
    "字符串同样满足我们在本节开头介绍的序列的两个基本条件：它们具有长度且支持元素选择。字符串中的元素是只有一个字符的字符串。字符可以是字母表中的任何单个字母、标点符号或其他符号\n",
    "\n",
    "与其他编程语言不同，Python 没有单独的字符类型，任何文本都是字符串。表示单个字符的字符串的长度为 1。"
   ],
   "id": "d6cae24ccdb84e22"
  },
  {
   "metadata": {
    "ExecuteTime": {
     "end_time": "2025-03-30T10:55:09.991068Z",
     "start_time": "2025-03-30T10:55:09.979357Z"
    }
   },
   "cell_type": "code",
   "source": [
    "city = \"Beijing\"\n",
    "len(city)\n",
    "\n",
    "city[3]"
   ],
   "id": "dc3c447808097d09",
   "outputs": [
    {
     "data": {
      "text/plain": [
       "'j'"
      ]
     },
     "execution_count": 31,
     "metadata": {},
     "output_type": "execute_result"
    }
   ],
   "execution_count": 31
  },
  {
   "metadata": {},
   "cell_type": "markdown",
   "source": "与列表一样，字符串也可以通过加法和乘法进行组合。",
   "id": "c935637da8b0c22e"
  },
  {
   "metadata": {
    "ExecuteTime": {
     "end_time": "2025-03-30T10:55:10.053321Z",
     "start_time": "2025-03-30T10:55:10.039668Z"
    }
   },
   "cell_type": "code",
   "source": [
    "'Berkeley' + ', CA'\n",
    "\n",
    "'Shabu ' * 2"
   ],
   "id": "25976b988ed3d4d",
   "outputs": [
    {
     "data": {
      "text/plain": [
       "'Shabu Shabu '"
      ]
     },
     "execution_count": 32,
     "metadata": {},
     "output_type": "execute_result"
    }
   ],
   "execution_count": 32
  },
  {
   "metadata": {},
   "cell_type": "markdown",
   "source": "**成员资格**（Membership）：字符串的行为与Python中的其他序列类型有所不同。字符串抽象不符合我们对列表和范围描述的完整序列抽象。具体来说，成员运算符in应用于字符串时的行为与应用于序列时完全不同，它匹配的是子字符串而不是元素（如果字符串的行为和列表的一样，则应该匹配字符串的元素，即单个字符，但实际上匹配的是任意子字符串）",
   "id": "bb3583d0cfe87bd3"
  },
  {
   "metadata": {
    "ExecuteTime": {
     "end_time": "2025-03-30T10:55:10.101353Z",
     "start_time": "2025-03-30T10:55:10.087642Z"
    }
   },
   "cell_type": "code",
   "source": "'here' in 'Where is she?'",
   "id": "bb449d3e379d1bfe",
   "outputs": [
    {
     "data": {
      "text/plain": [
       "True"
      ]
     },
     "execution_count": 33,
     "metadata": {},
     "output_type": "execute_result"
    }
   ],
   "execution_count": 33
  },
  {
   "metadata": {},
   "cell_type": "markdown",
   "source": "**多行字面量**（Multiline Literals）：字符串可以不限于一行。跨越多行的字符串字面量可以用三重引号括起，我们已经在文档字符串中广泛使用了这种三重引号",
   "id": "22319f418c9855de"
  },
  {
   "metadata": {
    "ExecuteTime": {
     "end_time": "2025-03-30T10:55:10.132889Z",
     "start_time": "2025-03-30T10:55:10.124968Z"
    }
   },
   "cell_type": "code",
   "source": [
    "\"\"\"The Zen of Python\n",
    "claims, Readability counts.\n",
    "Read more: import this.\"\"\"\n",
    "'The Zen of Python\\nclaims, \"Readability counts.\"\\nRead more: import this.'"
   ],
   "id": "11f69e654b805fa4",
   "outputs": [
    {
     "data": {
      "text/plain": [
       "'The Zen of Python\\nclaims, \"Readability counts.\"\\nRead more: import this.'"
      ]
     },
     "execution_count": 34,
     "metadata": {},
     "output_type": "execute_result"
    }
   ],
   "execution_count": 34
  },
  {
   "metadata": {},
   "cell_type": "markdown",
   "source": "在上面的打印结果中，\\n（读作“反斜杠 n”）是一个表示换行的单个元素。尽管它显示为两个字符（反斜杠和 \"n\" ），但为了便于计算长度和元素选择，它被视为单个字符",
   "id": "16a1e318224c0851"
  },
  {
   "metadata": {},
   "cell_type": "markdown",
   "source": "**字符串强制转换**（String Coercion）：通过以对象值作为参数调用str的构造函数，可以从Python中的任何对象创建字符串。字符串的这一特性在用构造各种类型对象的描述性字符串时非常有用。",
   "id": "e0997cd66f660100"
  },
  {
   "metadata": {
    "ExecuteTime": {
     "end_time": "2025-03-30T10:55:10.179076Z",
     "start_time": "2025-03-30T10:55:10.169656Z"
    }
   },
   "cell_type": "code",
   "source": "str(2) + ' is an element of ' + str(digits)",
   "id": "a6e747553e8dbf69",
   "outputs": [
    {
     "data": {
      "text/plain": [
       "'2 is an element of [1, 8, 2, 8]'"
      ]
     },
     "execution_count": 35,
     "metadata": {},
     "output_type": "execute_result"
    }
   ],
   "execution_count": 35
  },
  {
   "metadata": {},
   "cell_type": "markdown",
   "source": "## 2.3.6 树",
   "id": "fd990fb846d1a128"
  },
  {
   "metadata": {},
   "cell_type": "markdown",
   "source": [
    "使用列表作为其他列表中元素的能力为编程语言提供了一种新的组合方式。这种能力称为数据类型的闭包属性。（离散数学中已有记载）\n",
    "\n",
    "闭包是所有组合方式的关键，因为它使我们可以创建层次结构——由“部分”组成的结构，部分其本身也由部分组成\n",
    "\n",
    "在列表中嵌套列表可能会带来复杂性。树（tree）是一种基本的数据抽象，它将层次化的值按照一定的规律进行组织和操作。\n",
    "\n",
    "一个树有一个根标签和一系列分支。树的每个分支都是一棵树，没有分支的树称为叶子。数中包含的任何树都称为该树的子数（例如分支的分支）。树的每个子数的根称为该树中的节点\n",
    "\n",
    "树的数据抽象由构造函数 tree、选择器 label 和 branches 组成。我们从简化版本开始讲起"
   ],
   "id": "de252920d5b855bd"
  },
  {
   "metadata": {
    "ExecuteTime": {
     "end_time": "2025-03-30T10:55:10.225674Z",
     "start_time": "2025-03-30T10:55:10.216423Z"
    }
   },
   "cell_type": "code",
   "source": [
    "def tree(root_label,branches=[]):\n",
    "    for branch in branches:\n",
    "        assert is_tree(branch), '分支必须是树'\n",
    "    return [root_label] + list(branches)\n",
    "\n",
    "def label(tree):\n",
    "    return tree[0]\n",
    "\n",
    "def branches(tree):\n",
    "    return tree[1:]"
   ],
   "id": "3c82e42896c3f20c",
   "outputs": [],
   "execution_count": 36
  },
  {
   "metadata": {},
   "cell_type": "markdown",
   "source": "只有当树有根标签并且所有分支也是树时，树才是结构良好的。在 tree 构造函数中使用了 is_tree 函数以验证所有分支是否结构良好",
   "id": "85daf51564232d51"
  },
  {
   "metadata": {
    "ExecuteTime": {
     "end_time": "2025-03-30T10:55:10.256693Z",
     "start_time": "2025-03-30T10:55:10.243125Z"
    }
   },
   "cell_type": "code",
   "source": [
    "def is_tree(tree):\n",
    "    if type(tree) != list or len(tree) < 1:\n",
    "        return False\n",
    "    for branch in  branches(tree):\n",
    "        if not is_tree(branch):\n",
    "            return False\n",
    "    return True"
   ],
   "id": "e155e726fae6abcb",
   "outputs": [],
   "execution_count": 37
  },
  {
   "metadata": {},
   "cell_type": "markdown",
   "source": "is_leaf 函数检查树是否有分支，若无分支则为叶子节点。",
   "id": "63095f04dca94cc4"
  },
  {
   "metadata": {
    "ExecuteTime": {
     "end_time": "2025-03-30T10:55:10.287322Z",
     "start_time": "2025-03-30T10:55:10.274258Z"
    }
   },
   "cell_type": "code",
   "source": [
    "def is_leaf(tree):\n",
    "    return not branches(tree)"
   ],
   "id": "6fb12bb43b88abe2",
   "outputs": [],
   "execution_count": 38
  },
  {
   "metadata": {},
   "cell_type": "markdown",
   "source": "树可以通过嵌套表达式来构造。以下树t具有根标签3和两个分支",
   "id": "1ab73a3c7d5a70bd"
  },
  {
   "metadata": {
    "ExecuteTime": {
     "end_time": "2025-03-30T10:58:39.070548Z",
     "start_time": "2025-03-30T10:58:39.064525Z"
    }
   },
   "cell_type": "code",
   "source": [
    "t = tree(3,[tree(1),tree(2,[tree(1),tree(1)])])\n",
    "print(t)\n",
    "\n",
    "print(label(t))\n",
    "\n",
    "print(branches(t))\n",
    "\n",
    "print(label(branches(t)[1]))\n",
    "\n",
    "print(is_leaf(t))\n",
    "\n",
    "print(is_leaf(branches(t)[0]))"
   ],
   "id": "acad9b19a0d03e8c",
   "outputs": [
    {
     "name": "stdout",
     "output_type": "stream",
     "text": [
      "[3, [1], [2, [1], [1]]]\n",
      "3\n",
      "[[1], [2, [1], [1]]]\n",
      "2\n",
      "False\n",
      "True\n",
      "[1]\n"
     ]
    }
   ],
   "execution_count": 44
  },
  {
   "metadata": {},
   "cell_type": "markdown",
   "source": "树递归（Tree-recursive）函数可以用于构造树。例如斐波那契树",
   "id": "8e89f3ae2e27ddd3"
  },
  {
   "metadata": {
    "ExecuteTime": {
     "end_time": "2025-03-30T10:55:10.350579Z",
     "start_time": "2025-03-30T10:55:10.338531Z"
    }
   },
   "cell_type": "code",
   "source": [
    "def fib_tree(n):\n",
    "    if n == 0 or n == 1:\n",
    "        return tree(n)\n",
    "    else:\n",
    "        left,right = fib_tree(n-2),fib_tree(n-1)\n",
    "        fib_n = label(left) + label(right)\n",
    "        return tree(fib_n,[left,right])\n",
    "\n",
    "fib_tree(5)"
   ],
   "id": "a39032a4c8a8714a",
   "outputs": [
    {
     "data": {
      "text/plain": [
       "[5, [2, [1], [1, [0], [1]]], [3, [1, [0], [1]], [2, [1], [1, [0], [1]]]]]"
      ]
     },
     "execution_count": 40,
     "metadata": {},
     "output_type": "execute_result"
    }
   ],
   "execution_count": 40
  },
  {
   "metadata": {},
   "cell_type": "markdown",
   "source": [
    "**分割树**（Parition Trees）：树也可以用来表示将一个正整数分割为若干个正整数的过程。比如可以通过一个形式为二叉树的分割树来表示将n分割为不超过m的若干正整数之和的计算过程所做的选择。在非叶子节点的分割树节点中：\n",
    "- 根标签是m\n",
    "- 左侧（索引0）分支包含划分n时至少使用一个m的所有方法\n",
    "- 右侧（索引1）分支包含划分n时使用的正整数不超过m-1的所有方法\n",
    "\n",
    "分割树叶子节点上的标签表示从树根到叶子的路径是否分割成功"
   ],
   "id": "a545a166b7e8090"
  },
  {
   "metadata": {
    "ExecuteTime": {
     "end_time": "2025-03-30T10:55:10.396324Z",
     "start_time": "2025-03-30T10:55:10.383063Z"
    }
   },
   "cell_type": "code",
   "source": [
    "def partition_tree(n,m):\n",
    "    \"\"\"返回将n分割成不超过m的若干正整数之和的分割树\"\"\"\n",
    "\n",
    "    # 递归出口：分割成功与分割失败\n",
    "    if n == 0:\n",
    "        return tree(True)\n",
    "    elif n < 0 or m == 0:\n",
    "        return tree(False)\n",
    "    else:\n",
    "        left = partition_tree(n-m,m)\n",
    "        right = partition_tree(n,m-1)\n",
    "        return tree(m,[left,right])\n",
    "\n",
    "partition_tree(2,2)"
   ],
   "id": "8c78577c7424236a",
   "outputs": [
    {
     "data": {
      "text/plain": [
       "[2, [True], [1, [1, [True], [False]], [False]]]"
      ]
     },
     "execution_count": 41,
     "metadata": {},
     "output_type": "execute_result"
    }
   ],
   "execution_count": 41
  },
  {
   "metadata": {},
   "cell_type": "markdown",
   "source": "另一个遍历树的树递归过程是将分割树的所有分割方案打印。每个分区都构造为一个列表，当到达叶子节点且节点标签为 True 时就会打印分区。",
   "id": "59206e03325eea6a"
  },
  {
   "metadata": {
    "ExecuteTime": {
     "end_time": "2025-03-30T10:55:10.444618Z",
     "start_time": "2025-03-30T10:55:10.424413Z"
    }
   },
   "cell_type": "code",
   "source": [
    "def print_parts(tree,partition=[]):\n",
    "    if is_leaf(tree):\n",
    "        if label(tree):\n",
    "            print('+'.join(partition))\n",
    "    else:\n",
    "        left,right = branches(tree)\n",
    "        m = str(label(tree))\n",
    "        print_parts(left,partition+[m])\n",
    "        print_parts(right,partition)\n",
    "\n",
    "print_parts(partition_tree(6, 4))"
   ],
   "id": "2d3ecbdeb8fa2890",
   "outputs": [
    {
     "name": "stdout",
     "output_type": "stream",
     "text": [
      "4+2\n",
      "4+1+1\n",
      "3+3\n",
      "3+2+1\n",
      "3+1+1+1\n",
      "2+2+2\n",
      "2+2+1+1\n",
      "2+1+1+1+1\n",
      "1+1+1+1+1+1\n"
     ]
    }
   ],
   "execution_count": 42
  },
  {
   "metadata": {},
   "cell_type": "markdown",
   "source": [
    "切片操作同样适用于树的分支。例如我们可能想限制树的分支数量。二叉树就是这样有分支数量限制的树，二叉树可以是单个叶子节点，也可以是一个最多包含两个二叉树分支的节点。二叉树化（binarization）是一种常见的树转换方法，通过将相邻的分支组合在一起来从原始树计算出二叉树。\n",
    "\n",
    "PS:这里源代码存在Bug，在对tree遍历的时候，第一个值是int，但是int值进入is_leaf后，在branches函数中会尝试int[1:]，即对整型切片，这个语句是违法的。所以解决方案是：遍历的第一个值（整型）直接保留，对tree后续的列表进行递归调用即可"
   ],
   "id": "cc4fc307bb85856"
  },
  {
   "metadata": {
    "ExecuteTime": {
     "end_time": "2025-03-30T11:37:16.586025Z",
     "start_time": "2025-03-30T11:37:16.566664Z"
    }
   },
   "cell_type": "code",
   "source": [
    "def right_binarize(tree):\n",
    "    \"\"\"根据 tree 构造一个右分叉的二叉树\"\"\"\n",
    "    if is_leaf(tree):\n",
    "        return tree\n",
    "    if len(tree) > 2:\n",
    "        tree = [tree[0], tree[1:]]\n",
    "    return [right_binarize(b) if isinstance(b,list) else b for b in tree]\n",
    "\n",
    "right_binarize([1, 2, 3, 4, 5, 6, 7])"
   ],
   "id": "36471daadca5aa83",
   "outputs": [
    {
     "data": {
      "text/plain": [
       "[1, [2, [3, [4, [5, [6, 7]]]]]]"
      ]
     },
     "execution_count": 51,
     "metadata": {},
     "output_type": "execute_result"
    }
   ],
   "execution_count": 51
  },
  {
   "metadata": {},
   "cell_type": "markdown",
   "source": "## 2.3.7 链表",
   "id": "d162080a6a058282"
  },
  {
   "metadata": {},
   "cell_type": "markdown",
   "source": "目前，我们只使用了内置类型来表示序列。但是我们也可以开发未内置于 Python 中的序列表示。链表（linked list）是一种常见的由嵌套对构造的序列表示。",
   "id": "c1f9d5e141446209"
  },
  {
   "metadata": {},
   "cell_type": "markdown",
   "source": "链表具有递归结构：链表的其余部分也是链表或empty。我们可以定义一个抽象数据表示来验证、构建和选择链表的组件",
   "id": "c0cfda97cb996e84"
  },
  {
   "metadata": {
    "ExecuteTime": {
     "end_time": "2025-03-30T10:55:10.902908500Z",
     "start_time": "2025-03-28T05:54:58.893560Z"
    }
   },
   "cell_type": "code",
   "source": [
    "empty = 'empty'\n",
    "\n",
    "def is_link(s):\n",
    "    \"\"\"判断s是否为链表\"\"\"\n",
    "    return s == empty or (len(s)==2 and is_link(s[1]))\n",
    "\n",
    "def link(first,rest):\n",
    "    \"\"\"用first和rest构建一个链表\"\"\"\n",
    "    assert is_link(rest),\"rest必须是一个链表\"\n",
    "    return [first,rest]\n",
    "\n",
    "def first(s):\n",
    "    \"\"\"返回链表s的第一个元素\"\"\"\n",
    "    assert is_link(s),\"first只能用于链表\"\n",
    "    assert s!= empty,\"空链表没有第一个元素\"\n",
    "    return s[0]\n",
    "\n",
    "def rest(s):\n",
    "    \"\"\"返回s的剩余元素\"\"\"\n",
    "    assert is_link(s),\"rest只能用于链表\"\n",
    "    assert s!=empty,\"空链表没有剩余元素\"\n",
    "    return s[1]"
   ],
   "id": "e13eab7ce7061e47",
   "outputs": [],
   "execution_count": 47
  },
  {
   "metadata": {},
   "cell_type": "markdown",
   "source": [
    "上面，link 是一个构造函数，first 和 rest 是链表抽象数据表示的选择器函数。链表的行为是成对的，构造函数和选择器互为反函数。\n",
    "- 如果链表s是由第一个元素f和剩余元素链表r构造的，那么first(s) 返回 f，rest(s) 返回 r。"
   ],
   "id": "747057f6a5ca6645"
  },
  {
   "metadata": {
    "ExecuteTime": {
     "end_time": "2025-03-30T10:55:10.921631600Z",
     "start_time": "2025-03-28T05:56:21.299114Z"
    }
   },
   "cell_type": "code",
   "source": [
    "four = link(1,link(2,link(3,link(4,empty))))\n",
    "first(four)\n",
    "rest(four)"
   ],
   "id": "e7d4acd7c6bc3be6",
   "outputs": [
    {
     "data": {
      "text/plain": [
       "[2, [3, [4, 'empty']]]"
      ]
     },
     "execution_count": 49,
     "metadata": {},
     "output_type": "execute_result"
    }
   ],
   "execution_count": 49
  },
  {
   "metadata": {},
   "cell_type": "markdown",
   "source": [
    "上述抽象的实现借助于双元素列表来实现“对”。值得注意的是，我们还可以使用函数来实现“对”，并且我们可以使用任意“对”来实现链表，所以我们可以仅使用函数来实现链表。\n",
    "\n",
    "虽然链表可以按顺序存储一系列值，但我们还没有证明它满足序列抽象的条件。使用定义的抽象数据表示，我们可以实现序列共有的两种行为：长度和元素选择。"
   ],
   "id": "d72951c2dfbd1001"
  },
  {
   "metadata": {
    "ExecuteTime": {
     "end_time": "2025-03-30T10:55:10.922639100Z",
     "start_time": "2025-03-28T05:58:43.084524Z"
    }
   },
   "cell_type": "code",
   "source": [
    "def len_link(s):\n",
    "    \"\"\"返回链表s的长度\"\"\"\n",
    "    length = 0\n",
    "    while s!=empty:\n",
    "        s,length = rest(s),length+1\n",
    "    return length\n",
    "\n",
    "def getitem_link(s,i):\n",
    "    \"\"\"返回链表s中索引为i的元素\"\"\"\n",
    "    while i > 0:\n",
    "        s , i = rest(s),i-1\n",
    "    return first(s)"
   ],
   "id": "f9eee9048e771864",
   "outputs": [],
   "execution_count": 51
  },
  {
   "metadata": {},
   "cell_type": "markdown",
   "source": "现在，我们可以使用这些函数将链表作为序列来操作。（我们还不能使用内置的 len 函数、元素选择语法或 for 循环，但很快就可以。）",
   "id": "a6816cbb2fd8fb75"
  },
  {
   "metadata": {
    "ExecuteTime": {
     "end_time": "2025-03-30T10:55:10.925642100Z",
     "start_time": "2025-03-28T05:58:50.144734Z"
    }
   },
   "cell_type": "code",
   "source": [
    "len_link(four)\n",
    "getitem_link(four,1)"
   ],
   "id": "cf2129f140fe65a7",
   "outputs": [
    {
     "data": {
      "text/plain": [
       "2"
      ]
     },
     "execution_count": 53,
     "metadata": {},
     "output_type": "execute_result"
    }
   ],
   "execution_count": 53
  },
  {
   "metadata": {},
   "cell_type": "markdown",
   "source": "**递归操作**（Recursive manipulation）：len_link和getitem_link都是以迭代形式实现的。它们逐渐剥离嵌套对的每一层，直到到达列表的末尾（在 len_link 中）或找到所需的元素（在 getitem_link 中）。我们还可以通过递归的方式实现长度计算和元素选择。",
   "id": "e01a615cbc8568f1"
  },
  {
   "metadata": {
    "ExecuteTime": {
     "end_time": "2025-03-30T10:55:10.929296100Z",
     "start_time": "2025-03-28T06:01:42.979177Z"
    }
   },
   "cell_type": "code",
   "source": [
    "def len_link_recursive(s):\n",
    "    \"\"\"返回链表s的长度\"\"\"\n",
    "    if s == empty:\n",
    "        return 0\n",
    "    return 1 + len_link_recursive(s)\n",
    "\n",
    "def getitem_link_recursive(s,i):\n",
    "    \"\"\"返回链表 s 中索引为 i 的元素\"\"\"\n",
    "    if i == 0:\n",
    "        return first(s)\n",
    "    return getitem_link_recursive(rest(s),i-1)\n",
    "\n",
    "len_link(four)\n",
    "getitem_link(four,1)"
   ],
   "id": "119a02cdeb50c834",
   "outputs": [
    {
     "data": {
      "text/plain": [
       "2"
      ]
     },
     "execution_count": 55,
     "metadata": {},
     "output_type": "execute_result"
    }
   ],
   "execution_count": 55
  },
  {
   "metadata": {},
   "cell_type": "markdown",
   "source": "递归对于转换和组合链表也很有用",
   "id": "638058c9532172d5"
  },
  {
   "metadata": {
    "ExecuteTime": {
     "end_time": "2025-03-30T10:55:10.929296100Z",
     "start_time": "2025-03-28T06:04:23.535657Z"
    }
   },
   "cell_type": "code",
   "source": [
    "def extend_link(s,t):\n",
    "    \"\"\"返回一个在s链表的末位连接t链表后的延长链表\"\"\"\n",
    "    assert is_link(s) and is_link(t)\n",
    "    if s == empty:\n",
    "        return t\n",
    "    else:\n",
    "        return link(first(s),extend_link(rest(s),t))\n",
    "\n",
    "extend_link(four,four)"
   ],
   "id": "7699ede9b4a07413",
   "outputs": [
    {
     "data": {
      "text/plain": [
       "[1, [2, [3, [4, [1, [2, [3, [4, 'empty']]]]]]]]"
      ]
     },
     "execution_count": 57,
     "metadata": {},
     "output_type": "execute_result"
    }
   ],
   "execution_count": 57
  },
  {
   "metadata": {
    "ExecuteTime": {
     "end_time": "2025-03-30T10:55:10.930289Z",
     "start_time": "2025-03-28T06:09:06.438895Z"
    }
   },
   "cell_type": "code",
   "source": [
    "def apply_to_all_link(f,s):\n",
    "    \"\"\"应用f到s中的每个元素\"\"\"\n",
    "    assert is_link(s)\n",
    "    if s == empty:\n",
    "        return s\n",
    "    else:\n",
    "        return link(f(first(s)),apply_to_all_link(f,rest(s)))\n",
    "\n",
    "apply_to_all_link(lambda x : x*x,four)"
   ],
   "id": "8da9f5e851497135",
   "outputs": [
    {
     "data": {
      "text/plain": [
       "[1, [4, [9, [16, 'empty']]]]"
      ]
     },
     "execution_count": 59,
     "metadata": {},
     "output_type": "execute_result"
    }
   ],
   "execution_count": 59
  },
  {
   "metadata": {
    "ExecuteTime": {
     "end_time": "2025-03-30T10:55:10.930289Z",
     "start_time": "2025-03-28T06:10:43.429276Z"
    }
   },
   "cell_type": "code",
   "source": [
    "def keep_if_link(f, s):\n",
    "     \"\"\"返回 s 中 f(e) 为 True 的元素\"\"\"\n",
    "     assert is_link(s)\n",
    "     if s == empty:\n",
    "         return s\n",
    "     else:\n",
    "        kept = keep_if_link(f, rest(s))\n",
    "        if f(first(s)):\n",
    "            return link(first(s), kept)\n",
    "        else:\n",
    "            return kept\n",
    "\n",
    "keep_if_link(lambda x: x%2 == 0, four)"
   ],
   "id": "207e863c5be36032",
   "outputs": [
    {
     "data": {
      "text/plain": [
       "[2, [4, 'empty']]"
      ]
     },
     "execution_count": 61,
     "metadata": {},
     "output_type": "execute_result"
    }
   ],
   "execution_count": 61
  },
  {
   "metadata": {
    "ExecuteTime": {
     "end_time": "2025-03-30T10:55:10.930289Z",
     "start_time": "2025-03-28T06:13:08.112168Z"
    }
   },
   "cell_type": "code",
   "source": [
    "def join_link(s,separator):\n",
    "    \"\"\"返回由separator分隔的s中的所有元素组成的字符串\"\"\"\n",
    "    if s == empty:\n",
    "        return \"\"\n",
    "    elif rest(s) == empty:\n",
    "        return str(first(s))\n",
    "    else:\n",
    "        return str(first(s)) + separator + join_link(rest(s),separator)\n",
    "join_link(four, \", \")"
   ],
   "id": "630df1d2ec39adba",
   "outputs": [
    {
     "data": {
      "text/plain": [
       "'1, 2, 3, 4'"
      ]
     },
     "execution_count": 63,
     "metadata": {},
     "output_type": "execute_result"
    }
   ],
   "execution_count": 63
  },
  {
   "metadata": {},
   "cell_type": "markdown",
   "source": [
    "**递归构造**（Recursive Construction）：链表在递增地构造序列时特别有用，这种情况在递归计算中经常出现\n",
    "\n",
    "第一章中的 count_partitions 函数通过树递归过程计算了将 n 分割为不超过 m 的若干正整数之和的所有方法数。我们可以使用序列显式列举具体的分割方案。\n",
    "\n",
    "我们使用与 count_partitions 相同的递归分析，将 n 分割为不超过 m 的若干正整数之和，包括：\n",
    "- 1.将n-m分割成不超过m的若干正整数之和\n",
    "- 2.将n分割为不超过m-1的若干正整数之和\n",
    "\n",
    "对于递归终止条件，我们发现 0 只有一个空分割方案，而分割负整数和使用小于 1 的整数是不可能的。"
   ],
   "id": "d42d9cce19242e9d"
  },
  {
   "metadata": {
    "ExecuteTime": {
     "end_time": "2025-03-30T10:55:10.933206300Z",
     "start_time": "2025-03-28T06:15:11.126050Z"
    }
   },
   "cell_type": "code",
   "source": [
    "def partitions(n, m):\n",
    "    \"\"\"返回一个包含 n 的分割方案的链表，其中每个正整数不超过 m\"\"\"\n",
    "    if n == 0:\n",
    "        return link(empty, empty) # 包含空分割的链表\n",
    "    elif n < 0 or m == 0:\n",
    "        return empty\n",
    "    else:\n",
    "        using_m = partitions(n-m, m)\n",
    "        with_m = apply_to_all_link(lambda s: link(m, s), using_m)\n",
    "        without_m = partitions(n, m-1)\n",
    "        return extend_link(with_m, without_m)"
   ],
   "id": "6167d07d95b2f631",
   "outputs": [],
   "execution_count": 64
  },
  {
   "metadata": {},
   "cell_type": "markdown",
   "source": [
    "在递归的情况下，我们构造了两个分割子列表。第一种情况使用 m，因此我们将 m 添加到 using_m 结果的每一项以形成 with_m。\n",
    "\n",
    "partitions 的结果是高度嵌套的：链表中包含链表，每个链表都为以 list 为值的嵌套对。使用 join_link 给结果链表加上分隔符，我们可以以人类可读的方式显示分割方案。"
   ],
   "id": "4ffcfb0c83142fb7"
  },
  {
   "metadata": {
    "ExecuteTime": {
     "end_time": "2025-03-30T10:55:10.933206300Z",
     "start_time": "2025-03-28T06:16:37.732861Z"
    }
   },
   "cell_type": "code",
   "source": [
    "def print_partitions(n, m):\n",
    "    lists = partitions(n, m)\n",
    "    strings = apply_to_all_link(lambda s: join_link(s, \" + \"), lists)\n",
    "    print(join_link(strings, \"\\n\"))\n",
    "\n",
    "print_partitions(6, 4)"
   ],
   "id": "4c4e16f80caff2bc",
   "outputs": [
    {
     "name": "stdout",
     "output_type": "stream",
     "text": [
      "4 + 2\n",
      "4 + 1 + 1\n",
      "3 + 3\n",
      "3 + 2 + 1\n",
      "3 + 1 + 1 + 1\n",
      "2 + 2 + 2\n",
      "2 + 2 + 1 + 1\n",
      "2 + 1 + 1 + 1 + 1\n",
      "1 + 1 + 1 + 1 + 1 + 1\n"
     ]
    }
   ],
   "execution_count": 65
  }
 ],
 "metadata": {
  "kernelspec": {
   "display_name": "Python 3",
   "language": "python",
   "name": "python3"
  },
  "language_info": {
   "codemirror_mode": {
    "name": "ipython",
    "version": 2
   },
   "file_extension": ".py",
   "mimetype": "text/x-python",
   "name": "python",
   "nbconvert_exporter": "python",
   "pygments_lexer": "ipython2",
   "version": "2.7.6"
  }
 },
 "nbformat": 4,
 "nbformat_minor": 5
}
