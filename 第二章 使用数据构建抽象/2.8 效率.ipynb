{
 "cells": [
  {
   "metadata": {},
   "cell_type": "markdown",
   "source": "# 2.8 效率",
   "id": "7798faedeb179229"
  },
  {
   "metadata": {},
   "cell_type": "markdown",
   "source": "决定如何表示和处理数据通常受到替代方案效率的影响。效率指的是表示或处理所使用的计算资源，例如计算函数结果或表示对象所需的时间和内存量。这些数量可以根据实现的细节而大大不同。",
   "id": "e9152f459c7f7def"
  },
  {
   "metadata": {},
   "cell_type": "markdown",
   "source": "## 2.8.1 测量效率",
   "id": "ba0d009906ed3d29"
  },
  {
   "metadata": {},
   "cell_type": "markdown",
   "source": [
    "测量程序运行所需的时间或消耗的内存确切值是具有挑战性的，因为结果取决于计算机配置的许多细节。更可靠地表征程序的效率的方法是测量某些事件发生的次数，例如函数调用次数。\n",
    "\n",
    "让我们回到我们第一个树递归函数，即用于计算斐波那契数列中的数字的 fib 函数。"
   ],
   "id": "ab9490122b85fb3"
  },
  {
   "cell_type": "code",
   "id": "initial_id",
   "metadata": {
    "collapsed": true,
    "ExecuteTime": {
     "end_time": "2025-04-07T03:10:10.021153Z",
     "start_time": "2025-04-07T03:10:10.010996Z"
    }
   },
   "source": [
    "def fib(n):\n",
    "    if n == 0:\n",
    "        return 0\n",
    "    elif n == 1:\n",
    "        return 1\n",
    "    else:\n",
    "        return fib(n-2) +fib(n-1)\n",
    "\n",
    "# fib(5)"
   ],
   "outputs": [],
   "execution_count": 1
  },
  {
   "metadata": {},
   "cell_type": "markdown",
   "source": [
    "考虑计算 fib(6) 时的计算模式，如下所示，为了计算 fib(5)，我们计算 fib(3) 和 fib(4)。而要计算 fib(3)，我们需要计算 fib(1) 和 fib(2)。总体而言，这个演化过程看起来像一棵树。每个蓝色圆点表示在遍历这棵树时计算出的一个斐波那契数的完成计算。\n",
    "![fib](./fib_path.png)\n"
   ],
   "id": "beef189f87210dd9"
  },
  {
   "metadata": {},
   "cell_type": "markdown",
   "source": [
    "这个函数作为一个典型的树递归函数具有教学意义，但它是计算斐波那契数的一种极其低效的方式，因为它进行了大量的冗余计算。计算 fib(3) 的整个过程被重复执行。\n",
    "\n",
    "我们可以测量这种低效性。这个高阶的 count 函数返回一个与其参数等效的函数，并且还维护一个call_count属性。通过这种方式，我们可以检查fib函数被调用的次数"
   ],
   "id": "8b01d3ae50c52f15"
  },
  {
   "metadata": {
    "ExecuteTime": {
     "end_time": "2025-04-07T03:10:10.036145Z",
     "start_time": "2025-04-07T03:10:10.025148Z"
    }
   },
   "cell_type": "code",
   "source": [
    "def count(f): # 装饰函数f，并记录f被调用的次数\n",
    "    def counted(n):                # 1.定义内部函数counted\n",
    "        counted.call_count += 1    # 2.每次调用时增加计数器\n",
    "        return f(n)                # 3.调用原始函数f并返回结果\n",
    "    counted.call_count = 0         # 4.初始化计数器为0\n",
    "    return counted                 # 5.返回包装后的函数"
   ],
   "id": "f25cac1fffdaa473",
   "outputs": [],
   "execution_count": 2
  },
  {
   "metadata": {},
   "cell_type": "markdown",
   "source": "通过计算对 fib 函数的调用次数，我们可以发现所需的调用次数增长速度比斐波那契数列本身还要快。这种调用的快速增长是树递归函数的特征。",
   "id": "b246866ad6942ffc"
  },
  {
   "metadata": {
    "ExecuteTime": {
     "end_time": "2025-04-07T03:10:10.239102Z",
     "start_time": "2025-04-07T03:10:10.227103Z"
    }
   },
   "cell_type": "code",
   "source": [
    "# 这是普通写法\n",
    "# fib = count(fib)\n",
    "# 这是修饰器写法\n",
    "@count\n",
    "def fib(n):\n",
    "    if n == 0:\n",
    "        return 0\n",
    "    elif n == 1:\n",
    "        return 1\n",
    "    else:\n",
    "        return fib(n-1) +fib(n-2)\n",
    "\n",
    "print(fib(19))\n",
    "print(fib.call_count)"
   ],
   "id": "990ccc16d5e69c",
   "outputs": [
    {
     "name": "stdout",
     "output_type": "stream",
     "text": [
      "4181\n",
      "13529\n"
     ]
    }
   ],
   "execution_count": 3
  },
  {
   "metadata": {},
   "cell_type": "markdown",
   "source": [
    "**空间**。要了解函数的空间需求，我们通常必须指定在计算的环境模型中如何使用、保留和回收内存。在计算表达式时，解释器会保存所有活动的环境，以及这些环境引用的所有值和帧。我们称一个环境是活动的，如果它为正在计算的某个表达式提供了评估上下文。每当为其创建第一个帧的函数调用最终返回时，环境将变为非活动状态。\n",
    "\n",
    "例如，在计算 fib 时，解释器按照之前显示的顺序计算每个值，遍历树的结构。为此，它只需要跟踪在计算的任何时刻位于当前节点上方那些节点。用于计算其他分支的内存可以被回收，因为它不会影响未来的计算。总的来说，树递归函数所需的空间将与树的最大深度成比例。\n",
    "\n",
    "以下的图表描述了计算 fib(3) 时所创建的环境。在计算初始应用 fib 的返回表达式时，表达式 fib(n-2) 被计算，得到一个值为 0。一旦这个值被计算出来，相应的环境帧（被标记为灰色）就不再需要：它不是一个活动环境的一部分。因此，一个良好设计的解释器可以回收用于存储该帧的内存。另一方面，如果解释器当前正在计算 fib(n-1) ，则通过这个 fib 应用（其中 n 为 2）所创建的环境是活动的。反过来，最初用于将 fib 应用于 3 的环境是活动的，因为其返回值尚未被计算出来。"
   ],
   "id": "4dc17bdc676968f4"
  },
  {
   "metadata": {},
   "cell_type": "markdown",
   "source": "高阶函数 count_frames 用于跟踪尚未返回的函数调用次数 open_count 。它通过在计算过程中记录当前活动的函数调用次数来实现。max_count 属性是 open_count 曾经达到的最大值，它对应于在计算过程中同时处于活动状态的最大帧数。",
   "id": "2794b3decd3c785b"
  },
  {
   "metadata": {
    "ExecuteTime": {
     "end_time": "2025-04-07T03:10:10.270255Z",
     "start_time": "2025-04-07T03:10:10.256376Z"
    }
   },
   "cell_type": "code",
   "source": [
    "def count_frames(f):\n",
    "    \"\"\"跟踪函数f在递归调用过程中同时处于活动状态的帧（函数调用）的数量\"\"\"\n",
    "    def counted(n):\n",
    "        \"\"\"解释一个问题：为什么open_count和max_count是counted的属性\n",
    "            - 因为counted是一个闭包，我们需要在多次调用之间保持状态。将这些计数器作文函数的属性可以方便地在不同调用之间共享和修改\n",
    "        \"\"\"\n",
    "        counted.open_count += 1 # 新的函数调用开始，open_count增加1\n",
    "        counted.max_count = max(counted.max_count,counted.open_count)\n",
    "        result = f(n)\n",
    "        counted.open_count -= 1 # 函数调用结束，open_count减少1\n",
    "        return result\n",
    "    counted.open_count = 0\n",
    "    counted.max_count = 0\n",
    "    return counted"
   ],
   "id": "51be47790d80b43c",
   "outputs": [],
   "execution_count": 4
  },
  {
   "metadata": {
    "ExecuteTime": {
     "end_time": "2025-04-07T03:10:10.382184Z",
     "start_time": "2025-04-07T03:10:10.287255Z"
    }
   },
   "cell_type": "code",
   "source": [
    "fib = count_frames(fib)\n",
    "print(fib(19))\n",
    "print(fib.open_count)\n",
    "print(fib.max_count)\n",
    "print(fib(24))\n",
    "print(fib.max_count)"
   ],
   "id": "5ee12593c26d93b6",
   "outputs": [
    {
     "name": "stdout",
     "output_type": "stream",
     "text": [
      "4181\n",
      "0\n",
      "19\n",
      "46368\n",
      "24\n"
     ]
    }
   ],
   "execution_count": 5
  },
  {
   "metadata": {},
   "cell_type": "markdown",
   "source": "## 2.8.2 记忆化",
   "id": "4fcfb3faa6efac1e"
  },
  {
   "metadata": {},
   "cell_type": "markdown",
   "source": [
    "树递归的计算过程通常可以通过记忆化（Memoization）来提高效率，这是一种增加递归函数效率的技术。记忆化函数会保存之前接收到的参数的返回值。如果第二次调用fib(25)，它不会再通过递归重新计算返回值，而是直接返回已经计算好的结果。\n",
    "\n",
    "记忆化可以自然地表达为一个高阶函数，也可以用作装饰器。下面的定义创建了一个缓存（cache），用于存储先前计算过的结果，索引是它们计算所用的参数。使用字典作为缓存的数据结构要求被记忆化的函数的参数是不可变的。"
   ],
   "id": "7f13b9b20fe495fd"
  },
  {
   "metadata": {
    "ExecuteTime": {
     "end_time": "2025-04-07T03:10:10.413305Z",
     "start_time": "2025-04-07T03:10:10.398790Z"
    }
   },
   "cell_type": "code",
   "source": [
    "def memo(f):\n",
    "    cache = {}\n",
    "    def memorized(n):\n",
    "        if n not in cache:\n",
    "            cache[n] = f(n)\n",
    "        return cache[n]\n",
    "    return memorized"
   ],
   "id": "c2221bdc0c0edfd9",
   "outputs": [],
   "execution_count": 6
  },
  {
   "metadata": {},
   "cell_type": "markdown",
   "source": [
    "如果我们将 memo 应用于斐波那契数列的递归计算，将会产生一个新的计算模式，如下所示。\n",
    "\n",
    "![fib](./fib_memo.png)\n",
    "\n",
    "在计算fib(5)时，在计算右侧分支的fib(4)时，已经计算过的fib(2)和fib(3)的结果被重复使用。因此，许多树递归计算根本不需要进行。\n",
    "\n",
    "通过使用 count 函数，我们可以看到对于每个唯一的输入，fib 函数实际上只被调用一次。"
   ],
   "id": "3fbaf7a5e92943b0"
  },
  {
   "metadata": {
    "ExecuteTime": {
     "end_time": "2025-04-07T03:10:10.444429Z",
     "start_time": "2025-04-07T03:10:10.430431Z"
    }
   },
   "cell_type": "code",
   "source": [
    "counted_fib = count(fib)\n",
    "fib = memo(counted_fib)\n",
    "print(fib(19))\n",
    "print(counted_fib.call_count)\n",
    "print(fib(34))\n",
    "print(counted_fib.call_count)"
   ],
   "id": "f0b344e4a1fa688f",
   "outputs": [
    {
     "name": "stdout",
     "output_type": "stream",
     "text": [
      "4181\n",
      "20\n",
      "5702887\n",
      "35\n"
     ]
    }
   ],
   "execution_count": 7
  },
  {
   "metadata": {},
   "cell_type": "markdown",
   "source": "## 2.8.3 增长阶数",
   "id": "ce1dfeb0bd4a123c"
  },
  {
   "metadata": {},
   "cell_type": "markdown",
   "source": [
    "计算过程在消耗计算资源（时间和空间）的速率上可能有很大的差异，正如之前的例子所展示的那样。然而，准确地确定调用函数时将使用多少空间或时间是一项非常困难的任务，这取决于许多因素。分析一个计算过程的有用方法是将其与一组具有类似需求的过程分类。一种有用的分类是该过程的增长阶（Orders of Growth），它以简单的术语表达了计算过程的资源需求随输入的函数增长。\n",
    "\n",
    "为了介绍增长阶的概念，我们将分析下面的函数 `count_factors`，它用于计算能够整除输入 `n` 的整数的数量。该函数尝试将 `n` 除以小于等于其平方根的每个整数。这个实现利用了以下事实：如果 `k` 能够整除 `n`，且 `k < √n`，那么必然存在另一个因子 `j = n/k`，使得 `j > √n`。"
   ],
   "id": "b416566c2f86d4d2"
  },
  {
   "metadata": {
    "ExecuteTime": {
     "end_time": "2025-04-07T03:19:25.636390Z",
     "start_time": "2025-04-07T03:19:25.622364Z"
    }
   },
   "cell_type": "code",
   "source": [
    "from math import sqrt\n",
    "def count_factors(n):\n",
    "    sqrt_n= sqrt(n)\n",
    "    k , factors = 1 , 0\n",
    "    while k < sqrt_n:\n",
    "        if n % k == 0:\n",
    "            factors += 2\n",
    "        k += 1\n",
    "    if k*k == n:\n",
    "        factors += 1\n",
    "    return factors\n",
    "\n",
    "result = count_factors(576)\n",
    "print(result)"
   ],
   "id": "66d12bd406bb6d91",
   "outputs": [
    {
     "name": "stdout",
     "output_type": "stream",
     "text": [
      "21\n"
     ]
    }
   ],
   "execution_count": 12
  },
  {
   "metadata": {},
   "cell_type": "markdown",
   "source": [
    "计算`count_factors`所需的时间是多少？准确的答案会因不同的计算机而异，但我们可以对涉及及对象的计算量做出一些有用的一般观察。这个过程执行`while`语句的次数是小于等于√n的最大整数。在`while`语句之前和之后的语句分别执行一次。因此，总共执行的语句数为w*√n+v，其中w是`while`循环体中的语句数，v是`while`循环外的语句数。虽然这不是一个精确的公式，但它通常能够描述作为输入n的函数而要计算的时间量。\n",
    "\n",
    "要获得更精确的描述是很困难的。常量w和v实际上并不是常数，因为对因子的赋值语句有时会被执行，有时不会。增长阶分析使我们能够忽略这些细节，而是着重于增长的一般趋势。特别是，`count_factors`的增长阶表达了以√n速度计算`count_factors(n)`所需的时间，其中可能存在一些常量因子的误差范围。"
   ],
   "id": "e2442c64a75f315a"
  },
  {
   "metadata": {},
   "cell_type": "markdown",
   "source": [
    "Theta符号是一种用于表示算法的渐进性能的数学符号。在Theta符号中，我们考虑一个参数n，它衡量了某个计算过程的输入规模大小，并且用R（n）表示该过程对于输入规模n所需的某种资源量。在我们之前的例子中，我们将n视为要计算给定函数的数值，但还有其他可能性。例如，如果我们的目标是计算一个数的平方根的近似值，我们可以将n视为所需的有效位数。\n",
    "\n",
    "R（n）可以表示所使用的内存量、执行的基本机器步骤数量等等。在每次执行固定数量步骤的计算机中，计算表达式所需的时间将与在计算过程中执行的基本步骤数量成正比。\n",
    "\n",
    "我们可以说如果存在正常数k1和k2（与n无关），使得对于任何大于某个最小值m的n，成立如下不等式：\n",
    "\n",
    "k1·f(n)≤R（n）≤k2·f（n）\n",
    "\n",
    "我们称R（n）的增长阶为Θ（f（n）），用R（n）=Θ（f（n））表示（读作\"theta of f（n）\"）。换句话说，对于大的n，R（n）的值总是夹在两个与f（n）成比例的值之间：\n",
    "\n",
    "- 一个下界k1·f（n）和\n",
    "- 一个上界k2·f（n）\n",
    "\n",
    "通过检查函数体，我们可以应用这个定义来展示计算count_factors(n)所需的步骤数量随着Θ(√n)增长。\n",
    "\n",
    "首先，我们选择k1=1和m=0，以便下界表明对于任何n>0，count_factors(n)至少需要1·√n步。在while循环之外至少有4行被执行，每行至少需要1步来执行。在while循环体内至少有2行被执行，还有while头本身。所有这些都需要至少1步。while循环体至少被执行√n - 1次。组合这些下界，我们可以看到该过程至少需要4 + 3·(√n - 1)步，这总是大于k1·√n。\n",
    "\n",
    "其次，我们可以验证上界。我们假设count_factors函数体内的任何一行最多需要p步。尽管这个假设对于Python中的每一行代码都不成立，但在这种情况下是成立的。然后，计算count_factors(n)最多可能需要p·(5 + 4√n)步，因为在while循环之外有5行代码，在循环内有4行代码（包括while头）。即使每个if都评估为true，这个上界仍然成立。最后，如果我们选择k2 = 5p，那么所需的步骤总是小于k2√n。我们的论证到这里完成了。"
   ],
   "id": "d1c089939902a2eb"
  },
  {
   "metadata": {},
   "cell_type": "markdown",
   "source": "## 2.8.4 【示例】：指数运算",
   "id": "1e8abcc4619bf0ff"
  },
  {
   "metadata": {},
   "cell_type": "markdown",
   "source": [
    "考虑计算给定数的指数问题。我们希望有一个函数，它以底数b和正整数指数n作为参数，并计算$b_n$\n",
    " 。一种实现方法是通过递归函数"
   ],
   "id": "18928603a37bf5c1"
  },
  {
   "metadata": {},
   "cell_type": "code",
   "outputs": [],
   "execution_count": null,
   "source": [
    "def exp(b,n):\n",
    "    if n == 0:\n",
    "        return 1\n",
    "    return b*exp(b,n-1)"
   ],
   "id": "80219c5219fb1c90"
  },
  {
   "metadata": {},
   "cell_type": "markdown",
   "source": [
    "这是一个线性递归过程，它需要Θ(n)步骤和Θ(n)空间。就像阶乘一样，我们可以很容易地设计一个等效的线性迭代版本，它需要相似数量的步骤，但只需要常量空间。\n",
    "\n",
    "这意味着递归的指数计算是一个线性过程，它的时间和空间复杂度都随着指数n的增长而线性增加。与此相反，通过线性迭代，我们可以将计算复杂度优化为仅需常数级的空间，但步骤数量仍然是与指数n成线性关系的。"
   ],
   "id": "9c784b3422a5eebf"
  },
  {
   "metadata": {},
   "cell_type": "code",
   "outputs": [],
   "execution_count": null,
   "source": [
    "def exp_iter(b,n):\n",
    "    result = 1\n",
    "    for _ in range(n):\n",
    "        result *= b\n",
    "    return result"
   ],
   "id": "247cbce7dd846837"
  },
  {
   "metadata": {},
   "cell_type": "markdown",
   "source": "![fib](./偷懒.png)",
   "id": "c0bea623033296a9"
  },
  {
   "metadata": {
    "ExecuteTime": {
     "end_time": "2025-04-07T03:31:30.843817Z",
     "start_time": "2025-04-07T03:31:30.827818Z"
    }
   },
   "cell_type": "code",
   "source": [
    "def square(x):\n",
    "    return x*x\n",
    "\n",
    "def fast_exp(b,n):\n",
    "    if n == 0:\n",
    "        return 1\n",
    "    if n % 2 == 0:\n",
    "        return square(fast_exp(b,n//2))\n",
    "    else:\n",
    "        return b * fast_exp(b,n-1)\n",
    "fast_exp(2,100)"
   ],
   "id": "a8ec9ea2978287dd",
   "outputs": [
    {
     "data": {
      "text/plain": [
       "1267650600228229401496703205376"
      ]
     },
     "execution_count": 13,
     "metadata": {},
     "output_type": "execute_result"
    }
   ],
   "execution_count": 13
  },
  {
   "metadata": {},
   "cell_type": "markdown",
   "source": [
    "通过快速指数运算（`fast_exp`），计算过程在时间和空间上都以对数级别随 `n` 增长。要理解这一点，观察一下使用 `fast_exp` 计算 `b` 的 `2n` 次幂仅仅比计算 `b` 的 `n` 次幂多进行一次乘法。因此，我们可以看到每一次允许的新乘法使得我们能够计算的指数大小翻倍（粗略估计）。因此，对于指数 `n`，所需的乘法次数大致以 2 为底数的 `n` 的对数增长。这个过程具有 $\\Theta(\\log_n)$ 的增长阶。\n",
    "\n",
    "当 `n` 变得很大时，$\\Theta(\\log_n)$ 增长阶与 $\\Theta(n)$ 增长阶之间的差异会变得非常明显。例如，对于 `n` 为 1000，使用 `fast_exp` 只需要 14 次乘法，而不是 1000 次。这显示了使用快速指数运算相对于普通指数运算在效率上的巨大优势。"
   ],
   "id": "ed6c3c37d3909906"
  },
  {
   "metadata": {},
   "cell_type": "markdown",
   "source": "## 2.8.5 增长类别",
   "id": "4a5879920043fd6"
  },
  {
   "metadata": {},
   "cell_type": "markdown",
   "source": "增长阶是为了简化计算过程的分析和比较而设计的。许多不同的计算过程可以具有等效的增长阶，这表示它们的增长方式相似。对于计算机科学家来说，了解和识别常见的增长阶并确定具有相同增长阶的过程是一项重要的技能。",
   "id": "30b9b5ba0530b02a"
  },
  {
   "metadata": {},
   "cell_type": "markdown",
   "source": [
    "### 常数项\n",
    "常数项不影响计算过程的增长阶。因此，例如，$\\Theta(n)$ 和 $\\Theta(500 \\cdot n)$ 具有相同的增长阶。这个性质来自于 $\\Theta$ 符号的定义，它允许我们选择任意的常数 $k_1$ 和 $k_2$（比如 $\\frac{1}{500}$ ）作为上界和下界。为了简洁起见，增长阶中常数通常被忽略。\n",
    "\n",
    "### 对数\n",
    "对数的底数不影响计算过程的增长阶。例如，$\\log_2(n)$ 和 $\\log_{10}(n)$ 具有相同的增长阶。改变对数的底数等价于乘以一个常数因子。\n",
    "\n",
    "### 嵌套\n",
    "当内部的计算过程在外部过程的每一步中重复执行时，整个过程的增长阶是外部和内部过程的步骤数的乘积。\n",
    "\n",
    "例如，下面的函数 `overlap` 计算列表 `a` 中与列表 `b` 中出现的元素数量。"
   ],
   "id": "75ea495aadc64f73"
  },
  {
   "metadata": {
    "ExecuteTime": {
     "end_time": "2025-04-07T03:34:37.679667Z",
     "start_time": "2025-04-07T03:34:37.673452Z"
    }
   },
   "cell_type": "code",
   "source": [
    "def overlap(a,b):\n",
    "    count = 0\n",
    "    for item in a:\n",
    "        if item in b:\n",
    "            count += 1\n",
    "    return count\n",
    "\n",
    "overlap([1, 3, 2, 2, 5, 1], [5, 4 ,2])"
   ],
   "id": "51b8a461b50ae301",
   "outputs": [
    {
     "data": {
      "text/plain": [
       "3"
      ]
     },
     "execution_count": 14,
     "metadata": {},
     "output_type": "execute_result"
    }
   ],
   "execution_count": 14
  },
  {
   "metadata": {},
   "cell_type": "markdown",
   "source": [
    "对于列表的 `in` 运算符，其时间复杂度为 $\\Theta(n)$，其中 `n` 是列表 `b` 的长度。它被应用 $\\Theta(m)$ 次，其中 `m` 是列表 `a` 的长度。表达式 `item in b` 是内部过程，而 `for item in a` 循环是外部过程。该函数的总增长阶是 $\\Theta(m \\cdot n)$。\n",
    "\n",
    "### 低阶项\n",
    "随着计算过程的输入增长，计算中增长最快的部分将主导总的资源使用。$\\Theta$ 符号捕捉了这种直觉。总的来说，除了增长最快的项外，其他项都可以忽略而不影响增长阶。\n",
    "\n",
    "例如，考虑函数 `one_more`，它返回列表 `a` 中有多少个元素是另一个元素的值加 1。也就是说，在列表 `[3, 14, 15, 9]` 中，元素 15 比 14 大 1，所以 `one_more` 将返回 1。"
   ],
   "id": "44b96642629e5bf5"
  },
  {
   "metadata": {},
   "cell_type": "code",
   "outputs": [],
   "execution_count": null,
   "source": [
    "def one_more(a):\n",
    "    return overlap(a,[x+1 for x in a])\n",
    "\n",
    "one_more([3, 14, 15, 9])"
   ],
   "id": "b9e180ef056ff2dd"
  },
  {
   "metadata": {},
   "cell_type": "markdown",
   "source": [
    "这个计算分为两个部分：列表推导和对 `overlap` 的调用。对于长度为 `n` 的列表 `a`，列表推导需要 $\\Theta(n)$ 步，而对 `overlap` 的调用需要 $\\Theta(n^2)$ 步。这两部分的总步数是 $\\Theta(n + n^2)$，但这并不是表达增长阶最简单的方式。\n",
    "\n",
    "$\\Theta(n^2 + k * n)$ 和 $\\Theta(n^2)$ 对于任意常数 `k` 来说是等价的，因为对于任何 `k`，$n^2$ 项在足够大的 `n` 下将主导总和。这里的边界要求仅对于大于某个最小值 `m` 的 `n` 成立，从而确立了这种等价性。为简洁起见，增长阶中的低阶项通常被忽略，所以我们不会在 theta 表达式中看到求和。\n",
    "\n",
    "### 常见的类别\n",
    "通过这些等价性，我们可以得到一小组常见的类别来描述大多数计算过程。最常见的类别如下，按从最慢到最快的增长顺序列出，并描述了随着输入增加而增长的情况。接下来将给出每个类别的例子。\n",
    "\n",
    "| 类别 | $\\Theta$ 表示 | 增长阶描述 | 例子 |\n",
    "| ---- | ------------- | ------------ | ---- |\n",
    "| 常数 | $\\Theta(1)$ | 增长与输入无关 | `abs` |\n",
    "| 对数 | $\\Theta(\\log_n)$ | 增长与输入的大小成正比 | `fast_exp` |\n",
    "| 线性 | $\\Theta(n)$ | 随着输入的递增，计算过程所需的资源会增加 `n` 个单位 | `exp` |\n",
    "| 乘方 | $\\Theta(n^2)$ | 随着输入的递增，计算过程所需的资源会增加 `n` 个单位 | `one_more` |\n",
    "| 指数 | $\\Theta(b^n)$ | 随着输入的递增，计算过程所需的资源会成倍增加 | `fib` |"
   ],
   "id": "234707dbe64b6e7c"
  },
  {
   "metadata": {},
   "cell_type": "markdown",
   "source": [
    "除了这些之外，还有其他的增长阶类别，例如 `count_factors` 的 $\\Theta(\\sqrt{n})$ 增长。然而，上述列举的类别是特别常见的。\n",
    "\n",
    "指数增长描述了许多不同的增长阶，因为改变底数 `b` 会影响增长阶。例如，我们的树递归斐波那契计算 `fib` 的步数随输入 `n` 呈指数增长。特别地，我们可以证明第 `n` 个斐波那契数是最接近于\n",
    "\n",
    "$$\n",
    "\\frac{\\phi^{n - 2}}{\\sqrt{5}}\n",
    "$$\n",
    "\n",
    "的整数，其中 $\\phi$ 是黄金比例：\n",
    "\n",
    "$$\n",
    "\\phi = \\frac{1 + \\sqrt{5}}{2} \\approx 1.6180\n",
    "$$\n",
    "\n",
    "我们还提到步数与结果值成正比，所以树递归过程需要 $\\Theta(\\phi^n)$ 步，这是一个随着 `n` 以指数级别增长的函数。"
   ],
   "id": "4628ffd8d65161d2"
  }
 ],
 "metadata": {
  "kernelspec": {
   "display_name": "Python 3",
   "language": "python",
   "name": "python3"
  },
  "language_info": {
   "codemirror_mode": {
    "name": "ipython",
    "version": 2
   },
   "file_extension": ".py",
   "mimetype": "text/x-python",
   "name": "python",
   "nbconvert_exporter": "python",
   "pygments_lexer": "ipython2",
   "version": "2.7.6"
  }
 },
 "nbformat": 4,
 "nbformat_minor": 5
}
