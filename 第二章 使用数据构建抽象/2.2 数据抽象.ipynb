{
 "cells": [
  {
   "metadata": {},
   "cell_type": "markdown",
   "source": "# 2.2 数据抽象",
   "id": "566eebd828f2929f"
  },
  {
   "metadata": {},
   "cell_type": "markdown",
   "source": [
    "当我们希望在程序中表示世界上广泛的事物时，会发现它们大多具有复合结构。比如地理位置具有经纬度坐标。为了表示位置，我们希望我们的编程语言能够经度和纬度耦合在一起形成一对复合数据，使它能够作为单个概念单元被程序操作，同时也能作为可以单独考虑的两个部分\n",
    "\n",
    "使用复合数据可用使程序更加模块化。如果我们能够将地理位置作为整体值进行操作，那么我们可以将计算位置的程序部分与位置如何表示的细节隔离，这种将“数据表示”与“数据处理”的程序隔离的通用技术是一种强大的设计方法，称为**数据抽象**。数据抽象会使数据更加易于设计、维护和修改\n",
    "\n",
    "数据抽象与函数抽象类似。当我们创建一个函数抽象时，函数实现的细节可以被隐藏，而特定的函数本身可以被替换为具有相同整体行为的任何其他函数。换句话说，我们可以创建一个抽象来将函数的使用方式与实现细节分离。类似地，数据抽象可以将复合数据值的使用方式与其构造细节隔离开来。\n",
    "\n",
    "数据抽象的基本思想是构建程序，以便它们对抽象数据进行操作。也就是说，我们的程序应该以尽可能少的假设来使用数据，同时要将具体的数据表示定义为程序的独立部分\n",
    "\n",
    "程序的“操作抽象数据”和“定义具体表示”两个部分，会由一组根据具体表示来实现抽象数据的函数相连。为了说明该技术，我们将思考如何设计一组用于操作有理数的函数。"
   ],
   "id": "d1864ced705c17db"
  },
  {
   "metadata": {},
   "cell_type": "markdown",
   "source": "## 2.2.1 示例：有理数",
   "id": "5364594055371f40"
  },
  {
   "metadata": {},
   "cell_type": "markdown",
   "source": "有理数是整数的比值，并且有理数是实数的一个重要子类。1/3或17/29等有理数通常写为",
   "id": "871d9c7ac6952d3f"
  },
  {
   "cell_type": "code",
   "id": "initial_id",
   "metadata": {
    "collapsed": true,
    "ExecuteTime": {
     "end_time": "2025-03-27T06:30:11.953958Z",
     "start_time": "2025-03-27T06:30:11.933918Z"
    }
   },
   "source": "#<分子>/<分母>",
   "outputs": [],
   "execution_count": 1
  },
  {
   "metadata": {},
   "cell_type": "markdown",
   "source": "其中 <分子> 和 <分母> 都是整数值的占位符，这两个部分能够准确表示有理数的值。实际上的整数除以会产生 float 近似值，失去整数的精确精度。",
   "id": "64c13d999e2ea62"
  },
  {
   "metadata": {
    "ExecuteTime": {
     "end_time": "2025-03-27T06:30:12.952998Z",
     "start_time": "2025-03-27T06:30:11.970888Z"
    }
   },
   "cell_type": "code",
   "source": [
    "from sympy import denom\n",
    "\n",
    "1/3\n",
    "\n",
    "1/3 == 0.333333333333333300000  # 整数除法得到近似值"
   ],
   "id": "f4f10b983dc63166",
   "outputs": [
    {
     "data": {
      "text/plain": [
       "True"
      ]
     },
     "execution_count": 2,
     "metadata": {},
     "output_type": "execute_result"
    }
   ],
   "execution_count": 2
  },
  {
   "metadata": {},
   "cell_type": "markdown",
   "source": "但是，我们可以通过将分子和分母组合在一起来创建有理数的精确表示",
   "id": "5c2c799651622363"
  },
  {
   "metadata": {},
   "cell_type": "markdown",
   "source": [
    "通过使用函数抽象，我们可以在实现程序的某些部分之前开始高效地编程。我们首先假设已经存在了一个从分子和分母构造有理数的方法，再假设有方法得到一个给定有理数的分子和分母。进一步假设得到以下三个函数：\n",
    "- rational(n,d)返回分子为n、分母为d的有理数\n",
    "- numer(x)返回有理数x的分子\n",
    "- denom(x)返回有理数x的分母\n",
    "\n",
    "我们在这里使用了一个强大的程序设计策略：一厢情愿（wishful thinking）。即使我们还没有想好有理数是如何表示的，或者函数 numer、denom 和 rational 应该如何实现。但是如果我们确实定义了这三个函数，我们就可以进行加法、乘法、打印和测试有理数是否相等："
   ],
   "id": "42fa7a5c6fdf2723"
  },
  {
   "metadata": {
    "ExecuteTime": {
     "end_time": "2025-03-27T06:30:13.283159Z",
     "start_time": "2025-03-27T06:30:13.273787Z"
    }
   },
   "cell_type": "code",
   "source": [
    "def add_rationals(x,y):\n",
    "    nx,dx = numer(x),denom(x)\n",
    "    ny,dy = numer(y),denom(y)\n",
    "    return rational(nx*dy + ny*dx,dx*dy)\n",
    "\n",
    "def mul_rational(x,y):\n",
    "    return rational(numer(x)*numer(y),denom(x)*denom(y))\n",
    "\n",
    "def print_rational(x):\n",
    "    print(numer(x),'/',denom(x))\n",
    "\n",
    "def rationals_are_equal(x,y):\n",
    "    return numer(x) * denom(y) == numer(y) * denom(x)"
   ],
   "id": "8ffb4270a39f7196",
   "outputs": [],
   "execution_count": 3
  },
  {
   "metadata": {},
   "cell_type": "markdown",
   "source": "现在我们有了选择器函数 numer 和 denom 以及构造函数 rational 定义的有理数运算，但还没有定义这些函数。我们需要某种方法将分子和分母粘合在一起形成一个复合值。",
   "id": "a52ee5e61d2cbdf"
  },
  {
   "metadata": {},
   "cell_type": "markdown",
   "source": "## 2.2.2 对",
   "id": "470eec236b2634e0"
  },
  {
   "metadata": {},
   "cell_type": "markdown",
   "source": "为了使我们能够实现具体的数据抽象，Python 提供了一个名为 list 列表的复合结构，可以通过将表达式放在以逗号分隔的方括号内来构造。这样的表达式称为列表字面量。",
   "id": "e891038f998df2cf"
  },
  {
   "metadata": {
    "ExecuteTime": {
     "end_time": "2025-03-27T06:30:13.330385Z",
     "start_time": "2025-03-27T06:30:13.304046Z"
    }
   },
   "cell_type": "code",
   "source": "[10,20]",
   "id": "f306eacb348e464e",
   "outputs": [
    {
     "data": {
      "text/plain": [
       "[10, 20]"
      ]
     },
     "execution_count": 4,
     "metadata": {},
     "output_type": "execute_result"
    }
   ],
   "execution_count": 4
  },
  {
   "metadata": {},
   "cell_type": "markdown",
   "source": "可以通过两种方式访问列表元素。第一种方法是通过我们熟悉的多重赋值方法，它将列表解构为单个元素并将每个元素与不同的名称绑定。",
   "id": "81d69e16a529f0e5"
  },
  {
   "metadata": {
    "ExecuteTime": {
     "end_time": "2025-03-27T06:30:13.394356Z",
     "start_time": "2025-03-27T06:30:13.370294Z"
    }
   },
   "cell_type": "code",
   "source": [
    "pair = [10,20]\n",
    "print(pair)\n",
    "x,y = pair\n",
    "print(x)\n",
    "print(y)"
   ],
   "id": "f2f7fd70d7fd8304",
   "outputs": [
    {
     "name": "stdout",
     "output_type": "stream",
     "text": [
      "[10, 20]\n",
      "10\n",
      "20\n"
     ]
    }
   ],
   "execution_count": 5
  },
  {
   "metadata": {},
   "cell_type": "markdown",
   "source": "访问列表中元素的第二种方法是通过元素选择运算符，也使用方括号表示。与列表字面量不同，直接跟在另一个表达式之后的方括号表达式不会计算为 list 值，而是从前面表达式的值中选择一个元素。",
   "id": "50353b4dc833553a"
  },
  {
   "metadata": {
    "ExecuteTime": {
     "end_time": "2025-03-27T06:30:13.458283Z",
     "start_time": "2025-03-27T06:30:13.440287Z"
    }
   },
   "cell_type": "code",
   "source": "pair[0]",
   "id": "3bc5faf57b5ea4a4",
   "outputs": [
    {
     "data": {
      "text/plain": [
       "10"
      ]
     },
     "execution_count": 6,
     "metadata": {},
     "output_type": "execute_result"
    }
   ],
   "execution_count": 6
  },
  {
   "metadata": {},
   "cell_type": "markdown",
   "source": [
    "Python 中的列表（以及大多数其他编程语言中的序列）是从 0 开始索引的，这意味着索引 0 选择第一个元素，索引 1 选择第二个元素，以此类推。对于这种索引约定的一种直觉是，索引表示元素距列表开头的偏移量。\n",
    "\n",
    "元素选择运算符的等效函数称为getitem，它也使用0索引位置从列表中选择元素"
   ],
   "id": "7d3bf9efe7848049"
  },
  {
   "metadata": {
    "ExecuteTime": {
     "end_time": "2025-03-27T06:30:13.567285Z",
     "start_time": "2025-03-27T06:30:13.539282Z"
    }
   },
   "cell_type": "code",
   "source": [
    "from operator import getitem\n",
    "\n",
    "getitem(pair,0)\n",
    "getitem(pair,1)"
   ],
   "id": "7d159e7b1423c2fe",
   "outputs": [
    {
     "data": {
      "text/plain": [
       "20"
      ]
     },
     "execution_count": 7,
     "metadata": {},
     "output_type": "execute_result"
    }
   ],
   "execution_count": 7
  },
  {
   "metadata": {},
   "cell_type": "markdown",
   "source": [
    "双元素列表并不是 Python 中表示对的唯一方法。将两个值捆绑在一起成为一个值的任何方式都可以被认为是一对。列表是一种常用的方法，它也可以包含两个以上的元素，我们将在本章后面进行探讨。\n",
    "\n",
    "代表有理数：我们现在可以将有理数表示为两个整数的对：一个分子和一个分母。"
   ],
   "id": "1556bca83e53b633"
  },
  {
   "metadata": {
    "ExecuteTime": {
     "end_time": "2025-03-27T06:30:13.647460Z",
     "start_time": "2025-03-27T06:30:13.625305Z"
    }
   },
   "cell_type": "code",
   "source": [
    "def rational(n,d):\n",
    "    return [n,d]\n",
    "\n",
    "def numer(x):\n",
    "    return x[0]\n",
    "\n",
    "def denom(x):\n",
    "    return x[1]"
   ],
   "id": "390c822cd6a10b0d",
   "outputs": [],
   "execution_count": 8
  },
  {
   "metadata": {},
   "cell_type": "markdown",
   "source": "连同之前定义的算术运算，我们可以使用我们定义的函数来操作有理数。",
   "id": "7fb4762264922b79"
  },
  {
   "metadata": {
    "ExecuteTime": {
     "end_time": "2025-03-27T06:30:13.711483Z",
     "start_time": "2025-03-27T06:30:13.686359Z"
    }
   },
   "cell_type": "code",
   "source": [
    "half = rational(1,2)\n",
    "print_rational(half)\n",
    "\n",
    "third = rational(1,3)\n",
    "print_rational(mul_rational(half,third))\n",
    "print_rational(add_rationals(third,third))"
   ],
   "id": "63552cf21cd3f9f1",
   "outputs": [
    {
     "name": "stdout",
     "output_type": "stream",
     "text": [
      "1 / 2\n",
      "1 / 6\n",
      "6 / 9\n"
     ]
    }
   ],
   "execution_count": 9
  },
  {
   "metadata": {},
   "cell_type": "markdown",
   "source": "如上面的示例所示，我们的有理数实现不会将有理数简化为最小项。可以通过更改 rational 的实现来弥补这个缺陷。如果我们有一个计算两个整数的最大公分母的函数，我们可以使用它在构造对之前将分子和分母减少到最低项",
   "id": "e14844ba3d98a88e"
  },
  {
   "metadata": {
    "ExecuteTime": {
     "end_time": "2025-03-27T06:30:13.774358Z",
     "start_time": "2025-03-27T06:30:13.764500Z"
    }
   },
   "cell_type": "code",
   "source": [
    "from math import gcd\n",
    "def rational(n,d):\n",
    "    g = gcd(n,d)\n",
    "    return (n//g,d//g)"
   ],
   "id": "269ffab34b3daac2",
   "outputs": [],
   "execution_count": 10
  },
  {
   "metadata": {},
   "cell_type": "markdown",
   "source": "// 表示整数除法，它会将除法结果的小数部分向下舍入。因为我们知道 g 会将 n 和 d 均分，所以在这种情况下整数除法是精确的。这个修改后的 rational 实现会确保有理数以最小项表示。",
   "id": "7fa7bd561d7e6363"
  },
  {
   "metadata": {
    "ExecuteTime": {
     "end_time": "2025-03-27T06:30:13.869354Z",
     "start_time": "2025-03-27T06:30:13.843360Z"
    }
   },
   "cell_type": "code",
   "source": "print_rational(add_rationals(third, third))",
   "id": "71b5cd0b6ecacb08",
   "outputs": [
    {
     "name": "stdout",
     "output_type": "stream",
     "text": [
      "2 / 3\n"
     ]
    }
   ],
   "execution_count": 11
  },
  {
   "metadata": {},
   "cell_type": "markdown",
   "source": "## 2.2.3 抽象屏障",
   "id": "88a1d17314b17c7c"
  },
  {
   "metadata": {},
   "cell_type": "markdown",
   "source": [
    "在继续更多符合数据和数据抽象的实例之前，我们来考虑一下有理数示例引发的一些问题。我们根据构造函数rational和选择器函数numer和denom来定义操作。一般来说，数据抽象的基本思想是确定一组基本插座，根据这些操作可以表达对某种值得所有操作，然后仅使用这些操作来操作数据。通过以这种方式限制操作的使用，在不改变程序行为的情况下改变抽象数据的表示会容易得多。\n",
    "\n",
    "对于有理数，程序的不同部分使用不同的操作来处理有理数，如此表中所述。\n",
    "\n",
    "![jupyter](./抽象屏障.png)"
   ],
   "id": "c3f32592d496c2c"
  },
  {
   "metadata": {},
   "cell_type": "markdown",
   "source": [
    "在上面的每一层中，最后一列的函数会强制实施抽象屏障（abstraction barrier）。这些功能会由更高层次调用，并使用较低层次的抽象实现\n",
    "\n",
    "当程序中有一部分本可以使用更高级别函数但却使用了低级函数时，就会违反抽象屏障。例如，计算有理数平方的函数最好用 mul_rational 实现，它不对有理数的实现做任何假设。"
   ],
   "id": "b612176b6aa00003"
  },
  {
   "metadata": {
    "ExecuteTime": {
     "end_time": "2025-03-27T06:30:13.901352Z",
     "start_time": "2025-03-27T06:30:13.889362Z"
    }
   },
   "cell_type": "code",
   "source": [
    "def square_rational(x):\n",
    "    return mul_rational(x,x)"
   ],
   "id": "da6440ae06e9a98e",
   "outputs": [],
   "execution_count": 12
  },
  {
   "metadata": {},
   "cell_type": "markdown",
   "source": "直接引用分子和分母会违反一个抽象屏障。",
   "id": "376c22cab88c1c74"
  },
  {
   "metadata": {
    "ExecuteTime": {
     "end_time": "2025-03-27T06:30:13.948428Z",
     "start_time": "2025-03-27T06:30:13.936430Z"
    }
   },
   "cell_type": "code",
   "source": [
    "def square_rational_violating_once(x):\n",
    "    return rational(numer(x)*numer(x),denom(x)*denom(x))"
   ],
   "id": "3d9bf9944e41ef2b",
   "outputs": [],
   "execution_count": 13
  },
  {
   "metadata": {},
   "cell_type": "markdown",
   "source": "假设有理数会表示为双元素列表将违反两个抽象屏障。",
   "id": "b594abc8616474ca"
  },
  {
   "metadata": {
    "ExecuteTime": {
     "end_time": "2025-03-27T06:30:14.010553Z",
     "start_time": "2025-03-27T06:30:13.998434Z"
    }
   },
   "cell_type": "code",
   "source": [
    "def square_rational_violating_twice(x):\n",
    "    return [x[0]*x[0],x[1]*x[1]]"
   ],
   "id": "4b25c063a6166c4b",
   "outputs": [],
   "execution_count": 14
  },
  {
   "metadata": {},
   "cell_type": "markdown",
   "source": "抽象屏障使程序更易于维护和修改。依赖于特定表示的函数越少，想要更改该表示时所需的更改就越少。计算有理数平方的所有这些实现都具有正确的行为，但只有第一个函数对未来的更改是健壮的。即使我们修改了有理数的表示，square_rational 函数也不需要更新。相比之下，当选择器函数或构造函数签名发生变化后，square_rational_violating_once 就需要更改，而只要有理数的实现发生变化，square_rational_violating_twice 就需要更新。",
   "id": "31dbab42337c55ce"
  },
  {
   "metadata": {},
   "cell_type": "markdown",
   "source": "## 2.2.4 数据的属性",
   "id": "ce0b4d575f2b00ad"
  },
  {
   "metadata": {},
   "cell_type": "markdown",
   "source": [
    "抽象屏障塑造了我们思考数据的方式。有理数的表示不限于任何特定的实现（例如二元素列表）；它就是由 rational 返回的值，然后可以传递给 numer 和 denom 。此外，构造器和选择器之间必须保持适当的关系。也就是说，如果我们从整数 n 和 d 构造一个有理数 x ，那么 numer(x)/denom(x) 应该等于 n/d 。\n",
    "\n",
    "通常，我们可以使用选择器和构造器的集合以及一些行为条件来表达抽象数据。只要满足行为条件（比如上面的除法属性），选择器和构造器就构成了一种数据的有效表示。抽象屏障下的实现细节可能会改变，但只要行为没有改变，那么数据抽象就仍然有效，并且使用该数据抽象编写的任何程序都将保持正确。\n",
    "\n",
    "这种观点可以广泛应用，包括我们用来实现有理数的对。我们从来没有真正谈论什么是一对，只是语言提供了创建和操作二元列表的方法。我们需要实现一对的行为是它将两个值粘合在一起。作为一种行为条件，\n",
    "\n",
    "- 如果一对p由值x和y构成，则select(p,0)返回x,select(p,1)返回y\n",
    "\n",
    "我们实际上并不一定需要list类型来创建对，作为替代，我们可以用两个函数pari和select来实现这个描述以及一个二元列表"
   ],
   "id": "202dbf8cbc938c36"
  },
  {
   "metadata": {
    "ExecuteTime": {
     "end_time": "2025-03-27T06:30:14.042537Z",
     "start_time": "2025-03-27T06:30:14.024569Z"
    }
   },
   "cell_type": "code",
   "source": [
    "def pair(x,y):\n",
    "    \"\"\"Return a function that represents a pair\"\"\"\n",
    "    def get(index):\n",
    "        if index == 0:\n",
    "            return x\n",
    "        elif index == 1:\n",
    "            return y\n",
    "    return get\n",
    "\n",
    "def select(p,i):\n",
    "    \"\"\"Return the element at index i of pair p.\"\"\"\n",
    "    return p(i)"
   ],
   "id": "c2b17c238f23eef3",
   "outputs": [],
   "execution_count": 15
  },
  {
   "metadata": {},
   "cell_type": "markdown",
   "source": "通过这个实现，我们可以创建和操作对",
   "id": "7e88db7a33ec9052"
  },
  {
   "metadata": {
    "ExecuteTime": {
     "end_time": "2025-03-27T06:30:14.073262Z",
     "start_time": "2025-03-27T06:30:14.062121Z"
    }
   },
   "cell_type": "code",
   "source": [
    "p = pair(20,14)\n",
    "select(p,0)\n",
    "select(p,1)"
   ],
   "id": "ba8eb3ce88db37b1",
   "outputs": [
    {
     "data": {
      "text/plain": [
       "14"
      ]
     },
     "execution_count": 16,
     "metadata": {},
     "output_type": "execute_result"
    }
   ],
   "execution_count": 16
  },
  {
   "metadata": {},
   "cell_type": "markdown",
   "source": [
    "这种高阶函数的使用完全不符合我们对数据应该是什么的直觉概念。但尽管如此，这些函数足以在我们的程序中表示对，也足以表示复合数据。\n",
    "\n",
    "这种表示对的函数表示的重点并不是 Python 实际上以这种方式工作（出于效率原因，列表更直接地实现），而是它可以以这种方式工作。函数表示虽然晦涩难懂，但却是表示对的一个完全合适的方法，因为它满足了表示对需要满足的唯一条件。数据抽象的实践使我们能够轻松地在表示之间切换。"
   ],
   "id": "e3626a16acdf2af"
  }
 ],
 "metadata": {
  "kernelspec": {
   "display_name": "Python 3",
   "language": "python",
   "name": "python3"
  },
  "language_info": {
   "codemirror_mode": {
    "name": "ipython",
    "version": 2
   },
   "file_extension": ".py",
   "mimetype": "text/x-python",
   "name": "python",
   "nbconvert_exporter": "python",
   "pygments_lexer": "ipython2",
   "version": "2.7.6"
  }
 },
 "nbformat": 4,
 "nbformat_minor": 5
}
