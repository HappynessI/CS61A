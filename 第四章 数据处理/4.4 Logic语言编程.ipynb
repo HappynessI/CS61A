{
 "cells": [
  {
   "metadata": {},
   "cell_type": "markdown",
   "source": "# 4.4 Logic语言编程",
   "id": "2676b3fbfedcea52"
  },
  {
   "metadata": {},
   "cell_type": "markdown",
   "source": "在本节中，我们将介绍一种专门为本节内容设计的声明式查询语言 logic。这是一种基于 Prolog 和 计算机程序结构与解释 的声明式语言。logic 解释器是基于前面章节的模式项目的一个完全实现。其中，数据记录被表示为模式列表，查询语句被表示为模式值。",
   "id": "9d9397b2fa64d63"
  },
  {
   "metadata": {},
   "cell_type": "markdown",
   "source": "## 4.4.1 事实和查询",
   "id": "40587e178bba75c7"
  },
  {
   "metadata": {},
   "cell_type": "markdown",
   "source": "",
   "id": "be8cf561de9a5f25"
  }
 ],
 "metadata": {
  "kernelspec": {
   "display_name": "Python 3",
   "language": "python",
   "name": "python3"
  },
  "language_info": {
   "codemirror_mode": {
    "name": "ipython",
    "version": 2
   },
   "file_extension": ".py",
   "mimetype": "text/x-python",
   "name": "python",
   "nbconvert_exporter": "python",
   "pygments_lexer": "ipython2",
   "version": "2.7.6"
  }
 },
 "nbformat": 4,
 "nbformat_minor": 5
}
