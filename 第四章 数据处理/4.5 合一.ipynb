{
 "cells": [
  {
   "metadata": {},
   "cell_type": "markdown",
   "source": "# 4.5 合一",
   "id": "e975f78c0b4c3f4d"
  },
  {
   "metadata": {},
   "cell_type": "markdown",
   "source": [
    "在本节中，我们将介绍用 logic 语言进行推理的查询解释器的实现。解释器是一种通用的问题求解器，但在求解问题的规模和类型上有很大的局限性。目前已有更复杂的逻辑编程语言，但构建高效的推理程序仍是计算机科学领域一个活跃的研究课题。\n",
    "\n",
    "查询解释器执行的基本操作称为合一。合一是将查询与事实（每个事实都可能包含变量）进行匹配的一般方法。查询解释器反复执行这一操作，首先将原始查询与事实的结论相匹配，然后将事实的假设与数据库中的其他结论相匹配。在此过程中，查询解释器会搜索与查询相关的所有事实。如果它找到了支持查询的变量赋值方法，就会将赋值作为成功结果返回。"
   ],
   "id": "9b53a4eeb462afaf"
  },
  {
   "cell_type": "code",
   "execution_count": null,
   "id": "initial_id",
   "metadata": {
    "collapsed": true
   },
   "outputs": [],
   "source": [
    ""
   ]
  }
 ],
 "metadata": {
  "kernelspec": {
   "display_name": "Python 3",
   "language": "python",
   "name": "python3"
  },
  "language_info": {
   "codemirror_mode": {
    "name": "ipython",
    "version": 2
   },
   "file_extension": ".py",
   "mimetype": "text/x-python",
   "name": "python",
   "nbconvert_exporter": "python",
   "pygments_lexer": "ipython2",
   "version": "2.7.6"
  }
 },
 "nbformat": 4,
 "nbformat_minor": 5
}
