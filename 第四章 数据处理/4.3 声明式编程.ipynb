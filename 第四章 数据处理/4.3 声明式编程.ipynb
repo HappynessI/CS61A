{
 "cells": [
  {
   "metadata": {},
   "cell_type": "markdown",
   "source": "# 4.3 声明式编程",
   "id": "7649c3900b493736"
  },
  {
   "metadata": {},
   "cell_type": "markdown",
   "source": [
    "除了数据流，数据值通常存储在称为数据库的大型存储库中。数据库有一个数据存储区，其中包含数据值以及检索和转换这些值的接口。存储在数据库中的每个值都称为记录（record）。具有相似结构的记录会被分组到表中。使用查询语言中的查询语句可以检索和转换记录。到目前为止，最常用的查询语言是结构化查询语言 (Structured Query Language)，简称 SQL（发音为“sequel”）。\n",
    "\n",
    "SQL 是一种声明式编程语言的例子。SQL 语句不直接描述计算过程，而是描述一些计算的预期结果。数据库系统的查询解释器负责设计和执行计算过程以产生这样结果。\n",
    "\n",
    "这种交互方式与 Python 或 Scheme 的过程式编程范式有很大的区别。在 Python 中，计算过程由程序员直接描述。声明式语言抽象了过程细节，而是将重点放在结果的形式上。\n",
    "\n",
    "这节讲的是SQL语言的内容，但是为了不和这学期的数据库弄混淆，就先不学了"
   ],
   "id": "30cd259b4882f518"
  },
  {
   "metadata": {},
   "cell_type": "markdown",
   "source": "## 4.3.1 表",
   "id": "e8e8f312d3efe5ba"
  },
  {
   "metadata": {},
   "cell_type": "markdown",
   "source": "## 4.3.2 Select语句",
   "id": "62fc8cac4b5d640b"
  },
  {
   "metadata": {},
   "cell_type": "markdown",
   "source": "## 4.3.3 连接",
   "id": "2e73b498cf7646eb"
  },
  {
   "metadata": {},
   "cell_type": "markdown",
   "source": "## 4.3.4 SQL解释器",
   "id": "f132d778864d2215"
  },
  {
   "metadata": {},
   "cell_type": "markdown",
   "source": "## 4.3.5 递归select语句",
   "id": "9dc575758003d54c"
  },
  {
   "metadata": {},
   "cell_type": "markdown",
   "source": "## 4.3.6 聚合和分组",
   "id": "a4e68b4b76118159"
  }
 ],
 "metadata": {
  "kernelspec": {
   "display_name": "Python 3",
   "language": "python",
   "name": "python3"
  },
  "language_info": {
   "codemirror_mode": {
    "name": "ipython",
    "version": 2
   },
   "file_extension": ".py",
   "mimetype": "text/x-python",
   "name": "python",
   "nbconvert_exporter": "python",
   "pygments_lexer": "ipython2",
   "version": "2.7.6"
  }
 },
 "nbformat": 4,
 "nbformat_minor": 5
}
