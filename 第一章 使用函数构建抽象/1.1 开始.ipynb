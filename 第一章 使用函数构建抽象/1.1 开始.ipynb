{
 "cells": [
  {
   "metadata": {},
   "cell_type": "markdown",
   "source": "# 1.1 开始",
   "id": "36d34b4ec3f499eb"
  },
  {
   "metadata": {},
   "cell_type": "markdown",
   "source": [
    "## 1.1.4 第一个例子\n",
    "\n",
    "本节将以一个使用“多种语言特性”的实例介绍Pyhon"
   ],
   "id": "c92d85c47ddf0237"
  },
  {
   "cell_type": "code",
   "execution_count": null,
   "id": "initial_id",
   "metadata": {
    "collapsed": true
   },
   "outputs": [],
   "source": "from urllib.request import urlopen"
  },
  {
   "metadata": {},
   "cell_type": "markdown",
   "source": [
    "Python代码由表达式和语句组成，广义上讲，计算机程序由以下指令组成：\n",
    "- 1.计算一些值\n",
    "- 2.执行一些操作\n",
    "\n",
    "语句描述操作；表达式描述计算"
   ],
   "id": "3cf4004637a0daae"
  },
  {
   "metadata": {},
   "cell_type": "code",
   "outputs": [],
   "execution_count": null,
   "source": "shakespeare = urlopen('https://www.composingprograms.com/shakespeare.txt')",
   "id": "fa47d0e92006a5ed"
  },
  {
   "metadata": {},
   "cell_type": "markdown",
   "source": "这段赋值语句将名称shakespeare与=后面的表达式的值相连，这个表达式将urlopen函数应用在了一个包含莎士比亚37部剧完整文本的URL上",
   "id": "531983cf07197b8a"
  },
  {
   "metadata": {},
   "cell_type": "code",
   "outputs": [],
   "execution_count": null,
   "source": "words = set(shakespeare.read().decode().split())",
   "id": "9c4c6518889091d0"
  },
  {
   "metadata": {},
   "cell_type": "markdown",
   "source": [
    "这段赋值语句将words与莎士比亚戏剧中出现的共33721个单词的集合相连。其命令链调用了read、decode和split，每个函数都会操作一个中间的计算实体：\n",
    "- 1.从URL中read（读取）数据\n",
    "- 2.将数据decode（解码）为文本\n",
    "- 3.将文本split（拆分）为单词放在一个set中"
   ],
   "id": "9bb6dd416dbfa33d"
  },
  {
   "metadata": {},
   "cell_type": "markdown",
   "source": "**对象**：set就是一种对象，支持如计算机交集和集合关系等运。对象无缝整合了数据以及用于操作该数据的逻辑，并隐藏了二者的复杂性",
   "id": "afa3b5d3e3d1ef76"
  },
  {
   "metadata": {},
   "cell_type": "code",
   "outputs": [],
   "execution_count": null,
   "source": "{w for w in words if len(w) == 6 and w[::-1] in words}",
   "id": "be5a43b28bdf4a26"
  },
  {
   "metadata": {},
   "cell_type": "markdown",
   "source": [
    "**解释器**：复合表达式的求解需要以一个可预测的方式来精确解释代码的过程。实现这样的过程，用于计算复合表达式的程序就称为解释器。\n",
    "\n",
    "与其他计算机程序相比，编程的解释器具有独特的通用性。\n",
    "\n",
    "以上这些核心概念是紧密相关的：函数是对象，对象是函数，解释器是二者的实例"
   ],
   "id": "fdc7c8e7a454e563"
  }
 ],
 "metadata": {
  "kernelspec": {
   "display_name": "Python 3",
   "language": "python",
   "name": "python3"
  },
  "language_info": {
   "codemirror_mode": {
    "name": "ipython",
    "version": 2
   },
   "file_extension": ".py",
   "mimetype": "text/x-python",
   "name": "python",
   "nbconvert_exporter": "python",
   "pygments_lexer": "ipython2",
   "version": "2.7.6"
  }
 },
 "nbformat": 4,
 "nbformat_minor": 5
}
