{
 "cells": [
  {
   "metadata": {},
   "cell_type": "markdown",
   "source": "# 1.6 高阶函数",
   "id": "2873ac15f4ae89f4"
  },
  {
   "metadata": {},
   "cell_type": "markdown",
   "source": [
    "我们对强大的编程语言提出的要求之一就是能够通过将名称分配给通用模板（general patterns）来构建抽象，然后直接使用该名称进行工作。\n",
    "\n",
    "为了将某些通用模板表达为具名概念（name concepts），我们需要构造一种“可以接收其他函数作为参数”或“可以把函数当做返回值”的函数。这种可以操作函数的函数就叫做**高阶函数**（higher-order functions）"
   ],
   "id": "881da6a5408c540e"
  },
  {
   "metadata": {},
   "cell_type": "markdown",
   "source": [
    "## 1.6.1 作为参数的函数\n",
    "\n",
    "思考以下三个计算求和的函数。第一个sum_naturals会计算从1到n的自然数之和："
   ],
   "id": "1b5fa710778c04b4"
  },
  {
   "cell_type": "code",
   "id": "initial_id",
   "metadata": {
    "collapsed": true,
    "ExecuteTime": {
     "end_time": "2025-03-25T05:45:01.304382Z",
     "start_time": "2025-03-25T05:45:01.272384Z"
    }
   },
   "source": [
    "def sum_naturals(n):\n",
    "    total , k = 0 , 1\n",
    "    while k <= n:\n",
    "        total , k = total + k , k + 1\n",
    "    return total\n",
    "\n",
    "sum_naturals(100)"
   ],
   "outputs": [
    {
     "data": {
      "text/plain": [
       "5050"
      ]
     },
     "execution_count": 1,
     "metadata": {},
     "output_type": "execute_result"
    }
   ],
   "execution_count": 1
  },
  {
   "metadata": {},
   "cell_type": "markdown",
   "source": "第二个sum_cubes函数会计算1到n的自然数的立方之和",
   "id": "2fd39b69da4ee11f"
  },
  {
   "metadata": {
    "ExecuteTime": {
     "end_time": "2025-03-25T05:45:01.351039Z",
     "start_time": "2025-03-25T05:45:01.329695Z"
    }
   },
   "cell_type": "code",
   "source": [
    "def sum_cubes(n):\n",
    "    total , k = 0 , 1\n",
    "    while k <= n:\n",
    "        total , k = total + k*k*k , k+1\n",
    "    return total\n",
    "\n",
    "sum_cubes(100)"
   ],
   "id": "148e49697546c51a",
   "outputs": [
    {
     "data": {
      "text/plain": [
       "25502500"
      ]
     },
     "execution_count": 2,
     "metadata": {},
     "output_type": "execute_result"
    }
   ],
   "execution_count": 2
  },
  {
   "metadata": {},
   "cell_type": "markdown",
   "source": "第三个pi_sum会计算某个式子，它的值会非常缓慢地收敛到π",
   "id": "971fac95f9feb145"
  },
  {
   "metadata": {
    "ExecuteTime": {
     "end_time": "2025-03-25T05:45:01.629104Z",
     "start_time": "2025-03-25T05:45:01.616497Z"
    }
   },
   "cell_type": "code",
   "source": [
    "def pi_sum(n):\n",
    "    total , k = 0 ,1\n",
    "    while k <= n:\n",
    "        total , k = total + 8/((4*k-3)*(4*k-1)) , k+1\n",
    "    return total\n",
    "\n",
    "pi_sum(100)"
   ],
   "id": "c311b2160e18c4fb",
   "outputs": [
    {
     "data": {
      "text/plain": [
       "3.1365926848388144"
      ]
     },
     "execution_count": 3,
     "metadata": {},
     "output_type": "execute_result"
    }
   ],
   "execution_count": 3
  },
  {
   "metadata": {},
   "cell_type": "markdown",
   "source": "这三个函数在很大程度上是相同的，仅在名称和用于计算被加项k的函数上有所不同。我们可以通过在同一模板中填充槽位（slots）来生成每个函数：",
   "id": "e1d43ddb6f25bf71"
  },
  {
   "metadata": {
    "ExecuteTime": {
     "end_time": "2025-03-25T05:45:01.659700Z",
     "start_time": "2025-03-25T05:45:01.648348Z"
    }
   },
   "cell_type": "code",
   "source": [
    "# def <name>(n):\n",
    "#    total ,k = 0,1\n",
    "#    while k <= n:\n",
    "#        total,k = total + <term>(k),k+1\n",
    "#    return total"
   ],
   "id": "bd594e0570018d6a",
   "outputs": [],
   "execution_count": 4
  },
  {
   "metadata": {},
   "cell_type": "markdown",
   "source": "我们可以用上面的通用模板，将“槽位”转换为形式参数",
   "id": "2d80017e76f4c944"
  },
  {
   "metadata": {
    "ExecuteTime": {
     "end_time": "2025-03-25T05:45:01.691195Z",
     "start_time": "2025-03-25T05:45:01.676846Z"
    }
   },
   "cell_type": "code",
   "source": [
    "def summation(n,term):\n",
    "    total, k = 0, 1\n",
    "    while k <= n:\n",
    "        total, k = total + term(k), k+1\n",
    "    return total\n",
    "\n",
    "def cube(x):\n",
    "    return x*x*x\n",
    "\n",
    "def sum_cubes(n):\n",
    "    return summation(n,cube)\n",
    "\n",
    "result = sum_cubes(3)"
   ],
   "id": "1e1ff519e85865da",
   "outputs": [],
   "execution_count": 5
  },
  {
   "metadata": {},
   "cell_type": "markdown",
   "source": "使用会返回其参数的identity函数，我们还可以使用完全相同的summation函数对自然数求和",
   "id": "646607283525032f"
  },
  {
   "metadata": {
    "ExecuteTime": {
     "end_time": "2025-03-25T05:45:01.768973Z",
     "start_time": "2025-03-25T05:45:01.755974Z"
    }
   },
   "cell_type": "code",
   "source": [
    "def summation(n,term):\n",
    "    total, k = 0, 1\n",
    "    while k <= n:\n",
    "        total, k = total + term(k), k+1\n",
    "    return total\n",
    "\n",
    "def identity(x):\n",
    "    return x\n",
    "\n",
    "def sum_naturals(n):\n",
    "    return summation(n,identity)\n",
    "\n",
    "sum_naturals(10)"
   ],
   "id": "f7a594a2fc256230",
   "outputs": [
    {
     "data": {
      "text/plain": [
       "55"
      ]
     },
     "execution_count": 6,
     "metadata": {},
     "output_type": "execute_result"
    }
   ],
   "execution_count": 6
  },
  {
   "metadata": {
    "ExecuteTime": {
     "end_time": "2025-03-25T05:45:02.080081Z",
     "start_time": "2025-03-25T05:45:01.787974Z"
    }
   },
   "cell_type": "code",
   "source": [
    "def pi_term(x):\n",
    "    return 8 / ((4*x-3) * (4*x-1))\n",
    "\n",
    "def pi_sum(n):\n",
    "    return summation(n, pi_term)\n",
    "\n",
    "pi_sum(1e6)"
   ],
   "id": "de5100c674310d09",
   "outputs": [
    {
     "data": {
      "text/plain": [
       "3.141592153589902"
      ]
     },
     "execution_count": 7,
     "metadata": {},
     "output_type": "execute_result"
    }
   ],
   "execution_count": 7
  },
  {
   "metadata": {},
   "cell_type": "markdown",
   "source": "## 1.6.2 作为通用方法的函数",
   "id": "75827101f92e431e"
  },
  {
   "metadata": {},
   "cell_type": "markdown",
   "source": [
    "有了高阶函数后，会见到一种更加强大的抽象：用一些函数来计算表达的通用方法(general methods)，而且和它们调用的特定函数无关。\n",
    "\n",
    "思考下面的例子，它实现了迭代改进(iterative improvement)的通用方法，并使用它来计算黄金比例。黄金比例通常被称为\"phi\"，是一个接近1.6的数字，经常出现在自然、艺术和建筑中。\n",
    "\n",
    "迭代改进算法从方程的guess解（推测值）开始，重复应用update函数来改进该猜测，并调用close比较来检查当前的guess是否已经“足够接近”正确值。"
   ],
   "id": "50b8f8875e81517c"
  },
  {
   "metadata": {
    "ExecuteTime": {
     "end_time": "2025-03-25T05:45:02.111392Z",
     "start_time": "2025-03-25T05:45:02.097104Z"
    }
   },
   "cell_type": "code",
   "source": [
    "def improve(update,close,guess=1):\n",
    "    while not close(guess):\n",
    "      guess = update(guess)\n",
    "    return guess"
   ],
   "id": "97028a206fa96a07",
   "outputs": [],
   "execution_count": 8
  },
  {
   "metadata": {},
   "cell_type": "markdown",
   "source": [
    "这个improve函数是迭代求精(repetitive refinement)的通用表达式。它并不会指定要解决的问题，而是会将这些细节留给作为参数传入的update和close函数\n",
    "\n",
    "黄金比例的一个著名特性是它可以通过反复叠加任何正数的倒数加上1来计算，而且它比它的平方小1。根据这些特性表示为与improve一起使用的函数"
   ],
   "id": "6610dfe009660d35"
  },
  {
   "metadata": {
    "ExecuteTime": {
     "end_time": "2025-03-25T05:45:02.141923Z",
     "start_time": "2025-03-25T05:45:02.129821Z"
    }
   },
   "cell_type": "code",
   "source": [
    "def approx_eq(x,y,tolerance=1e-15):\n",
    "    return abs(x-y) < tolerance"
   ],
   "id": "b6dace5bbc48287e",
   "outputs": [],
   "execution_count": 9
  },
  {
   "metadata": {
    "ExecuteTime": {
     "end_time": "2025-03-25T05:45:02.173148Z",
     "start_time": "2025-03-25T05:45:02.159645Z"
    }
   },
   "cell_type": "code",
   "source": [
    "def golden_update(guess):\n",
    "    return 1/guess + 1\n",
    "\n",
    "def square_close_to_successor(guess):\n",
    "    return approx_eq(guess*guess,guess+1)"
   ],
   "id": "be8e8f28bbc0b03a",
   "outputs": [],
   "execution_count": 10
  },
  {
   "metadata": {},
   "cell_type": "markdown",
   "source": "使用参数 golden_update 和 square_close_to_successor 来调用 improve 将会计算出黄金比例的有限近似值。",
   "id": "f58c34fe72486355"
  },
  {
   "metadata": {
    "ExecuteTime": {
     "end_time": "2025-03-25T05:45:02.204653Z",
     "start_time": "2025-03-25T05:45:02.191195Z"
    }
   },
   "cell_type": "code",
   "source": "improve(golden_update,square_close_to_successor)",
   "id": "3db01ee3167839d2",
   "outputs": [
    {
     "data": {
      "text/plain": [
       "1.6180339887498951"
      ]
     },
     "execution_count": 11,
     "metadata": {},
     "output_type": "execute_result"
    }
   ],
   "execution_count": 11
  },
  {
   "metadata": {},
   "cell_type": "markdown",
   "source": [
    "该例子说明了计算机科学中的两个相关的重要思想：\n",
    "- 命名和函数使我们能将大量的复杂事物进行抽象\n",
    "- 正是由于我们对 Python 语言有一个极其通用的求解过程，小的组件才能组合成复杂的程序\n",
    "\n",
    "接下来对新通用方法improve进行测试来检查其正确性，用黄金比例的精确闭式解与我们的迭代结果进行比较"
   ],
   "id": "bb34109b51e0e4a7"
  },
  {
   "metadata": {
    "ExecuteTime": {
     "end_time": "2025-03-25T05:45:02.236069Z",
     "start_time": "2025-03-25T05:45:02.223259Z"
    }
   },
   "cell_type": "code",
   "source": [
    "from math import sqrt\n",
    "phi = 1/2 + sqrt(5)/2\n",
    "def improve_test():\n",
    "    approx_phi = improve(golden_update,square_close_to_successor)\n",
    "    assert approx_eq(phi,approx_phi),\"phi differs from its approximation\"\n",
    "\n",
    "improve_test()"
   ],
   "id": "e1f0226e9c3b7407",
   "outputs": [],
   "execution_count": 12
  },
  {
   "metadata": {},
   "cell_type": "markdown",
   "source": "## 1.6.3 嵌套定义",
   "id": "de8ce82ef042a026"
  },
  {
   "metadata": {},
   "cell_type": "markdown",
   "source": "思考问题：计算一个数的平方根。重复应用以下更新，x的值会收敛为a的平方根",
   "id": "93d46331be57b12e"
  },
  {
   "metadata": {
    "ExecuteTime": {
     "end_time": "2025-03-25T05:45:02.267632Z",
     "start_time": "2025-03-25T05:45:02.252933Z"
    }
   },
   "cell_type": "code",
   "source": [
    "def average(x,y):\n",
    "    return (x+y)/2\n",
    "def sqrt_upadate(x,a):\n",
    "    return average(x,a/x)"
   ],
   "id": "2b4c6ac96aeb8704",
   "outputs": [],
   "execution_count": 13
  },
  {
   "metadata": {},
   "cell_type": "markdown",
   "source": [
    "上述代码存在两个问题：\n",
    "- improve函数中update函数只接受一个参数guess，两个参数的更新函数与其不兼容\n",
    "- 该代码指提供一次更新\n",
    "\n",
    "解决方案：通过嵌套定义函数"
   ],
   "id": "16b522042f2e43c7"
  },
  {
   "metadata": {
    "ExecuteTime": {
     "end_time": "2025-03-25T05:45:02.298155Z",
     "start_time": "2025-03-25T05:45:02.284849Z"
    }
   },
   "cell_type": "code",
   "source": [
    "def sqrt(a):\n",
    "    def sqrt_update(x):\n",
    "        return average(x,a/x)\n",
    "    def sqrt_close(x):\n",
    "        return approx_eq(x*x,a)\n",
    "    return improve(sqrt_update,sqrt_close)"
   ],
   "id": "df4540a89b11e463",
   "outputs": [],
   "execution_count": 14
  },
  {
   "metadata": {},
   "cell_type": "markdown",
   "source": "与局部赋值一样，局部的def语句只影响局部帧。被定义的函数仅在求解sqrt时在作用域内。",
   "id": "3a034b66703c358a"
  },
  {
   "metadata": {},
   "cell_type": "markdown",
   "source": [
    "**词法作用域**：局部定义的函数也可以访问整个定义作用域内的名称绑定。在此示例中，sqrt_update引用名称a，它是封闭函数sqrt的形参。这种在嵌套定义之间共享名称的规则称为语法作用域。内部函数可以访问定义它们的环境中的名称（而不是它们被调用的位置）\n",
    "\n",
    "我们需要两个扩展来使环境模型启用词法作用域：\n",
    "- 1.每个用户定义的函数都有一个父环境：定义它的环境\n",
    "- 2.调用用户定义的函数时，其局部帧会继承其父环境"
   ],
   "id": "7db4e4f7eed1b684"
  },
  {
   "metadata": {},
   "cell_type": "markdown",
   "source": [
    "在调用sqrt之前，所有函数都是在全局环境中定义的，因此都有相同的父级：全局环境。\n",
    "\n",
    "相比之下，当Python计算sqrt的前两个子句时，它会创建局部换机关联的函数"
   ],
   "id": "9f191201e143d3b0"
  },
  {
   "metadata": {
    "ExecuteTime": {
     "end_time": "2025-03-25T05:45:02.330155Z",
     "start_time": "2025-03-25T05:45:02.317156Z"
    }
   },
   "cell_type": "code",
   "source": "sqrt(256)",
   "id": "911ec28f9abe4fc8",
   "outputs": [
    {
     "data": {
      "text/plain": [
       "16.0"
      ]
     },
     "execution_count": 15,
     "metadata": {},
     "output_type": "execute_result"
    }
   ],
   "execution_count": 15
  },
  {
   "metadata": {},
   "cell_type": "markdown",
   "source": [
    "**继承环境**：一个环境可以由任意长的帧链构成，并且总是以全局帧结束。通过使用嵌套的def语句来调用在其他函数中定义的函数，我们可以创建更长的（帧）链。调用sqrt_update的环境由三个帧组成：\n",
    "- 局部帧sqrt_update\n",
    "- 定义sqrt_update的sqrt帧(标记为f1)\n",
    "- 全局帧"
   ],
   "id": "834562694bf9bb68"
  },
  {
   "metadata": {},
   "cell_type": "markdown",
   "source": [
    "Python中词法作用域的两个关键优势：\n",
    "- 局部函数的名称不会影响定义它的函数的外部名称，因为局部函数的名称将绑定在定义它的当前局部环境中，而不是全局环境中\n",
    "- 局部函数可以访问外层函数的环境，这是因为局部环境的函数体求值环境会继承定义它的求值环境"
   ],
   "id": "5e8bcc9659569775"
  },
  {
   "metadata": {},
   "cell_type": "markdown",
   "source": "这里的sqrt_update函数自带了一些数据：a在定义它的环境中引用的值，因为它以这种方式“封装”信息，所以局部定义的函数通常被称为闭包",
   "id": "f3760951c859d4ec"
  },
  {
   "metadata": {},
   "cell_type": "markdown",
   "source": "## 1.6.4 作为返回值的函数",
   "id": "c172ffbdcf79e6ec"
  },
  {
   "metadata": {},
   "cell_type": "markdown",
   "source": "通过创建“返回值就是函数”的函数，我们可以在我们的程序中实现更强大的表达能力。带有词法作用域的编程语言的一个重要特性就是，局部定义函数在它们返回时仍旧持有所关联的环境",
   "id": "c06b7ae1483b25fc"
  },
  {
   "metadata": {},
   "cell_type": "markdown",
   "source": "## 1.6.5 示例：牛顿法",
   "id": "24a40c21ce8c6eeb"
  },
  {
   "metadata": {},
   "cell_type": "markdown",
   "source": "牛顿法是一种经典的迭代方法，用于寻找函数的零点，其原理在《数值计算方法》中也有记载",
   "id": "55460efaa021e7a9"
  },
  {
   "metadata": {
    "ExecuteTime": {
     "end_time": "2025-03-25T05:45:02.362185Z",
     "start_time": "2025-03-25T05:45:02.348286Z"
    }
   },
   "cell_type": "code",
   "source": [
    "def newton_update(f,df):\n",
    "    def update(x):\n",
    "        return x - f(x) / df(x)\n",
    "    return update"
   ],
   "id": "cb0b7dab87095800",
   "outputs": [],
   "execution_count": 16
  },
  {
   "metadata": {
    "ExecuteTime": {
     "end_time": "2025-03-25T05:45:02.393579Z",
     "start_time": "2025-03-25T05:45:02.378884Z"
    }
   },
   "cell_type": "code",
   "source": [
    "def find_zero(f,df):\n",
    "    def near_zero(x):\n",
    "        return approx_eq(f(x),0)\n",
    "    return improve(newton_update(f,df),near_zero)"
   ],
   "id": "b330c1636fab4167",
   "outputs": [],
   "execution_count": 17
  },
  {
   "metadata": {},
   "cell_type": "markdown",
   "source": "举例：假设函数$f(x)=x^2 - a$的导数是线性方程$df(x) = 2x$",
   "id": "710a3f427ce0c2b3"
  },
  {
   "metadata": {
    "ExecuteTime": {
     "end_time": "2025-03-25T05:45:02.423925Z",
     "start_time": "2025-03-25T05:45:02.413520Z"
    }
   },
   "cell_type": "code",
   "source": [
    "def square_root_newton(a):\n",
    "    def f(x):\n",
    "        return x*x-a\n",
    "    def df(x):\n",
    "        return 2*x\n",
    "    return find_zero(f,df)\n",
    "\n",
    "square_root_newton(64)"
   ],
   "id": "f86f39ac374ee45c",
   "outputs": [
    {
     "data": {
      "text/plain": [
       "8.0"
      ]
     },
     "execution_count": 18,
     "metadata": {},
     "output_type": "execute_result"
    }
   ],
   "execution_count": 18
  },
  {
   "metadata": {},
   "cell_type": "markdown",
   "source": "推广至n次方根，如下",
   "id": "c15a8a24fc18df90"
  },
  {
   "metadata": {
    "ExecuteTime": {
     "end_time": "2025-03-25T05:47:06.911821Z",
     "start_time": "2025-03-25T05:47:06.899889Z"
    }
   },
   "cell_type": "code",
   "source": [
    "def power(x,n):\n",
    "    \"\"\"返回x*x*...*x，n个x相乘\"\"\"\n",
    "    product,k = 1,0\n",
    "    while k < n:\n",
    "        product , k = product * x,k+1\n",
    "    return product\n",
    "\n",
    "def nth_root_of_a(n,a):\n",
    "    def f(x):\n",
    "        return power(x,n) - a\n",
    "    def df(x):\n",
    "        return n*power(x,n-1)\n",
    "    return find_zero(f,df)\n",
    "\n",
    "# nth_root_of_a(2,64)\n",
    "# nth_root_of_a(3,64)\n",
    "nth_root_of_a(6,64)"
   ],
   "id": "d4d6fb011f2f6ed3",
   "outputs": [
    {
     "data": {
      "text/plain": [
       "2.0"
      ]
     },
     "execution_count": 24,
     "metadata": {},
     "output_type": "execute_result"
    }
   ],
   "execution_count": 24
  },
  {
   "metadata": {},
   "cell_type": "markdown",
   "source": [
    "所有计算中的近似误差都可以通过将approx_eq中的误差tolerance改为更小的数字来减小\n",
    "\n",
    "需要注意的是，牛顿法并不总是收敛的，此事在《数值计算方法》中已有记载，也有其他的解决方法"
   ],
   "id": "c1ea7cc80e79b218"
  },
  {
   "metadata": {},
   "cell_type": "markdown",
   "source": "## 1.6.6 柯里化",
   "id": "50fa52cdcc6998bc"
  },
  {
   "metadata": {},
   "cell_type": "markdown",
   "source": [
    "我们可以使用高阶函数将一个接受多个参数的函数转换为一个函数链，每个函数接受一个参数。\n",
    "\n",
    "具体而言：给定一个函数$f(x,y)$，我们可以定义另一个函数$g$使得$g(x)(y)$等价于$f(x,y)$。在这里，$g$是一个该高阶函数，它接受单个参数x并返回另一个接受单个参数y的函数。这种转换称为柯里化(Curring)\n",
    "\n",
    "【示例】：以下是pow函数的柯里化版本"
   ],
   "id": "e2a012f046b2e66c"
  },
  {
   "metadata": {
    "ExecuteTime": {
     "end_time": "2025-03-25T06:00:07.232971Z",
     "start_time": "2025-03-25T06:00:07.221975Z"
    }
   },
   "cell_type": "code",
   "source": [
    "def curried_pow(x):\n",
    "    def h(y):\n",
    "        return pow(x,y)\n",
    "    return h\n",
    "curried_pow(2)(3) # 这里curried_pow(x)返回一个函数h(y)，h(y)再接受y并计算结果"
   ],
   "id": "1fa5a56496f0e2f3",
   "outputs": [
    {
     "data": {
      "text/plain": [
       "8"
      ]
     },
     "execution_count": 25,
     "metadata": {},
     "output_type": "execute_result"
    }
   ],
   "execution_count": 25
  },
  {
   "metadata": {},
   "cell_type": "markdown",
   "source": [
    "在Python这种通用的语言中，当我们需要一个只接受单个参数额度函数时，柯里化很有用。\n",
    "\n",
    "例如，map模式就可以将但参数函数应用于一串值\n",
    "\n",
    "【示例】：函数实现map模式"
   ],
   "id": "2784d1fd0e3bceae"
  },
  {
   "metadata": {
    "ExecuteTime": {
     "end_time": "2025-03-25T06:05:14.882017Z",
     "start_time": "2025-03-25T06:05:14.868495Z"
    }
   },
   "cell_type": "code",
   "source": [
    "def map_to_range(start,end,f):\n",
    "    while start < end:\n",
    "        print(f(start))\n",
    "        start = start+1"
   ],
   "id": "45134ceb401c7894",
   "outputs": [],
   "execution_count": 26
  },
  {
   "metadata": {},
   "cell_type": "markdown",
   "source": "这样就可以使用map_to_range和curried_pow来计算2的前十次方，而不是专门编写一个函数",
   "id": "2408016ecc81bf22"
  },
  {
   "metadata": {
    "ExecuteTime": {
     "end_time": "2025-03-25T06:05:15.971262Z",
     "start_time": "2025-03-25T06:05:15.959833Z"
    }
   },
   "cell_type": "code",
   "source": "map_to_range(0,10,curried_pow(2))",
   "id": "30692b62195e663a",
   "outputs": [
    {
     "name": "stdout",
     "output_type": "stream",
     "text": [
      "1\n",
      "2\n",
      "4\n",
      "8\n",
      "16\n",
      "32\n",
      "64\n",
      "128\n",
      "256\n",
      "512\n"
     ]
    }
   ],
   "execution_count": 27
  },
  {
   "metadata": {},
   "cell_type": "markdown",
   "source": "在上述例子中，我们手动对pow函数进行了柯里化变换，得到了curried_pow。相反，我们可以定义函数来自动进行柯里化，以及逆柯里化变换",
   "id": "e2e36182bd5c007a"
  },
  {
   "metadata": {
    "ExecuteTime": {
     "end_time": "2025-03-25T06:14:27.288416Z",
     "start_time": "2025-03-25T06:14:27.277410Z"
    }
   },
   "cell_type": "code",
   "source": [
    "def curry2(f):\n",
    "    \"\"\"返回给定的双参数函数的柯里化版本\"\"\"\n",
    "    def g(x):\n",
    "        def h(y):\n",
    "            return f(x,y)\n",
    "        return h\n",
    "    return g\n",
    "\n",
    "def uncurry2(g):\n",
    "    \"\"\"返回给定的柯里化函数的双参数版本\"\"\"\n",
    "    def f(x,y):\n",
    "        return g(x)(y)\n",
    "    return f\n",
    "\n",
    "pow_curried = curry2(pow)\n",
    "pow_curried(2)(5)\n",
    "\n",
    "map_to_range(0,10,pow_curried(2))"
   ],
   "id": "91648ea66609da7c",
   "outputs": [
    {
     "name": "stdout",
     "output_type": "stream",
     "text": [
      "1\n",
      "2\n",
      "4\n",
      "8\n",
      "16\n",
      "32\n",
      "64\n",
      "128\n",
      "256\n",
      "512\n"
     ]
    }
   ],
   "execution_count": 30
  },
  {
   "metadata": {},
   "cell_type": "markdown",
   "source": "curry2函数接受一个双参数函数f并返回一个单参数函数g。当g应用于参数x时，它返回一个单参数函数h。当h应用于参数y时，它调用f(x,y)。因此，curry2f(x)(y)等价于f(x,y)。uncurry2函数反转了柯里化变换，因此uncurry2(curry2(f))等价于f",
   "id": "f53d3d6ff538a152"
  },
  {
   "metadata": {
    "ExecuteTime": {
     "end_time": "2025-03-25T06:22:19.421239Z",
     "start_time": "2025-03-25T06:22:19.399729Z"
    }
   },
   "cell_type": "code",
   "source": "uncurry2(pow_curried)(2,5)",
   "id": "a5097ebc3604ab3e",
   "outputs": [
    {
     "data": {
      "text/plain": [
       "32"
      ]
     },
     "execution_count": 31,
     "metadata": {},
     "output_type": "execute_result"
    }
   ],
   "execution_count": 31
  },
  {
   "metadata": {},
   "cell_type": "markdown",
   "source": "## 1.6.7 Lambda表达式",
   "id": "9de3bf39cd9e80b5"
  },
  {
   "metadata": {},
   "cell_type": "markdown",
   "source": "对于一些临时的表达式，我们不需要将表达式的值与名称相关联。在Python中，我们可以使用lambda表达式临时创建函数，这些表达式会计算为未命名的函数。一个lambda表达式的计算结果是一个函数，它仅有一个返回表达式组委主体。不逊于使用赋值和控制语句",
   "id": "96fc246d59f00ba3"
  },
  {
   "metadata": {},
   "cell_type": "code",
   "outputs": [],
   "execution_count": null,
   "source": [
    "def compose1(f,g):\n",
    "    return lambda x : f(g(x))\n",
    "# lambda            x         :            f(g(x))\n",
    "# \"A function that  takes x   and returns  f(g(x))\""
   ],
   "id": "826e9a9acd162524"
  },
  {
   "metadata": {},
   "cell_type": "markdown",
   "source": "lambda表达式的结果称为lambda函数（匿名函数）。它没有固定名称（因此Python打印<lambda>作为名称），但初次之外它的行为与任何其他函数都相同",
   "id": "161863eb721f0a45"
  },
  {
   "metadata": {
    "ExecuteTime": {
     "end_time": "2025-03-25T06:28:24.076693Z",
     "start_time": "2025-03-25T06:28:24.064329Z"
    }
   },
   "cell_type": "code",
   "source": [
    "s = lambda x : x*x\n",
    "# s\n",
    "s(12)"
   ],
   "id": "cacc94b0ac85d0f",
   "outputs": [
    {
     "data": {
      "text/plain": [
       "144"
      ]
     },
     "execution_count": 33,
     "metadata": {},
     "output_type": "execute_result"
    }
   ],
   "execution_count": 33
  },
  {
   "metadata": {},
   "cell_type": "markdown",
   "source": "尽管lambda表达式很简洁，但是难辨认，如下",
   "id": "bf1388b1eb80a691"
  },
  {
   "metadata": {},
   "cell_type": "code",
   "outputs": [],
   "execution_count": null,
   "source": "compose1 = lambda f,g: lambda x: f(g(x))",
   "id": "4ac87dbc2cc73d56"
  },
  {
   "metadata": {},
   "cell_type": "markdown",
   "source": "## 1.6.8 抽象和一等函数",
   "id": "18a67370ffe22992"
  },
  {
   "metadata": {},
   "cell_type": "markdown",
   "source": [
    "高等函数的重要性在于，它们使我们能够将这些抽象显式地表达为我们编程语言中的元素，以便可以像其他计算元素一样处理\n",
    "\n",
    "一般而言，编程语言会对计算元素的操作方式施加限制。拥有最少限制的元素可以获得一等地位（first-class status）。这些一等元素的“权利和特权”包括：\n",
    "- 1.可以与名称绑定\n",
    "- 2.可以作为参数传递给函数\n",
    "- 3.可以作为函数的结果返回\n",
    "- 4.可以包含在数据结构中\n",
    "\n",
    "Python 授予函数完全的一等地位，由此带来的表达能力的提升是巨大的。"
   ],
   "id": "10f414f44f095ab4"
  },
  {
   "metadata": {},
   "cell_type": "markdown",
   "source": "## 1.6.9 函数装饰器",
   "id": "c377168d4b980e60"
  },
  {
   "metadata": {},
   "cell_type": "markdown",
   "source": "Python提供了一种特殊的语法来使用高阶函数作为执行def语句的一部分，称为装饰器（decorator）。最常见的例子是trace：",
   "id": "bd98eebd72cf33ac"
  },
  {
   "metadata": {
    "ExecuteTime": {
     "end_time": "2025-03-25T06:50:29.318218Z",
     "start_time": "2025-03-25T06:50:29.298148Z"
    }
   },
   "cell_type": "code",
   "source": [
    "def trace(fn):\n",
    "    def wrapped(x):\n",
    "        print('->',fn,'(',x,')')\n",
    "        return fn(x)\n",
    "    return wrapped\n",
    "\n",
    "@trace\n",
    "def triple(x):\n",
    "    return 3*x\n",
    "\n",
    "triple(12)"
   ],
   "id": "8e5e6a06c000be23",
   "outputs": [
    {
     "name": "stdout",
     "output_type": "stream",
     "text": [
      "-> <function triple at 0x00000221518E7B80> ( 12 )\n"
     ]
    },
    {
     "data": {
      "text/plain": [
       "36"
      ]
     },
     "execution_count": 43,
     "metadata": {},
     "output_type": "execute_result"
    }
   ],
   "execution_count": 43
  },
  {
   "metadata": {},
   "cell_type": "markdown",
   "source": "在这个例子中，定义了一个高阶函数trace，它返回一个函数，该函数在调用其参数前显输出一个打印语句来显示该参数。tripe的def语句有一个注解（annotation）@trace，它会影响def执行的规则。和往常一样，函数triple被创建了。但是，名称triple不会绑定到这个函数上。相反，这个函数名称会被绑定在新定义的truple函数调用trace后返回的函数值上。上述装饰器等价于：",
   "id": "1558e86a118f359f"
  },
  {
   "metadata": {},
   "cell_type": "code",
   "outputs": [],
   "execution_count": null,
   "source": [
    "def triple(x):\n",
    "    return 3*x\n",
    "triple = trace(triple)"
   ],
   "id": "ee6075801d92f11c"
  },
  {
   "metadata": {},
   "cell_type": "markdown",
   "source": [
    "在该笔记所对应教材相关项目中，装饰器被用于追踪，以及在从命令行运行程序时选择要调用哪些函数\n",
    "\n",
    "补充：装饰器符号@也可以在后面跟一个调用表达式。跟在@后面的表达式会先辈解析（就像上面的'trace'名称一样），然后是def语句，最后讲装饰器表达式的运算结果应用到新定义的函数上，并将其结果绑定到def语句中的名称上"
   ],
   "id": "7aa273105cdfd56a"
  },
  {
   "metadata": {},
   "cell_type": "markdown",
   "source": [
    "装饰器本质上是一个**高阶函数**，它接受一个函数作为参数，并返回一个新的函数。主要功能是动态地修改函数或方法的行为，通常用于以下场景：\n",
    "- 日志记录：在函数执行前后添加日志\n",
    "- 性能测试：测量函数的执行时间\n",
    "- 权限检查：在函数执行前验证用户权限\n",
    "- 缓存：缓存函数的计算结果，避免重复计算\n",
    "- 追踪：记录函数的调用信息，如参数和返回值"
   ],
   "id": "1b59f691c4bb4cce"
  }
 ],
 "metadata": {
  "kernelspec": {
   "display_name": "Python 3",
   "language": "python",
   "name": "python3"
  },
  "language_info": {
   "codemirror_mode": {
    "name": "ipython",
    "version": 2
   },
   "file_extension": ".py",
   "mimetype": "text/x-python",
   "name": "python",
   "nbconvert_exporter": "python",
   "pygments_lexer": "ipython2",
   "version": "2.7.6"
  }
 },
 "nbformat": 4,
 "nbformat_minor": 5
}
