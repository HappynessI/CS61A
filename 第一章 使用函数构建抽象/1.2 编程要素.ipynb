{
 "cells": [
  {
   "metadata": {},
   "cell_type": "markdown",
   "source": "# 1.2 编程要素",
   "id": "fce02e12eb15d352"
  },
  {
   "metadata": {},
   "cell_type": "markdown",
   "source": [
    "## 1.2.2 调用表达式\n",
    "\n",
    "调用表达式是一种复合表达式，它将函数运用于一些参数上。"
   ],
   "id": "6c8f39f9d60f19e3"
  },
  {
   "cell_type": "code",
   "execution_count": null,
   "id": "initial_id",
   "metadata": {
    "collapsed": true
   },
   "outputs": [],
   "source": "max(7.5,9.5)"
  },
  {
   "metadata": {},
   "cell_type": "markdown",
   "source": [
    "这个调用表达式包含子表达式：在括号之前是一个运算符表达式，而括号里面是一个以逗号分隔的操作数表达式的列表\n",
    "- max:operator\n",
    "- 7.5,9.5:operand\n",
    "\n",
    "运算符指定了一个函数，在对这个调用表达式进行求值时，可以这样说：使用参数7.5和9.5来调用函数max，最后返回9.5"
   ],
   "id": "884b4346e46fab3a"
  },
  {
   "metadata": {},
   "cell_type": "markdown",
   "source": [
    "## 1.2.3 导入库函数\n",
    "\n",
    "Python将已知函数和其他东西组织起来放入到了模块中，而这些模型共同组成了Python库，使用的时候需要导入。\n",
    "\n",
    "例如，math模块提供了各种熟悉的数学函数"
   ],
   "id": "fa484ec6ebd240aa"
  },
  {
   "metadata": {},
   "cell_type": "code",
   "outputs": [],
   "execution_count": null,
   "source": [
    "from math import sqrt\n",
    "sqrt(256)"
   ],
   "id": "ffcb19e8736e2c76"
  },
  {
   "metadata": {},
   "cell_type": "markdown",
   "source": "operator模块提供了中缀运算符对应的函数",
   "id": "c661ba0112a1d3de"
  },
  {
   "metadata": {},
   "cell_type": "code",
   "outputs": [],
   "execution_count": null,
   "source": [
    "from operator import add,sub,mul\n",
    "add(14,28)"
   ],
   "id": "563632b147c30965"
  },
  {
   "metadata": {},
   "cell_type": "code",
   "outputs": [],
   "execution_count": null,
   "source": "sub(100,mul(7,add(8,4)))",
   "id": "8456ea2f6f022b52"
  },
  {
   "metadata": {},
   "cell_type": "markdown",
   "source": [
    "## 1.2.4 名称与环境\n",
    "\n",
    "编程语言的一个要素是使用名称来引用计算对象，如果一个值被赋予了名称，我们说名称绑定到了值上面\n",
    "\n",
    "在Python中，可以使用赋值语句建立新的绑定"
   ],
   "id": "a909e6e1fb2cf942"
  },
  {
   "metadata": {},
   "cell_type": "code",
   "outputs": [],
   "execution_count": null,
   "source": [
    "radius = 10\n",
    "radius"
   ],
   "id": "a97db81e3922465a"
  },
  {
   "metadata": {},
   "cell_type": "markdown",
   "source": "名称也可以通过import语句绑定",
   "id": "2a103056efe49cd1"
  },
  {
   "metadata": {},
   "cell_type": "code",
   "outputs": [],
   "execution_count": null,
   "source": [
    "from math import pi\n",
    "pi * 71/223"
   ],
   "id": "608caf18a0eebbca"
  },
  {
   "metadata": {},
   "cell_type": "markdown",
   "source": [
    "= 在python中称为**赋值**符号，赋值是最简单的**抽象**方法，它运允许我们使用简单名称来指代复合操作的结果。这样，复杂的程序由复杂性递增的计算对象逐步构建。\n",
    "\n",
    "将名称与值绑定，之后通过名称检索可能的值，就意味着解释器必须维护某种内存来记录名称、值和绑定，这种内存就是环境\n",
    "\n",
    "名称也可以与函数绑定。例如，名称max和之前使用的max函数进行了绑定"
   ],
   "id": "34176e85c78632ac"
  },
  {
   "metadata": {},
   "cell_type": "code",
   "outputs": [],
   "execution_count": null,
   "source": "max",
   "id": "c660ad6c0e73ccdd"
  },
  {
   "metadata": {},
   "cell_type": "markdown",
   "source": "赋值语句可以为现有函数赋予新名称",
   "id": "1149cff08ef3560a"
  },
  {
   "metadata": {},
   "cell_type": "code",
   "outputs": [],
   "execution_count": null,
   "source": [
    "f = max\n",
    "f(2,3,4)"
   ],
   "id": "8a4dd5d6354ad824"
  },
  {
   "metadata": {},
   "cell_type": "markdown",
   "source": "之后在此赋值可以将已有名称与新值绑定",
   "id": "e99e130f1eeb6c30"
  },
  {
   "metadata": {},
   "cell_type": "code",
   "outputs": [],
   "execution_count": null,
   "source": [
    "f = 2\n",
    "f"
   ],
   "id": "ad67e49b25c31d8"
  },
  {
   "metadata": {},
   "cell_type": "markdown",
   "source": "执行赋值语句时，Python会先求解 = 右侧的表达式，再将结果与左侧的名称绑定",
   "id": "a9f01c6f3446f6e"
  },
  {
   "metadata": {},
   "cell_type": "markdown",
   "source": "还可以在单个语句中味多个变量分配值，左右都用逗号隔开",
   "id": "1d70700cdbcc493a"
  },
  {
   "metadata": {},
   "cell_type": "code",
   "outputs": [],
   "execution_count": null,
   "source": [
    "area, circumference = pi * radius * radius, 2 * pi * radius\n",
    "print(area)\n",
    "print(circumference)"
   ],
   "id": "733cada13c2349f2"
  },
  {
   "metadata": {},
   "cell_type": "markdown",
   "source": "更改一个变量的值不会影响其他变量.即使下列代码中 area 的值由最初定义的 radius 绑定，但改变 radius 的值并不能更新 area 的值，我们需要另一个赋值语句来更新它。",
   "id": "54ea212c053f61ae"
  },
  {
   "metadata": {},
   "cell_type": "code",
   "outputs": [],
   "execution_count": null,
   "source": [
    "radius = 11\n",
    "area"
   ],
   "id": "7710ae90e3dc65be"
  },
  {
   "metadata": {},
   "cell_type": "code",
   "outputs": [],
   "execution_count": null,
   "source": [
    "area = pi * radius * radius\n",
    "area"
   ],
   "id": "b5fa0a2571a38ad6"
  },
  {
   "metadata": {},
   "cell_type": "markdown",
   "source": "对于多重赋值所有 = 右边的表达式都会先求值，然后再与左边的名称绑定。在此规则下，可以在单个语句内交换两个变量的值",
   "id": "df2103495400144b"
  },
  {
   "metadata": {},
   "cell_type": "code",
   "outputs": [],
   "execution_count": null,
   "source": [
    "x , y = 1, 2\n",
    "y , x = x, y\n",
    "print(x)\n",
    "print(y)"
   ],
   "id": "ad966543796d8c3a"
  },
  {
   "metadata": {},
   "cell_type": "markdown",
   "source": [
    "## 1.2.5 求解嵌套表达式\n",
    "\n",
    "为了求值一个表达式，Python将执行以下操作：\n",
    "- 求解运算子表达式和操作数子表达式\n",
    "- 将操作数子表达式的值作为运算符子表达式的函数的参数\n",
    "\n",
    "求值程序本质是**递归**的"
   ],
   "id": "b7bbf5a6ca349355"
  },
  {
   "metadata": {},
   "cell_type": "markdown",
   "source": "注意环境在决定表达式中的符号意义上有重要作用。环境为求解提供了上下文信息，对理解程序执行过程有着重要作用。\n",
   "id": "c7f328c42703eea0"
  },
  {
   "metadata": {},
   "cell_type": "markdown",
   "source": [
    "## 1.2.6 非纯函数print\n",
    "\n",
    "本节中，将区分两种类型的函数：\n",
    "- 纯函数：函数有一些输入（参数）并返回一些输出（调用返回结果）\n",
    "- 非纯函数：除了返回值外，调用一个非纯函数还会产生其他改变解释器和计算机状态的副作用。一个常见的副作用就是使用print函数产生（非返回值）的额外输出"
   ],
   "id": "f4c00f3618f50026"
  },
  {
   "metadata": {},
   "cell_type": "markdown",
   "source": "print返回的值始终为None，print函数的额外输出就是它的副作用",
   "id": "b323aef95f3cad2d"
  },
  {
   "metadata": {},
   "cell_type": "code",
   "outputs": [],
   "execution_count": null,
   "source": "print(print(1),print(2))",
   "id": "fcca505fbffc0db7"
  },
  {
   "metadata": {},
   "cell_type": "code",
   "outputs": [],
   "execution_count": null,
   "source": [
    "two = print(2)\n",
    "print(two)"
   ],
   "id": "ee4d3472521de4f9"
  }
 ],
 "metadata": {
  "kernelspec": {
   "display_name": "Python 3",
   "language": "python",
   "name": "python3"
  },
  "language_info": {
   "codemirror_mode": {
    "name": "ipython",
    "version": 2
   },
   "file_extension": ".py",
   "mimetype": "text/x-python",
   "name": "python",
   "nbconvert_exporter": "python",
   "pygments_lexer": "ipython2",
   "version": "2.7.6"
  }
 },
 "nbformat": 4,
 "nbformat_minor": 5
}
