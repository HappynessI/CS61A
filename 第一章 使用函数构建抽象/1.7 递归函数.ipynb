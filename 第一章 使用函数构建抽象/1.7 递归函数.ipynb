{
 "cells": [
  {
   "metadata": {},
   "cell_type": "markdown",
   "source": "# 1.7 递归函数",
   "id": "7bd084932aaac43f"
  },
  {
   "metadata": {},
   "cell_type": "markdown",
   "source": [
    "如果函数体中直接或简洁调用了函数本身，则函数称为呢改为递归函数（recursive）。可以与《运筹学》中的动态规划问题联系起来，都是将问题分解为简单的小问题。\n",
    "【示例】：对数字n的数字位求和"
   ],
   "id": "1edce0355c42e2ba"
  },
  {
   "cell_type": "code",
   "id": "initial_id",
   "metadata": {
    "collapsed": true,
    "ExecuteTime": {
     "end_time": "2025-03-25T10:25:21.759440Z",
     "start_time": "2025-03-25T10:25:21.736055Z"
    }
   },
   "source": [
    "def sum_digits(n):\n",
    "    \"\"\"返回正整数n的所有数字位之和\"\"\"\n",
    "    if n < 10:\n",
    "        return n\n",
    "    else:\n",
    "        all_but_last , last = n//10 , n%10\n",
    "        return sum_digits(last) + last"
   ],
   "outputs": [],
   "execution_count": 1
  },
  {
   "metadata": {},
   "cell_type": "markdown",
   "source": "这个sum_digits函数的定义是完整且准确的。虽然sum_digits函数在自己的函数体内被调用，但数数字求和问题已被细分为两个步骤：先求出除最后一个数字外的所有数字总和，再加上最后一个数字的值。这两个步骤比原问题都更简单。由于第一个步骤与原问题相同，所以该函数被称为递归函数。也就是说，sum_digits 函数本身就是我们实现 sum_digits 所需要的函数。",
   "id": "41c402d55d6158a7"
  },
  {
   "metadata": {
    "ExecuteTime": {
     "end_time": "2025-03-25T10:25:42.043557Z",
     "start_time": "2025-03-25T10:25:42.027602Z"
    }
   },
   "cell_type": "code",
   "source": "sum_digits(738)",
   "id": "769722c1edf2e7e1",
   "outputs": [
    {
     "data": {
      "text/plain": [
       "16"
      ]
     },
     "execution_count": 4,
     "metadata": {},
     "output_type": "execute_result"
    }
   ],
   "execution_count": 4
  },
  {
   "metadata": {},
   "cell_type": "markdown",
   "source": [
    "理解这个递归函数是如何成功应用的：\n",
    "\n",
    "当执行def语句时，名称sum_digits被绑定到一个新函数，但是该函数的主体尚未执行。因此，sum_digits的新欢特性暂时不是问题。然后，sum_digits被传入参数738：\n",
    "- 1.创建一个局部帧，将n绑定到738，并在该帧作为起点的环境中执行sum_digits的函数体\n",
    "- 2.由于 738 不小于 10，会执行第 4 行的赋值语句，将 738 分为 73 和 8。\n",
    "- 3.在下面的返回语句中，会以当前环境中 all_but_last 的值 73 调用 sum_digits。\n",
    "- 4.创建另一个将 n 绑定到 73 的局部帧，并在该帧作为起点的环境中再次执行 sum_digits 的函数体。\n",
    "- 5.由于 73 也不小于 10，将 73 分为 7 和 3，并以 7 调用 sum_digits，即 all_but_last 在此帧中的值。\n",
    "- 6.创建第三个局部帧，其中将 n 绑定到 7。\n",
    "- 7.在从这个帧开始的环境中，表达式 n < 10 为真，因此返回 7。\n",
    "- 8.在第二个局部帧中，将这个返回值 7 与 last 的值 3 相加，返回 10。\n",
    "- 9.在第一个局部帧中，将这个返回值 10 与 last 的值 8 相加，返回 18。"
   ],
   "id": "7aa18651be81f74d"
  },
  {
   "metadata": {},
   "cell_type": "markdown",
   "source": "这个例子还说明具有简单函数体的函数可以通过使用递归演变成具有复杂计算过程的函数",
   "id": "8de466da5b15ff62"
  },
  {
   "metadata": {},
   "cell_type": "markdown",
   "source": "## 1.7.1 递归函数剖析",
   "id": "99e0b2b3c401f5de"
  },
  {
   "metadata": {},
   "cell_type": "markdown",
   "source": [
    "许多递归函数的函数体中存在一种常见的模式。函数体会以一个基线条件（base case）开始（这是一种条件语句），它为最容易处理的输入定义了函数的行为。对于sum_digits函数而言，基线条件是接收到任意一位的参数，我们只需要返回该参数。有些递归函数有多个基线条件。\n",
    "\n",
    "然后，在基线条件之后，会有一个或者多个递归调用，递归调用总是有一个特定：它们简化了原始问题。递归函数通过逐步简化问题来表达计算"
   ],
   "id": "ddfae95d772f9844"
  },
  {
   "metadata": {},
   "cell_type": "markdown",
   "source": [
    "【示例】：考虑一个计算n的阶乘的函数fact\n",
    "\n",
    "一种实现方式是使用while语句，将每个小于等于n的正整数都相乘得到结果"
   ],
   "id": "2a2a6f4c1af6ba96"
  },
  {
   "metadata": {
    "ExecuteTime": {
     "end_time": "2025-03-25T10:35:30.403056Z",
     "start_time": "2025-03-25T10:35:30.397691Z"
    }
   },
   "cell_type": "code",
   "source": [
    "def fact_iter(n):\n",
    "    total , k = 1 , 1\n",
    "    while k <= n:\n",
    "        total, k = total*k , k+1\n",
    "    return total\n",
    "\n",
    "fact_iter(4)"
   ],
   "id": "e8a5c34da89bcc5f",
   "outputs": [
    {
     "data": {
      "text/plain": [
       "24"
      ]
     },
     "execution_count": 5,
     "metadata": {},
     "output_type": "execute_result"
    }
   ],
   "execution_count": 5
  },
  {
   "metadata": {},
   "cell_type": "markdown",
   "source": "另一种实现方式则是通过fact(n-1)来表达fact(n)，这个递归的基线条件是fact(1)是1",
   "id": "8bd8e375ae2a821d"
  },
  {
   "metadata": {
    "ExecuteTime": {
     "end_time": "2025-03-25T10:37:24.014441Z",
     "start_time": "2025-03-25T10:37:24.009542Z"
    }
   },
   "cell_type": "code",
   "source": [
    "def fact(n):\n",
    "    if n == 1:\n",
    "        return 1\n",
    "    else:\n",
    "        return n*fact(n-1)\n",
    "\n",
    "fact(4)"
   ],
   "id": "a5793e6cce5eea63",
   "outputs": [
    {
     "data": {
      "text/plain": [
       "24"
      ]
     },
     "execution_count": 6,
     "metadata": {},
     "output_type": "execute_result"
    }
   ],
   "execution_count": 6
  },
  {
   "metadata": {},
   "cell_type": "markdown",
   "source": "将**递归调用**(recursive calls)视为函数抽象会更容易理解，我们不用在意fact(n-1)在fact的函数体中上怎样实现的；我们只需要相信它能计算n-1的阶乘就行。将递归调用看作一种函数抽象这一思想，就是所谓“递归的信仰之跃（recursive leap of faith）”。我们根据函数自身来定义一个函数，但在验证函数的正确性时，我们只需相信在更简单的情况下，函数同样能正确工作。这样，验证递归函数的正确性实际上变成了一种归纳法的证明形式。",
   "id": "a7f8bb17e4762e6"
  },
  {
   "metadata": {},
   "cell_type": "markdown",
   "source": [
    "函数fact_iter和fact也有所不同，前者必须引入两个额外的名称total和k，这在递归实现中是不需要的。一般来说，迭代函数必须在计算过程中维护一些会变化的局部状态。在迭代中的任何时刻，该状态都可以表示已完成计算的结果和剩余的待计算的量。例如，当 k = 3，total = 2 时，仍然有两项需要处理，即 3 和 4。\n",
    "\n",
    "另一方面，fact的特征是它的单一参数n。计算的状态完全嵌入在环境的结构中，它的返回值扮演total的角色，并将n绑定到不同帧中的不同值，而不是显示地跟踪k"
   ],
   "id": "4e0b54a82383cb4b"
  },
  {
   "metadata": {},
   "cell_type": "markdown",
   "source": "## 1.7.2 互递归",
   "id": "193d6269c5868773"
  },
  {
   "metadata": {},
   "cell_type": "markdown",
   "source": [
    "当一个递归过程被划分到两个相互调用的函数中时，这两个函数被称为是互递归的。\n",
    "\n",
    "【示例】：\n",
    "- 如果一个数比一个奇数大1，那它就是偶数\n",
    "- 如果一个数比一个偶数大1，那它就是奇数\n",
    "- 0是偶数"
   ],
   "id": "2ad85b2168cccf89"
  },
  {
   "metadata": {
    "ExecuteTime": {
     "end_time": "2025-03-25T10:44:14.923164Z",
     "start_time": "2025-03-25T10:44:14.918550Z"
    }
   },
   "cell_type": "code",
   "source": [
    "def is_even(n):\n",
    "    if n == 0:\n",
    "        return True\n",
    "    else:\n",
    "        return is_odd(n-1)\n",
    "\n",
    "def is_odd(n):\n",
    "    if n == 0:\n",
    "        return False\n",
    "    else:\n",
    "        return is_even(n-1)\n",
    "\n",
    "result = is_even(4)"
   ],
   "id": "feed01d1d32c7e9f",
   "outputs": [],
   "execution_count": 7
  },
  {
   "metadata": {},
   "cell_type": "markdown",
   "source": "通过打破两个函数之间的抽象边界，可以将互递归函数转换为单个递归函数。在这个例子中，可以将 is_odd 的函数体合并到 is_even 的函数体中，确保将 is_odd 函数体中的 n 替换为 n-1 以反映传递给它的参数：",
   "id": "f6a0876a07826a21"
  },
  {
   "metadata": {},
   "cell_type": "code",
   "outputs": [],
   "execution_count": null,
   "source": [
    "def is_even(n):\n",
    "    if n == 0:\n",
    "        return True\n",
    "    else:\n",
    "        if (n-1) == 0:\n",
    "            return False\n",
    "        else:\n",
    "            return is_even((n-1)-1)"
   ],
   "id": "48799d780eab5c2f"
  },
  {
   "metadata": {},
   "cell_type": "markdown",
   "source": "互递归只是提供了一种在复杂递归程序中维护抽象的机制",
   "id": "86d516fc9e77fb3c"
  },
  {
   "metadata": {},
   "cell_type": "markdown",
   "source": "## 1.7.3 递归函数中的打印",
   "id": "50aee377a3e2ce72"
  },
  {
   "metadata": {},
   "cell_type": "markdown",
   "source": "通过对 print 函数的调用，递归函数的计算过程通常可以可视化。作为示例，我们将实现一个 cascade 函数，该函数按从大到小再到大的顺序，打印一个数字的所有前缀。",
   "id": "37eeeaa4c692b43b"
  },
  {
   "metadata": {
    "ExecuteTime": {
     "end_time": "2025-03-25T10:48:42.096399Z",
     "start_time": "2025-03-25T10:48:42.093370Z"
    }
   },
   "cell_type": "code",
   "source": [
    "def cascade(n):\n",
    "    \"\"\"打印数字n的前缀的级联\"\"\"\n",
    "    if n < 10:\n",
    "        print(n)\n",
    "    else:\n",
    "        print(n)\n",
    "        cascade(n//10)\n",
    "        print(n)\n",
    "cascade(2013)"
   ],
   "id": "f7f2fba8b4c292c8",
   "outputs": [
    {
     "name": "stdout",
     "output_type": "stream",
     "text": [
      "2013\n",
      "201\n",
      "20\n",
      "2\n",
      "20\n",
      "201\n",
      "2013\n"
     ]
    }
   ],
   "execution_count": 8
  },
  {
   "metadata": {},
   "cell_type": "markdown",
   "source": "在这个递归函数中，基线条件是打印出来个位数。否则，就在两个print调用之间使用递归调用。",
   "id": "43fe8ff85be6ddaa"
  },
  {
   "metadata": {
    "ExecuteTime": {
     "end_time": "2025-03-25T10:52:11.616278Z",
     "start_time": "2025-03-25T10:52:11.612135Z"
    }
   },
   "cell_type": "code",
   "source": [
    "def cascade(n):\n",
    "    \"\"\"Print a cascade of prefixes of n.\"\"\"\n",
    "    print(n)\n",
    "    if n >= 10:\n",
    "        cascade(n//10)\n",
    "        print(n)"
   ],
   "id": "5be388ba37551a3d",
   "outputs": [],
   "execution_count": 9
  },
  {
   "metadata": {},
   "cell_type": "markdown",
   "source": [
    "【示例】两人博弈，桌子上最初有 n 个石子，玩家轮流从桌面上拿走一个或两个石子，拿走最后一个石子的玩家获胜。假设 Alice 和 Bob 在玩这个游戏，两个人都使用一个简单的策略：\n",
    "- Alice总是取走一个石子\n",
    "- 如果桌子上有偶数个石子，Bob 就拿走两个石子，否则就拿走一个石子\n",
    "\n",
    "给定n个初始石子且Alice先开始拿，谁会赢\n",
    "\n"
   ],
   "id": "db432faaf6819dbc"
  },
  {
   "metadata": {},
   "cell_type": "markdown",
   "source": "该问题的一个自然分解是将每个策略封装在其自己的函数中。这使我们可以修改一个策略而不会影响其他策略，保持两者之间的抽象界限。为了融入游戏的回合制性质，这两个函数在每个回合结束时互相调用",
   "id": "e2dd002bfe4f6f69"
  },
  {
   "metadata": {
    "ExecuteTime": {
     "end_time": "2025-03-25T10:56:53.517284Z",
     "start_time": "2025-03-25T10:56:53.513099Z"
    }
   },
   "cell_type": "code",
   "source": [
    "def play_alice(n):\n",
    "    if n == 0:\n",
    "        print(\"Bob wins!\")\n",
    "    else:\n",
    "        play_bob(n-1)\n",
    "\n",
    "def play_bob(n):\n",
    "    if n == 0:\n",
    "        print(\"Alice wins!\")\n",
    "    elif is_even(n):\n",
    "        play_alice(n-2)\n",
    "    else:\n",
    "        play_alice(n-1)\n",
    "\n",
    "play_alice(20)"
   ],
   "id": "ec8fa6ea0d66e013",
   "outputs": [
    {
     "name": "stdout",
     "output_type": "stream",
     "text": [
      "Bob wins!\n"
     ]
    }
   ],
   "execution_count": 11
  },
  {
   "metadata": {},
   "cell_type": "markdown",
   "source": "在函数 play_bob 中，我们看到多个递归调用可能会出现一个函数体中。虽然在这个例子中，每次调用 play_bob 最多只会调用一次 play_alice。在下个小节中，我们将会思考当单个函数调用同时直接进行多个递归函数调用时会发生什么。",
   "id": "ca28ecbc1f44a2fa"
  },
  {
   "metadata": {},
   "cell_type": "markdown",
   "source": "## 1.7.4 树递归",
   "id": "60b4084bd6a7da50"
  },
  {
   "metadata": {},
   "cell_type": "markdown",
   "source": "另一种常见的计算模式称为树递归（tree recursion），在这种模式中，函数会多次调用自己。例如计算斐波那契数列，其中的每个数都是前两个数的和。",
   "id": "dac58140517b0f4c"
  },
  {
   "metadata": {
    "ExecuteTime": {
     "end_time": "2025-03-25T10:58:16.406277Z",
     "start_time": "2025-03-25T10:58:16.402481Z"
    }
   },
   "cell_type": "code",
   "source": [
    "def fib(n):\n",
    "    if n == 1:\n",
    "        return 0\n",
    "    elif n == 2:\n",
    "        return 1\n",
    "    else:\n",
    "        return fib(n-1) + fib(n-2)\n",
    "\n",
    "result = fib(6)"
   ],
   "id": "5b63391c2be3692d",
   "outputs": [],
   "execution_count": 12
  },
  {
   "metadata": {},
   "cell_type": "markdown",
   "source": "**树递归**：具有多个递归调用的函数",
   "id": "1ad32be9e8e65973"
  },
  {
   "metadata": {},
   "cell_type": "markdown",
   "source": "## 1.7.5 示例：分割数",
   "id": "cd763656ec352fae"
  },
  {
   "metadata": {},
   "cell_type": "markdown",
   "source": "求正整数 n 的分割数，最大部分为 m，即 n 可以分割为不大于 m 的正整数的和，并且按递增顺序排列。例如，使用 4 作为最大数对 6 进行分割的方式有 9 种。",
   "id": "7bfc220bd10c403c"
  },
  {
   "metadata": {},
   "cell_type": "code",
   "outputs": [],
   "execution_count": null,
   "source": [
    "# 1.  6 = 2 + 4\n",
    "# 2.  6 = 1 + 1 + 4\n",
    "# 3.  6 = 3 + 3\n",
    "# 4.  6 = 1 + 2 + 3\n",
    "# 5.  6 = 1 + 1 + 1 + 3\n",
    "# 6.  6 = 2 + 2 + 2\n",
    "# 7.  6 = 1 + 1 + 2 + 2\n",
    "# 8.  6 = 1 + 1 + 1 + 1 + 2\n",
    "# 9.  6 = 1 + 1 + 1 + 1 + 1 + 1"
   ],
   "id": "a31b232876ab837a"
  },
  {
   "metadata": {},
   "cell_type": "markdown",
   "source": [
    "我们将定义一个名为count_partitions(n,m)的函数，该函数返回使用m作为最大部分对n进行分割的方式的数量。这个函数有一个使用树递归的简单解法，它基于以下的观察结果：\n",
    "\n",
    "使用最大数为m的整数分割n的方式的数量等于：\n",
    "- 1.使用最大数m的整数分割n-m的方式的数量，加上\n",
    "- 2.使用最大数为m-1的整数分割n的方式的数量\n",
    "\n",
    "我们可以将 n 的所有分割方式分为两组：至少包含一个 m 的和不包含 m 的。此外，第一组中的每次分割都是对 n-m 的分割，然后在最后加上 m。在上面的实例中，前两种拆分包含 4，而其余的不包含。\n",
    "\n",
    "为了实现这个，我们需要指定以下的基线情况：\n",
    "- 1.整数0只有一种分割方式\n",
    "- 2.负整数n无法分割，即0种方式\n",
    "- 3.任何大于0的正整数n使用0或者更小的部分进行分割的方式数量为0"
   ],
   "id": "95c024736eb6b6ce"
  },
  {
   "metadata": {
    "ExecuteTime": {
     "end_time": "2025-03-25T11:13:35.165361Z",
     "start_time": "2025-03-25T11:13:35.161129Z"
    }
   },
   "cell_type": "code",
   "source": [
    "def count_partitions(n,m):\n",
    "    \"\"\"计算使用最大数m的整数分割n的方式的数量\"\"\"\n",
    "    if n == 0:\n",
    "        return 1\n",
    "    elif n < 0:\n",
    "        return 0\n",
    "    elif m == 0:\n",
    "        return 0\n",
    "    else:\n",
    "        return count_partitions(n-m,m) + count_partitions(n,m-1)\n",
    "\n",
    "count_partitions(6,4)"
   ],
   "id": "844955687315dc90",
   "outputs": [
    {
     "data": {
      "text/plain": [
       "9"
      ]
     },
     "execution_count": 19,
     "metadata": {},
     "output_type": "execute_result"
    }
   ],
   "execution_count": 19
  },
  {
   "metadata": {},
   "cell_type": "markdown",
   "source": "我们可以将树递归函数视为探索不同的可能性。在这种情况下，我们探讨了使用大小为 m 的部分以及不使用这部分的可能性。第一次和第二次递归调用即对应着这些可能性。",
   "id": "d2772643bfbdef34"
  }
 ],
 "metadata": {
  "kernelspec": {
   "display_name": "Python 3",
   "language": "python",
   "name": "python3"
  },
  "language_info": {
   "codemirror_mode": {
    "name": "ipython",
    "version": 2
   },
   "file_extension": ".py",
   "mimetype": "text/x-python",
   "name": "python",
   "nbconvert_exporter": "python",
   "pygments_lexer": "ipython2",
   "version": "2.7.6"
  }
 },
 "nbformat": 4,
 "nbformat_minor": 5
}
