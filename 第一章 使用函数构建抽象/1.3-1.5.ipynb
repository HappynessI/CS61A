{
 "cells": [
  {
   "metadata": {},
   "cell_type": "markdown",
   "source": "# 1.3 定义新的函数",
   "id": "c8ce6c78102a131b"
  },
  {
   "metadata": {},
   "cell_type": "markdown",
   "source": [
    "\n",
    "## 1.3.1 环境\n",
    "\n",
    "虽然我们现在的 Python 子集已经足够复杂，但程序的含义并不明显。如果形参与内置函数同名怎么办？两个函数可以共享名称而不会混淆吗？要解决这些问题，我们必须更详细地描述环境。\n",
    "\n",
    "求解表达式的环境由**帧**序列组成，它们可以被描述为一些盒子。每个帧都包含了一些**绑定**，它们将名称与对应的值相关联。**全局帧（global frame）**只有一个。赋值和导入语句会将条目添加到当前环境的第一帧。目前，我们的环境仅由全局帧组成\n",
    "\n",
    "有关环境的可视化演示，可以在[https://pythontutor.com/cp/composingprograms.html#mode=edit](Online Python Tutor)中创建实例，研究对应生成的环境图\n",
    "\n",
    "函数也会出现在环境图中。import 语句将名称与内置函数绑定。def 语句将名称与用户自定义的函数绑定\n",
    "\n",
    "函数名称重复两次，一次在环境帧中，另一次是作为函数定义的一部分。函数定义中出现的名称叫**内在名称**，帧中的名称叫做**绑定名称**。两者之间存在一个区别：不同的名称可能指的是同一个函数，但是该函数本身只有一个内在名称\n",
    "\n",
    "绑定到帧中的函数名称是在求值过程中使用，而内在名称在求值中不起作用"
   ],
   "id": "8fdb30a7d6d5a786"
  },
  {
   "metadata": {},
   "cell_type": "markdown",
   "source": [
    "**函数签名**：每个函数允许采用的参数数量有所不同。为了跟踪这些要求，我们绘制了每个函数的名称及其形式参数。对函数形式参数的描述被称为函数的签名\n",
    "\n",
    "函数 max 可以接受任意数量的参数，所以它被呈现为 max(...)。因为原始函数从未明确定义，所以无论采用多少个参数，所有的内置函数都将呈现为 <name>(...)。\n",
    "- Python中，max 的参数被定义为*args（可变位置参数）\n",
    "- 内置代码是预定义的：它们的实现通常由编程语言底层完成"
   ],
   "id": "8454e9c85773359c"
  },
  {
   "metadata": {},
   "cell_type": "markdown",
   "source": [
    "## 1.3.2 调用用户定义的函数\n",
    "\n",
    "调用用户定义的函数会引入**局部帧（local frame）**，它只能被该函数访问。通过一些实惨调用用户定义的函数：\n",
    "- 1.在新的局部帧中，将实参绑定到函数的形参上\n",
    "- 2.在以此帧开始的环境中执行函数体\n",
    "\n",
    "求值函数体的环境由两个帧组成：一是包含形式参数绑定的局部帧，然后是包含其他所有内容的全局帧。函数的每个实例都有自己独立的局部帧"
   ],
   "id": "948a7b60a92ce3c6"
  },
  {
   "metadata": {
    "ExecuteTime": {
     "end_time": "2025-03-20T03:23:49.715614Z",
     "start_time": "2025-03-20T03:23:49.696898Z"
    }
   },
   "cell_type": "code",
   "source": [
    "from operator import mul\n",
    "def square(x):\n",
    "    return mul(x,x)\n",
    "square(-2)"
   ],
   "id": "ea80474947893ad1",
   "outputs": [
    {
     "data": {
      "text/plain": [
       "4"
      ]
     },
     "execution_count": 21,
     "metadata": {},
     "output_type": "execute_result"
    }
   ],
   "execution_count": 21
  },
  {
   "metadata": {},
   "cell_type": "markdown",
   "source": [
    "在这个简单的实例中，使用了两个不同的环境。顶级表达式square(-2)在全局环境中求值，而返回表达式mul(x,x)在调用square时创建的环境中求值。虽然x和mul都在这个环境中，但在不同的帧中\n",
    "\n",
    "PS：在用户定义函数的时候，被绑定在全局帧中，但是在调用该函数时，会创建局部帧\n",
    "\n",
    "**名称求解**：在环境中寻找该名称，最早找到的含有该名称的帧，其里面绑定的值就是这个名称的计算结果"
   ],
   "id": "6532568e9d29845e"
  },
  {
   "metadata": {},
   "cell_type": "code",
   "outputs": [],
   "execution_count": null,
   "source": [
    "from operator import add,mul\n",
    "def square(x):\n",
    "    return mul(x,x)\n",
    "\n",
    "def sum_squares(x,y):\n",
    "    return add(square(x),square(y))\n",
    "\n",
    "result = sum_squares(5,12)"
   ],
   "id": "c0c47d7fa7d62b68"
  },
  {
   "metadata": {},
   "cell_type": "markdown",
   "source": "这个例子中的基本思想：将名称绑定到值，而这些值会分布在多个无关的局部帧，以及包含共享名称的单个全局帧中。每次调用函数时都会引入一个新的局部帧，即使是同一个函数被调用两次。",
   "id": "970163e609081345"
  },
  {
   "metadata": {},
   "cell_type": "markdown",
   "source": [
    "## 1.3.4 局部名称\n",
    "\n",
    "实现函数的一个细节就是，实现者为函数的形参选择的名称不应该影响函数行为。所以，以下函数应该提供相同的行为："
   ],
   "id": "d337bb4d508c01ed"
  },
  {
   "metadata": {
    "ExecuteTime": {
     "end_time": "2025-03-20T03:34:57.104600Z",
     "start_time": "2025-03-20T03:34:57.087978Z"
    }
   },
   "cell_type": "code",
   "source": [
    "def square(x):\n",
    "    return mul(x, x)\n",
    "def square(y):\n",
    "    return mul(y, y)"
   ],
   "id": "861f0366d16329c0",
   "outputs": [],
   "execution_count": 22
  },
  {
   "metadata": {},
   "cell_type": "markdown",
   "source": [
    "如果参数不是它们各自函数体的局部参数，那么 square 中的参数 x 可能会与 sum_squares 中的参数 x 混淆。但情况并非如此：x 在不同局部帧中的绑定是不相关的。计算模型经过精心设计以确保这种无关性。\n",
    "\n",
    "局部名称的作用域限于定义它的函数的主体，当一个名称不可再访问时，就是超出了作用域。这种界定作用域的行为并不是我们模型的新细节，而是环境工作方式的结果。"
   ],
   "id": "90d1dbd558bd6145"
  },
  {
   "metadata": {},
   "cell_type": "markdown",
   "source": [
    "## 1.3.6 抽象函数\n",
    "\n",
    "抽象函数的三个核心属性：\n",
    "- 函数的域domain：它可以接收的参数的集合\n",
    "- 范围range：它可以返回的值得集合\n",
    "- 意图intent：计算输入和输出之间的关系，以及可能产生的副作用"
   ],
   "id": "2d43ce69a96861cc"
  },
  {
   "metadata": {},
   "cell_type": "markdown",
   "source": "# 1.4 设计函数",
   "id": "c7ab2f66c3306b98"
  },
  {
   "metadata": {},
   "cell_type": "markdown",
   "source": [
    "## 1.4.1 文档\n",
    "\n",
    "函数定义通常包括描述函数的文档，称为“文档字符串 docstring”，它必须在函数体中缩进。文档字符串通常使用三个引号，第一行描述函数的任务，随后的几行可以描述参数并解释函数的意图："
   ],
   "id": "466ad7e32d37971c"
  },
  {
   "metadata": {
    "ExecuteTime": {
     "end_time": "2025-03-20T03:42:21.660702Z",
     "start_time": "2025-03-20T03:42:21.643038Z"
    }
   },
   "cell_type": "code",
   "source": [
    "def pressure(v, t, n):\n",
    "    \"\"\"计算理想气体的压力，单位为帕斯卡\n",
    "\n",
    "        使用理想气体定律：http://en.wikipedia.org/wiki/Ideal_gas_law\n",
    "\n",
    "        v -- 气体体积，单位为立方米\n",
    "        t -- 绝对温度，单位为开尔文\n",
    "        n -- 气体粒子\n",
    "        \"\"\"\n",
    "    k = 1.38e-23  # 玻尔兹曼常数\n",
    "    return n * k * t / v"
   ],
   "id": "3fc178b9408fbb76",
   "outputs": [],
   "execution_count": 23
  },
  {
   "metadata": {},
   "cell_type": "markdown",
   "source": "当使用函数名称作为参数调用help时，会看到它的文档字符串",
   "id": "6146c00a506a3087"
  },
  {
   "metadata": {
    "ExecuteTime": {
     "end_time": "2025-03-20T03:42:22.537318Z",
     "start_time": "2025-03-20T03:42:22.519079Z"
    }
   },
   "cell_type": "code",
   "source": "help(pressure)",
   "id": "a92bf24c743ebb48",
   "outputs": [
    {
     "name": "stdout",
     "output_type": "stream",
     "text": [
      "Help on function pressure in module __main__:\n",
      "\n",
      "pressure(v, t, n)\n",
      "    计算理想气体的压力，单位为帕斯卡\n",
      "    \n",
      "    使用理想气体定律：http://en.wikipedia.org/wiki/Ideal_gas_law\n",
      "    \n",
      "    v -- 气体体积，单位为立方米\n",
      "    t -- 绝对温度，单位为开尔文\n",
      "    n -- 气体粒子\n",
      "\n"
     ]
    }
   ],
   "execution_count": 24
  },
  {
   "metadata": {},
   "cell_type": "markdown",
   "source": "## 1.4.2 默认参数值",
   "id": "3b849b071a1bc74b"
  },
  {
   "metadata": {},
   "cell_type": "markdown",
   "source": [
    "# 1.5 控制\n",
    "\n",
    "## 1.5.2 复合语句\n",
    "\n",
    "通常，Python代码是一系列语句。简单语句是不以冒号结尾的单行，而由其他语句组成被称为复合语句"
   ],
   "id": "df77e74256af0c5c"
  },
  {
   "metadata": {},
   "cell_type": "markdown",
   "source": "## 1.5.5 迭代",
   "id": "eaa807cf1ba9cd3e"
  },
  {
   "metadata": {
    "ExecuteTime": {
     "end_time": "2025-03-20T05:38:21.140675Z",
     "start_time": "2025-03-20T05:38:21.121671Z"
    }
   },
   "cell_type": "code",
   "source": [
    "def fib(n):\n",
    "    '''\n",
    "    计算第n个斐波那契数值，其中n >= 2\n",
    "    '''\n",
    "    pred , curr = 0 , 1 # 第1和第2个斐波那契数值\n",
    "    k = 2  # 哪一个是curr\n",
    "    while k < n:\n",
    "        pred , curr = curr , curr + pred\n",
    "        k = k + 1\n",
    "    return curr\n",
    "\n",
    "result = fib(8)\n",
    "print(result)"
   ],
   "id": "a7bbb0d38e955359",
   "outputs": [
    {
     "name": "stdout",
     "output_type": "stream",
     "text": [
      "13\n"
     ]
    }
   ],
   "execution_count": 4
  },
  {
   "metadata": {},
   "cell_type": "markdown",
   "source": [
    "## 1.5.6 测试\n",
    "\n",
    "测试一个函数就是去验证函数的行为是否符合预期。\n",
    "\n",
    "测试是一种系统地执行验证的机制。它通常采用另一个函数的形式，其中包含对一个或多个被测试函数的调用样例，然后根据预期结果验证其返回值。与大多数旨在通用的函数不同，测试需要选择特定参数值，并使用它们验证函数的调用。测试也可用作文档：去演示如何调用函数，以及如何选择合适的参数值。\n",
    "\n",
    "**断言(Assertions)**：使用assert语句来验证是否符合预期，例如验证被测试函数的输出。assert语句在布尔上下文中有一个表达式，后面是一个带引号的文本行（单引号或双引号都可以，但要保持一致），如果表达式的计算结果为假值，则显示该行。"
   ],
   "id": "bdb3eb1717ed4965"
  },
  {
   "metadata": {
    "ExecuteTime": {
     "end_time": "2025-03-20T05:39:18.694061Z",
     "start_time": "2025-03-20T05:39:18.674062Z"
    }
   },
   "cell_type": "code",
   "source": "assert fib(8) == 13,\"第八个斐波那契数应该是13\"",
   "id": "f1adbc9f9a838251",
   "outputs": [],
   "execution_count": 5
  },
  {
   "metadata": {},
   "cell_type": "markdown",
   "source": [
    "当被断言的表达式的计算结果为真值时，执行断言语句无效。当它是假值时，assert会导致错误，使程序停止运行\n",
    "\n",
    "fib的测试函数应该测试几个参数，包括n的极限值"
   ],
   "id": "b72faca0e8dfe9a5"
  },
  {
   "metadata": {
    "ExecuteTime": {
     "end_time": "2025-03-20T06:00:11.584340Z",
     "start_time": "2025-03-20T06:00:11.565866Z"
    }
   },
   "cell_type": "code",
   "source": [
    "def fib_test():\n",
    "    assert fib(2) == 1,\"第二个斐波那契数应该是1\"\n",
    "    assert fib(3) == 1,\"第三个斐波那契数应该是1\"\n",
    "    assert fib(50) == 7778742049,\"在第五十个斐波那契数发生Error\""
   ],
   "id": "af601e56753d882b",
   "outputs": [],
   "execution_count": 7
  },
  {
   "metadata": {},
   "cell_type": "markdown",
   "source": [
    "当在文件中而不是直接在解释器中编写Python时，测试通常是在同一个文件或带有后缀_test.py的相邻文件中编写的\n",
    "\n",
    "**文档测试(Doctests)**：Python提供了一种方便的方法，可以将简单的测试直接放在函数的文档字符串中。文档字符串的第一个应该包含函数的单行描述，接着是一个空行，下面可能是参数和函数意图的详细描述。此外，文档字符串可能包含调用该函数的交互式会话实例："
   ],
   "id": "572509c30bdb24c6"
  },
  {
   "metadata": {
    "ExecuteTime": {
     "end_time": "2025-03-20T06:23:59.772375Z",
     "start_time": "2025-03-20T06:23:59.761094Z"
    }
   },
   "cell_type": "code",
   "source": [
    "def sum_naturals(n):\n",
    "    \"\"\"返回前n个自然数的和。\n",
    "\n",
    "    >>> sum_naturals(10)\n",
    "    >>> sum_naturals(100)\n",
    "    \"\"\"\n",
    "    total , k = 0 , 1\n",
    "    while k <= n:\n",
    "        total , k = total + k , k + 1\n",
    "    return total"
   ],
   "id": "9eb96c074d0cec34",
   "outputs": [],
   "execution_count": 17
  },
  {
   "metadata": {},
   "cell_type": "markdown",
   "source": "然后，可以通过doctest模块来验证交互，如下：",
   "id": "26a4b0e28d380dcb"
  },
  {
   "metadata": {
    "ExecuteTime": {
     "end_time": "2025-03-20T06:24:01.078686Z",
     "start_time": "2025-03-20T06:24:01.040628Z"
    }
   },
   "cell_type": "code",
   "source": [
    "from doctest import testmod\n",
    "testmod()"
   ],
   "id": "fe93cc13c4009b7a",
   "outputs": [
    {
     "name": "stdout",
     "output_type": "stream",
     "text": [
      "**********************************************************************\n",
      "File \"__main__\", line 4, in __main__.sum_naturals\n",
      "Failed example:\n",
      "    sum_naturals(10)\n",
      "Expected nothing\n",
      "Got:\n",
      "    55\n",
      "**********************************************************************\n",
      "File \"__main__\", line 5, in __main__.sum_naturals\n",
      "Failed example:\n",
      "    sum_naturals(100)\n",
      "Expected nothing\n",
      "Got:\n",
      "    5050\n",
      "**********************************************************************\n",
      "1 items had failures:\n",
      "   2 of   2 in __main__.sum_naturals\n",
      "***Test Failed*** 2 failures.\n"
     ]
    },
    {
     "data": {
      "text/plain": [
       "TestResults(failed=2, attempted=2)"
      ]
     },
     "execution_count": 18,
     "metadata": {},
     "output_type": "execute_result"
    }
   ],
   "execution_count": 18
  },
  {
   "metadata": {},
   "cell_type": "markdown",
   "source": [
    "如果仅想验证单个函数的doctest交互，我们可以使用名为run_docstring_examples的doctest函数。不幸的是，这个函数调用起来有点复杂。\n",
    "- 第一个参数是要测试的函数；\n",
    "- 第二个参数应该始终是表达式 globals() 的结果，这是一个用于返回全局环境的内置函数；\n",
    "- 第三个参数 True 表示我们想要“详细”输出：所有测试运行的目录。"
   ],
   "id": "3db1f98ab5f47040"
  },
  {
   "metadata": {
    "ExecuteTime": {
     "end_time": "2025-03-20T06:26:10.403057Z",
     "start_time": "2025-03-20T06:26:10.389384Z"
    }
   },
   "cell_type": "code",
   "source": [
    "from doctest import run_docstring_examples\n",
    "run_docstring_examples(sum_naturals,globals(),False)"
   ],
   "id": "4052d2d8963c70be",
   "outputs": [
    {
     "name": "stdout",
     "output_type": "stream",
     "text": [
      "**********************************************************************\n",
      "File \"__main__\", line 4, in NoName\n",
      "Failed example:\n",
      "    sum_naturals(10)\n",
      "Expected nothing\n",
      "Got:\n",
      "    55\n",
      "**********************************************************************\n",
      "File \"__main__\", line 5, in NoName\n",
      "Failed example:\n",
      "    sum_naturals(100)\n",
      "Expected nothing\n",
      "Got:\n",
      "    5050\n"
     ]
    }
   ],
   "execution_count": 20
  },
  {
   "metadata": {},
   "cell_type": "markdown",
   "source": [
    "当函数的返回值与预期结果不匹配时，run_docstring_examples函数会将此问题报告为测试失败\n",
    "\n",
    "当在文件中编写Python时，可以通过使用doctest命令行选项启动Python来运行文件中的所有doctest:"
   ],
   "id": "227dc149ffd087ba"
  },
  {
   "metadata": {},
   "cell_type": "markdown",
   "source": "python3 -m doctest \\<python_source_file\\>",
   "id": "bf00906e9b959817"
  },
  {
   "metadata": {},
   "cell_type": "markdown",
   "source": "有效测试的关键是在实现新功能后立即编写（并运行）测试。在实现之前编写一些测试也是一种很好的做法，以便在脑海中有一些示例输入和输出。调用单个函数的测试称为**单元测试**（unit test）。详尽的单元测试是良好程序设计的标志。",
   "id": "617be3ae845fa5e8"
  }
 ],
 "metadata": {
  "kernelspec": {
   "display_name": "Python 3",
   "language": "python",
   "name": "python3"
  },
  "language_info": {
   "codemirror_mode": {
    "name": "ipython",
    "version": 2
   },
   "file_extension": ".py",
   "mimetype": "text/x-python",
   "name": "python",
   "nbconvert_exporter": "python",
   "pygments_lexer": "ipython2",
   "version": "2.7.6"
  }
 },
 "nbformat": 4,
 "nbformat_minor": 5
}
